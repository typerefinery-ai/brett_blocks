{
 "cells": [
  {
   "cell_type": "markdown",
   "metadata": {
    "collapsed": false
   },
   "source": [
    "# 2. Get the Anecdote to Estimate Impact\n",
    "\n",
    "Notebook to build all of the different stix objects associated with asking the reporting user about the Impact, and recording it through an Anecdote\n",
    "\n",
    "We take v3.0 of the [Incident Core Extension](https://github.com/os-threat/cti-stix-common-objects/blob/main/extension-definition-specifications/incident-core/Incident%20Extension%20Suite.adoc) specification, with particular focus on the Sighting Extensions for Evidence, and combine it with the standard Stix approach. There are nine stages:\n",
    "\n",
    "1. First setup the global parameters and retrieve the context memory\n",
    "2. Create the Anecdote object and connect it to the Identity,\n",
    "2. Add these objects to the `ObservedData` object\n",
    "4. Create the `Sighting` object with the `SightingAnecdote` extension\n",
    "5. Create the Impact object\n",
    "5. Create the next Task and its Sequence objects\n",
    "6. Connect the Sequence object to the previous sequence object\n",
    "6. Add all of the objects to the existing Incident object\n",
    "7. Save the context memory\n",
    "\n",
    "\n",
    "Each time a block makes an object, and saves it as a json, this notebook will parse the object into an actual Stix object, so it can be bundled and printy printed (This step also verifies the objects are created correctly, and is cool).\n",
    "\n",
    "\n",
    "\n",
    "## A. Load Imports\n",
    "\n",
    "### A.1 StixORM Imports\n"
   ]
  },
  {
   "cell_type": "code",
   "execution_count": 12,
   "metadata": {
    "ExecuteTime": {
     "end_time": "2025-04-20T08:16:05.132082700Z",
     "start_time": "2025-04-20T08:16:03.296905400Z"
    },
    "collapsed": false
   },
   "outputs": [
    {
     "name": "stdout",
     "output_type": "stream",
     "text": [
      "Requirement already satisfied: stixorm in c:\\projects\\brett_blocks\\.venv\\lib\\site-packages (0.3.9)\n",
      "Requirement already satisfied: loguru<0.8.0,>=0.7.0 in c:\\projects\\brett_blocks\\.venv\\lib\\site-packages (from stixorm) (0.7.3)\n",
      "Requirement already satisfied: networkx<4.0,>=3.1 in c:\\projects\\brett_blocks\\.venv\\lib\\site-packages (from stixorm) (3.2.1)\n",
      "Requirement already satisfied: pydantic<3.0.0,>=2.1.1 in c:\\projects\\brett_blocks\\.venv\\lib\\site-packages (from stixorm) (2.11.7)\n",
      "Requirement already satisfied: stix2==3.0.1 in c:\\projects\\brett_blocks\\.venv\\lib\\site-packages (from stixorm) (3.0.1)\n",
      "Requirement already satisfied: typedb-driver<3.0.0,>=2.25.6 in c:\\projects\\brett_blocks\\.venv\\lib\\site-packages (from stixorm) (2.29.2)\n",
      "Requirement already satisfied: validators<0.21.0,>=0.20.0 in c:\\projects\\brett_blocks\\.venv\\lib\\site-packages (from stixorm) (0.20.0)\n",
      "Requirement already satisfied: pytz in c:\\projects\\brett_blocks\\.venv\\lib\\site-packages (from stix2==3.0.1->stixorm) (2025.2)\n",
      "Requirement already satisfied: requests in c:\\projects\\brett_blocks\\.venv\\lib\\site-packages (from stix2==3.0.1->stixorm) (2.32.4)\n",
      "Requirement already satisfied: simplejson in c:\\projects\\brett_blocks\\.venv\\lib\\site-packages (from stix2==3.0.1->stixorm) (3.20.1)\n",
      "Requirement already satisfied: stix2-patterns>=1.2.0 in c:\\projects\\brett_blocks\\.venv\\lib\\site-packages (from stix2==3.0.1->stixorm) (2.0.0)\n",
      "Requirement already satisfied: colorama>=0.3.4 in c:\\projects\\brett_blocks\\.venv\\lib\\site-packages (from loguru<0.8.0,>=0.7.0->stixorm) (0.4.6)\n",
      "Requirement already satisfied: win32-setctime>=1.0.0 in c:\\projects\\brett_blocks\\.venv\\lib\\site-packages (from loguru<0.8.0,>=0.7.0->stixorm) (1.2.0)\n",
      "Requirement already satisfied: annotated-types>=0.6.0 in c:\\projects\\brett_blocks\\.venv\\lib\\site-packages (from pydantic<3.0.0,>=2.1.1->stixorm) (0.7.0)\n",
      "Requirement already satisfied: pydantic-core==2.33.2 in c:\\projects\\brett_blocks\\.venv\\lib\\site-packages (from pydantic<3.0.0,>=2.1.1->stixorm) (2.33.2)\n",
      "Requirement already satisfied: typing-extensions>=4.12.2 in c:\\projects\\brett_blocks\\.venv\\lib\\site-packages (from pydantic<3.0.0,>=2.1.1->stixorm) (4.14.0)\n",
      "Requirement already satisfied: typing-inspection>=0.4.0 in c:\\projects\\brett_blocks\\.venv\\lib\\site-packages (from pydantic<3.0.0,>=2.1.1->stixorm) (0.4.1)\n",
      "Requirement already satisfied: parse==1.18.0 in c:\\projects\\brett_blocks\\.venv\\lib\\site-packages (from typedb-driver<3.0.0,>=2.25.6->stixorm) (1.18.0)\n",
      "Requirement already satisfied: decorator>=3.4.0 in c:\\projects\\brett_blocks\\.venv\\lib\\site-packages (from validators<0.21.0,>=0.20.0->stixorm) (5.2.1)\n",
      "Requirement already satisfied: antlr4-python3-runtime~=4.9.0 in c:\\projects\\brett_blocks\\.venv\\lib\\site-packages (from stix2-patterns>=1.2.0->stix2==3.0.1->stixorm) (4.9.3)\n",
      "Requirement already satisfied: six in c:\\projects\\brett_blocks\\.venv\\lib\\site-packages (from stix2-patterns>=1.2.0->stix2==3.0.1->stixorm) (1.17.0)\n",
      "Requirement already satisfied: charset_normalizer<4,>=2 in c:\\projects\\brett_blocks\\.venv\\lib\\site-packages (from requests->stix2==3.0.1->stixorm) (3.4.2)\n",
      "Requirement already satisfied: idna<4,>=2.5 in c:\\projects\\brett_blocks\\.venv\\lib\\site-packages (from requests->stix2==3.0.1->stixorm) (3.10)\n",
      "Requirement already satisfied: urllib3<3,>=1.21.1 in c:\\projects\\brett_blocks\\.venv\\lib\\site-packages (from requests->stix2==3.0.1->stixorm) (2.4.0)\n",
      "Requirement already satisfied: certifi>=2017.4.17 in c:\\projects\\brett_blocks\\.venv\\lib\\site-packages (from requests->stix2==3.0.1->stixorm) (2025.6.15)\n"
     ]
    },
    {
     "name": "stderr",
     "output_type": "stream",
     "text": [
      "\n",
      "[notice] A new release of pip is available: 24.1 -> 25.1.1\n",
      "[notice] To update, run: python.exe -m pip install --upgrade pip\n"
     ]
    }
   ],
   "source": [
    "import sys\n",
    "!{sys.executable} -m pip install stixorm\n",
    "import logging\n",
    "logger = logging.getLogger(__name__)\n",
    "logger.setLevel(logging.INFO)"
   ]
  },
  {
   "cell_type": "markdown",
   "metadata": {
    "collapsed": false
   },
   "source": [
    "### A.2 Relative Path Imports\n",
    "https://stackoverflow.com/questions/76162459/jupyter-notebook-importerror-attempted-relative-import-with-no-known-parent-pac/77528726#77528726"
   ]
  },
  {
   "cell_type": "code",
   "execution_count": 13,
   "metadata": {
    "ExecuteTime": {
     "end_time": "2025-04-20T08:16:05.175188900Z",
     "start_time": "2025-04-20T08:16:05.138643800Z"
    },
    "collapsed": false
   },
   "outputs": [],
   "source": [
    "import sys\n",
    "sys.path.append('../')\n",
    "import os"
   ]
  },
  {
   "cell_type": "markdown",
   "metadata": {
    "collapsed": false
   },
   "source": [
    "### A.3 Relative Import of Blocks"
   ]
  },
  {
   "cell_type": "code",
   "execution_count": 14,
   "metadata": {
    "ExecuteTime": {
     "end_time": "2025-04-20T08:16:05.186175500Z",
     "start_time": "2025-04-20T08:16:05.156730700Z"
    },
    "collapsed": false
   },
   "outputs": [],
   "source": [
    "import json\n",
    "from Block_Families.StixORM.SCO.Email_Message.make_email_msg import main as make_email_msg\n",
    "from Block_Families.StixORM.SRO.Relationship.make_sro import main as make_sro\n",
    "from Utilities.local_make_general import invoke_save_company_context_block, invoke_save_incident_context_block, invoke_get_from_company_block, invoke_get_from_user_block, invoke_move_unattached_to_other_block\n",
    "from Utilities.local_make_sro import invoke_sro_block, invoke_sighting_block\n",
    "from Utilities.local_make_sdo import (\n",
    "    invoke_make_observed_data_block, invoke_make_indicator_block, invoke_make_event_block, invoke_make_sequence_block,\n",
    "    invoke_make_task_block, invoke_make_incident_block, invoke_make_impact_block\n",
    ")\n",
    "from Utilities.local_make_sco import (\n",
    "    invoke_make_email_addr_block, invoke_make_url_block, invoke_make_e_msg_block, invoke_make_anecdote_block\n",
    ")\n",
    "from conv import conv\n",
    "\n",
    "\n",
    "context_base = \"../Orchestration/generated/os-triage/context_mem/\"\n",
    "path_base = \"../Block_Families/Objects/\"\n",
    "results_base = \"../Orchestration/Results/\"\n",
    "sro_data = \"SRO/Relationship/sro_derived.json\"\n",
    "alert_data = {\n",
    "    \"from\": \"evil@northkorea.nk\",\n",
    "    \"to\": \"naive@example.com\",\n",
    "    \"reporter\": \"Naive Smith\",\n",
    "    \"url\": \"https://www.northkorea.nk/we/are/mad/\"\n",
    "}\n",
    "alert_details = {\n",
    "    \"alert_name\": \"Suspcious Email\",\n",
    "    \"alert_source\": \"user-report\",\n",
    "    \"alert_log\": \"I have found a suspicious email\"\n",
    "}\n",
    "anecdote_data = {\n",
    "    \"to\": \"naive@example.com\"\n",
    "}\n",
    "\n",
    "TR_Context_Memory_Path = \"./Context_Mem/Type_Refinery_Context.json\""
   ]
  },
  {
   "cell_type": "markdown",
   "metadata": {
    "collapsed": false
   },
   "source": [
    "### A.4 Retrieve the TR User Account, the Email Address, and the TR Identity from the Context Memory\n",
    "\n",
    "and the previous task sequence"
   ]
  },
  {
   "cell_type": "code",
   "execution_count": 15,
   "metadata": {
    "ExecuteTime": {
     "end_time": "2025-04-20T08:16:05.300652800Z",
     "start_time": "2025-04-20T08:16:05.175188900Z"
    },
    "collapsed": false
   },
   "outputs": [
    {
     "name": "stdout",
     "output_type": "stream",
     "text": [
      "company query->{'type': 'identity', 'property': {'path': ['name'], 'source_value': 'HP Laptop 1', 'comparator': 'EQ'}}\n",
      "company query->{'type': 'identity', 'property': {'path': ['name'], 'source_value': 'Naive Smith', 'comparator': 'EQ'}}\n",
      "\n",
      "reporter_identity-->{'type': 'identity', 'spec_version': '2.1', 'id': 'identity--090c9c16-cbbb-49e2-9289-bc1ad4cd7f77', 'created': '2025-07-09T21:43:55.998Z', 'modified': '2025-07-09T21:43:55.998Z', 'name': 'Naive Smith', 'description': 'A Naive Individual', 'roles': ['user', 'sales'], 'identity_class': 'individual', 'sectors': ['technology'], 'extensions': {'extension-definition--66e2492a-bbd3-4be6-88f5-cc91a017a498': {'extension_type': 'property-extension', 'contact_numbers': [{'contact_number_type': 'work-phone', 'contact_number': '0499-999-109'}], 'email_addresses': [{'digital_contact_type': 'work', 'email_address_ref': 'email-addr--4722424c-7012-56b0-84d5-01d076fc547b'}], 'first_name': 'Naive', 'last_name': 'Smith', 'middle_name': 'Weakling', 'prefix': 'Mr', 'social_media_accounts': [{'digital_contact_type': 'work', 'user_account_ref': 'user-account--597ad4d4-35ba-585d-8f6d-134a75032f9b'}], 'team': 'Sales'}}}\n",
      "\n",
      "laptop_identity-->{'type': 'identity', 'spec_version': '2.1', 'id': 'identity--38647650-4e31-4c84-af51-4d97bb1a38a6', 'created': '2025-07-09T21:43:59.49Z', 'modified': '2025-07-09T21:43:59.49Z', 'name': 'HP Laptop 1', 'description': \"Usr 1's Laptop\", 'roles': ['laptop'], 'identity_class': 'asset', 'sectors': ['technology'], 'external_references': [{'source_name': 'HP Ultima 10', 'description': '16GB RAM, 1TB SD, Microsoft Windows 11 Professional', 'url': 'https://mail.echange.microsoft.com', 'external_id': 'Asset--629456a'}]}\n",
      "\n",
      "laptop_identity-->{'type': 'identity', 'spec_version': '2.1', 'id': 'identity--38647650-4e31-4c84-af51-4d97bb1a38a6', 'created': '2025-07-09T21:43:59.49Z', 'modified': '2025-07-09T21:43:59.49Z', 'name': 'HP Laptop 1', 'description': \"Usr 1's Laptop\", 'roles': ['laptop'], 'identity_class': 'asset', 'sectors': ['technology'], 'external_references': [{'source_name': 'HP Ultima 10', 'description': '16GB RAM, 1TB SD, Microsoft Windows 11 Professional', 'url': 'https://mail.echange.microsoft.com', 'external_id': 'Asset--629456a'}]}\n",
      "\n",
      "TR_identity-->{'type': 'identity', 'spec_version': '2.1', 'id': 'identity--37154aac-c730-4782-9144-3f0f9f9d7c95', 'created': '2025-07-09T21:43:55.209Z', 'modified': '2025-07-09T21:43:55.209Z', 'name': 'Trusty Jones', 'description': 'A Trusty Individual', 'roles': ['soc', 'support'], 'identity_class': 'individual', 'sectors': ['technology'], 'extensions': {'extension-definition--66e2492a-bbd3-4be6-88f5-cc91a017a498': {'extension_type': 'property-extension', 'contact_numbers': [{'contact_number_type': 'work-phone', 'contact_number': '0418-208-368'}], 'email_addresses': [{'digital_contact_type': 'work', 'email_address_ref': 'email-addr--c99b87bd-f0a8-50ca-9f84-68072efc61e3'}], 'first_name': 'Me', 'last_name': 'Jones', 'middle_name': 'Percival', 'prefix': 'Dr', 'social_media_accounts': [{'digital_contact_type': 'work', 'user_account_ref': 'user-account--83658594-537d-5c32-b9f0-137354bd9bc3'}], 'team': 'All_Stars'}}}\n",
      "input data->{'stix_object': {'type': 'identity', 'spec_version': '2.1', 'id': 'identity--090c9c16-cbbb-49e2-9289-bc1ad4cd7f77', 'created': '2025-07-09T21:43:55.998Z', 'modified': '2025-07-09T21:43:55.998Z', 'name': 'Naive Smith', 'description': 'A Naive Individual', 'roles': ['user', 'sales'], 'identity_class': 'individual', 'sectors': ['technology'], 'extensions': {'extension-definition--66e2492a-bbd3-4be6-88f5-cc91a017a498': {'extension_type': 'property-extension', 'contact_numbers': [{'contact_number_type': 'work-phone', 'contact_number': '0499-999-109'}], 'email_addresses': [{'digital_contact_type': 'work', 'email_address_ref': 'email-addr--4722424c-7012-56b0-84d5-01d076fc547b'}], 'first_name': 'Naive', 'last_name': 'Smith', 'middle_name': 'Weakling', 'prefix': 'Mr', 'social_media_accounts': [{'digital_contact_type': 'work', 'user_account_ref': 'user-account--597ad4d4-35ba-585d-8f6d-134a75032f9b'}], 'team': 'Sales'}}}, 'context_type': {'context_type': 'unattached'}}\n",
      "from ports \n",
      "stix_object->{'type': 'identity', 'spec_version': '2.1', 'id': 'identity--090c9c16-cbbb-49e2-9289-bc1ad4cd7f77', 'created': '2025-07-09T21:43:55.998Z', 'modified': '2025-07-09T21:43:55.998Z', 'name': 'Naive Smith', 'description': 'A Naive Individual', 'roles': ['user', 'sales'], 'identity_class': 'individual', 'sectors': ['technology'], 'extensions': {'extension-definition--66e2492a-bbd3-4be6-88f5-cc91a017a498': {'extension_type': 'property-extension', 'contact_numbers': [{'contact_number_type': 'work-phone', 'contact_number': '0499-999-109'}], 'email_addresses': [{'digital_contact_type': 'work', 'email_address_ref': 'email-addr--4722424c-7012-56b0-84d5-01d076fc547b'}], 'first_name': 'Naive', 'last_name': 'Smith', 'middle_name': 'Weakling', 'prefix': 'Mr', 'social_media_accounts': [{'digital_contact_type': 'work', 'user_account_ref': 'user-account--597ad4d4-35ba-585d-8f6d-134a75032f9b'}], 'team': 'Sales'}}}\n",
      "context type->unattached\n",
      " result->{'context_result': ' incident context saved - \\nstix_id -> identity--090c9c16-cbbb-49e2-9289-bc1ad4cd7f77'}\n",
      "input data->{'stix_object': {'type': 'identity', 'spec_version': '2.1', 'id': 'identity--37154aac-c730-4782-9144-3f0f9f9d7c95', 'created': '2025-07-09T21:43:55.209Z', 'modified': '2025-07-09T21:43:55.209Z', 'name': 'Trusty Jones', 'description': 'A Trusty Individual', 'roles': ['soc', 'support'], 'identity_class': 'individual', 'sectors': ['technology'], 'extensions': {'extension-definition--66e2492a-bbd3-4be6-88f5-cc91a017a498': {'extension_type': 'property-extension', 'contact_numbers': [{'contact_number_type': 'work-phone', 'contact_number': '0418-208-368'}], 'email_addresses': [{'digital_contact_type': 'work', 'email_address_ref': 'email-addr--c99b87bd-f0a8-50ca-9f84-68072efc61e3'}], 'first_name': 'Me', 'last_name': 'Jones', 'middle_name': 'Percival', 'prefix': 'Dr', 'social_media_accounts': [{'digital_contact_type': 'work', 'user_account_ref': 'user-account--83658594-537d-5c32-b9f0-137354bd9bc3'}], 'team': 'All_Stars'}}}, 'context_type': {'context_type': 'unattached'}}\n",
      "from ports \n",
      "stix_object->{'type': 'identity', 'spec_version': '2.1', 'id': 'identity--37154aac-c730-4782-9144-3f0f9f9d7c95', 'created': '2025-07-09T21:43:55.209Z', 'modified': '2025-07-09T21:43:55.209Z', 'name': 'Trusty Jones', 'description': 'A Trusty Individual', 'roles': ['soc', 'support'], 'identity_class': 'individual', 'sectors': ['technology'], 'extensions': {'extension-definition--66e2492a-bbd3-4be6-88f5-cc91a017a498': {'extension_type': 'property-extension', 'contact_numbers': [{'contact_number_type': 'work-phone', 'contact_number': '0418-208-368'}], 'email_addresses': [{'digital_contact_type': 'work', 'email_address_ref': 'email-addr--c99b87bd-f0a8-50ca-9f84-68072efc61e3'}], 'first_name': 'Me', 'last_name': 'Jones', 'middle_name': 'Percival', 'prefix': 'Dr', 'social_media_accounts': [{'digital_contact_type': 'work', 'user_account_ref': 'user-account--83658594-537d-5c32-b9f0-137354bd9bc3'}], 'team': 'All_Stars'}}}\n",
      "context type->unattached\n",
      " result->{'context_result': ' incident context saved - \\nstix_id -> identity--37154aac-c730-4782-9144-3f0f9f9d7c95'}\n",
      "input data->{'stix_object': {'type': 'identity', 'spec_version': '2.1', 'id': 'identity--38647650-4e31-4c84-af51-4d97bb1a38a6', 'created': '2025-07-09T21:43:59.49Z', 'modified': '2025-07-09T21:43:59.49Z', 'name': 'HP Laptop 1', 'description': \"Usr 1's Laptop\", 'roles': ['laptop'], 'identity_class': 'asset', 'sectors': ['technology'], 'external_references': [{'source_name': 'HP Ultima 10', 'description': '16GB RAM, 1TB SD, Microsoft Windows 11 Professional', 'url': 'https://mail.echange.microsoft.com', 'external_id': 'Asset--629456a'}]}, 'context_type': {'context_type': 'unattached'}}\n",
      "from ports \n",
      "stix_object->{'type': 'identity', 'spec_version': '2.1', 'id': 'identity--38647650-4e31-4c84-af51-4d97bb1a38a6', 'created': '2025-07-09T21:43:59.49Z', 'modified': '2025-07-09T21:43:59.49Z', 'name': 'HP Laptop 1', 'description': \"Usr 1's Laptop\", 'roles': ['laptop'], 'identity_class': 'asset', 'sectors': ['technology'], 'external_references': [{'source_name': 'HP Ultima 10', 'description': '16GB RAM, 1TB SD, Microsoft Windows 11 Professional', 'url': 'https://mail.echange.microsoft.com', 'external_id': 'Asset--629456a'}]}\n",
      "context type->unattached\n",
      " result->{'context_result': ' incident context saved - \\nstix_id -> identity--38647650-4e31-4c84-af51-4d97bb1a38a6'}\n"
     ]
    }
   ],
   "source": [
    "# 1. For Naive Smith, find the user account and the email. Plus get my own identity\n",
    "reporter_name = alert_data[\"reporter\"]\n",
    "laptop_name = \"HP Laptop 1\"\n",
    "TR_name = \"Trusty Jones\"\n",
    "#\n",
    "# 2. Setup variables and queries to get the objects from options\n",
    "# get \"HP Laptop 1\"\n",
    "context_type = {\n",
    "    \"context_type\": \"assets\"\n",
    "}\n",
    "laptop_ident_query = {\n",
    "    \"type\" : \"identity\",\n",
    "    \"property\": {\n",
    "        \"path\": [\"name\"],\n",
    "        \"source_value\": laptop_name,\n",
    "        \"comparator\": \"EQ\"\n",
    "    }\n",
    "}\n",
    "laptop_identity = invoke_get_from_company_block(laptop_ident_query, context_type, source_value=None, source_id=None)\n",
    "# get reporter\n",
    "context_type = {\n",
    "    \"context_type\": \"users\"\n",
    "}\n",
    "reporter_ident_query = {\n",
    "    \"type\" : \"identity\",\n",
    "    \"property\": {\n",
    "        \"path\": [\"name\"],\n",
    "        \"source_value\": reporter_name,\n",
    "        \"comparator\": \"EQ\"\n",
    "    }\n",
    "}\n",
    "reporter_identity = invoke_get_from_company_block(reporter_ident_query, context_type, source_value=None, source_id=None)\n",
    "context_type = {\n",
    "    \"context_type\": \"me\"\n",
    "}\n",
    "TR_ident_query = {\n",
    "    \"type\" : \"identity\",\n",
    "    \"property\": {\n",
    "        \"path\": [\"name\"],\n",
    "        \"source_value\": TR_name,\n",
    "        \"comparator\": \"EQ\"\n",
    "    }\n",
    "}\n",
    "TR_identity = invoke_get_from_user_block(TR_ident_query, context_type, source_value=None, source_id=None)\n",
    "#\n",
    "print(f\"\\nreporter_identity-->{reporter_identity}\")\n",
    "print(f\"\\nlaptop_identity-->{laptop_identity}\")\n",
    "print(f\"\\nlaptop_identity-->{laptop_identity}\")\n",
    "print(f\"\\nTR_identity-->{TR_identity}\")\n",
    "#\n",
    "# 3. save the objects to \"unattached\"\n",
    "#\n",
    "context_type = {\n",
    "    \"context_type\": \"unattached\"\n",
    "}\n",
    "ident_results_obj_path = results_base + \"/step0/Usr1__ident.json\"\n",
    "ident_results_context_path = results_base  + \"/step1/context/usr1__ident_context.json\"\n",
    "result = invoke_save_incident_context_block(ident_results_obj_path, ident_results_context_path, context_type)\n",
    "print(f\" result->{result}\")\n",
    "ident_results_obj_path = results_base  + \"/step0/TR_Identity__ident.json\"\n",
    "ident_results_context_path = results_base + \"/step1/context/TR_Identity__ident_context.json\"\n",
    "result = invoke_save_incident_context_block(ident_results_obj_path, ident_results_context_path, context_type)\n",
    "print(f\" result->{result}\")\n",
    "ident_results_obj_path = results_base  + \"/step0/Systems_Laptop1__ident.json\"\n",
    "ident_results_context_path = results_base + \"/step1/context/Systems_Laptop1__ident_context.json\"\n",
    "result = invoke_save_incident_context_block(ident_results_obj_path, ident_results_context_path, context_type)\n",
    "print(f\" result->{result}\")"
   ]
  },
  {
   "cell_type": "markdown",
   "metadata": {
    "collapsed": false
   },
   "source": [
    "## B Make the Anecdote"
   ]
  },
  {
   "cell_type": "code",
   "execution_count": 16,
   "metadata": {
    "ExecuteTime": {
     "end_time": "2025-04-20T08:16:05.345220200Z",
     "start_time": "2025-04-20T08:16:05.303651700Z"
    },
    "collapsed": false
   },
   "outputs": [
    {
     "name": "stdout",
     "output_type": "stream",
     "text": [
      "{\n",
      "    \"type\": \"anecdote\",\n",
      "    \"spec_version\": \"2.1\",\n",
      "    \"id\": \"anecdote--e1298bc0-818e-5cdb-9154-eac37c8e260f\",\n",
      "    \"value\": \"I clicked on the link, and my laptop screen went weird\",\n",
      "    \"report_date\": \"2025-07-09T21:47:49.468383Z\",\n",
      "    \"provided_by_ref\": \"identity--090c9c16-cbbb-49e2-9289-bc1ad4cd7f77\"\n",
      "}\n",
      "input data->{'stix_object': {'type': 'anecdote', 'spec_version': '2.1', 'id': 'anecdote--e1298bc0-818e-5cdb-9154-eac37c8e260f', 'value': 'I clicked on the link, and my laptop screen went weird', 'report_date': '2025-07-09T21:47:49.468383Z', 'provided_by_ref': 'identity--090c9c16-cbbb-49e2-9289-bc1ad4cd7f77'}, 'context_type': {'context_type': 'unattached'}}\n",
      "from ports \n",
      "stix_object->{'type': 'anecdote', 'spec_version': '2.1', 'id': 'anecdote--e1298bc0-818e-5cdb-9154-eac37c8e260f', 'value': 'I clicked on the link, and my laptop screen went weird', 'report_date': '2025-07-09T21:47:49.468383Z', 'provided_by_ref': 'identity--090c9c16-cbbb-49e2-9289-bc1ad4cd7f77'}\n",
      "context type->unattached\n",
      " result->{'context_result': ' incident context saved - \\nstix_id -> anecdote--e1298bc0-818e-5cdb-9154-eac37c8e260f'}\n"
     ]
    }
   ],
   "source": [
    "# 1. Setup the form paths and the results path\n",
    "anecdote_form = \"SCO/Anecdote/anecdote_on_impact.json\"\n",
    "results_path = \"step2/step2\"\n",
    "# 2. Invoke the Make Anecdote block\n",
    "anecdote = invoke_make_anecdote_block(anecdote_form, results_path, anecdote_reporter=reporter_identity)\n",
    "# 3. Add the record to the in-session bundles and lists\n",
    "context_type = {\n",
    "    \"context_type\": \"unattached\"\n",
    "}\n",
    "anecdote_results_obj_path = results_base + results_path + \"__anecdote.json\"\n",
    "anecdote_results_context_path = results_base + \"/step2/anecdote_context.json\"\n",
    "result = invoke_save_incident_context_block(anecdote_results_obj_path, anecdote_results_context_path, context_type)\n",
    "print(f\" result->{result}\")"
   ]
  },
  {
   "cell_type": "markdown",
   "metadata": {
    "collapsed": false
   },
   "source": [
    "## C. Collect the Elements of the Observation into an Observed-Data Object\n",
    "\n",
    "Tbis then represents the potential phishing email as a group of elements"
   ]
  },
  {
   "cell_type": "code",
   "execution_count": 17,
   "metadata": {
    "ExecuteTime": {
     "end_time": "2025-04-20T08:16:05.410729800Z",
     "start_time": "2025-04-20T08:16:05.350216300Z"
    },
    "collapsed": false
   },
   "outputs": [
    {
     "name": "stdout",
     "output_type": "stream",
     "text": [
      "{\n",
      "    \"type\": \"observed-data\",\n",
      "    \"spec_version\": \"2.1\",\n",
      "    \"id\": \"observed-data--a3c5080d-f832-42f0-b9cd-e0dc8e4ec8fb\",\n",
      "    \"created\": \"2025-07-09T21:47:49.599Z\",\n",
      "    \"modified\": \"2025-07-09T21:47:49.599Z\",\n",
      "    \"first_observed\": \"2020-10-19T01:01:01Z\",\n",
      "    \"last_observed\": \"2020-10-19T01:01:01Z\",\n",
      "    \"number_observed\": 1,\n",
      "    \"object_refs\": [\n",
      "        \"anecdote--e1298bc0-818e-5cdb-9154-eac37c8e260f\"\n",
      "    ]\n",
      "}\n",
      "input data->{'stix_object': {'type': 'observed-data', 'spec_version': '2.1', 'id': 'observed-data--a3c5080d-f832-42f0-b9cd-e0dc8e4ec8fb', 'created': '2025-07-09T21:47:49.599Z', 'modified': '2025-07-09T21:47:49.599Z', 'first_observed': '2020-10-19T01:01:01.000Z', 'last_observed': '2020-10-19T01:01:01.000Z', 'number_observed': 1, 'object_refs': ['anecdote--e1298bc0-818e-5cdb-9154-eac37c8e260f']}, 'context_type': {'context_type': 'unattached'}}\n",
      "from ports \n",
      "stix_object->{'type': 'observed-data', 'spec_version': '2.1', 'id': 'observed-data--a3c5080d-f832-42f0-b9cd-e0dc8e4ec8fb', 'created': '2025-07-09T21:47:49.599Z', 'modified': '2025-07-09T21:47:49.599Z', 'first_observed': '2020-10-19T01:01:01.000Z', 'last_observed': '2020-10-19T01:01:01.000Z', 'number_observed': 1, 'object_refs': ['anecdote--e1298bc0-818e-5cdb-9154-eac37c8e260f']}\n",
      "context type->unattached\n",
      " result->{'context_result': ' incident context saved - \\nstix_id -> observed-data--a3c5080d-f832-42f0-b9cd-e0dc8e4ec8fb'}\n"
     ]
    }
   ],
   "source": [
    "# 1. Setup0 list of obsrvations\n",
    "observed_ids = []\n",
    "observed_ids.append(anecdote)\n",
    "# 2. Setup path to form and results\n",
    "obs_path =\"SDO/Observed_Data/observation-alert.json\"\n",
    "results_path =\"step2/observation-anecdote.json\"\n",
    "# 3. Invoke the Make Observed Data Block\n",
    "obs_2 = invoke_make_observed_data_block(obs_path, results_path, observation=observed_ids)\n",
    "# 4. Add the record to the in-session bundles and lists\n",
    "context_type = {\n",
    "    \"context_type\": \"unattached\"\n",
    "}\n",
    "observation_results_obj_path = results_base + \"/step2/observation-anecdote.json\"\n",
    "observation_results_context_path = results_base + \"/step2/observation_anecdote_context.json\"\n",
    "result = invoke_save_incident_context_block(observation_results_obj_path, observation_results_context_path, context_type)\n",
    "print(f\" result->{result}\")"
   ]
  },
  {
   "cell_type": "markdown",
   "metadata": {
    "collapsed": false
   },
   "source": [
    "## D. Create the Anecdote Sighting\n",
    "\n",
    "Tbis then represents the Anecdote on Impact from the reporting user\n",
    "\n",
    "### D.1 Create the Sighting\n",
    "Connecting the:\n",
    "- observed-data object\n",
    "- the reporter identity as the sighted object\n",
    "- the laptop identity as the location"
   ]
  },
  {
   "cell_type": "code",
   "execution_count": 18,
   "metadata": {
    "ExecuteTime": {
     "end_time": "2025-04-20T08:16:05.467989800Z",
     "start_time": "2025-04-20T08:16:05.394397900Z"
    },
    "collapsed": false
   },
   "outputs": [
    {
     "name": "stdout",
     "output_type": "stream",
     "text": [
      "<class 'dict'>\n",
      "['sighting_form', 'observed_data_refs', 'where_sighted_refs', 'sighting_of_ref']\n",
      "{\n",
      "    \"type\": \"sighting\",\n",
      "    \"spec_version\": \"2.1\",\n",
      "    \"id\": \"sighting--a58eb679-1677-47b2-8e55-4892ea57e996\",\n",
      "    \"created\": \"2025-07-09T21:47:49.807Z\",\n",
      "    \"modified\": \"2025-07-09T21:47:49.807Z\",\n",
      "    \"count\": 1,\n",
      "    \"sighting_of_ref\": \"identity--090c9c16-cbbb-49e2-9289-bc1ad4cd7f77\",\n",
      "    \"observed_data_refs\": [\n",
      "        \"observed-data--a3c5080d-f832-42f0-b9cd-e0dc8e4ec8fb\"\n",
      "    ],\n",
      "    \"where_sighted_refs\": [\n",
      "        \"identity--37154aac-c730-4782-9144-3f0f9f9d7c95\"\n",
      "    ],\n",
      "    \"extensions\": {\n",
      "        \"extension-definition--0d76d6d9-16ca-43fd-bd41-4f800ba8fc43\": {\n",
      "            \"extension_type\": \"property-extension\"\n",
      "        },\n",
      "        \"sighting-anecdote\": {\n",
      "            \"person_name\": \"user-report\",\n",
      "            \"person_context\": \"employee\",\n",
      "            \"report_submission\": \"interview\"\n",
      "        }\n",
      "    }\n",
      "}\n",
      "input data->{'stix_object': {'type': 'sighting', 'spec_version': '2.1', 'id': 'sighting--a58eb679-1677-47b2-8e55-4892ea57e996', 'created': '2025-07-09T21:47:49.807Z', 'modified': '2025-07-09T21:47:49.807Z', 'count': 1, 'sighting_of_ref': 'identity--090c9c16-cbbb-49e2-9289-bc1ad4cd7f77', 'observed_data_refs': ['observed-data--a3c5080d-f832-42f0-b9cd-e0dc8e4ec8fb'], 'where_sighted_refs': ['identity--37154aac-c730-4782-9144-3f0f9f9d7c95'], 'extensions': {'sighting-anecdote': {'person_name': 'user-report', 'person_context': 'employee', 'report_submission': 'interview'}, 'extension-definition--0d76d6d9-16ca-43fd-bd41-4f800ba8fc43': {'extension_type': 'property-extension'}}}, 'context_type': {'context_type': 'unattached'}}\n",
      "from ports \n",
      "stix_object->{'type': 'sighting', 'spec_version': '2.1', 'id': 'sighting--a58eb679-1677-47b2-8e55-4892ea57e996', 'created': '2025-07-09T21:47:49.807Z', 'modified': '2025-07-09T21:47:49.807Z', 'count': 1, 'sighting_of_ref': 'identity--090c9c16-cbbb-49e2-9289-bc1ad4cd7f77', 'observed_data_refs': ['observed-data--a3c5080d-f832-42f0-b9cd-e0dc8e4ec8fb'], 'where_sighted_refs': ['identity--37154aac-c730-4782-9144-3f0f9f9d7c95'], 'extensions': {'sighting-anecdote': {'person_name': 'user-report', 'person_context': 'employee', 'report_submission': 'interview'}, 'extension-definition--0d76d6d9-16ca-43fd-bd41-4f800ba8fc43': {'extension_type': 'property-extension'}}}\n",
      "context type->unattached\n",
      " result->{'context_result': ' incident context saved - \\nstix_id -> sighting--a58eb679-1677-47b2-8e55-4892ea57e996'}\n"
     ]
    }
   ],
   "source": [
    "# 1. Setup path to form and results\n",
    "sighting_data_path =\"SRO/Sighting/sighting_anecdote.json\"\n",
    "results_path =\"step2/sighting_anecdote.json\"\n",
    "# 2. Setup the SDO sighted, the Observed-Data that was observed with generated objects,\n",
    "#                        then the identity object from the context storage (note the slight difference in indexing #\n",
    "observed_list = [obs_2]\n",
    "sighted = reporter_identity\n",
    "TR_where_list = [TR_identity]\n",
    "# 2. Invoke the Make Observed Data Block\n",
    "sight2 = invoke_sighting_block(sighting_data_path, results_path, observed=observed_list, sighted=sighted, where=TR_where_list)\n",
    "# 3. Add the record to the in-session bundles and lists\n",
    "context_type = {\n",
    "    \"context_type\": \"unattached\"\n",
    "}\n",
    "sighting_results_obj_path = results_base + \"/step2/sighting_anecdote.json\"\n",
    "sighting_results_context_path = results_base + \"/step2/sighting_anecdote_context.json\"\n",
    "result = invoke_save_incident_context_block(sighting_results_obj_path, sighting_results_context_path, context_type)\n",
    "print(f\" result->{result}\")"
   ]
  },
  {
   "cell_type": "markdown",
   "metadata": {
    "collapsed": false
   },
   "source": [
    "### D.2 Move Unattached to Other"
   ]
  },
  {
   "cell_type": "code",
   "execution_count": 19,
   "metadata": {
    "ExecuteTime": {
     "end_time": "2025-04-20T08:16:05.564043600Z",
     "start_time": "2025-04-20T08:16:05.444568500Z"
    },
    "collapsed": false
   },
   "outputs": [],
   "source": [
    "total_list = observed_ids\n",
    "total_list.append(obs_2)\n",
    "total_list.append(TR_identity)\n",
    "total_list.append(sight2)\n",
    "total_list.append(reporter_identity)\n",
    "\n",
    "obs_context_move_path = results_base + \"step2/context/context_move.json\"\n",
    "obs_context_move_results = results_base + \"step2/context/context_move_results.json\"\n",
    "result = invoke_move_unattached_to_other_block(obs_context_move_path, obs_context_move_results, total_list)"
   ]
  },
  {
   "cell_type": "markdown",
   "metadata": {
    "collapsed": false
   },
   "source": [
    "## E. Create the Impact Objects\n",
    "\n",
    "Tbis Impact represents the effect reported by the user in the Anecdote"
   ]
  },
  {
   "cell_type": "code",
   "execution_count": 20,
   "metadata": {
    "ExecuteTime": {
     "end_time": "2025-04-20T08:16:05.719773Z",
     "start_time": "2025-04-20T08:16:05.567044Z"
    },
    "collapsed": false
   },
   "outputs": [
    {
     "name": "stdout",
     "output_type": "stream",
     "text": [
      "{\n",
      "    \"type\": \"impact\",\n",
      "    \"spec_version\": \"2.1\",\n",
      "    \"id\": \"impact--98ce7265-4229-4114-b51e-c7e5550f7ffd\",\n",
      "    \"created\": \"2025-07-09T21:47:50.528Z\",\n",
      "    \"modified\": \"2025-07-09T21:47:50.528Z\",\n",
      "    \"impact_category\": \"availability\",\n",
      "    \"criticality\": 99,\n",
      "    \"description\": \"Laptop is stuffed\",\n",
      "    \"end_time\": \"2025-07-09T21:47:50.528Z\",\n",
      "    \"impacted_entity_counts\": {\n",
      "        \"computers-mobile\": 1\n",
      "    },\n",
      "    \"impacted_refs\": [\n",
      "        \"identity--38647650-4e31-4c84-af51-4d97bb1a38a6\"\n",
      "    ],\n",
      "    \"recoverability\": \"regular\",\n",
      "    \"start_time\": \"2025-07-09T21:47:50.528Z\",\n",
      "    \"extensions\": {\n",
      "        \"availability\": {\n",
      "            \"availability_impact\": 99\n",
      "        },\n",
      "        \"extension-definition--7cc33dd6-f6a1-489b-98ea-522d351d71b9\": {\n",
      "            \"extension_type\": \"new-sdo\"\n",
      "        }\n",
      "    }\n",
      "}\n",
      "input data->{'stix_object': {'type': 'impact', 'spec_version': '2.1', 'id': 'impact--98ce7265-4229-4114-b51e-c7e5550f7ffd', 'created': '2025-07-09T21:47:50.528Z', 'modified': '2025-07-09T21:47:50.528Z', 'impact_category': 'availability', 'criticality': 99, 'description': 'Laptop is stuffed', 'end_time': '2025-07-09T21:47:50.528Z', 'impacted_entity_counts': {'computers-mobile': 1}, 'impacted_refs': ['identity--38647650-4e31-4c84-af51-4d97bb1a38a6'], 'recoverability': 'regular', 'start_time': '2025-07-09T21:47:50.528Z', 'extensions': {'availability': {'availability_impact': 99}, 'extension-definition--7cc33dd6-f6a1-489b-98ea-522d351d71b9': {'extension_type': 'new-sdo'}}}, 'context_type': {'context_type': 'impact'}}\n",
      "from ports \n",
      "stix_object->{'type': 'impact', 'spec_version': '2.1', 'id': 'impact--98ce7265-4229-4114-b51e-c7e5550f7ffd', 'created': '2025-07-09T21:47:50.528Z', 'modified': '2025-07-09T21:47:50.528Z', 'impact_category': 'availability', 'criticality': 99, 'description': 'Laptop is stuffed', 'end_time': '2025-07-09T21:47:50.528Z', 'impacted_entity_counts': {'computers-mobile': 1}, 'impacted_refs': ['identity--38647650-4e31-4c84-af51-4d97bb1a38a6'], 'recoverability': 'regular', 'start_time': '2025-07-09T21:47:50.528Z', 'extensions': {'availability': {'availability_impact': 99}, 'extension-definition--7cc33dd6-f6a1-489b-98ea-522d351d71b9': {'extension_type': 'new-sdo'}}}\n",
      "context type->impact\n",
      " result->{'context_result': ' incident context saved - \\nstix_id -> impact--98ce7265-4229-4114-b51e-c7e5550f7ffd'}\n"
     ]
    }
   ],
   "source": [
    "# 1. Setup path to form and results\n",
    "impact_path =\"SDO/Impact/anecdote_impact.json\"\n",
    "results_path =\"step2/impact_anecdote.json\"\n",
    "# 2. Setup the number of assets impacted\n",
    "numbers = {\"computers-mobile\": 1}\n",
    "impacted_refs = [laptop_identity[\"id\"]]\n",
    "# 2. Invoke the Make Observed Data Block\n",
    "impact_1 = invoke_make_impact_block(impact_path, results_path, impacted_entity_counts=numbers, impacted_refs=impacted_refs, superseded_by_ref=None)\n",
    "# 3. Add the record to the in-session bundles and lists\n",
    "context_type = {\n",
    "    \"context_type\": \"impact\"\n",
    "}\n",
    "impact_results_obj_path = results_base + results_path\n",
    "impact_results_context_path = results_base + \"/step2/impact_anecdote_context.json\"\n",
    "result = invoke_save_incident_context_block(impact_results_obj_path, impact_results_context_path, context_type)\n",
    "print(f\" result->{result}\")"
   ]
  },
  {
   "cell_type": "markdown",
   "metadata": {
    "collapsed": false
   },
   "source": [
    "## F. Create the Next Task Object\n",
    "\n",
    "Next step is to investigate the Exchange server to see who else got the email\n",
    "\n",
    "### F.1 Create the Task Object"
   ]
  },
  {
   "cell_type": "code",
   "execution_count": 21,
   "metadata": {
    "ExecuteTime": {
     "end_time": "2025-04-20T08:16:05.771445600Z",
     "start_time": "2025-04-20T08:16:05.723773Z"
    },
    "collapsed": false
   },
   "outputs": [
    {
     "name": "stdout",
     "output_type": "stream",
     "text": [
      "{\n",
      "    \"type\": \"task\",\n",
      "    \"spec_version\": \"2.1\",\n",
      "    \"id\": \"task--3aa55e73-842b-4b2f-b3d7-9beaed047844\",\n",
      "    \"created\": \"2025-07-09T21:47:50.755Z\",\n",
      "    \"modified\": \"2025-07-09T21:47:50.755Z\",\n",
      "    \"description\": \"Find out who else got the email\",\n",
      "    \"end_time\": \"2025-07-09T21:47:50.755Z\",\n",
      "    \"name\": \"Query Exchange Server\",\n",
      "    \"start_time\": \"2025-07-09T21:47:50.755Z\",\n",
      "    \"extensions\": {\n",
      "        \"extension-definition--2074a052-8be4-4932-849e-f5e7798e0030\": {\n",
      "            \"extension_type\": \"new-sdo\"\n",
      "        }\n",
      "    }\n",
      "}\n",
      "input data->{'stix_object': {'type': 'task', 'spec_version': '2.1', 'id': 'task--3aa55e73-842b-4b2f-b3d7-9beaed047844', 'created': '2025-07-09T21:47:50.755Z', 'modified': '2025-07-09T21:47:50.755Z', 'description': 'Find out who else got the email', 'end_time': '2025-07-09T21:47:50.755Z', 'name': 'Query Exchange Server', 'start_time': '2025-07-09T21:47:50.755Z', 'extensions': {'extension-definition--2074a052-8be4-4932-849e-f5e7798e0030': {'extension_type': 'new-sdo'}}}, 'context_type': {'context_type': 'task'}}\n",
      "from ports \n",
      "stix_object->{'type': 'task', 'spec_version': '2.1', 'id': 'task--3aa55e73-842b-4b2f-b3d7-9beaed047844', 'created': '2025-07-09T21:47:50.755Z', 'modified': '2025-07-09T21:47:50.755Z', 'description': 'Find out who else got the email', 'end_time': '2025-07-09T21:47:50.755Z', 'name': 'Query Exchange Server', 'start_time': '2025-07-09T21:47:50.755Z', 'extensions': {'extension-definition--2074a052-8be4-4932-849e-f5e7798e0030': {'extension_type': 'new-sdo'}}}\n",
      "context type->task\n",
      " result->{'context_result': ' incident context saved - \\nstix_id -> task--3aa55e73-842b-4b2f-b3d7-9beaed047844'}\n"
     ]
    }
   ],
   "source": [
    "# 1. Setup path to form and results\n",
    "task_data_path =\"SDO/Task/task_anecdote.json\"\n",
    "results_path =\"step2/task_anecdote.json\"\n",
    "# 2. Invoke the Make Observed Data Block\n",
    "task_2 = invoke_make_task_block(task_data_path, results_path, changed_objects=None)\n",
    "# 3. Add the record to the in-session bundles and lists\n",
    "context_type = {\n",
    "    \"context_type\": \"task\"\n",
    "}\n",
    "task_results_obj_path = results_base + \"/step2/task_anecdote.json\"\n",
    "task_results_context_path = results_base + \"/step2/task_anecdote_context.json\"\n",
    "result = invoke_save_incident_context_block(task_results_obj_path, task_results_context_path, context_type)\n",
    "print(f\" result->{result}\")"
   ]
  },
  {
   "cell_type": "markdown",
   "metadata": {
    "collapsed": false
   },
   "source": [
    "### F.2 Create the Sequence Object"
   ]
  },
  {
   "cell_type": "code",
   "execution_count": 22,
   "metadata": {
    "ExecuteTime": {
     "end_time": "2025-04-20T08:16:05.844516300Z",
     "start_time": "2025-04-20T08:16:05.777451200Z"
    },
    "collapsed": false
   },
   "outputs": [
    {
     "name": "stdout",
     "output_type": "stream",
     "text": [
      "{\n",
      "    \"type\": \"sequence\",\n",
      "    \"spec_version\": \"2.1\",\n",
      "    \"id\": \"sequence--175c176f-f662-4622-b0c1-f2b84f111bd7\",\n",
      "    \"created\": \"2025-07-09T21:47:50.957Z\",\n",
      "    \"modified\": \"2025-07-09T21:47:50.957Z\",\n",
      "    \"sequenced_object\": \"task--3aa55e73-842b-4b2f-b3d7-9beaed047844\",\n",
      "    \"sequence_type\": \"task\",\n",
      "    \"step_type\": \"single_step\",\n",
      "    \"extensions\": {\n",
      "        \"extension-definition--be0c7c79-1961-43db-afde-637066a87a64\": {\n",
      "            \"extension_type\": \"new-sdo\"\n",
      "        }\n",
      "    }\n",
      "}\n",
      "input data->{'stix_object': {'type': 'sequence', 'spec_version': '2.1', 'id': 'sequence--175c176f-f662-4622-b0c1-f2b84f111bd7', 'created': '2025-07-09T21:47:50.957Z', 'modified': '2025-07-09T21:47:50.957Z', 'sequenced_object': 'task--3aa55e73-842b-4b2f-b3d7-9beaed047844', 'sequence_type': 'task', 'step_type': 'single_step', 'extensions': {'extension-definition--be0c7c79-1961-43db-afde-637066a87a64': {'extension_type': 'new-sdo'}}}, 'context_type': {'context_type': 'sequence'}}\n",
      "from ports \n",
      "stix_object->{'type': 'sequence', 'spec_version': '2.1', 'id': 'sequence--175c176f-f662-4622-b0c1-f2b84f111bd7', 'created': '2025-07-09T21:47:50.957Z', 'modified': '2025-07-09T21:47:50.957Z', 'sequenced_object': 'task--3aa55e73-842b-4b2f-b3d7-9beaed047844', 'sequence_type': 'task', 'step_type': 'single_step', 'extensions': {'extension-definition--be0c7c79-1961-43db-afde-637066a87a64': {'extension_type': 'new-sdo'}}}\n",
      "context type->sequence\n",
      " result->{'context_result': ' incident context saved - \\nstix_id -> sequence--175c176f-f662-4622-b0c1-f2b84f111bd7'}\n"
     ]
    }
   ],
   "source": [
    "# 1. Setup path to form and results\n",
    "sequence_data_path =\"SDO/Sequence/sequence_anecdote.json\"\n",
    "results_path =\"step2/sequence_task_anecdote.json\"\n",
    "# 2. Setup the Sequence Object for the Event\n",
    "#\n",
    "step_type = \"single_step\"\n",
    "sequence_type = \"task\"\n",
    "sequenced_object = task_2[\"id\"]\n",
    "# 2. Invoke the Make Observed Data Block\n",
    "seq_T_2 = invoke_make_sequence_block(sequence_data_path, results_path, step_type=step_type, sequence_type=sequence_type, sequenced_object=sequenced_object, on_completion=None, on_success=None, on_failure=None, next_steps=None)\n",
    "# 3. Add the record to the in-session bundles and lists\n",
    "context_type = {\n",
    "    \"context_type\": \"sequence\"\n",
    "}\n",
    "sequence_results_obj_path = results_base + \"/step2/sequence_task_anecdote.json\"\n",
    "sequence_results_context_path = results_base + \"/step2/sequence_anecdote_context.json\"\n",
    "result = invoke_save_incident_context_block(sequence_results_obj_path, sequence_results_context_path, context_type)\n",
    "print(f\" result->{result}\")"
   ]
  },
  {
   "cell_type": "markdown",
   "metadata": {
    "collapsed": false
   },
   "source": [
    "### F.3 Connect the Sequence to the Previous one"
   ]
  },
  {
   "cell_type": "code",
   "execution_count": null,
   "metadata": {
    "ExecuteTime": {
     "end_time": "2025-04-20T08:16:05.844516300Z",
     "start_time": "2025-04-20T08:16:05.830917700Z"
    },
    "collapsed": false
   },
   "outputs": [],
   "source": []
  }
 ],
 "metadata": {
  "kernelspec": {
   "display_name": ".venv",
   "language": "python",
   "name": "python3"
  },
  "language_info": {
   "codemirror_mode": {
    "name": "ipython",
    "version": 3
   },
   "file_extension": ".py",
   "mimetype": "text/x-python",
   "name": "python",
   "nbconvert_exporter": "python",
   "pygments_lexer": "ipython3",
   "version": "3.11.3"
  }
 },
 "nbformat": 4,
 "nbformat_minor": 0
}
