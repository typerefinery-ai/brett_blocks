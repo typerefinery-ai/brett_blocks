{
 "cells": [
  {
   "cell_type": "code",
   "execution_count": 1,
   "metadata": {
    "collapsed": true,
    "ExecuteTime": {
     "end_time": "2024-06-12T07:08:51.693405300Z",
     "start_time": "2024-06-12T07:08:50.392429400Z"
    }
   },
   "outputs": [],
   "source": [
    "from Block_Families.Context.Tab_Selections.sighting_index import main as sighting_index\n",
    "from Block_Families.Context.Tab_Selections.task_index import main as task_index\n",
    "from Block_Families.Context.Tab_Selections.impact_index import main as impact_index\n",
    "from Block_Families.Context.Tab_Selections.event_index import main as event_index\n",
    "from Block_Families.Context.Tab_Selections.company_index import main as company_index\n",
    "from Block_Families.Context.Tab_Selections.me_index import main as me_index\n",
    "\n",
    "\n",
    "context_base = \"../Orchestration/Context_Mem/\"\n",
    "path_base = \"../Block_Families/Objects/\"\n",
    "results_base = \"../Orchestration/Results/examples/\"\n",
    "\n",
    "data_path = \"\"\n",
    "sighting_results_path = \"sightingIndex.json\"\n",
    "task_results_path = \"taskIndex.json\"\n",
    "impact_results_path = \"impactIndex.json\"\n",
    "event_results_path = \"eventIndex.json\"\n",
    "company_results_path = \"companyIndex.json\"\n",
    "me_results_path = \"meIndex.json\"\n",
    "\n",
    "sighting_index(data_path, results_base + sighting_results_path)\n",
    "task_index(data_path, results_base + task_results_path)\n",
    "impact_index(data_path, results_base + impact_results_path)\n",
    "event_index(data_path, results_base + event_results_path)\n",
    "company_index(data_path, results_base + company_results_path)\n",
    "me_index(data_path, results_base + me_results_path)"
   ]
  },
  {
   "cell_type": "code",
   "execution_count": 1,
   "outputs": [],
   "source": [],
   "metadata": {
    "collapsed": false,
    "ExecuteTime": {
     "end_time": "2024-06-12T07:08:51.709310Z",
     "start_time": "2024-06-12T07:08:51.697407100Z"
    }
   }
  },
  {
   "cell_type": "code",
   "execution_count": 1,
   "outputs": [],
   "source": [],
   "metadata": {
    "collapsed": false,
    "ExecuteTime": {
     "end_time": "2024-06-12T07:08:51.729356800Z",
     "start_time": "2024-06-12T07:08:51.710322600Z"
    }
   }
  }
 ],
 "metadata": {
  "kernelspec": {
   "display_name": "Python 3",
   "language": "python",
   "name": "python3"
  },
  "language_info": {
   "codemirror_mode": {
    "name": "ipython",
    "version": 2
   },
   "file_extension": ".py",
   "mimetype": "text/x-python",
   "name": "python",
   "nbconvert_exporter": "python",
   "pygments_lexer": "ipython2",
   "version": "2.7.6"
  }
 },
 "nbformat": 4,
 "nbformat_minor": 0
}
