{
 "cells": [
  {
   "cell_type": "code",
   "execution_count": 1,
   "metadata": {
    "ExecuteTime": {
     "end_time": "2025-03-10T09:40:32.432531Z",
     "start_time": "2025-03-10T09:40:31.769879200Z"
    },
    "collapsed": true
   },
   "outputs": [],
   "source": [
    "\n",
    "import sys\n",
    "sys.path.append('../')\n",
    "import os\n",
    "import json\n",
    "import logging\n",
    "logger = logging.getLogger(__name__)\n",
    "logger.setLevel(logging.INFO)\n",
    "from Block_Families.OS_Triage.Viz_Dataviews.sighting_index import main as sighting_index\n",
    "from Block_Families.OS_Triage.Viz_Dataviews.task_index import main as task_index\n",
    "from Block_Families.OS_Triage.Viz_Dataviews.impact_index import main as impact_index\n",
    "from Block_Families.OS_Triage.Viz_Dataviews.event_index import main as event_index\n",
    "from Block_Families.OS_Triage.Viz_Dataviews.company_index import main as company_index\n",
    "from Block_Families.OS_Triage.Viz_Dataviews.user_index import main as me_index\n",
    "from Block_Families.OS_Triage.Viz_Dataviews.get_unattached import main as get_unattached\n",
    "\n",
    "\n",
    "\n",
    "context_base = \"../Orchestration/Context_Mem/\"\n",
    "path_base = \"../Block_Families/Objects/\"\n",
    "results_base = \"../Orchestration/Results/examples/\"\n",
    "\n",
    "data_path = \"\"\n",
    "sighting_results_path = \"sightingIndex.json\"\n",
    "task_results_path = \"taskIndex.json\"\n",
    "impact_results_path = \"impactIndex.json\"\n",
    "event_results_path = \"eventIndex.json\"\n",
    "company_results_path = \"companyIndex.json\"\n",
    "me_results_path = \"meIndex.json\"\n",
    "unattached_path = \"unattached.json\"\n"
   ]
  },
  {
   "cell_type": "markdown",
   "metadata": {
    "collapsed": false
   },
   "source": [
    "# Sighting Data"
   ]
  },
  {
   "cell_type": "code",
   "execution_count": 2,
   "metadata": {
    "ExecuteTime": {
     "end_time": "2025-03-10T09:40:32.627217100Z",
     "start_time": "2025-03-10T09:40:32.434539Z"
    },
    "collapsed": false
   },
   "outputs": [],
   "source": [
    "\n",
    "sighting_index(data_path, results_base + sighting_results_path)"
   ]
  },
  {
   "cell_type": "markdown",
   "metadata": {
    "collapsed": false
   },
   "source": [
    "# Task Data"
   ]
  },
  {
   "cell_type": "code",
   "execution_count": 3,
   "metadata": {
    "ExecuteTime": {
     "end_time": "2025-03-10T09:40:32.643275300Z",
     "start_time": "2025-03-10T09:40:32.628218300Z"
    },
    "collapsed": false
   },
   "outputs": [],
   "source": [
    "\n",
    "task_index(data_path, results_base + task_results_path)"
   ]
  },
  {
   "cell_type": "markdown",
   "metadata": {
    "collapsed": false
   },
   "source": [
    "# Impact Data"
   ]
  },
  {
   "cell_type": "code",
   "execution_count": 4,
   "metadata": {
    "ExecuteTime": {
     "end_time": "2025-03-10T09:40:32.674572400Z",
     "start_time": "2025-03-10T09:40:32.644281500Z"
    },
    "collapsed": false
   },
   "outputs": [],
   "source": [
    "\n",
    "impact_index(data_path, results_base + impact_results_path)"
   ]
  },
  {
   "cell_type": "markdown",
   "metadata": {
    "collapsed": false
   },
   "source": [
    "# Event Data"
   ]
  },
  {
   "cell_type": "code",
   "execution_count": 5,
   "metadata": {
    "ExecuteTime": {
     "end_time": "2025-03-10T09:40:32.680568800Z",
     "start_time": "2025-03-10T09:40:32.659815600Z"
    },
    "collapsed": false
   },
   "outputs": [],
   "source": [
    "\n",
    "event_index(data_path, results_base + event_results_path)"
   ]
  },
  {
   "cell_type": "markdown",
   "metadata": {
    "collapsed": false
   },
   "source": [
    "# Company"
   ]
  },
  {
   "cell_type": "code",
   "execution_count": 6,
   "metadata": {
    "ExecuteTime": {
     "end_time": "2025-03-10T09:40:32.688854900Z",
     "start_time": "2025-03-10T09:40:32.676569400Z"
    },
    "collapsed": false
   },
   "outputs": [],
   "source": [
    "\n",
    "company_index(data_path, results_base + company_results_path)"
   ]
  },
  {
   "cell_type": "markdown",
   "metadata": {
    "collapsed": false
   },
   "source": [
    "# User"
   ]
  },
  {
   "cell_type": "code",
   "execution_count": 7,
   "metadata": {
    "ExecuteTime": {
     "end_time": "2025-03-10T09:40:32.725565600Z",
     "start_time": "2025-03-10T09:40:32.691359100Z"
    },
    "collapsed": false
   },
   "outputs": [],
   "source": [
    "\n",
    "me_index(data_path, results_base + me_results_path)"
   ]
  },
  {
   "cell_type": "markdown",
   "metadata": {
    "collapsed": false
   },
   "source": [
    "# Promo/Scratch"
   ]
  },
  {
   "cell_type": "code",
   "execution_count": 8,
   "metadata": {
    "collapsed": false
   },
   "outputs": [
    {
     "name": "stdout",
     "output_type": "stream",
     "text": [
      "node ids->['software--3974613c-1980-5209-8f08-17920a04da04', 'file--e7c7ddeb-d693-53e7-bcd8-f40951888120', 'process--c6fd3c4e-522c-4cdf-b427-6a636dab77cc', 'user-account--47df6d33-0005-5b45-9875-e7a609b12e9b', 'email-addr--a7155ffe-8ea7-563a-a54c-e94e23ec50c8', 'user-account--74f5352e-ea3f-526c-8430-1cbb9ccd3109', 'email-addr--b8048a91-def8-5ef7-8cd3-a7b3db9278e5', 'user-account--5aaaa4e2-0974-5ab4-9069-41a16197f0ff', 'email-addr--30d9a416-203b-55c8-b796-8eb65ab5275e', 'email-message--a9579bb2-e221-5df3-92bd-d452bd9b6d23', 'observed-data--4252c086-13bb-4a24-9223-dcb85a75d764', 'identity--09edca80-dbf0-4198-af76-1e234405523e', 'indicator--525cfc69-c6b0-45a7-afc9-827b4c36a991', 'sighting--8e8eaa09-5735-47ea-b64d-ec0601cce518']\n",
      "relation_edges->{'stix-id': 'relationship--8154429f-cb5a-4cc9-8416-3605432f04bc', 'type': 'relationship', 'name': 'duplicate-of', 'source': 'relationship--8154429f-cb5a-4cc9-8416-3605432f04bc', 'target': 'email-addr--b8048a91-def8-5ef7-8cd3-a7b3db9278e5', 'id': 'relationship--8154429f-cb5a-4cc9-8416-3605432f04bc-email-addr--b8048a91-def8-5ef7-8cd3-a7b3db9278e5'}\n",
      "relation_edges->{'stix-id': 'relationship--a6f1b189-9af3-474f-a254-c1ce957880d6', 'type': 'relationship', 'name': 'duplicate-of', 'source': 'relationship--a6f1b189-9af3-474f-a254-c1ce957880d6', 'target': 'email-addr--30d9a416-203b-55c8-b796-8eb65ab5275e', 'id': 'relationship--a6f1b189-9af3-474f-a254-c1ce957880d6-email-addr--30d9a416-203b-55c8-b796-8eb65ab5275e'}\n",
      "edges->{'name': 'image-of', 'type': 'embedded', 'source': 'file--e7c7ddeb-d693-53e7-bcd8-f40951888120', 'target': 'process--c6fd3c4e-522c-4cdf-b427-6a636dab77cc', 'id': 'file--e7c7ddeb-d693-53e7-bcd8-f40951888120-process--c6fd3c4e-522c-4cdf-b427-6a636dab77cc'}\n",
      "edges->{'name': 'belongs-to', 'type': 'embedded', 'source': 'email-addr--a7155ffe-8ea7-563a-a54c-e94e23ec50c8', 'target': 'user-account--47df6d33-0005-5b45-9875-e7a609b12e9b', 'id': 'email-addr--a7155ffe-8ea7-563a-a54c-e94e23ec50c8-user-account--47df6d33-0005-5b45-9875-e7a609b12e9b'}\n",
      "edges->{'name': 'belongs-to', 'type': 'embedded', 'source': 'email-addr--b8048a91-def8-5ef7-8cd3-a7b3db9278e5', 'target': 'user-account--74f5352e-ea3f-526c-8430-1cbb9ccd3109', 'id': 'email-addr--b8048a91-def8-5ef7-8cd3-a7b3db9278e5-user-account--74f5352e-ea3f-526c-8430-1cbb9ccd3109'}\n",
      "edges->{'name': 'belongs-to', 'type': 'embedded', 'source': 'email-addr--30d9a416-203b-55c8-b796-8eb65ab5275e', 'target': 'user-account--5aaaa4e2-0974-5ab4-9069-41a16197f0ff', 'id': 'email-addr--30d9a416-203b-55c8-b796-8eb65ab5275e-user-account--5aaaa4e2-0974-5ab4-9069-41a16197f0ff'}\n",
      "edges->{'name': 'from', 'type': 'embedded', 'source': 'email-message--a9579bb2-e221-5df3-92bd-d452bd9b6d23', 'target': 'email-addr--b8048a91-def8-5ef7-8cd3-a7b3db9278e5', 'id': 'email-message--a9579bb2-e221-5df3-92bd-d452bd9b6d23-email-addr--b8048a91-def8-5ef7-8cd3-a7b3db9278e5'}\n",
      "edges->{'name': 'to', 'type': 'embedded', 'source': 'email-message--a9579bb2-e221-5df3-92bd-d452bd9b6d23', 'target': 'email-addr--a7155ffe-8ea7-563a-a54c-e94e23ec50c8', 'id': 'email-message--a9579bb2-e221-5df3-92bd-d452bd9b6d23-email-addr--a7155ffe-8ea7-563a-a54c-e94e23ec50c8'}\n",
      "edges->{'name': 'refers-to', 'type': 'embedded', 'source': 'observed-data--4252c086-13bb-4a24-9223-dcb85a75d764', 'target': 'email-addr--a7155ffe-8ea7-563a-a54c-e94e23ec50c8', 'id': 'observed-data--4252c086-13bb-4a24-9223-dcb85a75d764-email-addr--a7155ffe-8ea7-563a-a54c-e94e23ec50c8'}\n",
      "edges->{'name': 'refers-to', 'type': 'embedded', 'source': 'observed-data--4252c086-13bb-4a24-9223-dcb85a75d764', 'target': 'user-account--47df6d33-0005-5b45-9875-e7a609b12e9b', 'id': 'observed-data--4252c086-13bb-4a24-9223-dcb85a75d764-user-account--47df6d33-0005-5b45-9875-e7a609b12e9b'}\n",
      "edges->{'name': 'refers-to', 'type': 'embedded', 'source': 'observed-data--4252c086-13bb-4a24-9223-dcb85a75d764', 'target': 'email-message--a9579bb2-e221-5df3-92bd-d452bd9b6d23', 'id': 'observed-data--4252c086-13bb-4a24-9223-dcb85a75d764-email-message--a9579bb2-e221-5df3-92bd-d452bd9b6d23'}\n",
      "edges->{'name': 'refers-to', 'type': 'embedded', 'source': 'observed-data--4252c086-13bb-4a24-9223-dcb85a75d764', 'target': 'email-addr--b8048a91-def8-5ef7-8cd3-a7b3db9278e5', 'id': 'observed-data--4252c086-13bb-4a24-9223-dcb85a75d764-email-addr--b8048a91-def8-5ef7-8cd3-a7b3db9278e5'}\n",
      "edges->{'name': 'refers-to', 'type': 'embedded', 'source': 'observed-data--4252c086-13bb-4a24-9223-dcb85a75d764', 'target': 'user-account--74f5352e-ea3f-526c-8430-1cbb9ccd3109', 'id': 'observed-data--4252c086-13bb-4a24-9223-dcb85a75d764-user-account--74f5352e-ea3f-526c-8430-1cbb9ccd3109'}\n",
      "edges->{'name': 'refers-to', 'type': 'embedded', 'source': 'observed-data--4252c086-13bb-4a24-9223-dcb85a75d764', 'target': 'email-addr--30d9a416-203b-55c8-b796-8eb65ab5275e', 'id': 'observed-data--4252c086-13bb-4a24-9223-dcb85a75d764-email-addr--30d9a416-203b-55c8-b796-8eb65ab5275e'}\n",
      "edges->{'name': 'refers-to', 'type': 'embedded', 'source': 'observed-data--4252c086-13bb-4a24-9223-dcb85a75d764', 'target': 'user-account--5aaaa4e2-0974-5ab4-9069-41a16197f0ff', 'id': 'observed-data--4252c086-13bb-4a24-9223-dcb85a75d764-user-account--5aaaa4e2-0974-5ab4-9069-41a16197f0ff'}\n",
      "edges->{'stix-id': 'sighting--8e8eaa09-5735-47ea-b64d-ec0601cce518', 'type': 'sighting', 'name': 'Sighting of indicator', 'source': 'sighting--8e8eaa09-5735-47ea-b64d-ec0601cce518', 'target': 'indicator--525cfc69-c6b0-45a7-afc9-827b4c36a991', 'id': 'sighting--8e8eaa09-5735-47ea-b64d-ec0601cce518-indicator--525cfc69-c6b0-45a7-afc9-827b4c36a991'}\n",
      "edges->{'stix-id': 'sighting--8e8eaa09-5735-47ea-b64d-ec0601cce518', 'type': 'sighting', 'name': 'Observed Data', 'source': 'sighting--8e8eaa09-5735-47ea-b64d-ec0601cce518', 'target': 'observed-data--4252c086-13bb-4a24-9223-dcb85a75d764', 'id': 'sighting--8e8eaa09-5735-47ea-b64d-ec0601cce518-observed-data--4252c086-13bb-4a24-9223-dcb85a75d764'}\n"
     ]
    }
   ],
   "source": [
    "\n",
    "get_unattached(data_path, results_base + unattached_path)"
   ]
  }
 ],
 "metadata": {
  "kernelspec": {
   "display_name": "brett-blocks-py3.11",
   "language": "python",
   "name": "python3"
  },
  "language_info": {
   "codemirror_mode": {
    "name": "ipython",
    "version": 3
   },
   "file_extension": ".py",
   "mimetype": "text/x-python",
   "name": "python",
   "nbconvert_exporter": "python",
   "pygments_lexer": "ipython3",
   "version": "3.11.3"
  }
 },
 "nbformat": 4,
 "nbformat_minor": 0
}
