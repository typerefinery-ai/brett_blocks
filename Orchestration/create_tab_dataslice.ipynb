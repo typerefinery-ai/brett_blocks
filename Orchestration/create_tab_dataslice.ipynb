{
 "cells": [
  {
   "cell_type": "code",
   "execution_count": 1,
   "metadata": {
    "collapsed": true,
    "ExecuteTime": {
     "end_time": "2025-03-10T09:40:32.432531Z",
     "start_time": "2025-03-10T09:40:31.769879200Z"
    }
   },
   "outputs": [],
   "source": [
    "from Block_Families.OS_Triage.Tab_Selections.sighting_index import main as sighting_index\n",
    "from Block_Families.OS_Triage.Tab_Selections.task_index import main as task_index\n",
    "from Block_Families.OS_Triage.Tab_Selections.impact_index import main as impact_index\n",
    "from Block_Families.OS_Triage.Tab_Selections.event_index import main as event_index\n",
    "from Block_Families.OS_Triage.Tab_Selections.company_index import main as company_index\n",
    "from Block_Families.OS_Triage.Tab_Selections.me_index import main as me_index\n",
    "from Block_Families.OS_Triage.Tab_Selections.get_unattached import main as get_unattached\n",
    "\n",
    "\n",
    "context_base = \"../Orchestration/Context_Mem/\"\n",
    "path_base = \"../Block_Families/Objects/\"\n",
    "results_base = \"../Orchestration/Results/examples/\"\n",
    "\n",
    "data_path = \"\"\n",
    "sighting_results_path = \"sightingIndex.json\"\n",
    "task_results_path = \"taskIndex.json\"\n",
    "impact_results_path = \"impactIndex.json\"\n",
    "event_results_path = \"eventIndex.json\"\n",
    "company_results_path = \"companyIndex.json\"\n",
    "me_results_path = \"meIndex.json\"\n",
    "unattached_path = \"unattached.json\"\n"
   ]
  },
  {
   "cell_type": "markdown",
   "source": [
    "# Sighting Data"
   ],
   "metadata": {
    "collapsed": false
   }
  },
  {
   "cell_type": "code",
   "execution_count": 2,
   "outputs": [],
   "source": [
    "\n",
    "sighting_index(data_path, results_base + sighting_results_path)"
   ],
   "metadata": {
    "collapsed": false,
    "ExecuteTime": {
     "end_time": "2025-03-10T09:40:32.627217100Z",
     "start_time": "2025-03-10T09:40:32.434539Z"
    }
   }
  },
  {
   "cell_type": "markdown",
   "source": [
    "# Task Data"
   ],
   "metadata": {
    "collapsed": false
   }
  },
  {
   "cell_type": "code",
   "execution_count": 3,
   "outputs": [],
   "source": [
    "\n",
    "task_index(data_path, results_base + task_results_path)"
   ],
   "metadata": {
    "collapsed": false,
    "ExecuteTime": {
     "end_time": "2025-03-10T09:40:32.643275300Z",
     "start_time": "2025-03-10T09:40:32.628218300Z"
    }
   }
  },
  {
   "cell_type": "markdown",
   "source": [
    "# Impact Data"
   ],
   "metadata": {
    "collapsed": false
   }
  },
  {
   "cell_type": "code",
   "execution_count": 4,
   "outputs": [],
   "source": [
    "\n",
    "impact_index(data_path, results_base + impact_results_path)"
   ],
   "metadata": {
    "collapsed": false,
    "ExecuteTime": {
     "end_time": "2025-03-10T09:40:32.674572400Z",
     "start_time": "2025-03-10T09:40:32.644281500Z"
    }
   }
  },
  {
   "cell_type": "markdown",
   "source": [
    "# Event Data"
   ],
   "metadata": {
    "collapsed": false
   }
  },
  {
   "cell_type": "code",
   "execution_count": 5,
   "outputs": [],
   "source": [
    "\n",
    "event_index(data_path, results_base + event_results_path)"
   ],
   "metadata": {
    "collapsed": false,
    "ExecuteTime": {
     "end_time": "2025-03-10T09:40:32.680568800Z",
     "start_time": "2025-03-10T09:40:32.659815600Z"
    }
   }
  },
  {
   "cell_type": "markdown",
   "source": [
    "# Company"
   ],
   "metadata": {
    "collapsed": false
   }
  },
  {
   "cell_type": "code",
   "execution_count": 6,
   "outputs": [],
   "source": [
    "\n",
    "company_index(data_path, results_base + company_results_path)"
   ],
   "metadata": {
    "collapsed": false,
    "ExecuteTime": {
     "end_time": "2025-03-10T09:40:32.688854900Z",
     "start_time": "2025-03-10T09:40:32.676569400Z"
    }
   }
  },
  {
   "cell_type": "markdown",
   "source": [
    "# User"
   ],
   "metadata": {
    "collapsed": false
   }
  },
  {
   "cell_type": "code",
   "execution_count": 7,
   "outputs": [],
   "source": [
    "\n",
    "me_index(data_path, results_base + me_results_path)"
   ],
   "metadata": {
    "collapsed": false,
    "ExecuteTime": {
     "end_time": "2025-03-10T09:40:32.725565600Z",
     "start_time": "2025-03-10T09:40:32.691359100Z"
    }
   }
  },
  {
   "cell_type": "markdown",
   "source": [
    "# Promo/Scratch"
   ],
   "metadata": {
    "collapsed": false
   }
  },
  {
   "cell_type": "code",
   "execution_count": 9,
   "outputs": [
    {
     "name": "stdout",
     "output_type": "stream",
     "text": [
      "node ids->['software--3974613c-1980-5209-8f08-17920a04da04', 'file--e7c7ddeb-d693-53e7-bcd8-f40951888120', 'process--f9aa4f19-482d-4563-9876-9d62c9b45f53', 'user-account--47df6d33-0005-5b45-9875-e7a609b12e9b', 'email-addr--a7155ffe-8ea7-563a-a54c-e94e23ec50c8', 'user-account--74f5352e-ea3f-526c-8430-1cbb9ccd3109', 'email-addr--b8048a91-def8-5ef7-8cd3-a7b3db9278e5', 'user-account--5aaaa4e2-0974-5ab4-9069-41a16197f0ff', 'email-addr--30d9a416-203b-55c8-b796-8eb65ab5275e', 'email-message--a9579bb2-e221-5df3-92bd-d452bd9b6d23', 'observed-data--1e0963a0-bf8c-4a14-8696-59ee93d8abb3', 'identity--d26ee345-3a37-4ca3-b65c-9d35dff08a51', 'indicator--f6a24917-c906-4b61-942c-30456ed006df', 'sighting--02e4e5c0-390a-490b-96dc-99790aca6103']\n",
      "relation_edges->{'stix-id': 'relationship--4694a873-c9d0-45f0-82bb-66ac17e2b4b4', 'type': 'relationship', 'name': 'duplicate-of', 'source': 'relationship--4694a873-c9d0-45f0-82bb-66ac17e2b4b4', 'target': 'email-addr--b8048a91-def8-5ef7-8cd3-a7b3db9278e5', 'id': 'relationship--4694a873-c9d0-45f0-82bb-66ac17e2b4b4-email-addr--b8048a91-def8-5ef7-8cd3-a7b3db9278e5'}\n",
      "relation_edges->{'stix-id': 'relationship--86945a6e-fda4-4428-84ce-584faeca8bb7', 'type': 'relationship', 'name': 'duplicate-of', 'source': 'relationship--86945a6e-fda4-4428-84ce-584faeca8bb7', 'target': 'email-addr--30d9a416-203b-55c8-b796-8eb65ab5275e', 'id': 'relationship--86945a6e-fda4-4428-84ce-584faeca8bb7-email-addr--30d9a416-203b-55c8-b796-8eb65ab5275e'}\n",
      "edges->{'name': 'image-of', 'type': 'embedded', 'source': 'file--e7c7ddeb-d693-53e7-bcd8-f40951888120', 'target': 'process--f9aa4f19-482d-4563-9876-9d62c9b45f53', 'id': 'file--e7c7ddeb-d693-53e7-bcd8-f40951888120-process--f9aa4f19-482d-4563-9876-9d62c9b45f53'}\n",
      "edges->{'name': 'belongs-to', 'type': 'embedded', 'source': 'email-addr--a7155ffe-8ea7-563a-a54c-e94e23ec50c8', 'target': 'user-account--47df6d33-0005-5b45-9875-e7a609b12e9b', 'id': 'email-addr--a7155ffe-8ea7-563a-a54c-e94e23ec50c8-user-account--47df6d33-0005-5b45-9875-e7a609b12e9b'}\n",
      "edges->{'name': 'belongs-to', 'type': 'embedded', 'source': 'email-addr--b8048a91-def8-5ef7-8cd3-a7b3db9278e5', 'target': 'user-account--74f5352e-ea3f-526c-8430-1cbb9ccd3109', 'id': 'email-addr--b8048a91-def8-5ef7-8cd3-a7b3db9278e5-user-account--74f5352e-ea3f-526c-8430-1cbb9ccd3109'}\n",
      "edges->{'name': 'belongs-to', 'type': 'embedded', 'source': 'email-addr--30d9a416-203b-55c8-b796-8eb65ab5275e', 'target': 'user-account--5aaaa4e2-0974-5ab4-9069-41a16197f0ff', 'id': 'email-addr--30d9a416-203b-55c8-b796-8eb65ab5275e-user-account--5aaaa4e2-0974-5ab4-9069-41a16197f0ff'}\n",
      "edges->{'name': 'from', 'type': 'embedded', 'source': 'email-message--a9579bb2-e221-5df3-92bd-d452bd9b6d23', 'target': 'email-addr--b8048a91-def8-5ef7-8cd3-a7b3db9278e5', 'id': 'email-message--a9579bb2-e221-5df3-92bd-d452bd9b6d23-email-addr--b8048a91-def8-5ef7-8cd3-a7b3db9278e5'}\n",
      "edges->{'name': 'to', 'type': 'embedded', 'source': 'email-message--a9579bb2-e221-5df3-92bd-d452bd9b6d23', 'target': 'email-addr--a7155ffe-8ea7-563a-a54c-e94e23ec50c8', 'id': 'email-message--a9579bb2-e221-5df3-92bd-d452bd9b6d23-email-addr--a7155ffe-8ea7-563a-a54c-e94e23ec50c8'}\n",
      "edges->{'name': 'refers-to', 'type': 'embedded', 'source': 'observed-data--1e0963a0-bf8c-4a14-8696-59ee93d8abb3', 'target': 'email-addr--a7155ffe-8ea7-563a-a54c-e94e23ec50c8', 'id': 'observed-data--1e0963a0-bf8c-4a14-8696-59ee93d8abb3-email-addr--a7155ffe-8ea7-563a-a54c-e94e23ec50c8'}\n",
      "edges->{'name': 'refers-to', 'type': 'embedded', 'source': 'observed-data--1e0963a0-bf8c-4a14-8696-59ee93d8abb3', 'target': 'user-account--47df6d33-0005-5b45-9875-e7a609b12e9b', 'id': 'observed-data--1e0963a0-bf8c-4a14-8696-59ee93d8abb3-user-account--47df6d33-0005-5b45-9875-e7a609b12e9b'}\n",
      "edges->{'name': 'refers-to', 'type': 'embedded', 'source': 'observed-data--1e0963a0-bf8c-4a14-8696-59ee93d8abb3', 'target': 'email-message--a9579bb2-e221-5df3-92bd-d452bd9b6d23', 'id': 'observed-data--1e0963a0-bf8c-4a14-8696-59ee93d8abb3-email-message--a9579bb2-e221-5df3-92bd-d452bd9b6d23'}\n",
      "edges->{'name': 'refers-to', 'type': 'embedded', 'source': 'observed-data--1e0963a0-bf8c-4a14-8696-59ee93d8abb3', 'target': 'email-addr--b8048a91-def8-5ef7-8cd3-a7b3db9278e5', 'id': 'observed-data--1e0963a0-bf8c-4a14-8696-59ee93d8abb3-email-addr--b8048a91-def8-5ef7-8cd3-a7b3db9278e5'}\n",
      "edges->{'name': 'refers-to', 'type': 'embedded', 'source': 'observed-data--1e0963a0-bf8c-4a14-8696-59ee93d8abb3', 'target': 'user-account--74f5352e-ea3f-526c-8430-1cbb9ccd3109', 'id': 'observed-data--1e0963a0-bf8c-4a14-8696-59ee93d8abb3-user-account--74f5352e-ea3f-526c-8430-1cbb9ccd3109'}\n",
      "edges->{'name': 'refers-to', 'type': 'embedded', 'source': 'observed-data--1e0963a0-bf8c-4a14-8696-59ee93d8abb3', 'target': 'email-addr--30d9a416-203b-55c8-b796-8eb65ab5275e', 'id': 'observed-data--1e0963a0-bf8c-4a14-8696-59ee93d8abb3-email-addr--30d9a416-203b-55c8-b796-8eb65ab5275e'}\n",
      "edges->{'name': 'refers-to', 'type': 'embedded', 'source': 'observed-data--1e0963a0-bf8c-4a14-8696-59ee93d8abb3', 'target': 'user-account--5aaaa4e2-0974-5ab4-9069-41a16197f0ff', 'id': 'observed-data--1e0963a0-bf8c-4a14-8696-59ee93d8abb3-user-account--5aaaa4e2-0974-5ab4-9069-41a16197f0ff'}\n",
      "edges->{'stix-id': 'sighting--02e4e5c0-390a-490b-96dc-99790aca6103', 'type': 'sighting', 'name': 'Sighting of indicator', 'source': 'sighting--02e4e5c0-390a-490b-96dc-99790aca6103', 'target': 'indicator--f6a24917-c906-4b61-942c-30456ed006df', 'id': 'sighting--02e4e5c0-390a-490b-96dc-99790aca6103-indicator--f6a24917-c906-4b61-942c-30456ed006df'}\n",
      "edges->{'stix-id': 'sighting--02e4e5c0-390a-490b-96dc-99790aca6103', 'type': 'sighting', 'name': 'Observed Data', 'source': 'sighting--02e4e5c0-390a-490b-96dc-99790aca6103', 'target': 'observed-data--1e0963a0-bf8c-4a14-8696-59ee93d8abb3', 'id': 'sighting--02e4e5c0-390a-490b-96dc-99790aca6103-observed-data--1e0963a0-bf8c-4a14-8696-59ee93d8abb3'}\n"
     ]
    }
   ],
   "source": [
    "\n",
    "get_unattached(data_path, results_base + unattached_path)"
   ],
   "metadata": {
    "collapsed": false
   }
  }
 ],
 "metadata": {
  "kernelspec": {
   "display_name": "Python 3",
   "language": "python",
   "name": "python3"
  },
  "language_info": {
   "codemirror_mode": {
    "name": "ipython",
    "version": 2
   },
   "file_extension": ".py",
   "mimetype": "text/x-python",
   "name": "python",
   "nbconvert_exporter": "python",
   "pygments_lexer": "ipython2",
   "version": "2.7.6"
  }
 },
 "nbformat": 4,
 "nbformat_minor": 0
}
