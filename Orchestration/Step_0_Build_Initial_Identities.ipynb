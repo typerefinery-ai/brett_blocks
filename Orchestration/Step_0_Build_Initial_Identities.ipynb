{
 "cells": [
  {
   "cell_type": "markdown",
   "id": "f7946020-8acc-4cbd-9aee-67b9e7478b25",
   "metadata": {},
   "source": [
    "# 0. Build Team Identities, Company Employment and User Identities\n",
    "\n",
    "Notebook to build all of the different identities assumed available when I have initiailised Type Refinery. Note that the Stix objects created by these classes are frozen dicts, so its better to create the components and then the whole, rather than create an empty whole first and then add the components, which requires updating. Note we have added on some system identities, such as Exchange server, and some Laptops\n",
    "\n",
    "We will take the Type Refinery User as an Example of the Process of making a group of Complex Identity using the official [Identity_Contact_Information Extension](https://github.com/os-threat/cti-stix-common-objects/tree/main/extension-definition-specifications/identity-contact-information) specification, and combining it with the standard Stix approach. There are five stages:\n",
    "\n",
    "1. Create the `User_Account` first,\n",
    "2. Then the `Email_Address` objects, attaching the new User_Account.[\"id\"]\n",
    "3. Then create the `EmailContact`, `SocialMediaContact`, `ContactNumber` lists of sub-objects from the specification, attaching their User_Account.[\"id\"] and Email_Address.[\"id\"] as required\n",
    "4. Create the [Identity Stix object](https://docs.oasis-open.org/cti/stix/v2.1/os/stix-v2.1-os.html#_wh296fiwpklp) with the [Identity_Contact_Information Extension](https://github.com/os-threat/cti-stix-common-objects/blob/main/extension-definition-specifications/identity-contact-information/Identity%20Contact%20Information.docx), and joining the sub objects to the Extension object and then down to the base Identity object\n",
    "5. Collect all of the objects and put them into a bundle, and save into a json\n",
    "\n",
    "Then we will create identities fro the three dummy users that are always clicking the wrong links, but at least they are good on reporting. Finally, we will employ the four Identities with our current company, and save the complete group of objects into a bundle\n",
    "\n",
    "Each time a block makes an object, and saves it as a json, this notebook will parse the object into an actual Stix object, so it can be bundled and printy printed (It also verifies the objects are created correctly, and is cool).\n",
    "\n",
    "![](img/Evidence_Identities.png)\n",
    "![](img/Evidence_Identities_DataFlows.png)\n",
    "\n",
    "## A. Load Imports\n",
    "\n",
    "### A.1 StixORM Imports\n"
   ]
  },
  {
   "cell_type": "code",
   "execution_count": 1,
   "id": "b6294775-e3a8-40c6-8d53-11b595d5aeb3",
   "metadata": {},
   "outputs": [
    {
     "name": "stdout",
     "output_type": "stream",
     "text": [
      "Requirement already satisfied: stixorm in c:\\users\\brett\\anaconda3\\envs\\brett-blocks\\lib\\site-packages (0.3.2)\n",
      "Requirement already satisfied: loguru<0.8.0,>=0.7.0 in c:\\users\\brett\\anaconda3\\envs\\brett-blocks\\lib\\site-packages (from stixorm) (0.7.0)\n",
      "Requirement already satisfied: networkx<4.0,>=3.1 in c:\\users\\brett\\anaconda3\\envs\\brett-blocks\\lib\\site-packages (from stixorm) (3.1)\n",
      "Requirement already satisfied: pydantic<3.0.0,>=2.1.1 in c:\\users\\brett\\anaconda3\\envs\\brett-blocks\\lib\\site-packages (from stixorm) (2.1.1)\n",
      "Requirement already satisfied: stix2==3.0.1 in c:\\users\\brett\\anaconda3\\envs\\brett-blocks\\lib\\site-packages (from stixorm) (3.0.1)\n",
      "Requirement already satisfied: typedb-driver<3.0.0,>=2.25.6 in c:\\users\\brett\\anaconda3\\envs\\brett-blocks\\lib\\site-packages (from stixorm) (2.25.8)\n",
      "Requirement already satisfied: validators<0.21.0,>=0.20.0 in c:\\users\\brett\\anaconda3\\envs\\brett-blocks\\lib\\site-packages (from stixorm) (0.20.0)\n",
      "Requirement already satisfied: pytz in c:\\users\\brett\\anaconda3\\envs\\brett-blocks\\lib\\site-packages (from stix2==3.0.1->stixorm) (2023.3)\n",
      "Requirement already satisfied: requests in c:\\users\\brett\\anaconda3\\envs\\brett-blocks\\lib\\site-packages (from stix2==3.0.1->stixorm) (2.31.0)\n",
      "Requirement already satisfied: simplejson in c:\\users\\brett\\anaconda3\\envs\\brett-blocks\\lib\\site-packages (from stix2==3.0.1->stixorm) (3.19.1)\n",
      "Requirement already satisfied: stix2-patterns>=1.2.0 in c:\\users\\brett\\anaconda3\\envs\\brett-blocks\\lib\\site-packages (from stix2==3.0.1->stixorm) (2.0.0)\n",
      "Requirement already satisfied: colorama>=0.3.4 in c:\\users\\brett\\anaconda3\\envs\\brett-blocks\\lib\\site-packages (from loguru<0.8.0,>=0.7.0->stixorm) (0.4.6)\n",
      "Requirement already satisfied: win32-setctime>=1.0.0 in c:\\users\\brett\\anaconda3\\envs\\brett-blocks\\lib\\site-packages (from loguru<0.8.0,>=0.7.0->stixorm) (1.1.0)\n",
      "Requirement already satisfied: annotated-types>=0.4.0 in c:\\users\\brett\\anaconda3\\envs\\brett-blocks\\lib\\site-packages (from pydantic<3.0.0,>=2.1.1->stixorm) (0.5.0)\n",
      "Requirement already satisfied: pydantic-core==2.4.0 in c:\\users\\brett\\anaconda3\\envs\\brett-blocks\\lib\\site-packages (from pydantic<3.0.0,>=2.1.1->stixorm) (2.4.0)\n",
      "Requirement already satisfied: typing-extensions>=4.6.1 in c:\\users\\brett\\anaconda3\\envs\\brett-blocks\\lib\\site-packages (from pydantic<3.0.0,>=2.1.1->stixorm) (4.7.1)\n",
      "Requirement already satisfied: parse==1.18.0 in c:\\users\\brett\\anaconda3\\envs\\brett-blocks\\lib\\site-packages (from typedb-driver<3.0.0,>=2.25.6->stixorm) (1.18.0)\n",
      "Requirement already satisfied: decorator>=3.4.0 in c:\\users\\brett\\anaconda3\\envs\\brett-blocks\\lib\\site-packages (from validators<0.21.0,>=0.20.0->stixorm) (5.1.1)\n",
      "Requirement already satisfied: antlr4-python3-runtime~=4.9.0 in c:\\users\\brett\\anaconda3\\envs\\brett-blocks\\lib\\site-packages (from stix2-patterns>=1.2.0->stix2==3.0.1->stixorm) (4.9.3)\n",
      "Requirement already satisfied: six in c:\\users\\brett\\anaconda3\\envs\\brett-blocks\\lib\\site-packages (from stix2-patterns>=1.2.0->stix2==3.0.1->stixorm) (1.16.0)\n",
      "Requirement already satisfied: charset-normalizer<4,>=2 in c:\\users\\brett\\anaconda3\\envs\\brett-blocks\\lib\\site-packages (from requests->stix2==3.0.1->stixorm) (3.2.0)\n",
      "Requirement already satisfied: idna<4,>=2.5 in c:\\users\\brett\\anaconda3\\envs\\brett-blocks\\lib\\site-packages (from requests->stix2==3.0.1->stixorm) (3.4)\n",
      "Requirement already satisfied: urllib3<3,>=1.21.1 in c:\\users\\brett\\anaconda3\\envs\\brett-blocks\\lib\\site-packages (from requests->stix2==3.0.1->stixorm) (1.26.16)\n",
      "Requirement already satisfied: certifi>=2017.4.17 in c:\\users\\brett\\anaconda3\\envs\\brett-blocks\\lib\\site-packages (from requests->stix2==3.0.1->stixorm) (2023.7.22)\n"
     ]
    }
   ],
   "source": [
    "import sys\n",
    "!{sys.executable} -m pip install stixorm\n",
    "from stixorm.module.typedb import TypeDBSink, TypeDBSource\n",
    "from stixorm.module.authorise import import_type_factory\n",
    "from stixorm.module.definitions.stix21 import (\n",
    "    Identity, EmailAddress, UserAccount, Relationship, Bundle\n",
    ")\n",
    "from stixorm.module.definitions.os_threat import (\n",
    "    IdentityContact, EmailContact, SocialMediaContact, ContactNumber\n",
    ")\n",
    "from stixorm.module.authorise import import_type_factory\n",
    "from stixorm.module.typedb_lib.instructions import ResultStatus, Result\n",
    "from stixorm.module.parsing import parse_objects\n",
    "import_type = import_type_factory.get_all_imports()\n",
    "import logging\n",
    "logger = logging.getLogger(__name__)\n",
    "logger.setLevel(logging.INFO)"
   ]
  },
  {
   "cell_type": "markdown",
   "source": [
    "### A.2 Relative Path Imports\n",
    "https://stackoverflow.com/questions/76162459/jupyter-notebook-importerror-attempted-relative-import-with-no-known-parent-pac/77528726#77528726"
   ],
   "metadata": {
    "collapsed": false
   }
  },
  {
   "cell_type": "code",
   "execution_count": 2,
   "outputs": [],
   "source": [
    "import sys\n",
    "sys.path.append('../')\n",
    "import os"
   ],
   "metadata": {
    "collapsed": false
   }
  },
  {
   "cell_type": "markdown",
   "source": [
    "### A.3 Relative Import of Blocks and Phishing Scenario Data\n",
    "\n",
    "Also the data needed to initialise the company working on the phishing scenario"
   ],
   "metadata": {
    "collapsed": false
   }
  },
  {
   "cell_type": "code",
   "execution_count": 3,
   "id": "1c37be77-8244-4ea2-b2e2-80f27afb189b",
   "metadata": {},
   "outputs": [],
   "source": [
    "import json\n",
    "from Utilities.local_make_general import invoke_context_save_block\n",
    "from Utilities.util import emulate_ports, unwind_ports, conv\n",
    "from Utilities.local_make_sdo import invoke_make_identity_block\n",
    "from Utilities.local_make_sco import invoke_make_user_account_block, invoke_make_email_addr_block\n",
    "from Utilities.local_make_sro import invoke_sro_block\n",
    "\n",
    "path_base = \"../Block_Families/Objects/\"\n",
    "results_base = \"../Orchestration/Results/\"\n",
    "sro_data = \"SRO/Relationship/sro_attributed.json\"\n",
    "identities_data = [\n",
    "    {\n",
    "        \"who\": \"me\", \"email\": \"SCO/Email_Addr/email_addr_TR_user.json\", \n",
    "        \"acct\": \"SCO/User_Account/usr_account_TR_user.json\",\n",
    "        \"ident\": \"SDO/Identity/identity_TR_user.json\",\n",
    "        \"results\": \"step0/TR_Identity\"\n",
    "    }, \n",
    "    {\n",
    "        \"who\": \"usr1\", \"email\": \"SCO/Email_Addr/email_addr_IT_user1.json\", \n",
    "        \"acct\": \"SCO/User_Account/usr_account_IT_user1.json\",\n",
    "        \"ident\": \"SDO/Identity/identity_IT_user1.json\",\n",
    "        \"results\": \"step0/Usr1\"\n",
    "    }, \n",
    "    {\n",
    "        \"who\": \"usr2\", \"email\": \"SCO/Email_Addr/email_addr_IT_user2.json\", \n",
    "        \"acct\": \"SCO/User_Account/usr_account_IT_user2.json\",\n",
    "        \"ident\": \"SDO/Identity/identity_IT_user2.json\",\n",
    "        \"results\": \"step0/Usr2\"\n",
    "    }, \n",
    "    {\n",
    "        \"who\": \"usr3\", \"email\": \"SCO/Email_Addr/email_addr_IT_user3.json\", \n",
    "        \"acct\": \"SCO/User_Account/usr_account_IT_user3.json\",\n",
    "        \"ident\": \"SDO/Identity/identity_IT_user3.json\",\n",
    "        \"results\": \"step0/Usr3\"\n",
    "    }, \n",
    "]\n",
    "company_base = {\n",
    "    \"ident\": \"SDO/Identity/identity_TR_user_company.json\",\n",
    "    \"results\": \"step0/employer\"\n",
    "}\n",
    "systems_base = [\n",
    "    {\n",
    "        \"data_path\": \"SDO/Identity/identity_Exchange.json\",\n",
    "        \"results\": \"step0/Systems_Exchange\"\n",
    "    }\n",
    "]\n",
    "assets_base = [\n",
    "    {\n",
    "        \"data_path\": \"SDO/Identity/identity_Laptop1.json\",\n",
    "        \"results\": \"step0/Systems_Laptop1\"\n",
    "    },\n",
    "    {\n",
    "        \"data_path\": \"SDO/Identity/identity_Laptop2.json\",\n",
    "        \"results\": \"step0/Systems_Laptop2\"\n",
    "    }\n",
    "]\n",
    "#\n",
    "# Make the Variables to hold the Context json that gets saved to a Local File\n",
    "Type_Refinery_Context = {}\n",
    "Type_Refinery_Context[\"local\"] = {}\n",
    "local = Type_Refinery_Context[\"local\"]\n",
    "local[\"me\"] = []\n",
    "local[\"team\"] = []\n",
    "local[\"company\"] = []\n",
    "local[\"systems\"] = []\n",
    "local[\"systems\"] = []\n",
    "local[\"assets\"] = []\n",
    "Type_Refinery_Context[\"incident\"] = {}\n",
    "incident = Type_Refinery_Context[\"incident\"]\n",
    "incident[\"incident_obj\"] = {}\n",
    "incident[\"sequence_start_objs\"] = []\n",
    "incident[\"sequence_objs\"] = []\n",
    "incident[\"task_objs\"] = []\n",
    "incident[\"event_objs\"] = []\n",
    "incident[\"impact_objs\"] = []\n",
    "incident[\"other_object_objs\"] = []\n",
    "\n",
    "Type_Refinery_Context[\"typedb\"] = {}\n",
    "typedb = Type_Refinery_Context[\"typedb\"]\n",
    "typedb[\"incident_obj\"] = {}\n",
    "typedb[\"sequence_start_objs\"] = []\n",
    "typedb[\"sequence_objs\"] = []\n",
    "typedb[\"task_objs\"] = []\n",
    "typedb[\"event_objs\"] = []\n",
    "typedb[\"impact_objs\"] = []\n",
    "typedb[\"other_object_objs\"] = []\n",
    "#\n",
    "# Set the paths for the Context and the Bundle\n",
    "TR_identity_bundle_path = \"./Context_Mem/identity_bundle.json\"\n",
    "TR_Context_Memory_Path = \"./Context_Mem/Type_Refinery_Context.json\"\n",
    "# Make the Variables to hold the Bundle List that gets saved to TypeDB\n",
    "results_paths = {}"
   ]
  },
  {
   "cell_type": "markdown",
   "source": [
    "## B. Create the Multi-Faceted User of this Type Refinery\n",
    "\n",
    "only perform once on initialisation, otherwise you must update the identity object\n",
    "\n",
    "### B.1 First Select the User Data"
   ],
   "metadata": {
    "collapsed": false
   }
  },
  {
   "cell_type": "code",
   "execution_count": 4,
   "outputs": [],
   "source": [
    "for ident in identities_data:\n",
    "    if ident[\"who\"] == \"me\":\n",
    "        email_path = ident[\"email\"]\n",
    "        acct_path = ident[\"acct\"]\n",
    "        ident_path = ident[\"ident\"]\n",
    "        results_path = ident[\"results\"]\n"
   ],
   "metadata": {
    "collapsed": false
   }
  },
  {
   "cell_type": "markdown",
   "source": [
    "### B.2 Make the User Account for the TR User\n",
    "Simply pass the paths for the input file and where the results should be written"
   ],
   "metadata": {
    "collapsed": false
   }
  },
  {
   "cell_type": "code",
   "execution_count": 5,
   "outputs": [
    {
     "name": "stdout",
     "output_type": "stream",
     "text": [
      "{\n",
      "    \"type\": \"user-account\",\n",
      "    \"spec_version\": \"2.1\",\n",
      "    \"id\": \"user-account--83658594-537d-5c32-b9f0-137354bd9bc3\",\n",
      "    \"user_id\": \"79563902\",\n",
      "    \"account_login\": \"tjones\",\n",
      "    \"account_type\": \"soc,\",\n",
      "    \"display_name\": \"Trusty Jones\"\n",
      "}\n"
     ]
    }
   ],
   "source": [
    "# 1. invoke the account object using method from ./Utilities/local_make_sco.py\n",
    "TR_user_acct_list = invoke_make_user_account_block(acct_path, results_path)\n",
    "# 2. add the record to the in-session bundles and context lists\n",
    "local[\"me\"] = local[\"me\"] + TR_user_acct_list\n",
    "# recover the threat email object in dict form as a global variable for later\n",
    "TR_user_account = conv(TR_user_acct_list[0])"
   ],
   "metadata": {
    "collapsed": false
   }
  },
  {
   "cell_type": "markdown",
   "source": [
    "### B.3 Make the Email Address for the TR User"
   ],
   "metadata": {
    "collapsed": false
   }
  },
  {
   "cell_type": "code",
   "execution_count": 6,
   "outputs": [
    {
     "name": "stdout",
     "output_type": "stream",
     "text": [
      "{\n",
      "    \"type\": \"email-addr\",\n",
      "    \"spec_version\": \"2.1\",\n",
      "    \"id\": \"email-addr--c99b87bd-f0a8-50ca-9f84-68072efc61e3\",\n",
      "    \"value\": \"trusty@example.com\",\n",
      "    \"display_name\": \"Trusty Jones\",\n",
      "    \"belongs_to_ref\": \"user-account--83658594-537d-5c32-b9f0-137354bd9bc3\"\n",
      "}\n"
     ]
    }
   ],
   "source": [
    "# 1. invoke the account object using method from ./Utilities/local_make_sco.py\n",
    "TR_email_addr_list = invoke_make_email_addr_block(email_path, results_path, TR_user_account)\n",
    "# 2. add the record to the in-session bundles and context lists\n",
    "local[\"me\"] = local[\"me\"] + TR_email_addr_list\n",
    "# recover the threat email object in dict form as a global variable for later\n",
    "TR_email_addr = conv(TR_email_addr_list[0])"
   ],
   "metadata": {
    "collapsed": false
   }
  },
  {
   "cell_type": "markdown",
   "source": [
    "### B.4 Make the Identity for the TR User"
   ],
   "metadata": {
    "collapsed": false
   }
  },
  {
   "cell_type": "code",
   "execution_count": 7,
   "outputs": [
    {
     "name": "stdout",
     "output_type": "stream",
     "text": [
      "{\n",
      "    \"type\": \"identity\",\n",
      "    \"spec_version\": \"2.1\",\n",
      "    \"id\": \"identity--2e02a834-c89b-483b-869d-fcb713721246\",\n",
      "    \"created\": \"2023-12-31T08:02:45.042563Z\",\n",
      "    \"modified\": \"2023-12-31T08:02:45.042563Z\",\n",
      "    \"name\": \"Trusty Jones\",\n",
      "    \"description\": \"A Trusty Individual\",\n",
      "    \"roles\": [\n",
      "        \"soc\",\n",
      "        \"support\"\n",
      "    ],\n",
      "    \"identity_class\": \"individual\",\n",
      "    \"sectors\": [\n",
      "        \"technology\"\n",
      "    ],\n",
      "    \"extensions\": {\n",
      "        \"extension-definition--66e2492a-bbd3-4be6-88f5-cc91a017a498\": {\n",
      "            \"extension_type\": \"property-extension\",\n",
      "            \"contact_numbers\": [\n",
      "                {\n",
      "                    \"contact_number_type\": \"work-phone\",\n",
      "                    \"contact_number\": \"0418-208-368\"\n",
      "                }\n",
      "            ],\n",
      "            \"email_addresses\": [\n",
      "                {\n",
      "                    \"digital_contact_type\": \"work\",\n",
      "                    \"email_address_ref\": \"email-addr--c99b87bd-f0a8-50ca-9f84-68072efc61e3\"\n",
      "                }\n",
      "            ],\n",
      "            \"first_name\": \"Me\",\n",
      "            \"last_name\": \"Jones\",\n",
      "            \"middle_name\": \"Percival\",\n",
      "            \"prefix\": \"Dr\",\n",
      "            \"social_media_accounts\": [\n",
      "                {\n",
      "                    \"digital_contact_type\": \"work\",\n",
      "                    \"user_account_ref\": \"user-account--83658594-537d-5c32-b9f0-137354bd9bc3\"\n",
      "                }\n",
      "            ],\n",
      "            \"team\": \"All_Stars\"\n",
      "        }\n",
      "    }\n",
      "}\n"
     ]
    }
   ],
   "source": [
    "# 1. invoke the account object using method from ./Utilities/local_make_sco.py\n",
    "TR_ident_list = invoke_make_identity_block(ident_path, results_path, email_results=TR_email_addr_list, acct_results=TR_user_acct_list)\n",
    "# 2. add the record to the in-session bundles and context lists\n",
    "local[\"me\"] = local[\"me\"] + TR_ident_list\n",
    "# recover the threat email object in dict form as a global variable for later\n",
    "TR_ident = conv(TR_ident_list[0])"
   ],
   "metadata": {
    "collapsed": false
   }
  },
  {
   "cell_type": "markdown",
   "source": [
    "## C. Employ the User\n",
    "\n",
    "only perform once on initialisation, otherwise you must update the identity object\n",
    "\n",
    "### C.1 First Create the Company"
   ],
   "metadata": {
    "collapsed": false
   }
  },
  {
   "cell_type": "code",
   "execution_count": 8,
   "outputs": [
    {
     "name": "stdout",
     "output_type": "stream",
     "text": [
      "{\n",
      "    \"type\": \"identity\",\n",
      "    \"spec_version\": \"2.1\",\n",
      "    \"id\": \"identity--cf7723f6-d3e3-4633-b67f-11d8f7dec556\",\n",
      "    \"created\": \"2023-12-31T08:02:45.073264Z\",\n",
      "    \"modified\": \"2023-12-31T08:02:45.073264Z\",\n",
      "    \"name\": \"Example Company\",\n",
      "    \"description\": \"An Example Organisation\",\n",
      "    \"identity_class\": \"organization\",\n",
      "    \"sectors\": [\n",
      "        \"technology\"\n",
      "    ]\n",
      "}\n"
     ]
    }
   ],
   "source": [
    "cwd = os.getcwd()\n",
    "#\n",
    "# Setup company info into paths\n",
    "company_ident_path = company_base[\"ident\"]\n",
    "company_results_path = company_base[\"results\"]\n",
    "#\n",
    "# MAke the Company object nd add it to the bundle_list\n",
    "#\n",
    "comp_ident_list = invoke_make_identity_block(company_ident_path, company_results_path)\n",
    "# 2. add the record to the in-session bundles and context lists\n",
    "local[\"company\"] = local[\"company\"] + comp_ident_list\n",
    "# recover the threat email object in dict form as a global variable for later\n",
    "comp_ident = conv(TR_ident_list[0])"
   ],
   "metadata": {
    "collapsed": false
   }
  },
  {
   "cell_type": "markdown",
   "source": [
    "### C.2 Setup Employment Relationship\n",
    "\n",
    "Since there is no employed-by SRO setup yet, we will use the attributed-to SRO as a stand-in until we implement it"
   ],
   "metadata": {
    "collapsed": false
   }
  },
  {
   "cell_type": "code",
   "execution_count": 9,
   "outputs": [
    {
     "name": "stdout",
     "output_type": "stream",
     "text": [
      "{\n",
      "    \"type\": \"relationship\",\n",
      "    \"spec_version\": \"2.1\",\n",
      "    \"id\": \"relationship--9605d305-dc6f-4175-b5cf-ae5fa3b1c32b\",\n",
      "    \"created\": \"2023-12-31T08:02:45.10827Z\",\n",
      "    \"modified\": \"2023-12-31T08:02:45.10827Z\",\n",
      "    \"relationship_type\": \"attributed-to\",\n",
      "    \"source_ref\": \"identity--2e02a834-c89b-483b-869d-fcb713721246\",\n",
      "    \"target_ref\": \"identity--2e02a834-c89b-483b-869d-fcb713721246\"\n",
      "}\n"
     ]
    }
   ],
   "source": [
    "#\n",
    "# There is no \"employed-by\" SRO, instead we use the \"attributed-to\" SRO\n",
    "#\n",
    "employed_list = invoke_sro_block(sro_data, results_path, source=comp_ident, target=TR_ident, relationship_type=\"attributed-to\")\n",
    "# 2. add the record to the in-session bundles and context lists\n",
    "local[\"company\"] = local[\"company\"] + employed_list"
   ],
   "metadata": {
    "collapsed": false
   }
  },
  {
   "cell_type": "markdown",
   "source": [
    "## D. Create and Employ the 3 Sales Uses\n",
    "\n",
    "For each data record in the list, make the user account, the email-addr, identity and employ them"
   ],
   "metadata": {
    "collapsed": false
   }
  },
  {
   "cell_type": "code",
   "execution_count": 10,
   "outputs": [
    {
     "name": "stdout",
     "output_type": "stream",
     "text": [
      "{\n",
      "    \"type\": \"user-account\",\n",
      "    \"spec_version\": \"2.1\",\n",
      "    \"id\": \"user-account--597ad4d4-35ba-585d-8f6d-134a75032f9b\",\n",
      "    \"user_id\": \"79563902\",\n",
      "    \"account_login\": \"nsmith\",\n",
      "    \"account_type\": \"sales,\",\n",
      "    \"display_name\": \"Naive Smith\"\n",
      "}\n",
      "{\n",
      "    \"type\": \"email-addr\",\n",
      "    \"spec_version\": \"2.1\",\n",
      "    \"id\": \"email-addr--4722424c-7012-56b0-84d5-01d076fc547b\",\n",
      "    \"value\": \"naive@example.com\",\n",
      "    \"display_name\": \"Naive Smith\",\n",
      "    \"belongs_to_ref\": \"user-account--597ad4d4-35ba-585d-8f6d-134a75032f9b\"\n",
      "}\n",
      "{\n",
      "    \"type\": \"identity\",\n",
      "    \"spec_version\": \"2.1\",\n",
      "    \"id\": \"identity--e5a6e5c3-7138-4288-8146-87d972eb2098\",\n",
      "    \"created\": \"2023-12-31T08:02:45.156099Z\",\n",
      "    \"modified\": \"2023-12-31T08:02:45.156099Z\",\n",
      "    \"name\": \"Naive Smith\",\n",
      "    \"description\": \"A Naive Individual\",\n",
      "    \"roles\": [\n",
      "        \"user\",\n",
      "        \"sales\"\n",
      "    ],\n",
      "    \"identity_class\": \"individual\",\n",
      "    \"sectors\": [\n",
      "        \"technology\"\n",
      "    ],\n",
      "    \"extensions\": {\n",
      "        \"extension-definition--66e2492a-bbd3-4be6-88f5-cc91a017a498\": {\n",
      "            \"extension_type\": \"property-extension\",\n",
      "            \"contact_numbers\": [\n",
      "                {\n",
      "                    \"contact_number_type\": \"work-phone\",\n",
      "                    \"contact_number\": \"0499-999-109\"\n",
      "                }\n",
      "            ],\n",
      "            \"email_addresses\": [\n",
      "                {\n",
      "                    \"digital_contact_type\": \"work\",\n",
      "                    \"email_address_ref\": \"email-addr--4722424c-7012-56b0-84d5-01d076fc547b\"\n",
      "                }\n",
      "            ],\n",
      "            \"first_name\": \"Naive\",\n",
      "            \"last_name\": \"Smith\",\n",
      "            \"middle_name\": \"Weakling\",\n",
      "            \"prefix\": \"Mr\",\n",
      "            \"social_media_accounts\": [\n",
      "                {\n",
      "                    \"digital_contact_type\": \"work\",\n",
      "                    \"user_account_ref\": \"user-account--597ad4d4-35ba-585d-8f6d-134a75032f9b\"\n",
      "                }\n",
      "            ],\n",
      "            \"team\": \"Sales\"\n",
      "        }\n",
      "    }\n",
      "}\n",
      "{\n",
      "    \"type\": \"relationship\",\n",
      "    \"spec_version\": \"2.1\",\n",
      "    \"id\": \"relationship--f5eafb97-5b85-4842-978c-5a0a568b7520\",\n",
      "    \"created\": \"2023-12-31T08:02:45.175617Z\",\n",
      "    \"modified\": \"2023-12-31T08:02:45.175617Z\",\n",
      "    \"relationship_type\": \"attributed-to\",\n",
      "    \"source_ref\": \"identity--2e02a834-c89b-483b-869d-fcb713721246\",\n",
      "    \"target_ref\": \"identity--e5a6e5c3-7138-4288-8146-87d972eb2098\"\n",
      "}\n",
      "{\n",
      "    \"type\": \"user-account\",\n",
      "    \"spec_version\": \"2.1\",\n",
      "    \"id\": \"user-account--5c0dcb9b-5784-5aaf-b393-d990a4d68dd3\",\n",
      "    \"user_id\": \"79563143\",\n",
      "    \"account_login\": \"sbilly\",\n",
      "    \"account_type\": \"sales,\",\n",
      "    \"display_name\": \"Strange Billy\"\n",
      "}\n",
      "{\n",
      "    \"type\": \"email-addr\",\n",
      "    \"spec_version\": \"2.1\",\n",
      "    \"id\": \"email-addr--b0708db8-71e9-50f9-950c-610fccd2c30b\",\n",
      "    \"value\": \"sbilly@example.com\",\n",
      "    \"display_name\": \"Strange Billy\",\n",
      "    \"belongs_to_ref\": \"user-account--5c0dcb9b-5784-5aaf-b393-d990a4d68dd3\"\n",
      "}\n",
      "{\n",
      "    \"type\": \"identity\",\n",
      "    \"spec_version\": \"2.1\",\n",
      "    \"id\": \"identity--e7f82d9c-4101-4262-8e35-82dbb08ee363\",\n",
      "    \"created\": \"2023-12-31T08:02:45.189622Z\",\n",
      "    \"modified\": \"2023-12-31T08:02:45.189622Z\",\n",
      "    \"name\": \"Strange\",\n",
      "    \"description\": \"A Strange Individual\",\n",
      "    \"roles\": [\n",
      "        \"user\",\n",
      "        \"sales\"\n",
      "    ],\n",
      "    \"identity_class\": \"individual\",\n",
      "    \"sectors\": [\n",
      "        \"technology\"\n",
      "    ],\n",
      "    \"extensions\": {\n",
      "        \"extension-definition--66e2492a-bbd3-4be6-88f5-cc91a017a498\": {\n",
      "            \"extension_type\": \"property-extension\",\n",
      "            \"contact_numbers\": [\n",
      "                {\n",
      "                    \"contact_number_type\": \"work-phone\",\n",
      "                    \"contact_number\": \"0422-222-122\"\n",
      "                }\n",
      "            ],\n",
      "            \"email_addresses\": [\n",
      "                {\n",
      "                    \"digital_contact_type\": \"work\",\n",
      "                    \"email_address_ref\": \"email-addr--b0708db8-71e9-50f9-950c-610fccd2c30b\"\n",
      "                }\n",
      "            ],\n",
      "            \"first_name\": \"Strange\",\n",
      "            \"last_name\": \"Billy\",\n",
      "            \"middle_name\": \"One\",\n",
      "            \"prefix\": \"Mr\",\n",
      "            \"social_media_accounts\": [\n",
      "                {\n",
      "                    \"digital_contact_type\": \"work\",\n",
      "                    \"user_account_ref\": \"user-account--5c0dcb9b-5784-5aaf-b393-d990a4d68dd3\"\n",
      "                }\n",
      "            ],\n",
      "            \"team\": \"Sales\"\n",
      "        }\n",
      "    }\n",
      "}\n",
      "{\n",
      "    \"type\": \"relationship\",\n",
      "    \"spec_version\": \"2.1\",\n",
      "    \"id\": \"relationship--83c23479-16af-451e-a201-8a88ed069c7e\",\n",
      "    \"created\": \"2023-12-31T08:02:45.210652Z\",\n",
      "    \"modified\": \"2023-12-31T08:02:45.210652Z\",\n",
      "    \"relationship_type\": \"attributed-to\",\n",
      "    \"source_ref\": \"identity--2e02a834-c89b-483b-869d-fcb713721246\",\n",
      "    \"target_ref\": \"identity--e7f82d9c-4101-4262-8e35-82dbb08ee363\"\n",
      "}\n",
      "{\n",
      "    \"type\": \"user-account\",\n",
      "    \"spec_version\": \"2.1\",\n",
      "    \"id\": \"user-account--113460bd-67f7-5611-bbbb-158d5c45255e\",\n",
      "    \"user_id\": \"79563902\",\n",
      "    \"account_login\": \"wwhilly\",\n",
      "    \"account_type\": \"sales,\",\n",
      "    \"display_name\": \"Whooping Whilly\"\n",
      "}\n",
      "{\n",
      "    \"type\": \"email-addr\",\n",
      "    \"spec_version\": \"2.1\",\n",
      "    \"id\": \"email-addr--72fa6570-cce5-5be5-916d-452de0e1adb5\",\n",
      "    \"value\": \"wwhilly@example.com\",\n",
      "    \"display_name\": \"Whooping Willy\",\n",
      "    \"belongs_to_ref\": \"user-account--113460bd-67f7-5611-bbbb-158d5c45255e\"\n",
      "}\n",
      "{\n",
      "    \"type\": \"identity\",\n",
      "    \"spec_version\": \"2.1\",\n",
      "    \"id\": \"identity--652b6150-9783-4806-93c3-696f5f482ee3\",\n",
      "    \"created\": \"2023-12-31T08:02:45.237044Z\",\n",
      "    \"modified\": \"2023-12-31T08:02:45.237044Z\",\n",
      "    \"name\": \"Whooping\",\n",
      "    \"description\": \"A Whooping Individual\",\n",
      "    \"roles\": [\n",
      "        \"user\",\n",
      "        \"sales\"\n",
      "    ],\n",
      "    \"identity_class\": \"individual\",\n",
      "    \"sectors\": [\n",
      "        \"technology\"\n",
      "    ],\n",
      "    \"extensions\": {\n",
      "        \"extension-definition--66e2492a-bbd3-4be6-88f5-cc91a017a498\": {\n",
      "            \"extension_type\": \"property-extension\",\n",
      "            \"contact_numbers\": [\n",
      "                {\n",
      "                    \"contact_number_type\": \"work-phone\",\n",
      "                    \"contact_number\": \"0455-555-155\"\n",
      "                }\n",
      "            ],\n",
      "            \"email_addresses\": [\n",
      "                {\n",
      "                    \"digital_contact_type\": \"work\",\n",
      "                    \"email_address_ref\": \"email-addr--72fa6570-cce5-5be5-916d-452de0e1adb5\"\n",
      "                }\n",
      "            ],\n",
      "            \"first_name\": \"Whooping\",\n",
      "            \"last_name\": \"Whilly\",\n",
      "            \"middle_name\": \"Wee\",\n",
      "            \"prefix\": \"Mr\",\n",
      "            \"social_media_accounts\": [\n",
      "                {\n",
      "                    \"digital_contact_type\": \"work\",\n",
      "                    \"user_account_ref\": \"user-account--113460bd-67f7-5611-bbbb-158d5c45255e\"\n",
      "                }\n",
      "            ],\n",
      "            \"team\": \"Sales\"\n",
      "        }\n",
      "    }\n",
      "}\n",
      "{\n",
      "    \"type\": \"relationship\",\n",
      "    \"spec_version\": \"2.1\",\n",
      "    \"id\": \"relationship--9d1feb3e-c125-4045-92c1-2c2b63ff475d\",\n",
      "    \"created\": \"2023-12-31T08:02:45.256181Z\",\n",
      "    \"modified\": \"2023-12-31T08:02:45.256181Z\",\n",
      "    \"relationship_type\": \"attributed-to\",\n",
      "    \"source_ref\": \"identity--2e02a834-c89b-483b-869d-fcb713721246\",\n",
      "    \"target_ref\": \"identity--652b6150-9783-4806-93c3-696f5f482ee3\"\n",
      "}\n"
     ]
    }
   ],
   "source": [
    "for ident in identities_data:\n",
    "    results_paths = {}\n",
    "    if ident[\"who\"][:3] == \"usr\":\n",
    "        email_path = ident[\"email\"]\n",
    "        acct_path = ident[\"acct\"]\n",
    "        ident_path = ident[\"ident\"]\n",
    "        results_path = ident[\"results\"]\n",
    "        # 1. invoke the account object using method from ./Utilities/local_make_sco.py\n",
    "        user_acct_list = invoke_make_user_account_block(acct_path, results_path)\n",
    "        user_email_addr_list = invoke_make_email_addr_block(email_path, results_path, user_acct_list[0])\n",
    "        user_ident_list = invoke_make_identity_block(ident_path, results_path,email_results=user_email_addr_list, acct_results=user_acct_list)\n",
    "        employed_list = invoke_sro_block(sro_data, results_path, source=comp_ident, target=user_ident_list[0])\n",
    "        # 2. add the record to the in-session bundles and context lists\n",
    "        local[\"company\"] = local[\"company\"] + user_acct_list + user_email_addr_list + user_ident_list + employed_list"
   ],
   "metadata": {
    "collapsed": false
   }
  },
  {
   "cell_type": "markdown",
   "source": [
    "## E. Create and Save the List of IT System Identities\n"
   ],
   "metadata": {
    "collapsed": false
   }
  },
  {
   "cell_type": "code",
   "execution_count": 11,
   "outputs": [
    {
     "name": "stdout",
     "output_type": "stream",
     "text": [
      "{\n",
      "    \"type\": \"identity\",\n",
      "    \"spec_version\": \"2.1\",\n",
      "    \"id\": \"identity--1e322625-0c66-4b03-87e8-7ed69a8fc26e\",\n",
      "    \"created\": \"2023-12-31T08:02:45.277188Z\",\n",
      "    \"modified\": \"2023-12-31T08:02:45.277188Z\",\n",
      "    \"name\": \"Example Company\",\n",
      "    \"description\": \"An Example Organisation\",\n",
      "    \"identity_class\": \"organization\",\n",
      "    \"sectors\": [\n",
      "        \"technology\"\n",
      "    ]\n",
      "}\n"
     ]
    }
   ],
   "source": [
    "for IT_system in systems_base:\n",
    "    #\n",
    "    # Setup company info into paths\n",
    "    system_ident_path = IT_system[\"data_path\"]\n",
    "    system_results_path = IT_system[\"results\"]\n",
    "    #\n",
    "    # MAke the Company object nd add it to the bundle_list\n",
    "    #\n",
    "    system_ident_list = invoke_make_identity_block(company_ident_path, company_results_path)\n",
    "    # 2. add the record to the in-session bundles and context lists\n",
    "    local[\"systems\"]  = local[\"systems\"]  + system_ident_list"
   ],
   "metadata": {
    "collapsed": false
   }
  },
  {
   "cell_type": "markdown",
   "source": [
    "## F. Create and Save the List of IT Hardware Assets\n"
   ],
   "metadata": {
    "collapsed": false
   }
  },
  {
   "cell_type": "code",
   "execution_count": 12,
   "outputs": [
    {
     "name": "stdout",
     "output_type": "stream",
     "text": [
      "{\n",
      "    \"type\": \"identity\",\n",
      "    \"spec_version\": \"2.1\",\n",
      "    \"id\": \"identity--75d7bcb7-8639-45f4-952e-96845b95e109\",\n",
      "    \"created\": \"2023-12-31T08:02:45.296191Z\",\n",
      "    \"modified\": \"2023-12-31T08:02:45.296191Z\",\n",
      "    \"name\": \"HP Laptop 1\",\n",
      "    \"description\": \"Usr 1's Laptop\",\n",
      "    \"roles\": [\n",
      "        \"laptop\"\n",
      "    ],\n",
      "    \"identity_class\": \"system\",\n",
      "    \"sectors\": [\n",
      "        \"technology\"\n",
      "    ],\n",
      "    \"external_references\": [\n",
      "        {\n",
      "            \"source_name\": \"HP Ultima 10\",\n",
      "            \"description\": \"16GB RAM, 1TB SD, Microsoft Windows 11 Professional\",\n",
      "            \"url\": \"https://mail.echange.microsoft.com\",\n",
      "            \"external_id\": \"Asset--629456a\"\n",
      "        }\n",
      "    ]\n",
      "}\n",
      "{\n",
      "    \"type\": \"identity\",\n",
      "    \"spec_version\": \"2.1\",\n",
      "    \"id\": \"identity--b2348432-8df1-4245-996b-95e15f787f85\",\n",
      "    \"created\": \"2023-12-31T08:02:45.307121Z\",\n",
      "    \"modified\": \"2023-12-31T08:02:45.307121Z\",\n",
      "    \"name\": \"HP Laptop 2\",\n",
      "    \"description\": \"Usr 2's Laptop\",\n",
      "    \"roles\": [\n",
      "        \"laptop\"\n",
      "    ],\n",
      "    \"identity_class\": \"system\",\n",
      "    \"sectors\": [\n",
      "        \"technology\"\n",
      "    ],\n",
      "    \"external_references\": [\n",
      "        {\n",
      "            \"source_name\": \"HP Ultima 10\",\n",
      "            \"description\": \"16GB RAM, 1TB SD, Microsoft Windows 11 Professional\",\n",
      "            \"url\": \"https://mail.echange.microsoft.com\",\n",
      "            \"external_id\": \"Asset--629457ca\"\n",
      "        }\n",
      "    ]\n",
      "}\n"
     ]
    }
   ],
   "source": [
    "for asset in assets_base:\n",
    "    #\n",
    "    # Setup company info into paths\n",
    "    asset_ident_path = asset[\"data_path\"]\n",
    "    asset_results_path = asset[\"results\"]\n",
    "    #\n",
    "    # MAke the Company object nd add it to the bundle_list\n",
    "    #\n",
    "    asset_ident_list = invoke_make_identity_block(asset_ident_path, asset_results_path)\n",
    "    # 2. add the record to the in-session bundles and context lists\n",
    "    local[\"assets\"]  = local[\"assets\"]  + asset_ident_list"
   ],
   "metadata": {
    "collapsed": false
   }
  },
  {
   "cell_type": "markdown",
   "source": [
    "## F. Create and Save the Type Refinery Context Memory\n"
   ],
   "metadata": {
    "collapsed": false
   }
  },
  {
   "cell_type": "code",
   "execution_count": 14,
   "outputs": [],
   "source": [
    "# Save the Tpe Refinery Context Memory File\n",
    "invoke_context_save_block(Type_Refinery_Context)"
   ],
   "metadata": {
    "collapsed": false
   }
  }
 ],
 "metadata": {
  "kernelspec": {
   "display_name": "Python 3 (ipykernel)",
   "language": "python",
   "name": "python3"
  },
  "language_info": {
   "codemirror_mode": {
    "name": "ipython",
    "version": 3
   },
   "file_extension": ".py",
   "mimetype": "text/x-python",
   "name": "python",
   "nbconvert_exporter": "python",
   "pygments_lexer": "ipython3",
   "version": "3.9.17"
  }
 },
 "nbformat": 4,
 "nbformat_minor": 5
}
