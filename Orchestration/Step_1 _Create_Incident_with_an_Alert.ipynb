{
 "cells": [
  {
   "cell_type": "markdown",
   "source": [
    "# 2. Create an Incident from an Alert\n",
    "\n",
    "Notebook to build all of the different stix objects associated with a Phishing Alert imitialising an Incident. Note that the Stix objects created by these classes are frozen dicts, so its better to create the components and then the whole, rather than create an empty whole first and then add the components, which requires updating.\n",
    "\n",
    "We take v3.0 of the [Incident Core Extension](https://github.com/os-threat/cti-stix-common-objects/blob/main/extension-definition-specifications/incident-core/Incident%20Extension%20Suite.adoc) specification, with particular focus on the Sighting Extensions for Evidence, and combine it with the standard Stix approach. There are eight stages:\n",
    "\n",
    "1. First setup the global parameters and retrieve the context memory\n",
    "2. Create the objects from the phishing email Alert,\n",
    "2. Add these objects to the `ObservedData` object\n",
    "3. Then create the `Indicator` and get the user `Identity` object from context memory\n",
    "4. Create the `Sighting` object with the `SightingAlert` extension\n",
    "5. Create the Event and the Sequence objects\n",
    "6. Create the Incident, with the [Incident Core Extension](https://github.com/os-threat/cti-stix-common-objects/blob/main/extension-definition-specifications/incident-core/Incident%20Extension%20Suite.adoc), and add all of the objects to it\n",
    "7. Save the Context Memory\n",
    "\n",
    "\n",
    "Each time a block makes an object, and saves it as a json, this notebook will parse the object into an actual Stix object, so it can be bundled and printy printed (This step also verifies the objects are created correctly, and is cool).\n",
    "\n",
    "\n",
    "![](img/Evidence_Alert.png)\n",
    "![](img/Evidence_Alert_Flows.png)\n",
    "\n",
    "## A. Load Imports\n",
    "\n",
    "### A.1 StixORM Imports\n"
   ],
   "metadata": {
    "collapsed": false
   }
  },
  {
   "cell_type": "code",
   "execution_count": 1,
   "outputs": [
    {
     "name": "stdout",
     "output_type": "stream",
     "text": [
      "Requirement already satisfied: stixorm in c:\\users\\brett\\anaconda3\\envs\\brett-blocks\\lib\\site-packages (0.3.7)\n",
      "Requirement already satisfied: loguru<0.8.0,>=0.7.0 in c:\\users\\brett\\anaconda3\\envs\\brett-blocks\\lib\\site-packages (from stixorm) (0.7.0)\n",
      "Requirement already satisfied: networkx<4.0,>=3.1 in c:\\users\\brett\\anaconda3\\envs\\brett-blocks\\lib\\site-packages (from stixorm) (3.1)\n",
      "Requirement already satisfied: pydantic<3.0.0,>=2.1.1 in c:\\users\\brett\\anaconda3\\envs\\brett-blocks\\lib\\site-packages (from stixorm) (2.1.1)\n",
      "Requirement already satisfied: stix2==3.0.1 in c:\\users\\brett\\anaconda3\\envs\\brett-blocks\\lib\\site-packages (from stixorm) (3.0.1)\n",
      "Requirement already satisfied: typedb-driver<3.0.0,>=2.25.6 in c:\\users\\brett\\anaconda3\\envs\\brett-blocks\\lib\\site-packages (from stixorm) (2.25.8)\n",
      "Requirement already satisfied: validators<0.21.0,>=0.20.0 in c:\\users\\brett\\anaconda3\\envs\\brett-blocks\\lib\\site-packages (from stixorm) (0.20.0)\n",
      "Requirement already satisfied: pytz in c:\\users\\brett\\anaconda3\\envs\\brett-blocks\\lib\\site-packages (from stix2==3.0.1->stixorm) (2023.3)\n",
      "Requirement already satisfied: requests in c:\\users\\brett\\anaconda3\\envs\\brett-blocks\\lib\\site-packages (from stix2==3.0.1->stixorm) (2.31.0)\n",
      "Requirement already satisfied: simplejson in c:\\users\\brett\\anaconda3\\envs\\brett-blocks\\lib\\site-packages (from stix2==3.0.1->stixorm) (3.19.1)\n",
      "Requirement already satisfied: stix2-patterns>=1.2.0 in c:\\users\\brett\\anaconda3\\envs\\brett-blocks\\lib\\site-packages (from stix2==3.0.1->stixorm) (2.0.0)\n",
      "Requirement already satisfied: colorama>=0.3.4 in c:\\users\\brett\\anaconda3\\envs\\brett-blocks\\lib\\site-packages (from loguru<0.8.0,>=0.7.0->stixorm) (0.4.6)\n",
      "Requirement already satisfied: win32-setctime>=1.0.0 in c:\\users\\brett\\anaconda3\\envs\\brett-blocks\\lib\\site-packages (from loguru<0.8.0,>=0.7.0->stixorm) (1.1.0)\n",
      "Requirement already satisfied: annotated-types>=0.4.0 in c:\\users\\brett\\anaconda3\\envs\\brett-blocks\\lib\\site-packages (from pydantic<3.0.0,>=2.1.1->stixorm) (0.5.0)\n",
      "Requirement already satisfied: pydantic-core==2.4.0 in c:\\users\\brett\\anaconda3\\envs\\brett-blocks\\lib\\site-packages (from pydantic<3.0.0,>=2.1.1->stixorm) (2.4.0)\n",
      "Requirement already satisfied: typing-extensions>=4.6.1 in c:\\users\\brett\\anaconda3\\envs\\brett-blocks\\lib\\site-packages (from pydantic<3.0.0,>=2.1.1->stixorm) (4.7.1)\n",
      "Requirement already satisfied: parse==1.18.0 in c:\\users\\brett\\anaconda3\\envs\\brett-blocks\\lib\\site-packages (from typedb-driver<3.0.0,>=2.25.6->stixorm) (1.18.0)\n",
      "Requirement already satisfied: decorator>=3.4.0 in c:\\users\\brett\\anaconda3\\envs\\brett-blocks\\lib\\site-packages (from validators<0.21.0,>=0.20.0->stixorm) (5.1.1)\n",
      "Requirement already satisfied: antlr4-python3-runtime~=4.9.0 in c:\\users\\brett\\anaconda3\\envs\\brett-blocks\\lib\\site-packages (from stix2-patterns>=1.2.0->stix2==3.0.1->stixorm) (4.9.3)\n",
      "Requirement already satisfied: six in c:\\users\\brett\\anaconda3\\envs\\brett-blocks\\lib\\site-packages (from stix2-patterns>=1.2.0->stix2==3.0.1->stixorm) (1.16.0)\n",
      "Requirement already satisfied: charset-normalizer<4,>=2 in c:\\users\\brett\\anaconda3\\envs\\brett-blocks\\lib\\site-packages (from requests->stix2==3.0.1->stixorm) (3.2.0)\n",
      "Requirement already satisfied: idna<4,>=2.5 in c:\\users\\brett\\anaconda3\\envs\\brett-blocks\\lib\\site-packages (from requests->stix2==3.0.1->stixorm) (3.4)\n",
      "Requirement already satisfied: urllib3<3,>=1.21.1 in c:\\users\\brett\\anaconda3\\envs\\brett-blocks\\lib\\site-packages (from requests->stix2==3.0.1->stixorm) (1.26.16)\n",
      "Requirement already satisfied: certifi>=2017.4.17 in c:\\users\\brett\\anaconda3\\envs\\brett-blocks\\lib\\site-packages (from requests->stix2==3.0.1->stixorm) (2023.7.22)\n"
     ]
    }
   ],
   "source": [
    "import sys\n",
    "!{sys.executable} -m pip install stixorm\n",
    "from stixorm.module.typedb import TypeDBSink, TypeDBSource\n",
    "from stixorm.module.authorise import import_type_factory\n",
    "from stixorm.module.definitions.stix21 import (\n",
    "    Identity, EmailAddress, UserAccount, Relationship, Bundle, Incident, URL, EmailMessage, ObservedData\n",
    ")\n",
    "from stixorm.module.definitions.os_threat import (\n",
    "    EventCoreExt, Event, SocialMediaContact, ContactNumber, IncidentCoreExt, TaskCoreExt,\n",
    "    Task, SightingEvidence, Sequence, SequenceExt, AnecdoteExt, Anecdote,\n",
    "    SightingAnecdote, SightingAlert, SightingContext, SightingExclusion,\n",
    "    SightingEnrichment, SightingHunt, SightingFramework, SightingExternal\n",
    ")\n",
    "from stixorm.module.authorise import import_type_factory\n",
    "from stixorm.module.typedb_lib.instructions import ResultStatus, Result\n",
    "from stixorm.module.parsing import parse_objects\n",
    "import_type = import_type_factory.get_all_imports()\n",
    "import logging\n",
    "logger = logging.getLogger(__name__)\n",
    "logger.setLevel(logging.INFO)"
   ],
   "metadata": {
    "collapsed": false,
    "ExecuteTime": {
     "end_time": "2024-02-03T00:17:00.715789300Z",
     "start_time": "2024-02-03T00:16:58.123418Z"
    }
   }
  },
  {
   "cell_type": "markdown",
   "source": [
    "### A.2 Relative Path Imports\n",
    "https://stackoverflow.com/questions/76162459/jupyter-notebook-importerror-attempted-relative-import-with-no-known-parent-pac/77528726#77528726"
   ],
   "metadata": {
    "collapsed": false
   }
  },
  {
   "cell_type": "code",
   "execution_count": 2,
   "outputs": [],
   "source": [
    "import sys\n",
    "sys.path.append('../')\n",
    "import os"
   ],
   "metadata": {
    "collapsed": false,
    "ExecuteTime": {
     "end_time": "2024-02-03T00:17:00.730782700Z",
     "start_time": "2024-02-03T00:17:00.718783200Z"
    }
   }
  },
  {
   "cell_type": "markdown",
   "source": [
    "### A.3 Relative Import of Blocks"
   ],
   "metadata": {
    "collapsed": false
   }
  },
  {
   "cell_type": "code",
   "execution_count": 3,
   "outputs": [],
   "source": [
    "import json\n",
    "from Block_Families.Objects.SCO.Email_Message.make_email_msg import main as make_email_msg\n",
    "from Block_Families.Objects.SRO.Relationship.make_sro import main as make_sro\n",
    "from Utilities.local_make_general import invoke_context_get_block, invoke_save_incident_context_block\n",
    "from Utilities.local_make_sro import invoke_sro_block, invoke_sighting_block\n",
    "from Utilities.local_make_sdo import (\n",
    "    invoke_make_observed_data_block, invoke_make_indicator_block, invoke_make_event_block, invoke_make_sequence_block,\n",
    "    invoke_make_task_block, invoke_make_incident_block\n",
    ")\n",
    "from Utilities.local_make_sco import (\n",
    "    invoke_make_email_addr_block, invoke_make_url_block, invoke_make_e_msg_block,\n",
    ")\n",
    "from conv import conv\n",
    "\n",
    "context_base = \"../Orchestration/Context_Mem/\"\n",
    "path_base = \"../Block_Families/Objects/\"\n",
    "results_base = \"../Orchestration/Results/\"\n",
    "sro_data = \"SRO/Relationship/sro_derived.json\"\n",
    "alert_data = {\n",
    "    \"from\": \"evil@northkorea.nk\",\n",
    "    \"to\": \"naive@example.com\",\n",
    "    \"reporter\": \"nsmith\",\n",
    "    \"url\": \"https://www.northkorea.nk/we/are/mad/\"\n",
    "}\n",
    "alert_details = {\n",
    "    \"alert_name\": \"Suspcious Email\",\n",
    "    \"alert_source\": \"user-report\",\n",
    "    \"alert_log\": \"I have found a suspicious email\"\n",
    "}\n",
    "\n",
    "TR_Context_Memory_Path = \"./Context_Mem/Type_Refinery_Context.json\""
   ],
   "metadata": {
    "collapsed": false,
    "ExecuteTime": {
     "end_time": "2024-02-03T00:17:00.777424Z",
     "start_time": "2024-02-03T00:17:00.735675100Z"
    }
   }
  },
  {
   "cell_type": "markdown",
   "source": [
    "### A.4 Load the Context Memory"
   ],
   "metadata": {
    "collapsed": false
   }
  },
  {
   "cell_type": "code",
   "execution_count": 4,
   "outputs": [],
   "source": [
    "# 1. Load the Context\n",
    "Type_Refinery_Context = invoke_context_get_block()\n",
    "#\n",
    "# 2. Setup the  TR User Context\n",
    "#\n",
    "local = Type_Refinery_Context[\"local\"]\n",
    "local_context = local[\"context\"]\n",
    "me = local_context[\"me\"]\n",
    "team = local_context[\"team\"]\n",
    "company = local_context[\"company\"]\n",
    "systems = local_context[\"systems\"]\n",
    "assets = local_context[\"assets\"]\n",
    "#\n",
    "# 3. Setup the Incident Context\n",
    "#\n",
    "local_incident = local[\"incident\"]\n",
    "sequence_start_objs = local_incident[\"sequence_start_objs\"]\n",
    "sequence_objs = local_incident[\"sequence_objs\"]\n",
    "task_objs = local_incident[\"task_objs\"]\n",
    "event_objs = local_incident[\"event_objs\"]\n",
    "impact_objs = local_incident[\"impact_objs\"]\n",
    "other_object_objs = local_incident[\"other_object_objs\"]\n",
    "incident_obj = local_incident[\"incident_obj\"]"
   ],
   "metadata": {
    "collapsed": false,
    "ExecuteTime": {
     "end_time": "2024-02-03T00:17:00.836668900Z",
     "start_time": "2024-02-03T00:17:00.781330500Z"
    }
   }
  },
  {
   "cell_type": "markdown",
   "source": [
    "## B. Create the Objects to Document the Phishing Alert\n",
    "\n",
    "### B.1 Create the Email Address for the Threat Actor"
   ],
   "metadata": {
    "collapsed": false
   }
  },
  {
   "cell_type": "code",
   "execution_count": 5,
   "outputs": [
    {
     "name": "stdout",
     "output_type": "stream",
     "text": [
      "{\n",
      "    \"type\": \"email-addr\",\n",
      "    \"spec_version\": \"2.1\",\n",
      "    \"id\": \"email-addr--eb38d07e-6ba8-56c1-b107-d4db4aacf212\",\n",
      "    \"value\": \"evil@northkorea.nk\",\n",
      "    \"display_name\": \"Bad Man\"\n",
      "}\n"
     ]
    }
   ],
   "source": [
    "email_path = \"SCO/Email_Addr/email_addr_THREAT.json\"\n",
    "results_path = \"step1/THREAT__email_addr.json\"\n",
    "# 1. invoke the email object using method from ./Utilities/local_make_sco.py\n",
    "threat_email_addr_list = invoke_make_email_addr_block(email_path, results_path)\n",
    "# 2. add the record to the in-session bundles and incident lists\n",
    "other_object_objs.append(threat_email_addr_list[0])\n",
    "# recover the threat email object in dict form as a global variable for later\n",
    "threat_email_addr = conv(threat_email_addr_list[0])"
   ],
   "metadata": {
    "collapsed": false,
    "ExecuteTime": {
     "end_time": "2024-02-03T00:17:00.846744900Z",
     "start_time": "2024-02-03T00:17:00.816425100Z"
    }
   }
  },
  {
   "cell_type": "markdown",
   "source": [
    "### B.2 Retrieve the TR User Account, the Email Address, and the TR Identity from the Context Memory"
   ],
   "metadata": {
    "collapsed": false
   }
  },
  {
   "cell_type": "code",
   "execution_count": 6,
   "outputs": [],
   "source": [
    "# 1. For Naive Smith, find the user account and the email. Plus get my own identity\n",
    "reporter_name = alert_data[\"reporter\"]\n",
    "to_email_addr = alert_data[\"to\"]\n",
    "TR_name = \"Trusty Jones\"\n",
    "# 2. Setup variables to hold the dicts\n",
    "reporter_account = {}\n",
    "reporter_email_addr = {}\n",
    "reporter_identity = {}\n",
    "TR_identity = {}\n",
    "#\n",
    "# 3. Retrieve the details for the employees involved\n",
    "#\n",
    "for rec in company:\n",
    "    if rec[\"type\"] == \"user-account\":\n",
    "        if rec[\"account_login\"] == reporter_name:\n",
    "            reporter_account = rec\n",
    "    if rec[\"type\"] == \"email-addr\":\n",
    "        if rec[\"value\"] == to_email_addr:\n",
    "            reporter_email_addr = rec\n",
    "\n",
    "for rec in company:\n",
    "    if rec[\"type\"] == \"identity\" and rec[\"identity_class\"] == \"individual\":\n",
    "        for email_address in rec[\"extensions\"][\"extension-definition--66e2492a-bbd3-4be6-88f5-cc91a017a498\"][\"email_addresses\"]:\n",
    "            if email_address[\"email_address_ref\"] == reporter_email_addr[\"id\"]:\n",
    "                reporter_identity = rec\n",
    "\n",
    "for rec in me:\n",
    "    if rec[\"type\"] == \"identity\":\n",
    "        TR_identity = rec\n",
    "\n",
    "# add the record to the in-session bundles and lists\n",
    "other_object_objs.append(reporter_account)\n",
    "other_object_objs.append(reporter_email_addr)\n",
    "other_object_objs.append(reporter_identity)\n",
    "other_object_objs.append(TR_identity)"
   ],
   "metadata": {
    "collapsed": false,
    "ExecuteTime": {
     "end_time": "2024-02-03T00:17:00.857817700Z",
     "start_time": "2024-02-03T00:17:00.843663Z"
    }
   }
  },
  {
   "cell_type": "markdown",
   "source": [
    "### B.3 Make the URL"
   ],
   "metadata": {
    "collapsed": false
   }
  },
  {
   "cell_type": "code",
   "execution_count": 7,
   "outputs": [
    {
     "name": "stdout",
     "output_type": "stream",
     "text": [
      "{\n",
      "    \"type\": \"url\",\n",
      "    \"spec_version\": \"2.1\",\n",
      "    \"id\": \"url--3279c7de-8f91-5c1a-99d9-d6546c6c41f7\",\n",
      "    \"value\": \"https://www.northkorea.nk/we/are/mad/\"\n",
      "}\n"
     ]
    }
   ],
   "source": [
    "url_path = \"SCO/URL/suspicious_url.json\"\n",
    "results_path = \"step1/THREAT__url.json\"\n",
    "hyperlink = alert_data[\"url\"]\n",
    "# make the email object\n",
    "url_list = invoke_make_url_block(url_path, results_path, hyperlink)\n",
    "# add the record to the in-session bundles and lists\n",
    "other_object_objs.append(url_list[0])\n",
    "# recover the threat email object in dict form\n",
    "sus_url = conv(url_list[0])"
   ],
   "metadata": {
    "collapsed": false,
    "ExecuteTime": {
     "end_time": "2024-02-03T00:17:00.910230600Z",
     "start_time": "2024-02-03T00:17:00.858818900Z"
    }
   }
  },
  {
   "cell_type": "markdown",
   "source": [
    "### B.4 Make the Email Message"
   ],
   "metadata": {
    "collapsed": false
   }
  },
  {
   "cell_type": "code",
   "execution_count": 8,
   "outputs": [
    {
     "name": "stdout",
     "output_type": "stream",
     "text": [
      "{\n",
      "    \"type\": \"email-message\",\n",
      "    \"spec_version\": \"2.1\",\n",
      "    \"id\": \"email-message--6090e3d4-1fa8-5b36-9d2d-4a66d824995d\",\n",
      "    \"is_multipart\": false,\n",
      "    \"date\": \"2020-10-19T01:01:01Z\",\n",
      "    \"from_ref\": \"email-addr--eb38d07e-6ba8-56c1-b107-d4db4aacf212\",\n",
      "    \"to_refs\": [\n",
      "        \"email-addr--4722424c-7012-56b0-84d5-01d076fc547b\"\n",
      "    ],\n",
      "    \"subject\": \"we are coming for you\",\n",
      "    \"body\": \"some bad stuff written here\"\n",
      "}\n"
     ]
    }
   ],
   "source": [
    "msg_path = \"SCO/Email_Message/suspicious_email_msg.json\"\n",
    "results_path = \"step1/SUSS__email_msg.json\"\n",
    "from_ref = threat_email_addr\n",
    "to_ref = [reporter_email_addr]\n",
    "cc_ref = []\n",
    "bcc_ref = []\n",
    "# make the email object\n",
    "e_msg_list = invoke_make_e_msg_block(msg_path, results_path, from_ref, to_ref, cc_ref, bcc_ref)\n",
    "# add the record to the in-session bundles and lists\n",
    "other_object_objs.append(e_msg_list[0])\n",
    "# recover the threat email object in dict form\n",
    "sus_msg = conv(e_msg_list[0])"
   ],
   "metadata": {
    "collapsed": false,
    "ExecuteTime": {
     "end_time": "2024-02-03T00:17:00.920754200Z",
     "start_time": "2024-02-03T00:17:00.891593600Z"
    }
   }
  },
  {
   "cell_type": "markdown",
   "source": [
    "### B.4 Make the \"derived-from\" SRO"
   ],
   "metadata": {
    "collapsed": false
   }
  },
  {
   "cell_type": "code",
   "execution_count": 9,
   "outputs": [
    {
     "name": "stdout",
     "output_type": "stream",
     "text": [
      "{\n",
      "    \"type\": \"relationship\",\n",
      "    \"spec_version\": \"2.1\",\n",
      "    \"id\": \"relationship--615a242f-abe5-43ce-95be-b0f74b01f034\",\n",
      "    \"created\": \"2024-02-03T00:17:00.931Z\",\n",
      "    \"modified\": \"2024-02-03T00:17:00.931Z\",\n",
      "    \"relationship_type\": \"derived-from\",\n",
      "    \"source_ref\": \"email-message--6090e3d4-1fa8-5b36-9d2d-4a66d824995d\",\n",
      "    \"target_ref\": \"url--3279c7de-8f91-5c1a-99d9-d6546c6c41f7\"\n",
      "}\n"
     ]
    }
   ],
   "source": [
    "# make the email object\n",
    "relationship_type = \"derived-from\"\n",
    "sro_data_path = \"SRO/Relationship/sro_derived.json\"\n",
    "sro_rsults_path = \"step1/SRO_derived.json\"\n",
    "derived_from_SRO_list = invoke_sro_block(sro_data_path, sro_rsults_path, sus_msg, sus_url, relationship_type)\n",
    "# add the record to the in-session bundles and lists\n",
    "other_object_objs.append(derived_from_SRO_list[0])\n",
    "# recover the derived URL to Email Message relationship object in dict form\n",
    "sus_relation = conv(derived_from_SRO_list[0])"
   ],
   "metadata": {
    "collapsed": false,
    "ExecuteTime": {
     "end_time": "2024-02-03T00:17:01.002422100Z",
     "start_time": "2024-02-03T00:17:00.918757300Z"
    }
   }
  },
  {
   "cell_type": "markdown",
   "source": [
    "## C. Collect the Elements of the Observation into an Observed-Data Object\n",
    "\n",
    "Tbis then represents the potential phishing email as a group of elements"
   ],
   "metadata": {
    "collapsed": false
   }
  },
  {
   "cell_type": "code",
   "execution_count": 10,
   "outputs": [
    {
     "name": "stdout",
     "output_type": "stream",
     "text": [
      "{\n",
      "    \"type\": \"observed-data\",\n",
      "    \"spec_version\": \"2.1\",\n",
      "    \"id\": \"observed-data--9a6d2e41-0c64-4a25-96dc-4bb458d323ec\",\n",
      "    \"created\": \"2024-02-03T00:17:00.963Z\",\n",
      "    \"modified\": \"2024-02-03T00:17:00.963Z\",\n",
      "    \"first_observed\": \"2020-10-19T01:01:01Z\",\n",
      "    \"last_observed\": \"2020-10-19T01:01:01Z\",\n",
      "    \"number_observed\": 1,\n",
      "    \"object_refs\": [\n",
      "        \"email-addr--eb38d07e-6ba8-56c1-b107-d4db4aacf212\",\n",
      "        \"user-account--597ad4d4-35ba-585d-8f6d-134a75032f9b\",\n",
      "        \"email-addr--4722424c-7012-56b0-84d5-01d076fc547b\",\n",
      "        \"url--3279c7de-8f91-5c1a-99d9-d6546c6c41f7\",\n",
      "        \"email-message--6090e3d4-1fa8-5b36-9d2d-4a66d824995d\",\n",
      "        \"relationship--615a242f-abe5-43ce-95be-b0f74b01f034\"\n",
      "    ]\n",
      "}\n"
     ]
    }
   ],
   "source": [
    "# 1. Setup0 list of obsrvations\n",
    "observed_ids = []\n",
    "observed_ids.append(threat_email_addr[\"id\"])\n",
    "observed_ids.append(reporter_account[\"id\"])\n",
    "observed_ids.append(reporter_email_addr[\"id\"])\n",
    "observed_ids.append(sus_url[\"id\"])\n",
    "observed_ids.append(sus_msg[\"id\"])\n",
    "observed_ids.append(sus_relation[\"id\"])\n",
    "# 2. Setup path to form and results\n",
    "obs_path =\"SDO/Observed_Data/observation-alert.json\"\n",
    "results_path =\"step1/observation-alert.json\"\n",
    "# 3. Invoke the Make Observed Data Block\n",
    "obs_1 = invoke_make_observed_data_block(obs_path, results_path, observation=observed_ids)\n",
    "# 4. Add the record to the in-session bundles and lists\n",
    "other_object_objs.append(obs_1[0])"
   ],
   "metadata": {
    "collapsed": false,
    "ExecuteTime": {
     "end_time": "2024-02-03T00:17:01.004420600Z",
     "start_time": "2024-02-03T00:17:00.952609700Z"
    }
   }
  },
  {
   "cell_type": "markdown",
   "source": [
    "## D. Create the Alert Sighting\n",
    "\n",
    "Tbis then represents the sighting of potential phishing email as a group of elements\n",
    "\n",
    "### D.1 Create a Indicator with a Pattern for the Phishing Email\n",
    "but set its status to `unkown` to start with"
   ],
   "metadata": {
    "collapsed": false
   }
  },
  {
   "cell_type": "code",
   "execution_count": 11,
   "outputs": [
    {
     "name": "stdout",
     "output_type": "stream",
     "text": [
      "{\n",
      "    \"type\": \"indicator\",\n",
      "    \"spec_version\": \"2.1\",\n",
      "    \"id\": \"indicator--85093cc5-14f7-4ef4-b7a1-da1247dcbf86\",\n",
      "    \"created\": \"2024-02-03T00:17:00.992Z\",\n",
      "    \"modified\": \"2024-02-03T00:17:00.992Z\",\n",
      "    \"name\": \"Potential Phishing Email\",\n",
      "    \"description\": \"Suspicious email reported by user\",\n",
      "    \"indicator_types\": [\n",
      "        \"unknown\"\n",
      "    ],\n",
      "    \"pattern\": \"[email-addr:value = 'evil@northkorea.nk' AND email:subject = 'we are coming for you']\",\n",
      "    \"pattern_type\": \"stix\",\n",
      "    \"pattern_version\": \"2.1\",\n",
      "    \"valid_from\": \"2024-02-03T00:17:00.992Z\"\n",
      "}\n"
     ]
    }
   ],
   "source": [
    "# 1. Setup pattern for indicator\n",
    "pat1 = \"[email-addr:value = '\" + threat_email_addr[\"value\"] + \"' AND email:subject = '\" + sus_msg[\"subject\"] + \"']\"\n",
    "# 2. Setup path to form and results\n",
    "ind_path =\"SDO/Indicator/indicator_alert.json\"\n",
    "results_path =\"step1/indicator_alert.json\"\n",
    "# 3. Invoke the Make Observed Data Block\n",
    "ind_1 = invoke_make_indicator_block(ind_path, results_path, pattern=pat1)\n",
    "# 4. Add the record to the in-session bundles and lists\n",
    "other_object_objs.append(ind_1[0])"
   ],
   "metadata": {
    "collapsed": false,
    "ExecuteTime": {
     "end_time": "2024-02-03T00:17:01.069427700Z",
     "start_time": "2024-02-03T00:17:00.992999400Z"
    }
   }
  },
  {
   "cell_type": "markdown",
   "source": [
    "### D.2 Create the Sighting\n",
    "Connecting the:\n",
    "- observed-data object\n",
    "- indicator object\n",
    "- the reporter identity as the location"
   ],
   "metadata": {
    "collapsed": false
   }
  },
  {
   "cell_type": "code",
   "execution_count": 12,
   "outputs": [
    {
     "name": "stdout",
     "output_type": "stream",
     "text": [
      "{\n",
      "    \"type\": \"sighting\",\n",
      "    \"spec_version\": \"2.1\",\n",
      "    \"id\": \"sighting--dc9fabf1-85bc-480f-a2b1-4abaf9354e84\",\n",
      "    \"created\": \"2024-02-03T00:17:01.420Z\",\n",
      "    \"modified\": \"2024-02-03T00:17:01.420Z\",\n",
      "    \"count\": 1,\n",
      "    \"sighting_of_ref\": \"indicator--85093cc5-14f7-4ef4-b7a1-da1247dcbf86\",\n",
      "    \"observed_data_refs\": [\n",
      "        \"observed-data--9a6d2e41-0c64-4a25-96dc-4bb458d323ec\"\n",
      "    ],\n",
      "    \"where_sighted_refs\": [\n",
      "        \"identity--2b1d760d-d8a4-4bfd-8594-7a7674dc2536\"\n",
      "    ],\n",
      "    \"extensions\": {\n",
      "        \"extension-definition--0d76d6d9-16ca-43fd-bd41-4f800ba8fc43\": {\n",
      "            \"extension_type\": \"property-extension\"\n",
      "        },\n",
      "        \"sighting-alert\": {\n",
      "            \"name\": \"user-report\",\n",
      "            \"log\": \"I have found a suspicious email\",\n",
      "            \"system_id\": \"XYZ-1234\",\n",
      "            \"source\": \"user submission\"\n",
      "        }\n",
      "    }\n",
      "}\n"
     ]
    }
   ],
   "source": [
    "# 1. Setup path to form and results\n",
    "sighting_data_path =\"SRO/Sighting/sighting_alert.json\"\n",
    "results_path =\"step1/sighting_alert.json\"\n",
    "# 2. Setup the SDO sighted, the Observed-Data that was observed with generated objects,\n",
    "#                        then the identity object from the context storage (note the slight difference in indexing\n",
    "sighted = ind_1[0][\"id\"]\n",
    "observed_list = [obs_1[0][\"id\"]]\n",
    "where_list = [reporter_identity[\"id\"]]\n",
    "# 2. Invoke the Make Observed Data Block\n",
    "sight1 = invoke_sighting_block(sighting_data_path, results_path, observed=observed_list, sighted=sighted, where=where_list)\n",
    "# 3. Add the record to the in-session bundles and lists\n",
    "other_object_objs.append(sight1[0])"
   ],
   "metadata": {
    "collapsed": false,
    "ExecuteTime": {
     "end_time": "2024-02-03T00:17:01.083646200Z",
     "start_time": "2024-02-03T00:17:01.029184700Z"
    }
   }
  },
  {
   "cell_type": "markdown",
   "source": [
    "## E. Create the Impact Objects\n",
    "Tbis Impact represents the effect of the phishing email"
   ],
   "metadata": {
    "collapsed": false
   }
  },
  {
   "cell_type": "code",
   "execution_count": 13,
   "outputs": [
    {
     "name": "stdout",
     "output_type": "stream",
     "text": [
      "{\n",
      "    \"type\": \"event\",\n",
      "    \"spec_version\": \"2.1\",\n",
      "    \"id\": \"event--ceb1a493-d156-4cea-9538-a30b774bdce5\",\n",
      "    \"created\": \"2024-02-03T00:17:01.860Z\",\n",
      "    \"modified\": \"2024-02-03T00:17:01.860Z\",\n",
      "    \"description\": \"Suspicious email reported by user\",\n",
      "    \"end_time\": \"2024-02-03T00:17:01.860Z\",\n",
      "    \"event_types\": [\n",
      "        \"dissemination-phishing-emails\"\n",
      "    ],\n",
      "    \"name\": \"Potential Phishing Email\",\n",
      "    \"sighting_refs\": [\n",
      "        \"sighting--dc9fabf1-85bc-480f-a2b1-4abaf9354e84\"\n",
      "    ],\n",
      "    \"start_time\": \"2024-02-03T00:17:01.860Z\",\n",
      "    \"extensions\": {\n",
      "        \"extension-definition--4ca6de00-5b0d-45ef-a1dc-ea7279ea910e\": {\n",
      "            \"extension_type\": \"new-sdo\"\n",
      "        }\n",
      "    }\n",
      "}\n"
     ]
    }
   ],
   "source": [
    "# 1. Setup path to form and results\n",
    "event_data_path =\"SDO/Event/event_alert.json\"\n",
    "results_path =\"step1/event_alert.json\"\n",
    "# 2. Setup the SDO sighted, the Observed-Data that was observed with generated objects,\n",
    "#                        then the identity object from the context storage (note the slight difference in indexing\n",
    "sighting = sight1[0][\"id\"]\n",
    "# 2. Invoke the Make Observed Data Block\n",
    "event_1 = invoke_make_event_block(event_data_path, results_path, changed_objects=None,sighting_refs=sighting)\n",
    "# 3. Add the record to the in-session bundles and lists\n",
    "event_objs.append(event_1[0])"
   ],
   "metadata": {
    "collapsed": false,
    "ExecuteTime": {
     "end_time": "2024-02-03T00:17:01.144029900Z",
     "start_time": "2024-02-03T00:17:01.072635400Z"
    }
   }
  },
  {
   "cell_type": "markdown",
   "source": [
    "\n",
    "### E.2 Then Create the Sequence Object for the Event\n",
    "\n",
    "The Sequence object is created to place the event in a sequence, in this case a single-step"
   ],
   "metadata": {
    "collapsed": false
   }
  },
  {
   "cell_type": "code",
   "execution_count": 14,
   "outputs": [
    {
     "name": "stdout",
     "output_type": "stream",
     "text": [
      "{\n",
      "    \"type\": \"sequence\",\n",
      "    \"spec_version\": \"2.1\",\n",
      "    \"id\": \"sequence--3786562e-f32c-4b96-838b-db96d1528af0\",\n",
      "    \"created\": \"2024-02-03T00:17:01.132Z\",\n",
      "    \"modified\": \"2024-02-03T00:17:01.132Z\",\n",
      "    \"sequenced_object\": \"event--ceb1a493-d156-4cea-9538-a30b774bdce5\",\n",
      "    \"sequence_type\": \"event\",\n",
      "    \"step_type\": \"single_step\",\n",
      "    \"extensions\": {\n",
      "        \"extension-definition--be0c7c79-1961-43db-afde-637066a87a64\": {\n",
      "            \"extension_type\": \"new-sdo\"\n",
      "        }\n",
      "    }\n",
      "}\n"
     ]
    }
   ],
   "source": [
    "# 1. Setup path to form and results\n",
    "sequence_data_path =\"SDO/Sequence/sequence_alert.json\"\n",
    "results_path =\"step1/sequence_event_single.json\"\n",
    "# 2. Setup the Sequence Object for the Event\n",
    "#\n",
    "step_type = \"single_step\"\n",
    "sequence_type = \"event\"\n",
    "sequenced_object = event_1[0][\"id\"]\n",
    "# 2. Invoke the Make Observed Data Block\n",
    "seq_E_1 = invoke_make_sequence_block(sequence_data_path, results_path, step_type=step_type, sequence_type=sequence_type, sequenced_object=sequenced_object, on_completion=None, on_success=None, on_failure=None, next_steps=None)\n",
    "# 3. Add the record to the in-session bundles and lists\n",
    "sequence_objs.append(seq_E_1[0])"
   ],
   "metadata": {
    "collapsed": false,
    "ExecuteTime": {
     "end_time": "2024-02-03T00:17:01.212424800Z",
     "start_time": "2024-02-03T00:17:01.132148500Z"
    }
   }
  },
  {
   "cell_type": "markdown",
   "source": [
    "\n",
    "### E.3 Since it is the First Sequence, Create the Start Sequence Object and Connect it\n",
    "\n",
    "The Sequence object is created to place the event in a sequence, in this case a start-step"
   ],
   "metadata": {
    "collapsed": false
   }
  },
  {
   "cell_type": "code",
   "execution_count": 15,
   "outputs": [
    {
     "name": "stdout",
     "output_type": "stream",
     "text": [
      "{\n",
      "    \"type\": \"sequence\",\n",
      "    \"spec_version\": \"2.1\",\n",
      "    \"id\": \"sequence--7af24bb8-cd38-4e6f-ba3b-b93289237798\",\n",
      "    \"created\": \"2024-02-03T00:17:01.180Z\",\n",
      "    \"modified\": \"2024-02-03T00:17:01.180Z\",\n",
      "    \"sequence_type\": \"event\",\n",
      "    \"step_type\": \"start_step\",\n",
      "    \"on_completion\": \"sequence--3786562e-f32c-4b96-838b-db96d1528af0\",\n",
      "    \"extensions\": {\n",
      "        \"extension-definition--be0c7c79-1961-43db-afde-637066a87a64\": {\n",
      "            \"extension_type\": \"new-sdo\"\n",
      "        }\n",
      "    }\n",
      "}\n"
     ]
    }
   ],
   "source": [
    "# 1. Setup path to form and results\n",
    "sequence_data_path =\"SDO/Sequence/sequence_start.json\"\n",
    "results_path =\"step1/sequence_event_start.json\"\n",
    "# 2. Setup the Sequence Object for the Event\n",
    "#\n",
    "step_type = \"start_step\"\n",
    "sequence_type = \"event\"\n",
    "on_completion = seq_E_1[0][\"id\"]\n",
    "# 2. Invoke the Make Observed Data Block\n",
    "seq_E_0 = invoke_make_sequence_block(sequence_data_path, results_path, step_type=step_type, sequence_type=sequence_type, sequenced_object=None, on_completion=on_completion, on_success=None, on_failure=None, next_steps=None)\n",
    "# 3. Add the record to the in-session bundles and lists\n",
    "sequence_start_objs.append(seq_E_0[0])"
   ],
   "metadata": {
    "collapsed": false,
    "ExecuteTime": {
     "end_time": "2024-02-03T00:17:01.215438200Z",
     "start_time": "2024-02-03T00:17:01.173005400Z"
    }
   }
  },
  {
   "cell_type": "markdown",
   "source": [
    "## F. Create the Task Objects\n",
    "\n",
    "Tbis Task represents the first Task to clarify the situation first,no real Impactyet"
   ],
   "metadata": {
    "collapsed": false
   }
  },
  {
   "cell_type": "code",
   "execution_count": 16,
   "outputs": [
    {
     "name": "stdout",
     "output_type": "stream",
     "text": [
      "{\n",
      "    \"type\": \"task\",\n",
      "    \"spec_version\": \"2.1\",\n",
      "    \"id\": \"task--56827180-1e33-4e8f-8d74-f406221648fa\",\n",
      "    \"created\": \"2024-02-03T00:17:01.207Z\",\n",
      "    \"modified\": \"2024-02-03T00:17:01.207Z\",\n",
      "    \"description\": \"Suspicious email reported by user\",\n",
      "    \"end_time\": \"2024-02-03T00:17:01.207Z\",\n",
      "    \"name\": \"Potential Phishing Email\",\n",
      "    \"start_time\": \"2024-02-03T00:17:01.207Z\",\n",
      "    \"extensions\": {\n",
      "        \"extension-definition--2074a052-8be4-4932-849e-f5e7798e0030\": {\n",
      "            \"extension_type\": \"new-sdo\"\n",
      "        }\n",
      "    }\n",
      "}\n"
     ]
    }
   ],
   "source": [
    "# 1. Setup path to form and results\n",
    "task_data_path =\"SDO/Task/task_alert.json\"\n",
    "results_path =\"step1/task_alert.json\"\n",
    "# 2. Invoke the Make Observed Data Block\n",
    "task_1 = invoke_make_task_block(task_data_path, results_path, changed_objects=None)\n",
    "# 3. Add the record to the in-session bundles and lists\n",
    "task_objs.append(task_1[0])"
   ],
   "metadata": {
    "collapsed": false,
    "ExecuteTime": {
     "end_time": "2024-02-03T00:17:01.230981700Z",
     "start_time": "2024-02-03T00:17:01.201732700Z"
    }
   }
  },
  {
   "cell_type": "markdown",
   "source": [
    "### F.2 Then Create the Sequence Object for the Task\n",
    "\n",
    "The Sequence object is created to place the Task in a sequence, in this case a single-step"
   ],
   "metadata": {
    "collapsed": false
   }
  },
  {
   "cell_type": "code",
   "execution_count": 17,
   "outputs": [
    {
     "name": "stdout",
     "output_type": "stream",
     "text": [
      "{\n",
      "    \"type\": \"sequence\",\n",
      "    \"spec_version\": \"2.1\",\n",
      "    \"id\": \"sequence--f154659b-ded9-49c7-9f6b-ff171ccc687a\",\n",
      "    \"created\": \"2024-02-03T00:17:01.239Z\",\n",
      "    \"modified\": \"2024-02-03T00:17:01.239Z\",\n",
      "    \"sequenced_object\": \"task--56827180-1e33-4e8f-8d74-f406221648fa\",\n",
      "    \"sequence_type\": \"task\",\n",
      "    \"step_type\": \"single_step\",\n",
      "    \"extensions\": {\n",
      "        \"extension-definition--be0c7c79-1961-43db-afde-637066a87a64\": {\n",
      "            \"extension_type\": \"new-sdo\"\n",
      "        }\n",
      "    }\n",
      "}\n"
     ]
    }
   ],
   "source": [
    "# 1. Setup path to form and results\n",
    "sequence_data_path =\"SDO/Sequence/sequence_alert.json\"\n",
    "results_path =\"step1/sequence_task_single.json\"\n",
    "# 2. Setup the Sequence Object for the Event\n",
    "#\n",
    "step_type = \"single_step\"\n",
    "sequence_type = \"task\"\n",
    "sequenced_object = task_1[0][\"id\"]\n",
    "# 2. Invoke the Make Observed Data Block\n",
    "seq_T_1 = invoke_make_sequence_block(sequence_data_path, results_path, step_type=step_type, sequence_type=sequence_type, sequenced_object=sequenced_object, on_completion=None, on_success=None, on_failure=None, next_steps=None)\n",
    "# 3. Add the record to the in-session bundles and lists\n",
    "sequence_objs.append(seq_T_1[0])"
   ],
   "metadata": {
    "collapsed": false,
    "ExecuteTime": {
     "end_time": "2024-02-03T00:17:01.302788100Z",
     "start_time": "2024-02-03T00:17:01.232930Z"
    }
   }
  },
  {
   "cell_type": "markdown",
   "source": [
    "\n",
    "### F.3 Then Create the Sequence Start Object for the Tasks\n",
    "\n",
    "The Sequence object is created to place the Task in a sequence, in this case a start-step"
   ],
   "metadata": {
    "collapsed": false
   }
  },
  {
   "cell_type": "code",
   "execution_count": 18,
   "outputs": [
    {
     "name": "stdout",
     "output_type": "stream",
     "text": [
      "{\n",
      "    \"type\": \"sequence\",\n",
      "    \"spec_version\": \"2.1\",\n",
      "    \"id\": \"sequence--2a013e60-081a-4e78-87b9-9b6b91803f7d\",\n",
      "    \"created\": \"2024-02-03T00:17:01.270Z\",\n",
      "    \"modified\": \"2024-02-03T00:17:01.270Z\",\n",
      "    \"sequence_type\": \"task\",\n",
      "    \"step_type\": \"start_step\",\n",
      "    \"on_completion\": \"sequence--f154659b-ded9-49c7-9f6b-ff171ccc687a\",\n",
      "    \"extensions\": {\n",
      "        \"extension-definition--be0c7c79-1961-43db-afde-637066a87a64\": {\n",
      "            \"extension_type\": \"new-sdo\"\n",
      "        }\n",
      "    }\n",
      "}\n"
     ]
    }
   ],
   "source": [
    "# 1. Setup path to form and results\n",
    "sequence_data_path =\"SDO/Sequence/sequence_start.json\"\n",
    "results_path =\"step1/sequence_task_start.json\"\n",
    "# 2. Setup the Sequence Object for the Event\n",
    "#\n",
    "step_type = \"start_step\"\n",
    "sequence_type = \"task\"\n",
    "on_completion = seq_T_1[0][\"id\"]\n",
    "# 2. Invoke the Make Observed Data Block\n",
    "seq_T_0 = invoke_make_sequence_block(sequence_data_path, results_path, step_type=step_type, sequence_type=sequence_type, sequenced_object=None, on_completion=on_completion, on_success=None, on_failure=None, next_steps=None)\n",
    "# 3. Add the record to the in-session bundles and lists\n",
    "sequence_start_objs.append(seq_T_0[0])"
   ],
   "metadata": {
    "collapsed": false,
    "ExecuteTime": {
     "end_time": "2024-02-03T00:17:01.303787900Z",
     "start_time": "2024-02-03T00:17:01.263929500Z"
    }
   }
  },
  {
   "cell_type": "markdown",
   "source": [
    "## G. Finally, Create the Incident Object and Append all of the objects to it\n",
    "\n",
    "Create the Incident object and assign all of the objets to it"
   ],
   "metadata": {
    "collapsed": false
   }
  },
  {
   "cell_type": "code",
   "execution_count": 19,
   "outputs": [
    {
     "name": "stdout",
     "output_type": "stream",
     "text": [
      "{\n",
      "    \"type\": \"incident\",\n",
      "    \"spec_version\": \"2.1\",\n",
      "    \"id\": \"incident--5659c359-26da-4584-8a4a-676f30bb0dd6\",\n",
      "    \"created\": \"2024-02-03T00:17:01.315Z\",\n",
      "    \"modified\": \"2024-02-03T00:17:01.315Z\",\n",
      "    \"name\": \"potential phishing\",\n",
      "    \"extensions\": {\n",
      "        \"extension-definition--ef765651-680c-498d-9894-99799f2fa126\": {\n",
      "            \"extension_type\": \"property-extension\",\n",
      "            \"investigation_status\": \"new\",\n",
      "            \"incident_types\": [\n",
      "                \"dissemination-phishing-emails\"\n",
      "            ],\n",
      "            \"sequence_start_refs\": [\n",
      "                \"sequence--7af24bb8-cd38-4e6f-ba3b-b93289237798\",\n",
      "                \"sequence--2a013e60-081a-4e78-87b9-9b6b91803f7d\"\n",
      "            ],\n",
      "            \"sequence_refs\": [\n",
      "                \"sequence--3786562e-f32c-4b96-838b-db96d1528af0\",\n",
      "                \"sequence--f154659b-ded9-49c7-9f6b-ff171ccc687a\"\n",
      "            ],\n",
      "            \"task_refs\": [\n",
      "                \"task--56827180-1e33-4e8f-8d74-f406221648fa\"\n",
      "            ],\n",
      "            \"event_refs\": [\n",
      "                \"event--ceb1a493-d156-4cea-9538-a30b774bdce5\"\n",
      "            ],\n",
      "            \"other_object_refs\": [\n",
      "                \"email-addr--eb38d07e-6ba8-56c1-b107-d4db4aacf212\",\n",
      "                \"user-account--597ad4d4-35ba-585d-8f6d-134a75032f9b\",\n",
      "                \"email-addr--4722424c-7012-56b0-84d5-01d076fc547b\",\n",
      "                \"identity--2b1d760d-d8a4-4bfd-8594-7a7674dc2536\",\n",
      "                \"identity--86824009-bbbc-401a-912b-bc62b90664f8\",\n",
      "                \"url--3279c7de-8f91-5c1a-99d9-d6546c6c41f7\",\n",
      "                \"email-message--6090e3d4-1fa8-5b36-9d2d-4a66d824995d\",\n",
      "                \"relationship--615a242f-abe5-43ce-95be-b0f74b01f034\",\n",
      "                \"observed-data--9a6d2e41-0c64-4a25-96dc-4bb458d323ec\",\n",
      "                \"indicator--85093cc5-14f7-4ef4-b7a1-da1247dcbf86\",\n",
      "                \"sighting--dc9fabf1-85bc-480f-a2b1-4abaf9354e84\"\n",
      "            ]\n",
      "        }\n",
      "    }\n",
      "}\n"
     ]
    }
   ],
   "source": [
    "# 1. Setup path to form and results\n",
    "inc_path =\"SDO/Incident/phishing_incident.json\"\n",
    "results_path =\"step1/incident_alert.json\"\n",
    "# 2. Setup the Sequence Object for the Event\n",
    "#\n",
    "sequence_start_refs = [x[\"id\"] for x in sequence_start_objs]\n",
    "sequence_refs = [x[\"id\"] for x in sequence_objs]\n",
    "task_refs = [x[\"id\"] for x in task_objs]\n",
    "event_refs = [x[\"id\"] for x in event_objs]\n",
    "impact_refs = [x[\"id\"] for x in impact_objs]\n",
    "other_object_refs = [x[\"id\"] for x in other_object_objs]\n",
    "# 2. Invoke the Make Observed Data Block\n",
    "incident_list = invoke_make_incident_block(inc_path, results_path, sequence_start_refs, sequence_refs, task_refs,event_refs, impact_refs, other_object_refs)\n",
    "# 3. Add the record to the in-session bundles and lists\n",
    "local_incident[\"incident_obj\"] = incident_list[0]\n",
    "with open(\"test.json\", \"w\") as outfile:\n",
    "    json.dump(Type_Refinery_Context, outfile)"
   ],
   "metadata": {
    "collapsed": false,
    "ExecuteTime": {
     "end_time": "2024-02-03T00:17:01.400718Z",
     "start_time": "2024-02-03T00:17:01.297266700Z"
    }
   }
  },
  {
   "cell_type": "markdown",
   "source": [
    "## H. Write out the Contex Memory for the Incident\n",
    "\n",
    "Export out the Context Memory for the Incident"
   ],
   "metadata": {
    "collapsed": false
   }
  },
  {
   "cell_type": "code",
   "execution_count": 20,
   "outputs": [],
   "source": [
    "# Save the Tpe Refinery Context Memory File\n",
    "invoke_context_save_block(Type_Refinery_Context)"
   ],
   "metadata": {
    "collapsed": false,
    "ExecuteTime": {
     "end_time": "2024-02-03T00:17:01.416878100Z",
     "start_time": "2024-02-03T00:17:01.341727700Z"
    }
   }
  }
 ],
 "metadata": {
  "kernelspec": {
   "display_name": "Python 3",
   "language": "python",
   "name": "python3"
  },
  "language_info": {
   "codemirror_mode": {
    "name": "ipython",
    "version": 2
   },
   "file_extension": ".py",
   "mimetype": "text/x-python",
   "name": "python",
   "nbconvert_exporter": "python",
   "pygments_lexer": "ipython2",
   "version": "2.7.6"
  }
 },
 "nbformat": 4,
 "nbformat_minor": 0
}
