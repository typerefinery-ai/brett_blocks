{
 "cells": [
  {
   "cell_type": "markdown",
   "metadata": {
    "collapsed": false
   },
   "source": [
    "# 2. Create an Incident from an Alert\n",
    "Notebook to build all of the different stix objects associated with a Phishing Alert imitialising an Incident. Note that the Stix objects created by these classes are frozen dicts, so its better to create the components and then the whole, rather than create an empty whole first and then add the components, which requires updating.\n",
    "\n",
    "We take v3.0 of the Incident Core Extension specification, with particular focus on the Sighting Extensions for Evidence, and combine it with the standard Stix approach. There are eight stages:\n",
    "\n",
    "1. First setup the global parameters and retrieve the context memory\n",
    "2. Create the objects from the phishing email Alert,\n",
    "3. Add these objects to the ObservedData object\n",
    "4. Then create the Indicator and get the user Identity object from context memory\n",
    "5. Create the Sighting object with the SightingAlert extension\n",
    "6. Create the Event and the Sequence objects\n",
    "7. Create the Incident, with the Incident Core Extension, and add all of the objects to it\n",
    "8. Save the Context Memory\n",
    "\n",
    "Each time a block makes an object, and saves it as a json, this notebook will parse the object into an actual Stix object, so it can be bundled and printy printed (This step also verifies the objects are created correctly, and is cool).\n",
    "\n"
   ]
  },
  {
   "cell_type": "code",
   "execution_count": 1,
   "metadata": {
    "ExecuteTime": {
     "end_time": "2025-06-16T11:04:01.483301300Z",
     "start_time": "2025-06-16T11:03:58.466565600Z"
    },
    "collapsed": false
   },
   "outputs": [
    {
     "name": "stdout",
     "output_type": "stream",
     "text": [
      "Requirement already satisfied: stixorm in c:\\projects\\brett_blocks\\.venv\\lib\\site-packages (0.3.9)\n",
      "Requirement already satisfied: loguru<0.8.0,>=0.7.0 in c:\\projects\\brett_blocks\\.venv\\lib\\site-packages (from stixorm) (0.7.3)\n",
      "Requirement already satisfied: networkx<4.0,>=3.1 in c:\\projects\\brett_blocks\\.venv\\lib\\site-packages (from stixorm) (3.2.1)\n",
      "Requirement already satisfied: pydantic<3.0.0,>=2.1.1 in c:\\projects\\brett_blocks\\.venv\\lib\\site-packages (from stixorm) (2.11.7)\n",
      "Requirement already satisfied: stix2==3.0.1 in c:\\projects\\brett_blocks\\.venv\\lib\\site-packages (from stixorm) (3.0.1)\n",
      "Requirement already satisfied: typedb-driver<3.0.0,>=2.25.6 in c:\\projects\\brett_blocks\\.venv\\lib\\site-packages (from stixorm) (2.29.2)\n",
      "Requirement already satisfied: validators<0.21.0,>=0.20.0 in c:\\projects\\brett_blocks\\.venv\\lib\\site-packages (from stixorm) (0.20.0)\n",
      "Requirement already satisfied: pytz in c:\\projects\\brett_blocks\\.venv\\lib\\site-packages (from stix2==3.0.1->stixorm) (2025.2)\n",
      "Requirement already satisfied: requests in c:\\projects\\brett_blocks\\.venv\\lib\\site-packages (from stix2==3.0.1->stixorm) (2.32.4)\n",
      "Requirement already satisfied: simplejson in c:\\projects\\brett_blocks\\.venv\\lib\\site-packages (from stix2==3.0.1->stixorm) (3.20.1)\n",
      "Requirement already satisfied: stix2-patterns>=1.2.0 in c:\\projects\\brett_blocks\\.venv\\lib\\site-packages (from stix2==3.0.1->stixorm) (2.0.0)\n",
      "Requirement already satisfied: colorama>=0.3.4 in c:\\projects\\brett_blocks\\.venv\\lib\\site-packages (from loguru<0.8.0,>=0.7.0->stixorm) (0.4.6)\n",
      "Requirement already satisfied: win32-setctime>=1.0.0 in c:\\projects\\brett_blocks\\.venv\\lib\\site-packages (from loguru<0.8.0,>=0.7.0->stixorm) (1.2.0)\n",
      "Requirement already satisfied: annotated-types>=0.6.0 in c:\\projects\\brett_blocks\\.venv\\lib\\site-packages (from pydantic<3.0.0,>=2.1.1->stixorm) (0.7.0)\n",
      "Requirement already satisfied: pydantic-core==2.33.2 in c:\\projects\\brett_blocks\\.venv\\lib\\site-packages (from pydantic<3.0.0,>=2.1.1->stixorm) (2.33.2)\n",
      "Requirement already satisfied: typing-extensions>=4.12.2 in c:\\projects\\brett_blocks\\.venv\\lib\\site-packages (from pydantic<3.0.0,>=2.1.1->stixorm) (4.14.0)\n",
      "Requirement already satisfied: typing-inspection>=0.4.0 in c:\\projects\\brett_blocks\\.venv\\lib\\site-packages (from pydantic<3.0.0,>=2.1.1->stixorm) (0.4.1)\n",
      "Requirement already satisfied: parse==1.18.0 in c:\\projects\\brett_blocks\\.venv\\lib\\site-packages (from typedb-driver<3.0.0,>=2.25.6->stixorm) (1.18.0)\n",
      "Requirement already satisfied: decorator>=3.4.0 in c:\\projects\\brett_blocks\\.venv\\lib\\site-packages (from validators<0.21.0,>=0.20.0->stixorm) (5.2.1)\n",
      "Requirement already satisfied: antlr4-python3-runtime~=4.9.0 in c:\\projects\\brett_blocks\\.venv\\lib\\site-packages (from stix2-patterns>=1.2.0->stix2==3.0.1->stixorm) (4.9.3)\n",
      "Requirement already satisfied: six in c:\\projects\\brett_blocks\\.venv\\lib\\site-packages (from stix2-patterns>=1.2.0->stix2==3.0.1->stixorm) (1.17.0)\n",
      "Requirement already satisfied: charset_normalizer<4,>=2 in c:\\projects\\brett_blocks\\.venv\\lib\\site-packages (from requests->stix2==3.0.1->stixorm) (3.4.2)\n",
      "Requirement already satisfied: idna<4,>=2.5 in c:\\projects\\brett_blocks\\.venv\\lib\\site-packages (from requests->stix2==3.0.1->stixorm) (3.10)\n",
      "Requirement already satisfied: urllib3<3,>=1.21.1 in c:\\projects\\brett_blocks\\.venv\\lib\\site-packages (from requests->stix2==3.0.1->stixorm) (2.4.0)\n",
      "Requirement already satisfied: certifi>=2017.4.17 in c:\\projects\\brett_blocks\\.venv\\lib\\site-packages (from requests->stix2==3.0.1->stixorm) (2025.6.15)\n"
     ]
    },
    {
     "name": "stderr",
     "output_type": "stream",
     "text": [
      "\n",
      "[notice] A new release of pip is available: 24.1 -> 25.1.1\n",
      "[notice] To update, run: python.exe -m pip install --upgrade pip\n"
     ]
    }
   ],
   "source": [
    "import sys\n",
    "!{sys.executable} -m pip install stixorm\n",
    "import logging\n",
    "logger = logging.getLogger(__name__)\n",
    "logger.setLevel(logging.INFO)"
   ]
  },
  {
   "cell_type": "markdown",
   "metadata": {
    "collapsed": false
   },
   "source": [
    "### A.2 Relative Path Imports\n",
    "https://stackoverflow.com/questions/76162459/jupyter-notebook-importerror-attempted-relative-import-with-no-known-parent-pac/77528726#77528726"
   ]
  },
  {
   "cell_type": "code",
   "execution_count": 2,
   "metadata": {
    "ExecuteTime": {
     "end_time": "2025-06-16T11:04:01.499827800Z",
     "start_time": "2025-06-16T11:04:01.485538900Z"
    },
    "collapsed": false
   },
   "outputs": [],
   "source": [
    "import sys\n",
    "sys.path.append('../')\n",
    "import os"
   ]
  },
  {
   "cell_type": "markdown",
   "metadata": {
    "collapsed": false
   },
   "source": [
    "### A.3 Relative Import of Blocks"
   ]
  },
  {
   "cell_type": "code",
   "execution_count": 3,
   "metadata": {
    "ExecuteTime": {
     "end_time": "2025-06-16T11:04:01.563751800Z",
     "start_time": "2025-06-16T11:04:01.503375100Z"
    },
    "collapsed": false
   },
   "outputs": [],
   "source": [
    "import json\n",
    "from Block_Families.StixORM.SCO.Email_Message.make_email_msg import main as make_email_msg\n",
    "from Block_Families.StixORM.SRO.Relationship.make_sro import main as make_sro\n",
    "from Utilities.local_make_sro import invoke_sro_block, invoke_sighting_block\n",
    "from Utilities.local_make_sdo import (\n",
    "    invoke_make_observed_data_block, invoke_make_indicator_block, invoke_make_event_block, invoke_make_sequence_block,\n",
    "    invoke_make_task_block, invoke_make_incident_block\n",
    ")\n",
    "from Utilities.local_make_sco import (\n",
    "    invoke_make_email_addr_block, invoke_make_url_block, invoke_make_e_msg_block,\n",
    ")\n",
    "from Utilities.local_make_general import invoke_create_incident_context, invoke_save_incident_context_block, invoke_get_from_company_block, invoke_get_from_user_block\n",
    "from conv import conv\n",
    "\n",
    "context_base = \"../Orchestration/generated/os-triage/context_mem/\"\n",
    "path_base = \"../Block_Families/Objects/\"\n",
    "results_base = \"../Orchestration/Results/\"\n",
    "sro_data = \"SRO/Relationship/sro_derived.json\"\n",
    "alert_data = {\n",
    "    \"from\": \"evil@northkorea.nk\",\n",
    "    \"to\": \"naive@example.com\",\n",
    "    \"reporter\": \"Naive Smith\",\n",
    "    \"url\": \"https://www.northkorea.nk/we/are/mad/\"\n",
    "}\n",
    "alert_details = {\n",
    "    \"alert_name\": \"Suspcious Email\",\n",
    "    \"alert_source\": \"user-report\",\n",
    "    \"alert_log\": \"I have found a suspicious email\"\n",
    "}\n",
    "\n",
    "TR_Context_Memory_Path = \"./Context_Mem/Type_Refinery_Context.json\""
   ]
  },
  {
   "cell_type": "markdown",
   "metadata": {
    "collapsed": false
   },
   "source": [
    "## A.4. Create the Incident Object with empty objects\n",
    "\n",
    "Create the Incident object and assign all of the objets to it"
   ]
  },
  {
   "cell_type": "code",
   "execution_count": 4,
   "metadata": {
    "ExecuteTime": {
     "end_time": "2025-06-16T11:04:01.641117400Z",
     "start_time": "2025-06-16T11:04:01.567278400Z"
    },
    "collapsed": false
   },
   "outputs": [
    {
     "name": "stdout",
     "output_type": "stream",
     "text": [
      "{\n",
      "    \"type\": \"incident\",\n",
      "    \"spec_version\": \"2.1\",\n",
      "    \"id\": \"incident--145eb841-90db-4526-8407-b25fd2d705c1\",\n",
      "    \"created\": \"2025-07-27T06:01:14.656Z\",\n",
      "    \"modified\": \"2025-07-27T06:01:14.656Z\",\n",
      "    \"name\": \"potential phishing\",\n",
      "    \"extensions\": {\n",
      "        \"extension-definition--ef765651-680c-498d-9894-99799f2fa126\": {\n",
      "            \"extension_type\": \"property-extension\",\n",
      "            \"investigation_status\": \"new\",\n",
      "            \"incident_types\": [\n",
      "                \"dissemination-phishing-emails\"\n",
      "            ]\n",
      "        }\n",
      "    }\n",
      "}\n",
      " result->{'context_result': ' incident context created -> incident--145eb841-90db-4526-8407-b25fd2d705c1\\nstix_id -> incident--145eb841-90db-4526-8407-b25fd2d705c1'}\n"
     ]
    }
   ],
   "source": [
    "# 1. Setup path to form and results\n",
    "inc_path =\"SDO/Incident/phishing_incident.json\"\n",
    "results_path =\"step1/incident_alert.json\"\n",
    "# 2. Setup the Sequence Object for the Event\n",
    "#\n",
    "sequence_start_refs = []\n",
    "sequence_refs = []\n",
    "task_refs = []\n",
    "event_refs = []\n",
    "impact_refs = []\n",
    "other_object_refs = []\n",
    "# 2. Invoke the Make Observed Data Block\n",
    "incident_list = invoke_make_incident_block(inc_path, results_path, sequence_start_refs, sequence_refs, task_refs,event_refs, impact_refs, other_object_refs)\n",
    "# 3. Add the record to the in-session bundles and lists\n",
    "context_type = {\n",
    "    \"context_type\": \"incident\"\n",
    "}\n",
    "incident_results_context_path = results_base + \"step1/incident_context.json\"\n",
    "result = invoke_create_incident_context(results_base + results_path, incident_results_context_path)\n",
    "print(f\" result->{result}\")"
   ]
  },
  {
   "cell_type": "markdown",
   "metadata": {
    "collapsed": false
   },
   "source": [
    "## B. Create the Objects to Document the Phishing Alert\n",
    "\n",
    "### B.1 Create the Email Address for the Threat Actor"
   ]
  },
  {
   "cell_type": "code",
   "execution_count": 5,
   "metadata": {
    "ExecuteTime": {
     "end_time": "2025-06-16T11:04:01.727304200Z",
     "start_time": "2025-06-16T11:04:01.643128800Z"
    },
    "collapsed": false
   },
   "outputs": [
    {
     "name": "stdout",
     "output_type": "stream",
     "text": [
      "{\n",
      "    \"type\": \"email-addr\",\n",
      "    \"spec_version\": \"2.1\",\n",
      "    \"id\": \"email-addr--eb38d07e-6ba8-56c1-b107-d4db4aacf212\",\n",
      "    \"value\": \"evil@northkorea.nk\",\n",
      "    \"display_name\": \"Bad Man\"\n",
      "}\n",
      "input data->{'stix_object': {'type': 'email-addr', 'spec_version': '2.1', 'id': 'email-addr--eb38d07e-6ba8-56c1-b107-d4db4aacf212', 'value': 'evil@northkorea.nk', 'display_name': 'Bad Man'}, 'context_type': {'context_type': 'unattached'}}\n",
      "from ports \n",
      "stix_object->{'type': 'email-addr', 'spec_version': '2.1', 'id': 'email-addr--eb38d07e-6ba8-56c1-b107-d4db4aacf212', 'value': 'evil@northkorea.nk', 'display_name': 'Bad Man'}\n",
      "context type->unattached\n",
      " result->{'context_result': ' incident context saved - \\nstix_id -> email-addr--eb38d07e-6ba8-56c1-b107-d4db4aacf212'}\n"
     ]
    }
   ],
   "source": [
    "email_path = \"SCO/Email_Addr/email_addr_THREAT.json\"\n",
    "results_path = \"step1/THREAT__\"\n",
    "# 1. invoke the email object using method from ./Utilities/local_make_sco.py\n",
    "threat_email_addr = invoke_make_email_addr_block(email_path, results_path)\n",
    "# 2. add the record to the in-session bundles and incident lists\n",
    "results_path2 = \"__email.json\"\n",
    "context_type = {\n",
    "    \"context_type\": \"unattached\"\n",
    "}\n",
    "email_object_path = results_base + results_path + results_path2\n",
    "email_results_context_path = results_base + results_path + \"context\" + results_path2\n",
    "result = invoke_save_incident_context_block(email_object_path, email_results_context_path, context_type)\n",
    "print(f\" result->{result}\")"
   ]
  },
  {
   "cell_type": "markdown",
   "metadata": {
    "collapsed": false
   },
   "source": [
    "### B.2 Retrieve the TR User Account, the Email Address, and the TR Identity from the Context Memory"
   ]
  },
  {
   "cell_type": "code",
   "execution_count": 6,
   "metadata": {
    "ExecuteTime": {
     "end_time": "2025-06-16T11:04:01.884888300Z",
     "start_time": "2025-06-16T11:04:01.675884100Z"
    },
    "collapsed": false
   },
   "outputs": [
    {
     "name": "stdout",
     "output_type": "stream",
     "text": [
      "company query->{'type': 'email-addr', 'property': {'path': ['value'], 'source_value': 'naive@example.com', 'comparator': 'EQ'}}\n",
      "company query->{'type': 'user-account', 'property': {'path': ['id'], 'source_value': 'user-account--597ad4d4-35ba-585d-8f6d-134a75032f9b', 'comparator': 'EQ'}}\n",
      "company query->{'type': 'identity', 'property': {'path': ['name'], 'source_value': 'Naive Smith', 'comparator': 'EQ'}}\n",
      "\n",
      "reporter_email_addr-->{'type': 'email-addr', 'spec_version': '2.1', 'id': 'email-addr--4722424c-7012-56b0-84d5-01d076fc547b', 'value': 'naive@example.com', 'display_name': 'Naive Smith', 'belongs_to_ref': 'user-account--597ad4d4-35ba-585d-8f6d-134a75032f9b'}\n",
      "\n",
      "reporter_account-->{'type': 'user-account', 'spec_version': '2.1', 'id': 'user-account--597ad4d4-35ba-585d-8f6d-134a75032f9b', 'user_id': '79563902', 'account_login': 'nsmith', 'account_type': 'sales,', 'display_name': 'Naive Smith'}\n",
      "\n",
      "reporter_identity-->{'type': 'identity', 'spec_version': '2.1', 'id': 'identity--ce31dd38-f69b-45ba-9bcd-2a208bbf8017', 'created': '2025-07-27T06:00:42.271Z', 'modified': '2025-07-27T06:00:42.271Z', 'name': 'Naive Smith', 'description': 'A Naive Individual', 'roles': ['user', 'sales'], 'identity_class': 'individual', 'sectors': ['technology'], 'extensions': {'extension-definition--66e2492a-bbd3-4be6-88f5-cc91a017a498': {'extension_type': 'property-extension', 'contact_numbers': [{'contact_number_type': 'work-phone', 'contact_number': '0499-999-109'}], 'email_addresses': [{'digital_contact_type': 'work', 'email_address_ref': 'email-addr--4722424c-7012-56b0-84d5-01d076fc547b'}], 'first_name': 'Naive', 'last_name': 'Smith', 'middle_name': 'Weakling', 'prefix': 'Mr', 'social_media_accounts': [{'digital_contact_type': 'work', 'user_account_ref': 'user-account--597ad4d4-35ba-585d-8f6d-134a75032f9b'}], 'team': 'Sales'}}}\n",
      "\n",
      "TR_identity-->{'type': 'identity', 'spec_version': '2.1', 'id': 'identity--31f2aeea-dfe1-4fc9-98c9-38e590e3b55b', 'created': '2025-07-27T06:00:40.582Z', 'modified': '2025-07-27T06:00:40.582Z', 'name': 'Trusty Jones', 'description': 'A Trusty Individual', 'roles': ['soc', 'support'], 'identity_class': 'individual', 'sectors': ['technology'], 'extensions': {'extension-definition--66e2492a-bbd3-4be6-88f5-cc91a017a498': {'extension_type': 'property-extension', 'contact_numbers': [{'contact_number_type': 'work-phone', 'contact_number': '0418-208-368'}], 'email_addresses': [{'digital_contact_type': 'work', 'email_address_ref': 'email-addr--c99b87bd-f0a8-50ca-9f84-68072efc61e3'}], 'first_name': 'Me', 'last_name': 'Jones', 'middle_name': 'Percival', 'prefix': 'Dr', 'social_media_accounts': [{'digital_contact_type': 'work', 'user_account_ref': 'user-account--83658594-537d-5c32-b9f0-137354bd9bc3'}], 'team': 'os-threat'}}}\n",
      "input data->{'stix_object': {'type': 'email-addr', 'spec_version': '2.1', 'id': 'email-addr--4722424c-7012-56b0-84d5-01d076fc547b', 'value': 'naive@example.com', 'display_name': 'Naive Smith', 'belongs_to_ref': 'user-account--597ad4d4-35ba-585d-8f6d-134a75032f9b'}, 'context_type': {'context_type': 'unattached'}}\n",
      "from ports \n",
      "stix_object->{'type': 'email-addr', 'spec_version': '2.1', 'id': 'email-addr--4722424c-7012-56b0-84d5-01d076fc547b', 'value': 'naive@example.com', 'display_name': 'Naive Smith', 'belongs_to_ref': 'user-account--597ad4d4-35ba-585d-8f6d-134a75032f9b'}\n",
      "context type->unattached\n",
      " result->{'context_result': ' incident context saved - \\nstix_id -> email-addr--4722424c-7012-56b0-84d5-01d076fc547b'}\n",
      "input data->{'stix_object': {'type': 'user-account', 'spec_version': '2.1', 'id': 'user-account--597ad4d4-35ba-585d-8f6d-134a75032f9b', 'user_id': '79563902', 'account_login': 'nsmith', 'account_type': 'sales,', 'display_name': 'Naive Smith'}, 'context_type': {'context_type': 'unattached'}}\n",
      "from ports \n",
      "stix_object->{'type': 'user-account', 'spec_version': '2.1', 'id': 'user-account--597ad4d4-35ba-585d-8f6d-134a75032f9b', 'user_id': '79563902', 'account_login': 'nsmith', 'account_type': 'sales,', 'display_name': 'Naive Smith'}\n",
      "context type->unattached\n",
      " result->{'context_result': ' incident context saved - \\nstix_id -> user-account--597ad4d4-35ba-585d-8f6d-134a75032f9b'}\n",
      "input data->{'stix_object': {'type': 'identity', 'spec_version': '2.1', 'id': 'identity--ce31dd38-f69b-45ba-9bcd-2a208bbf8017', 'created': '2025-07-27T06:00:42.271Z', 'modified': '2025-07-27T06:00:42.271Z', 'name': 'Naive Smith', 'description': 'A Naive Individual', 'roles': ['user', 'sales'], 'identity_class': 'individual', 'sectors': ['technology'], 'extensions': {'extension-definition--66e2492a-bbd3-4be6-88f5-cc91a017a498': {'extension_type': 'property-extension', 'contact_numbers': [{'contact_number_type': 'work-phone', 'contact_number': '0499-999-109'}], 'email_addresses': [{'digital_contact_type': 'work', 'email_address_ref': 'email-addr--4722424c-7012-56b0-84d5-01d076fc547b'}], 'first_name': 'Naive', 'last_name': 'Smith', 'middle_name': 'Weakling', 'prefix': 'Mr', 'social_media_accounts': [{'digital_contact_type': 'work', 'user_account_ref': 'user-account--597ad4d4-35ba-585d-8f6d-134a75032f9b'}], 'team': 'Sales'}}}, 'context_type': {'context_type': 'unattached'}}\n",
      "from ports \n",
      "stix_object->{'type': 'identity', 'spec_version': '2.1', 'id': 'identity--ce31dd38-f69b-45ba-9bcd-2a208bbf8017', 'created': '2025-07-27T06:00:42.271Z', 'modified': '2025-07-27T06:00:42.271Z', 'name': 'Naive Smith', 'description': 'A Naive Individual', 'roles': ['user', 'sales'], 'identity_class': 'individual', 'sectors': ['technology'], 'extensions': {'extension-definition--66e2492a-bbd3-4be6-88f5-cc91a017a498': {'extension_type': 'property-extension', 'contact_numbers': [{'contact_number_type': 'work-phone', 'contact_number': '0499-999-109'}], 'email_addresses': [{'digital_contact_type': 'work', 'email_address_ref': 'email-addr--4722424c-7012-56b0-84d5-01d076fc547b'}], 'first_name': 'Naive', 'last_name': 'Smith', 'middle_name': 'Weakling', 'prefix': 'Mr', 'social_media_accounts': [{'digital_contact_type': 'work', 'user_account_ref': 'user-account--597ad4d4-35ba-585d-8f6d-134a75032f9b'}], 'team': 'Sales'}}}\n",
      "context type->unattached\n",
      " result->{'context_result': ' incident context saved - \\nstix_id -> identity--ce31dd38-f69b-45ba-9bcd-2a208bbf8017'}\n",
      "input data->{'stix_object': {'type': 'identity', 'spec_version': '2.1', 'id': 'identity--31f2aeea-dfe1-4fc9-98c9-38e590e3b55b', 'created': '2025-07-27T06:00:40.582Z', 'modified': '2025-07-27T06:00:40.582Z', 'name': 'Trusty Jones', 'description': 'A Trusty Individual', 'roles': ['soc', 'support'], 'identity_class': 'individual', 'sectors': ['technology'], 'extensions': {'extension-definition--66e2492a-bbd3-4be6-88f5-cc91a017a498': {'extension_type': 'property-extension', 'contact_numbers': [{'contact_number_type': 'work-phone', 'contact_number': '0418-208-368'}], 'email_addresses': [{'digital_contact_type': 'work', 'email_address_ref': 'email-addr--c99b87bd-f0a8-50ca-9f84-68072efc61e3'}], 'first_name': 'Me', 'last_name': 'Jones', 'middle_name': 'Percival', 'prefix': 'Dr', 'social_media_accounts': [{'digital_contact_type': 'work', 'user_account_ref': 'user-account--83658594-537d-5c32-b9f0-137354bd9bc3'}], 'team': 'os-threat'}}}, 'context_type': {'context_type': 'unattached'}}\n",
      "from ports \n",
      "stix_object->{'type': 'identity', 'spec_version': '2.1', 'id': 'identity--31f2aeea-dfe1-4fc9-98c9-38e590e3b55b', 'created': '2025-07-27T06:00:40.582Z', 'modified': '2025-07-27T06:00:40.582Z', 'name': 'Trusty Jones', 'description': 'A Trusty Individual', 'roles': ['soc', 'support'], 'identity_class': 'individual', 'sectors': ['technology'], 'extensions': {'extension-definition--66e2492a-bbd3-4be6-88f5-cc91a017a498': {'extension_type': 'property-extension', 'contact_numbers': [{'contact_number_type': 'work-phone', 'contact_number': '0418-208-368'}], 'email_addresses': [{'digital_contact_type': 'work', 'email_address_ref': 'email-addr--c99b87bd-f0a8-50ca-9f84-68072efc61e3'}], 'first_name': 'Me', 'last_name': 'Jones', 'middle_name': 'Percival', 'prefix': 'Dr', 'social_media_accounts': [{'digital_contact_type': 'work', 'user_account_ref': 'user-account--83658594-537d-5c32-b9f0-137354bd9bc3'}], 'team': 'os-threat'}}}\n",
      "context type->unattached\n",
      " result->{'context_result': ' incident context saved - \\nstix_id -> identity--31f2aeea-dfe1-4fc9-98c9-38e590e3b55b'}\n"
     ]
    }
   ],
   "source": [
    "# 1. For Naive Smith, find the user account and the email. Plus get my own identity\n",
    "reporter_name = alert_data[\"reporter\"]\n",
    "to_email_addr = alert_data[\"to\"]\n",
    "TR_name = \"Trusty Jones\"\n",
    "#\n",
    "# 2. Setup variables and queries to get the objects from options\n",
    "#\n",
    "context_type = {\n",
    "    \"context_type\": \"users\"\n",
    "}\n",
    "email_query = {\n",
    "    \"type\" : \"email-addr\",\n",
    "    \"property\": {\n",
    "        \"path\": [\"value\"],\n",
    "        \"source_value\": to_email_addr,\n",
    "        \"comparator\": \"EQ\"\n",
    "    }\n",
    "}\n",
    "reporter_ident_query = {\n",
    "    \"type\" : \"identity\",\n",
    "    \"property\": {\n",
    "        \"path\": [\"name\"],\n",
    "        \"source_value\": reporter_name,\n",
    "        \"comparator\": \"EQ\"\n",
    "    }\n",
    "}\n",
    "reporter_email_addr = invoke_get_from_company_block(email_query, context_type, source_value=None, source_id=None)\n",
    "usr_acct_query = {\n",
    "    \"type\" : \"user-account\",\n",
    "    \"property\": {\n",
    "        \"path\": [\"id\"],\n",
    "        \"source_value\": reporter_email_addr[\"belongs_to_ref\"],\n",
    "        \"comparator\": \"EQ\"\n",
    "    }\n",
    "}\n",
    "reporter_account = invoke_get_from_company_block(usr_acct_query, context_type, source_value=None, source_id=None)\n",
    "reporter_identity = invoke_get_from_company_block(reporter_ident_query, context_type, source_value=None, source_id=None)\n",
    "context_type = {\n",
    "    \"context_type\": \"me\"\n",
    "}\n",
    "TR_ident_query = {\n",
    "    \"type\" : \"identity\",\n",
    "    \"property\": {\n",
    "        \"path\": [\"name\"],\n",
    "        \"source_value\": TR_name,\n",
    "        \"comparator\": \"EQ\"\n",
    "    }\n",
    "}\n",
    "TR_identity = invoke_get_from_user_block(TR_ident_query, context_type, source_value=None, source_id=None)\n",
    "#\n",
    "print(f\"\\nreporter_email_addr-->{reporter_email_addr}\")\n",
    "print(f\"\\nreporter_account-->{reporter_account}\")\n",
    "print(f\"\\nreporter_identity-->{reporter_identity}\")\n",
    "print(f\"\\nTR_identity-->{TR_identity}\")\n",
    "#\n",
    "# 3. save the objects to \"unattached\"\n",
    "#\n",
    "context_type = {\n",
    "    \"context_type\": \"unattached\"\n",
    "}\n",
    "email_results_obj_path = results_base + \"/step0/Usr1__email.json\"\n",
    "email_results_context_path = results_base + \"/step1/context/usr2__email_context.json\"\n",
    "result = invoke_save_incident_context_block(email_results_obj_path, email_results_context_path, context_type)\n",
    "print(f\" result->{result}\")\n",
    "acct_results_obj_path = results_base + \"/step0/Usr1__usr_acct.json\"\n",
    "acct_results_context_path = results_base + \"/step1/context/usr2__usr_acct_context.json\"\n",
    "result = invoke_save_incident_context_block(acct_results_obj_path, acct_results_context_path, context_type)\n",
    "print(f\" result->{result}\")\n",
    "ident_results_obj_path = results_base + \"/step0/Usr1__ident.json\"\n",
    "ident_results_context_path = results_base  + \"/step1/context/usr2__ident_context.json\"\n",
    "result = invoke_save_incident_context_block(ident_results_obj_path, ident_results_context_path, context_type)\n",
    "print(f\" result->{result}\")\n",
    "ident_results_obj_path = results_base  + \"/step0/TR_Identity__ident.json\"\n",
    "ident_results_context_path = results_base + \"/step1/context/TR_Identity__ident_context.json\"\n",
    "result = invoke_save_incident_context_block(ident_results_obj_path, ident_results_context_path, context_type)\n",
    "print(f\" result->{result}\")"
   ]
  },
  {
   "cell_type": "markdown",
   "metadata": {
    "collapsed": false
   },
   "source": [
    "### B.3 Make the URL"
   ]
  },
  {
   "cell_type": "code",
   "execution_count": 7,
   "metadata": {
    "ExecuteTime": {
     "end_time": "2025-06-16T11:04:01.972243100Z",
     "start_time": "2025-06-16T11:04:01.887897500Z"
    },
    "collapsed": false
   },
   "outputs": [
    {
     "name": "stdout",
     "output_type": "stream",
     "text": [
      "{\n",
      "    \"type\": \"url\",\n",
      "    \"spec_version\": \"2.1\",\n",
      "    \"id\": \"url--3279c7de-8f91-5c1a-99d9-d6546c6c41f7\",\n",
      "    \"value\": \"https://www.northkorea.nk/we/are/mad/\"\n",
      "}\n",
      "input data->{'stix_object': {'type': 'url', 'spec_version': '2.1', 'id': 'url--3279c7de-8f91-5c1a-99d9-d6546c6c41f7', 'value': 'https://www.northkorea.nk/we/are/mad/'}, 'context_type': {'context_type': 'unattached'}}\n",
      "from ports \n",
      "stix_object->{'type': 'url', 'spec_version': '2.1', 'id': 'url--3279c7de-8f91-5c1a-99d9-d6546c6c41f7', 'value': 'https://www.northkorea.nk/we/are/mad/'}\n",
      "context type->unattached\n",
      " sus_url_context->{'context_result': ' incident context saved - \\nstix_id -> url--3279c7de-8f91-5c1a-99d9-d6546c6c41f7'}\n"
     ]
    }
   ],
   "source": [
    "url_path = \"SCO/URL/suspicious_url.json\"\n",
    "results_path = \"step1/THREAT__url.json\"\n",
    "hyperlink = alert_data[\"url\"]\n",
    "# make the email object\n",
    "sus_url = invoke_make_url_block(url_path, results_path, hyperlink)\n",
    "# add the record to the in-session bundles and lists+\n",
    "context_type = {\n",
    "    \"context_type\": \"unattached\"\n",
    "}\n",
    "url_results_context_path = results_base + \"/step1/THREAT__url_context.json\"\n",
    "sus_url_context = invoke_save_incident_context_block(results_base + results_path, url_results_context_path, context_type)\n",
    "print(f\" sus_url_context->{sus_url_context}\")"
   ]
  },
  {
   "cell_type": "markdown",
   "metadata": {
    "collapsed": false
   },
   "source": [
    "### B.4 Make the Email Message"
   ]
  },
  {
   "cell_type": "code",
   "execution_count": 8,
   "metadata": {
    "ExecuteTime": {
     "end_time": "2025-06-16T11:04:01.992328800Z",
     "start_time": "2025-06-16T11:04:01.919979900Z"
    },
    "collapsed": false
   },
   "outputs": [
    {
     "name": "stdout",
     "output_type": "stream",
     "text": [
      "{\n",
      "    \"type\": \"email-message\",\n",
      "    \"spec_version\": \"2.1\",\n",
      "    \"id\": \"email-message--6090e3d4-1fa8-5b36-9d2d-4a66d824995d\",\n",
      "    \"is_multipart\": false,\n",
      "    \"date\": \"2020-10-19T01:01:01Z\",\n",
      "    \"from_ref\": \"email-addr--eb38d07e-6ba8-56c1-b107-d4db4aacf212\",\n",
      "    \"to_refs\": [\n",
      "        \"email-addr--4722424c-7012-56b0-84d5-01d076fc547b\"\n",
      "    ],\n",
      "    \"subject\": \"we are coming for you\",\n",
      "    \"body\": \"some bad stuff written here\"\n",
      "}\n",
      "input data->{'stix_object': {'type': 'email-message', 'spec_version': '2.1', 'id': 'email-message--6090e3d4-1fa8-5b36-9d2d-4a66d824995d', 'is_multipart': False, 'date': '2020-10-19T01:01:01.000Z', 'from_ref': 'email-addr--eb38d07e-6ba8-56c1-b107-d4db4aacf212', 'to_refs': ['email-addr--4722424c-7012-56b0-84d5-01d076fc547b'], 'subject': 'we are coming for you', 'body': 'some bad stuff written here'}, 'context_type': {'context_type': 'unattached'}}\n",
      "from ports \n",
      "stix_object->{'type': 'email-message', 'spec_version': '2.1', 'id': 'email-message--6090e3d4-1fa8-5b36-9d2d-4a66d824995d', 'is_multipart': False, 'date': '2020-10-19T01:01:01.000Z', 'from_ref': 'email-addr--eb38d07e-6ba8-56c1-b107-d4db4aacf212', 'to_refs': ['email-addr--4722424c-7012-56b0-84d5-01d076fc547b'], 'subject': 'we are coming for you', 'body': 'some bad stuff written here'}\n",
      "context type->unattached\n",
      " result->{'context_result': ' incident context saved - \\nstix_id -> email-message--6090e3d4-1fa8-5b36-9d2d-4a66d824995d'}\n"
     ]
    }
   ],
   "source": [
    "msg_path = \"SCO/Email_Message/suspicious_email_msg.json\"\n",
    "results_path = \"step1/SUSS__email_msg.json\"\n",
    "from_ref = threat_email_addr\n",
    "to_ref = [reporter_email_addr]\n",
    "cc_ref = []\n",
    "bcc_ref = []\n",
    "# make the email object\n",
    "sus_msg = invoke_make_e_msg_block(msg_path, results_path, from_ref, to_ref, cc_ref, bcc_ref)\n",
    "# add the record to the in-session bundles and lists\n",
    "context_type = {\n",
    "    \"context_type\": \"unattached\"\n",
    "}\n",
    "msg_results_context_path = results_base + \"step1/THREAT__email_msg_context.json\"\n",
    "result = invoke_save_incident_context_block(results_base + results_path, msg_results_context_path, context_type)\n",
    "print(f\" result->{result}\")"
   ]
  },
  {
   "cell_type": "markdown",
   "metadata": {
    "collapsed": false
   },
   "source": [
    "### B.4 Make the \"derived-from\" SRO"
   ]
  },
  {
   "cell_type": "code",
   "execution_count": 9,
   "metadata": {
    "ExecuteTime": {
     "end_time": "2025-06-16T11:04:02.059066300Z",
     "start_time": "2025-06-16T11:04:01.980736900Z"
    },
    "collapsed": false
   },
   "outputs": [
    {
     "name": "stdout",
     "output_type": "stream",
     "text": [
      "input file->{'relationship_form': {'base_required': {'type': 'relationship', 'spec_version': '2.1', 'id': '', 'created': '', 'modified': ''}, 'base_optional': {'created_by_ref': '', 'revoked': None, 'labels': [], 'lang': '', 'external_references': [], 'object_marking_refs': [], 'granular_markings': [], 'defanged': None}, 'object': {'relationship_type': 'derived-from', 'source_ref': '', 'target_ref': '', 'start_time': None, 'stop_time': None}, 'extensions': {}, 'sub': {}}, 'source': {'type': 'email-message', 'spec_version': '2.1', 'id': 'email-message--6090e3d4-1fa8-5b36-9d2d-4a66d824995d', 'is_multipart': False, 'date': '2020-10-19T01:01:01Z', 'from_ref': 'email-addr--eb38d07e-6ba8-56c1-b107-d4db4aacf212', 'to_refs': ['email-addr--4722424c-7012-56b0-84d5-01d076fc547b'], 'subject': 'we are coming for you', 'body': 'some bad stuff written here'}, 'target': {'type': 'url', 'spec_version': '2.1', 'id': 'url--3279c7de-8f91-5c1a-99d9-d6546c6c41f7', 'value': 'https://www.northkorea.nk/we/are/mad/'}, 'relationship_type': 'derived-from'}\n",
      "{\n",
      "    \"type\": \"relationship\",\n",
      "    \"spec_version\": \"2.1\",\n",
      "    \"id\": \"relationship--fdb30d7a-cb62-45f6-8a71-ff544847e6bd\",\n",
      "    \"created\": \"2025-07-27T06:01:15.425Z\",\n",
      "    \"modified\": \"2025-07-27T06:01:15.425Z\",\n",
      "    \"relationship_type\": \"derived-from\",\n",
      "    \"source_ref\": \"email-message--6090e3d4-1fa8-5b36-9d2d-4a66d824995d\",\n",
      "    \"target_ref\": \"url--3279c7de-8f91-5c1a-99d9-d6546c6c41f7\"\n",
      "}\n",
      "input data->{'stix_object': {'type': 'relationship', 'spec_version': '2.1', 'id': 'relationship--fdb30d7a-cb62-45f6-8a71-ff544847e6bd', 'created': '2025-07-27T06:01:15.425Z', 'modified': '2025-07-27T06:01:15.425Z', 'relationship_type': 'derived-from', 'source_ref': 'email-message--6090e3d4-1fa8-5b36-9d2d-4a66d824995d', 'target_ref': 'url--3279c7de-8f91-5c1a-99d9-d6546c6c41f7'}, 'context_type': {'context_type': 'unattached'}}\n",
      "from ports \n",
      "stix_object->{'type': 'relationship', 'spec_version': '2.1', 'id': 'relationship--fdb30d7a-cb62-45f6-8a71-ff544847e6bd', 'created': '2025-07-27T06:01:15.425Z', 'modified': '2025-07-27T06:01:15.425Z', 'relationship_type': 'derived-from', 'source_ref': 'email-message--6090e3d4-1fa8-5b36-9d2d-4a66d824995d', 'target_ref': 'url--3279c7de-8f91-5c1a-99d9-d6546c6c41f7'}\n",
      "context type->unattached\n",
      " result->{'context_result': ' incident context saved - \\nstix_id -> relationship--fdb30d7a-cb62-45f6-8a71-ff544847e6bd'}\n"
     ]
    }
   ],
   "source": [
    "# make the email object\n",
    "relationship_type = \"derived-from\"\n",
    "sro_data_path = \"SRO/Relationship/sro_derived.json\"\n",
    "sro_results_path = \"step1/SRO_derived\"\n",
    "sus_relation = invoke_sro_block(sro_data_path, sro_results_path, sus_msg, sus_url, relationship_type)\n",
    "sro_results_path2 = results_base + sro_results_path + \"__rel.json\"\n",
    "# add the record to the in-session bundles and lists\n",
    "context_type = {\n",
    "    \"context_type\": \"unattached\"\n",
    "}\n",
    "msg_results_context_path = results_base + \"step1/context/THREAT__email_SRO_context.json\"\n",
    "result = invoke_save_incident_context_block(sro_results_path2, msg_results_context_path, context_type)\n",
    "print(f\" result->{result}\")"
   ]
  },
  {
   "cell_type": "markdown",
   "metadata": {
    "collapsed": false
   },
   "source": [
    "## C. Collect the Elements of the Observation into an Observed-Data Object\n",
    "\n",
    "Tbis then represents the potential phishing email as a group of elements"
   ]
  },
  {
   "cell_type": "code",
   "execution_count": 10,
   "metadata": {
    "ExecuteTime": {
     "end_time": "2025-06-16T11:04:02.069813500Z",
     "start_time": "2025-06-16T11:04:02.027514Z"
    },
    "collapsed": false
   },
   "outputs": [
    {
     "name": "stdout",
     "output_type": "stream",
     "text": [
      "{\n",
      "    \"type\": \"observed-data\",\n",
      "    \"spec_version\": \"2.1\",\n",
      "    \"id\": \"observed-data--5aa35ce5-7d95-4cbb-8ab4-f29b44de80ad\",\n",
      "    \"created\": \"2025-07-27T06:01:15.521Z\",\n",
      "    \"modified\": \"2025-07-27T06:01:15.521Z\",\n",
      "    \"first_observed\": \"2020-10-19T01:01:01Z\",\n",
      "    \"last_observed\": \"2020-10-19T01:01:01Z\",\n",
      "    \"number_observed\": 1,\n",
      "    \"object_refs\": [\n",
      "        \"email-addr--eb38d07e-6ba8-56c1-b107-d4db4aacf212\",\n",
      "        \"user-account--597ad4d4-35ba-585d-8f6d-134a75032f9b\",\n",
      "        \"email-addr--4722424c-7012-56b0-84d5-01d076fc547b\",\n",
      "        \"url--3279c7de-8f91-5c1a-99d9-d6546c6c41f7\",\n",
      "        \"email-message--6090e3d4-1fa8-5b36-9d2d-4a66d824995d\",\n",
      "        \"relationship--fdb30d7a-cb62-45f6-8a71-ff544847e6bd\"\n",
      "    ]\n",
      "}\n",
      "input data->{'stix_object': {'type': 'observed-data', 'spec_version': '2.1', 'id': 'observed-data--5aa35ce5-7d95-4cbb-8ab4-f29b44de80ad', 'created': '2025-07-27T06:01:15.521Z', 'modified': '2025-07-27T06:01:15.521Z', 'first_observed': '2020-10-19T01:01:01.000Z', 'last_observed': '2020-10-19T01:01:01.000Z', 'number_observed': 1, 'object_refs': ['email-addr--eb38d07e-6ba8-56c1-b107-d4db4aacf212', 'user-account--597ad4d4-35ba-585d-8f6d-134a75032f9b', 'email-addr--4722424c-7012-56b0-84d5-01d076fc547b', 'url--3279c7de-8f91-5c1a-99d9-d6546c6c41f7', 'email-message--6090e3d4-1fa8-5b36-9d2d-4a66d824995d', 'relationship--fdb30d7a-cb62-45f6-8a71-ff544847e6bd']}, 'context_type': {'context_type': 'unattached'}}\n",
      "from ports \n",
      "stix_object->{'type': 'observed-data', 'spec_version': '2.1', 'id': 'observed-data--5aa35ce5-7d95-4cbb-8ab4-f29b44de80ad', 'created': '2025-07-27T06:01:15.521Z', 'modified': '2025-07-27T06:01:15.521Z', 'first_observed': '2020-10-19T01:01:01.000Z', 'last_observed': '2020-10-19T01:01:01.000Z', 'number_observed': 1, 'object_refs': ['email-addr--eb38d07e-6ba8-56c1-b107-d4db4aacf212', 'user-account--597ad4d4-35ba-585d-8f6d-134a75032f9b', 'email-addr--4722424c-7012-56b0-84d5-01d076fc547b', 'url--3279c7de-8f91-5c1a-99d9-d6546c6c41f7', 'email-message--6090e3d4-1fa8-5b36-9d2d-4a66d824995d', 'relationship--fdb30d7a-cb62-45f6-8a71-ff544847e6bd']}\n",
      "context type->unattached\n",
      " result->{'context_result': ' incident context saved - \\nstix_id -> observed-data--5aa35ce5-7d95-4cbb-8ab4-f29b44de80ad'}\n"
     ]
    }
   ],
   "source": [
    "# 1. Emulate \"Add to List\" Block\n",
    "observed_list = []\n",
    "observed_list.append(threat_email_addr)\n",
    "observed_list.append(reporter_account)\n",
    "observed_list.append(reporter_email_addr)\n",
    "observed_list.append(sus_url)\n",
    "observed_list.append(sus_msg)\n",
    "observed_list.append(sus_relation)\n",
    "# 2. Setup path to form and results\n",
    "obs_path =\"SDO/Observed_Data/observation-alert.json\"\n",
    "results_path =\"step1/observation-alert.json\"\n",
    "# 3. Invoke the Make Observed Data Block\n",
    "obs_1 = invoke_make_observed_data_block(obs_path, results_path, observation=observed_list)\n",
    "# 4. Add the record to the in-session bundles and lists\n",
    "context_type = {\n",
    "    \"context_type\": \"unattached\"\n",
    "}\n",
    "obs_results_context_path = results_base + \"step1/observation-alert_context.json\"\n",
    "result = invoke_save_incident_context_block(results_base + results_path, obs_results_context_path, context_type)\n",
    "print(f\" result->{result}\")"
   ]
  },
  {
   "cell_type": "markdown",
   "metadata": {
    "collapsed": false
   },
   "source": [
    "## D. Create the Alert Sighting\n",
    "\n",
    "Tbis then represents the sighting of potential phishing email as a group of elements\n",
    "\n",
    "### D.1 Create a Indicator with a Pattern for the Phishing Email\n",
    "but set its status to `unkown` to start with"
   ]
  },
  {
   "cell_type": "code",
   "execution_count": 11,
   "metadata": {
    "ExecuteTime": {
     "end_time": "2025-06-16T11:04:02.139074600Z",
     "start_time": "2025-06-16T11:04:02.069813500Z"
    },
    "collapsed": false
   },
   "outputs": [
    {
     "name": "stdout",
     "output_type": "stream",
     "text": [
      "inputfile->../Block_Families/StixORM/SDO/Indicator/indicator_alert.json\n",
      "path exists\n",
      "input->{'indicator_form': {'base_required': {'type': 'identity', 'spec_version': '2.1', 'id': '', 'created': '', 'modified': ''}, 'base_optional': {'created_by_ref': '', 'revoked': None, 'labels': [], 'lang': '', 'external_references': [], 'object_marking_refs': [], 'granular_markings': []}, 'object': {'name': 'Potential Phishing Email', 'description': 'Suspicious email reported by user', 'pattern_type': 'stix', 'pattern': '', 'indicator_types': ['unknown']}, 'extensions': {}, 'sub': {}}, 'pattern': \"[email-addr:value = 'evil@northkorea.nk' AND email:subject = 'we are coming for you']\"}\n",
      "pattern [email-addr:value = 'evil@northkorea.nk' AND email:subject = 'we are coming for you']\n",
      "{\n",
      "    \"type\": \"indicator\",\n",
      "    \"spec_version\": \"2.1\",\n",
      "    \"id\": \"indicator--dd52359a-1dd5-43c3-8970-2cc8aa0e1544\",\n",
      "    \"created\": \"2025-07-27T06:01:15.680Z\",\n",
      "    \"modified\": \"2025-07-27T06:01:15.680Z\",\n",
      "    \"name\": \"Potential Phishing Email\",\n",
      "    \"description\": \"Suspicious email reported by user\",\n",
      "    \"indicator_types\": [\n",
      "        \"unknown\"\n",
      "    ],\n",
      "    \"pattern\": \"[email-addr:value = 'evil@northkorea.nk' AND email:subject = 'we are coming for you']\",\n",
      "    \"pattern_type\": \"stix\",\n",
      "    \"pattern_version\": \"2.1\",\n",
      "    \"valid_from\": \"2025-07-27T06:01:15.68Z\"\n",
      "}\n",
      "input data->{'stix_object': {'type': 'indicator', 'spec_version': '2.1', 'id': 'indicator--dd52359a-1dd5-43c3-8970-2cc8aa0e1544', 'created': '2025-07-27T06:01:15.680Z', 'modified': '2025-07-27T06:01:15.680Z', 'name': 'Potential Phishing Email', 'description': 'Suspicious email reported by user', 'indicator_types': ['unknown'], 'pattern': \"[email-addr:value = 'evil@northkorea.nk' AND email:subject = 'we are coming for you']\", 'pattern_type': 'stix', 'pattern_version': '2.1', 'valid_from': '2025-07-27T06:01:15.680Z'}, 'context_type': {'context_type': 'unattached'}}\n",
      "from ports \n",
      "stix_object->{'type': 'indicator', 'spec_version': '2.1', 'id': 'indicator--dd52359a-1dd5-43c3-8970-2cc8aa0e1544', 'created': '2025-07-27T06:01:15.680Z', 'modified': '2025-07-27T06:01:15.680Z', 'name': 'Potential Phishing Email', 'description': 'Suspicious email reported by user', 'indicator_types': ['unknown'], 'pattern': \"[email-addr:value = 'evil@northkorea.nk' AND email:subject = 'we are coming for you']\", 'pattern_type': 'stix', 'pattern_version': '2.1', 'valid_from': '2025-07-27T06:01:15.680Z'}\n",
      "context type->unattached\n",
      " result->{'context_result': ' incident context saved - \\nstix_id -> indicator--dd52359a-1dd5-43c3-8970-2cc8aa0e1544'}\n"
     ]
    }
   ],
   "source": [
    "# 1. Setup pattern for indicator\n",
    "pat1 = \"[email-addr:value = '\" + threat_email_addr[\"value\"] + \"' AND email:subject = '\" + sus_msg[\"subject\"] + \"']\"\n",
    "# 2. Setup path to form and results\n",
    "ind_path =\"SDO/Indicator/indicator_alert.json\"\n",
    "results_path =\"step1/indicator_alert.json\"\n",
    "# 3. Invoke the Make Observed Data Block\n",
    "ind_1 = invoke_make_indicator_block(ind_path, results_path, pattern=pat1)\n",
    "# 4. Add the record to the in-session bundles and lists\n",
    "context_type = {\n",
    "    \"context_type\": \"unattached\"\n",
    "}\n",
    "indicator_results_context_path = results_base + \"step1/indicator_context.json\"\n",
    "result = invoke_save_incident_context_block(results_base + results_path, indicator_results_context_path, context_type)\n",
    "print(f\" result->{result}\")"
   ]
  },
  {
   "cell_type": "markdown",
   "metadata": {
    "collapsed": false
   },
   "source": [
    "### D.2 Create the Sighting\n",
    "Connecting the:\n",
    "- observed-data object\n",
    "- indicator object\n",
    "- the reporter identity as the location"
   ]
  },
  {
   "cell_type": "code",
   "execution_count": 12,
   "metadata": {
    "ExecuteTime": {
     "end_time": "2025-06-16T11:04:02.155228700Z",
     "start_time": "2025-06-16T11:04:02.127123300Z"
    },
    "collapsed": false
   },
   "outputs": [
    {
     "name": "stdout",
     "output_type": "stream",
     "text": [
      "<class 'dict'>\n",
      "['sighting_form', 'observed_data_refs', 'where_sighted_refs', 'sighting_of_ref']\n",
      "{\n",
      "    \"type\": \"sighting\",\n",
      "    \"spec_version\": \"2.1\",\n",
      "    \"id\": \"sighting--06faabfe-490a-4516-a66e-1340aad78870\",\n",
      "    \"created\": \"2025-07-27T06:01:15.791Z\",\n",
      "    \"modified\": \"2025-07-27T06:01:15.791Z\",\n",
      "    \"count\": 1,\n",
      "    \"sighting_of_ref\": \"indicator--dd52359a-1dd5-43c3-8970-2cc8aa0e1544\",\n",
      "    \"observed_data_refs\": [\n",
      "        \"observed-data--5aa35ce5-7d95-4cbb-8ab4-f29b44de80ad\"\n",
      "    ],\n",
      "    \"where_sighted_refs\": [\n",
      "        \"identity--ce31dd38-f69b-45ba-9bcd-2a208bbf8017\"\n",
      "    ],\n",
      "    \"extensions\": {\n",
      "        \"extension-definition--0d76d6d9-16ca-43fd-bd41-4f800ba8fc43\": {\n",
      "            \"extension_type\": \"property-extension\"\n",
      "        },\n",
      "        \"sighting-alert\": {\n",
      "            \"name\": \"user-report\",\n",
      "            \"log\": \"I have found a suspicious email\",\n",
      "            \"system_id\": \"XYZ-1234\",\n",
      "            \"source\": \"user submission\"\n",
      "        }\n",
      "    }\n",
      "}\n",
      "input data->{'stix_object': {'type': 'sighting', 'spec_version': '2.1', 'id': 'sighting--06faabfe-490a-4516-a66e-1340aad78870', 'created': '2025-07-27T06:01:15.791Z', 'modified': '2025-07-27T06:01:15.791Z', 'count': 1, 'sighting_of_ref': 'indicator--dd52359a-1dd5-43c3-8970-2cc8aa0e1544', 'observed_data_refs': ['observed-data--5aa35ce5-7d95-4cbb-8ab4-f29b44de80ad'], 'where_sighted_refs': ['identity--ce31dd38-f69b-45ba-9bcd-2a208bbf8017'], 'extensions': {'sighting-alert': {'name': 'user-report', 'log': 'I have found a suspicious email', 'system_id': 'XYZ-1234', 'source': 'user submission'}, 'extension-definition--0d76d6d9-16ca-43fd-bd41-4f800ba8fc43': {'extension_type': 'property-extension'}}}, 'context_type': {'context_type': 'unattached'}}\n",
      "from ports \n",
      "stix_object->{'type': 'sighting', 'spec_version': '2.1', 'id': 'sighting--06faabfe-490a-4516-a66e-1340aad78870', 'created': '2025-07-27T06:01:15.791Z', 'modified': '2025-07-27T06:01:15.791Z', 'count': 1, 'sighting_of_ref': 'indicator--dd52359a-1dd5-43c3-8970-2cc8aa0e1544', 'observed_data_refs': ['observed-data--5aa35ce5-7d95-4cbb-8ab4-f29b44de80ad'], 'where_sighted_refs': ['identity--ce31dd38-f69b-45ba-9bcd-2a208bbf8017'], 'extensions': {'sighting-alert': {'name': 'user-report', 'log': 'I have found a suspicious email', 'system_id': 'XYZ-1234', 'source': 'user submission'}, 'extension-definition--0d76d6d9-16ca-43fd-bd41-4f800ba8fc43': {'extension_type': 'property-extension'}}}\n",
      "context type->unattached\n",
      " result->{'context_result': ' incident context saved - \\nstix_id -> sighting--06faabfe-490a-4516-a66e-1340aad78870'}\n"
     ]
    }
   ],
   "source": [
    "# 1. Setup path to form and results\n",
    "sighting_data_path =\"SRO/Sighting/sighting_alert.json\"\n",
    "results_path =\"step1/sighting_alert.json\"\n",
    "# 2. Setup the SDO sighted, the Observed-Data that was observed with generated objects,\n",
    "#                        then the identity object from the context storage (note the slight difference in indexing\n",
    "sighted = ind_1\n",
    "observation_list = [obs_1]\n",
    "where_list = [reporter_identity]\n",
    "# 2. Invoke the Make Observed Data Block\n",
    "sight1 = invoke_sighting_block(sighting_data_path, results_path, observed=observation_list, sighted=sighted, where=where_list)\n",
    "# 3. Add the record to the in-session bundles and lists\n",
    "context_type = {\n",
    "    \"context_type\": \"unattached\"\n",
    "}\n",
    "sighting_results_context_path = results_base + \"step1/sighting_context.json\"\n",
    "result = invoke_save_incident_context_block(results_base + results_path, sighting_results_context_path, context_type)\n",
    "print(f\" result->{result}\")"
   ]
  },
  {
   "cell_type": "markdown",
   "metadata": {
    "collapsed": false
   },
   "source": [
    "### D.3 Promote Everything from Unattached to Other\n",
    "\n",
    "Everything that uis connected in the Sighting should now be promoted, so move Unattached to the Other list"
   ]
  },
  {
   "cell_type": "code",
   "execution_count": 13,
   "metadata": {
    "ExecuteTime": {
     "end_time": "2025-06-16T11:04:02.334964500Z",
     "start_time": "2025-06-16T11:04:02.152223800Z"
    },
    "collapsed": false
   },
   "outputs": [],
   "source": [
    "# total_list = observed_list\n",
    "# total_list.append(obs_1)\n",
    "# total_list.append(ind_1)\n",
    "# total_list.append(sight1)\n",
    "# total_list.append(reporter_identity)\n",
    "\n",
    "# obs_context_move_path = results_base + \"step1/context/context_move.json\"\n",
    "# obs_context_move_results = results_base + \"step1/context/context_move_results.json\"\n",
    "# result = invoke_move_unattached_to_other_block(obs_context_move_path, obs_context_move_results, total_list)"
   ]
  },
  {
   "cell_type": "markdown",
   "metadata": {
    "collapsed": false
   },
   "source": [
    "## E. Create the Event Objects\n",
    "Tbis Event represents the receiving of the phishing email"
   ]
  },
  {
   "cell_type": "code",
   "execution_count": 14,
   "metadata": {
    "ExecuteTime": {
     "end_time": "2025-06-16T11:04:02.398299100Z",
     "start_time": "2025-06-16T11:04:02.333459100Z"
    },
    "collapsed": false
   },
   "outputs": [
    {
     "name": "stdout",
     "output_type": "stream",
     "text": [
      "{\n",
      "    \"type\": \"event\",\n",
      "    \"spec_version\": \"2.1\",\n",
      "    \"id\": \"event--e8f641e7-89ca-4776-a828-6838d8eccdca\",\n",
      "    \"created\": \"2025-07-27T06:01:15.914Z\",\n",
      "    \"modified\": \"2025-07-27T06:01:15.914Z\",\n",
      "    \"description\": \"Suspicious email reported by user\",\n",
      "    \"end_time\": \"2025-07-27T06:01:15.914Z\",\n",
      "    \"event_types\": [\n",
      "        \"dissemination-phishing-emails\"\n",
      "    ],\n",
      "    \"name\": \"Potential Phishing Email\",\n",
      "    \"start_time\": \"2025-07-27T06:01:15.914Z\",\n",
      "    \"extensions\": {\n",
      "        \"extension-definition--4ca6de00-5b0d-45ef-a1dc-ea7279ea910e\": {\n",
      "            \"extension_type\": \"new-sdo\"\n",
      "        }\n",
      "    }\n",
      "}\n",
      "input data->{'stix_object': {'type': 'event', 'spec_version': '2.1', 'id': 'event--e8f641e7-89ca-4776-a828-6838d8eccdca', 'created': '2025-07-27T06:01:15.914Z', 'modified': '2025-07-27T06:01:15.914Z', 'description': 'Suspicious email reported by user', 'end_time': '2025-07-27T06:01:15.914Z', 'event_types': ['dissemination-phishing-emails'], 'name': 'Potential Phishing Email', 'start_time': '2025-07-27T06:01:15.914Z', 'extensions': {'extension-definition--4ca6de00-5b0d-45ef-a1dc-ea7279ea910e': {'extension_type': 'new-sdo'}}}, 'context_type': {'context_type': 'event'}}\n",
      "from ports \n",
      "stix_object->{'type': 'event', 'spec_version': '2.1', 'id': 'event--e8f641e7-89ca-4776-a828-6838d8eccdca', 'created': '2025-07-27T06:01:15.914Z', 'modified': '2025-07-27T06:01:15.914Z', 'description': 'Suspicious email reported by user', 'end_time': '2025-07-27T06:01:15.914Z', 'event_types': ['dissemination-phishing-emails'], 'name': 'Potential Phishing Email', 'start_time': '2025-07-27T06:01:15.914Z', 'extensions': {'extension-definition--4ca6de00-5b0d-45ef-a1dc-ea7279ea910e': {'extension_type': 'new-sdo'}}}\n",
      "context type->event\n",
      " result->{'context_result': ' incident context saved - \\nstix_id -> event--e8f641e7-89ca-4776-a828-6838d8eccdca'}\n"
     ]
    }
   ],
   "source": [
    "# 1. Setup path to form and results\n",
    "event_data_path =\"SDO/Event/event_alert.json\"\n",
    "results_path =\"step1/event_alert.json\"\n",
    "# 2. Setup the SDO sighted, the Observed-Data that was observed with generated objects,\n",
    "#                        then the identity object from the context storage (note the slight difference in indexing\n",
    "sighting = sight1[\"id\"]\n",
    "# 2. Invoke the Make Observed Data Block\n",
    "event_1 = invoke_make_event_block(event_data_path, results_path, changed_objects=None,sighting_refs=sighting)\n",
    "# 3. Add the record to the in-session bundles and lists\n",
    "context_type = {\n",
    "    \"context_type\": \"event\"\n",
    "}\n",
    "event_results_context_path = results_base + \"step1/context/event_context.json\"\n",
    "result = invoke_save_incident_context_block(results_base + results_path, event_results_context_path, context_type)\n",
    "print(f\" result->{result}\")"
   ]
  },
  {
   "cell_type": "markdown",
   "metadata": {
    "collapsed": false
   },
   "source": [
    "\n",
    "### E.2 Then Create the Sequence Object for the Event\n",
    "\n",
    "The Sequence object is created to place the event in a sequence, in this case a single-step"
   ]
  },
  {
   "cell_type": "code",
   "execution_count": 15,
   "metadata": {
    "ExecuteTime": {
     "end_time": "2025-06-16T11:04:02.456278700Z",
     "start_time": "2025-06-16T11:04:02.395293800Z"
    },
    "collapsed": false
   },
   "outputs": [
    {
     "name": "stdout",
     "output_type": "stream",
     "text": [
      "{\n",
      "    \"type\": \"sequence\",\n",
      "    \"spec_version\": \"2.1\",\n",
      "    \"id\": \"sequence--4c9100f2-06a1-4570-ba51-7dabde2371b8\",\n",
      "    \"created\": \"2025-07-27T06:01:16.900Z\",\n",
      "    \"modified\": \"2025-07-27T06:01:16.900Z\",\n",
      "    \"sequenced_object\": \"event--e8f641e7-89ca-4776-a828-6838d8eccdca\",\n",
      "    \"sequence_type\": \"event\",\n",
      "    \"step_type\": \"single_step\",\n",
      "    \"extensions\": {\n",
      "        \"extension-definition--be0c7c79-1961-43db-afde-637066a87a64\": {\n",
      "            \"extension_type\": \"new-sdo\"\n",
      "        }\n",
      "    }\n",
      "}\n",
      "input data->{'stix_object': {'type': 'sequence', 'spec_version': '2.1', 'id': 'sequence--4c9100f2-06a1-4570-ba51-7dabde2371b8', 'created': '2025-07-27T06:01:16.9Z', 'modified': '2025-07-27T06:01:16.9Z', 'sequenced_object': 'event--e8f641e7-89ca-4776-a828-6838d8eccdca', 'sequence_type': 'event', 'step_type': 'single_step', 'extensions': {'extension-definition--be0c7c79-1961-43db-afde-637066a87a64': {'extension_type': 'new-sdo'}}}, 'context_type': {'context_type': 'sequence'}}\n",
      "from ports \n",
      "stix_object->{'type': 'sequence', 'spec_version': '2.1', 'id': 'sequence--4c9100f2-06a1-4570-ba51-7dabde2371b8', 'created': '2025-07-27T06:01:16.9Z', 'modified': '2025-07-27T06:01:16.9Z', 'sequenced_object': 'event--e8f641e7-89ca-4776-a828-6838d8eccdca', 'sequence_type': 'event', 'step_type': 'single_step', 'extensions': {'extension-definition--be0c7c79-1961-43db-afde-637066a87a64': {'extension_type': 'new-sdo'}}}\n",
      "context type->sequence\n",
      " result->{'context_result': ' incident context saved - \\nstix_id -> sequence--4c9100f2-06a1-4570-ba51-7dabde2371b8'}\n"
     ]
    }
   ],
   "source": [
    "# 1. Setup path to form and results\n",
    "sequence_data_path =\"SDO/Sequence/sequence_alert.json\"\n",
    "results_path =\"step1/sequence_event_single.json\"\n",
    "# 2. Setup the Sequence Object for the Event\n",
    "#\n",
    "step_type = \"single_step\"\n",
    "sequence_type = \"event\"\n",
    "sequenced_object = event_1[\"id\"]\n",
    "# 2. Invoke the Make Observed Data Block\n",
    "seq_E_1 = invoke_make_sequence_block(sequence_data_path, results_path, step_type=step_type, sequence_type=sequence_type, sequenced_object=sequenced_object, on_completion=None, on_success=None, on_failure=None, next_steps=None)\n",
    "# 3. Add the record to the in-session bundles and lists\n",
    "context_type = {\n",
    "    \"context_type\": \"sequence\"\n",
    "}\n",
    "sequence_results_context_path = results_base + \"step1/event_sequence_context.json\"\n",
    "result = invoke_save_incident_context_block(results_base + results_path, sighting_results_context_path, context_type)\n",
    "print(f\" result->{result}\")"
   ]
  },
  {
   "cell_type": "markdown",
   "metadata": {
    "collapsed": false
   },
   "source": [
    "\n",
    "### E.3 Since it is the First Sequence, Create the Start Sequence Object and Connect it\n",
    "\n",
    "The Sequence object is created to place the event in a sequence, in this case a start-step"
   ]
  },
  {
   "cell_type": "code",
   "execution_count": 16,
   "metadata": {
    "ExecuteTime": {
     "end_time": "2025-06-16T11:04:02.524169100Z",
     "start_time": "2025-06-16T11:04:02.457275600Z"
    },
    "collapsed": false
   },
   "outputs": [
    {
     "name": "stdout",
     "output_type": "stream",
     "text": [
      "{\n",
      "    \"type\": \"sequence\",\n",
      "    \"spec_version\": \"2.1\",\n",
      "    \"id\": \"sequence--5ced78bf-aab8-4650-9c9e-a6914d68b46e\",\n",
      "    \"created\": \"2025-07-27T06:01:16.100Z\",\n",
      "    \"modified\": \"2025-07-27T06:01:16.100Z\",\n",
      "    \"sequence_type\": \"event\",\n",
      "    \"step_type\": \"start_step\",\n",
      "    \"on_completion\": \"sequence--4c9100f2-06a1-4570-ba51-7dabde2371b8\",\n",
      "    \"extensions\": {\n",
      "        \"extension-definition--be0c7c79-1961-43db-afde-637066a87a64\": {\n",
      "            \"extension_type\": \"new-sdo\"\n",
      "        }\n",
      "    }\n",
      "}\n",
      "input data->{'stix_object': {'type': 'sequence', 'spec_version': '2.1', 'id': 'sequence--5ced78bf-aab8-4650-9c9e-a6914d68b46e', 'created': '2025-07-27T06:01:16.100Z', 'modified': '2025-07-27T06:01:16.100Z', 'sequence_type': 'event', 'step_type': 'start_step', 'on_completion': 'sequence--4c9100f2-06a1-4570-ba51-7dabde2371b8', 'extensions': {'extension-definition--be0c7c79-1961-43db-afde-637066a87a64': {'extension_type': 'new-sdo'}}}, 'context_type': {'context_type': 'start'}}\n",
      "from ports \n",
      "stix_object->{'type': 'sequence', 'spec_version': '2.1', 'id': 'sequence--5ced78bf-aab8-4650-9c9e-a6914d68b46e', 'created': '2025-07-27T06:01:16.100Z', 'modified': '2025-07-27T06:01:16.100Z', 'sequence_type': 'event', 'step_type': 'start_step', 'on_completion': 'sequence--4c9100f2-06a1-4570-ba51-7dabde2371b8', 'extensions': {'extension-definition--be0c7c79-1961-43db-afde-637066a87a64': {'extension_type': 'new-sdo'}}}\n",
      "context type->start\n",
      " result->{'context_result': ' incident context saved - \\nstix_id -> sequence--5ced78bf-aab8-4650-9c9e-a6914d68b46e'}\n"
     ]
    }
   ],
   "source": [
    "# 1. Setup path to form and results\n",
    "sequence_data_path =\"SDO/Sequence/sequence_start.json\"\n",
    "results_path =\"step1/sequence_event_start.json\"\n",
    "# 2. Setup the Sequence Object for the Event\n",
    "#\n",
    "step_type = \"start_step\"\n",
    "sequence_type = \"event\"\n",
    "on_completion = seq_E_1[\"id\"]\n",
    "# 2. Invoke the Make Observed Data Block\n",
    "seq_E_0 = invoke_make_sequence_block(sequence_data_path, results_path, step_type=step_type, sequence_type=sequence_type, sequenced_object=None, on_completion=on_completion, on_success=None, on_failure=None, next_steps=None)\n",
    "# 3. Add the record to the in-session bundles and lists\n",
    "context_type = {\n",
    "    \"context_type\": \"start\"\n",
    "}\n",
    "event_results_context_path = results_base + \"step1/event_seq_start_context.json\"\n",
    "result = invoke_save_incident_context_block(results_base + results_path, sighting_results_context_path, context_type)\n",
    "print(f\" result->{result}\")"
   ]
  },
  {
   "cell_type": "markdown",
   "metadata": {
    "collapsed": false
   },
   "source": [
    "## F. Create the Task Objects\n",
    "\n",
    "Tbis Task represents the first Task to clarify the situation first,no real Impactyet"
   ]
  },
  {
   "cell_type": "code",
   "execution_count": 17,
   "metadata": {
    "ExecuteTime": {
     "end_time": "2025-06-16T11:04:02.583158600Z",
     "start_time": "2025-06-16T11:04:02.518639400Z"
    },
    "collapsed": false
   },
   "outputs": [
    {
     "name": "stdout",
     "output_type": "stream",
     "text": [
      "{\n",
      "    \"type\": \"task\",\n",
      "    \"spec_version\": \"2.1\",\n",
      "    \"id\": \"task--3f23faa4-e21e-4880-bd8a-c8d89aa453aa\",\n",
      "    \"created\": \"2025-07-27T06:01:16.214Z\",\n",
      "    \"modified\": \"2025-07-27T06:01:16.214Z\",\n",
      "    \"description\": \"Suspicious email reported by user\",\n",
      "    \"end_time\": \"2025-07-27T06:01:16.214Z\",\n",
      "    \"name\": \"Potential Phishing Email\",\n",
      "    \"start_time\": \"2025-07-27T06:01:16.214Z\",\n",
      "    \"extensions\": {\n",
      "        \"extension-definition--2074a052-8be4-4932-849e-f5e7798e0030\": {\n",
      "            \"extension_type\": \"new-sdo\"\n",
      "        }\n",
      "    }\n",
      "}\n",
      "input data->{'stix_object': {'type': 'task', 'spec_version': '2.1', 'id': 'task--3f23faa4-e21e-4880-bd8a-c8d89aa453aa', 'created': '2025-07-27T06:01:16.214Z', 'modified': '2025-07-27T06:01:16.214Z', 'description': 'Suspicious email reported by user', 'end_time': '2025-07-27T06:01:16.214Z', 'name': 'Potential Phishing Email', 'start_time': '2025-07-27T06:01:16.214Z', 'extensions': {'extension-definition--2074a052-8be4-4932-849e-f5e7798e0030': {'extension_type': 'new-sdo'}}}, 'context_type': {'context_type': 'task'}}\n",
      "from ports \n",
      "stix_object->{'type': 'task', 'spec_version': '2.1', 'id': 'task--3f23faa4-e21e-4880-bd8a-c8d89aa453aa', 'created': '2025-07-27T06:01:16.214Z', 'modified': '2025-07-27T06:01:16.214Z', 'description': 'Suspicious email reported by user', 'end_time': '2025-07-27T06:01:16.214Z', 'name': 'Potential Phishing Email', 'start_time': '2025-07-27T06:01:16.214Z', 'extensions': {'extension-definition--2074a052-8be4-4932-849e-f5e7798e0030': {'extension_type': 'new-sdo'}}}\n",
      "context type->task\n",
      " result->{'context_result': ' incident context saved - \\nstix_id -> task--3f23faa4-e21e-4880-bd8a-c8d89aa453aa'}\n"
     ]
    }
   ],
   "source": [
    "# 1. Setup path to form and results\n",
    "task_data_path =\"SDO/Task/task_alert.json\"\n",
    "results_path =\"step1/task_alert.json\"\n",
    "# 2. Invoke the Make Observed Data Block\n",
    "task_1 = invoke_make_task_block(task_data_path, results_path, changed_objects=None)\n",
    "# 3. Add the record to the in-session bundles and lists\n",
    "context_type = {\n",
    "    \"context_type\": \"task\"\n",
    "}\n",
    "task_results_context_path = results_base + \"step1/task_context.json\"\n",
    "result = invoke_save_incident_context_block(results_base + results_path, task_results_context_path, context_type)\n",
    "print(f\" result->{result}\")"
   ]
  },
  {
   "cell_type": "markdown",
   "metadata": {
    "collapsed": false
   },
   "source": [
    "### F.2 Then Create the Sequence Object for the Task\n",
    "\n",
    "The Sequence object is created to place the Task in a sequence, in this case a single-step"
   ]
  },
  {
   "cell_type": "code",
   "execution_count": 18,
   "metadata": {
    "ExecuteTime": {
     "end_time": "2025-06-16T11:04:02.663618200Z",
     "start_time": "2025-06-16T11:04:02.589176600Z"
    },
    "collapsed": false
   },
   "outputs": [
    {
     "name": "stdout",
     "output_type": "stream",
     "text": [
      "{\n",
      "    \"type\": \"sequence\",\n",
      "    \"spec_version\": \"2.1\",\n",
      "    \"id\": \"sequence--4089e2b7-816d-4ad4-9d11-2604739b16ef\",\n",
      "    \"created\": \"2025-07-27T06:01:16.321Z\",\n",
      "    \"modified\": \"2025-07-27T06:01:16.321Z\",\n",
      "    \"sequenced_object\": \"task--3f23faa4-e21e-4880-bd8a-c8d89aa453aa\",\n",
      "    \"sequence_type\": \"task\",\n",
      "    \"step_type\": \"single_step\",\n",
      "    \"extensions\": {\n",
      "        \"extension-definition--be0c7c79-1961-43db-afde-637066a87a64\": {\n",
      "            \"extension_type\": \"new-sdo\"\n",
      "        }\n",
      "    }\n",
      "}\n",
      "input data->{'stix_object': {'type': 'sequence', 'spec_version': '2.1', 'id': 'sequence--4089e2b7-816d-4ad4-9d11-2604739b16ef', 'created': '2025-07-27T06:01:16.321Z', 'modified': '2025-07-27T06:01:16.321Z', 'sequenced_object': 'task--3f23faa4-e21e-4880-bd8a-c8d89aa453aa', 'sequence_type': 'task', 'step_type': 'single_step', 'extensions': {'extension-definition--be0c7c79-1961-43db-afde-637066a87a64': {'extension_type': 'new-sdo'}}}, 'context_type': {'context_type': 'sequence'}}\n",
      "from ports \n",
      "stix_object->{'type': 'sequence', 'spec_version': '2.1', 'id': 'sequence--4089e2b7-816d-4ad4-9d11-2604739b16ef', 'created': '2025-07-27T06:01:16.321Z', 'modified': '2025-07-27T06:01:16.321Z', 'sequenced_object': 'task--3f23faa4-e21e-4880-bd8a-c8d89aa453aa', 'sequence_type': 'task', 'step_type': 'single_step', 'extensions': {'extension-definition--be0c7c79-1961-43db-afde-637066a87a64': {'extension_type': 'new-sdo'}}}\n",
      "context type->sequence\n",
      " result->{'context_result': ' incident context saved - \\nstix_id -> sequence--4089e2b7-816d-4ad4-9d11-2604739b16ef'}\n"
     ]
    }
   ],
   "source": [
    "# 1. Setup path to form and results\n",
    "sequence_data_path =\"SDO/Sequence/sequence_alert.json\"\n",
    "results_path =\"step1/sequence_task_single.json\"\n",
    "# 2. Setup the Sequence Object for the Event\n",
    "#\n",
    "step_type = \"single_step\"\n",
    "sequence_type = \"task\"\n",
    "sequenced_object = task_1[\"id\"]\n",
    "# 2. Invoke the Make Observed Data Block\n",
    "seq_T_1 = invoke_make_sequence_block(sequence_data_path, results_path, step_type=step_type, sequence_type=sequence_type, sequenced_object=sequenced_object, on_completion=None, on_success=None, on_failure=None, next_steps=None)\n",
    "# 3. Add the record to the in-session bundles and lists\n",
    "context_type = {\n",
    "    \"context_type\": \"sequence\"\n",
    "}\n",
    "event_sequence_results_context_path = results_base + \"step1/task_sequence_context.json\"\n",
    "result = invoke_save_incident_context_block(results_base + results_path, event_sequence_results_context_path, context_type)\n",
    "print(f\" result->{result}\")"
   ]
  },
  {
   "cell_type": "markdown",
   "metadata": {
    "collapsed": false
   },
   "source": [
    "\n",
    "### F.3 Then Create the Sequence Start Object for the Tasks\n",
    "\n",
    "The Sequence object is created to place the Task in a sequence, in this case a start-step"
   ]
  },
  {
   "cell_type": "code",
   "execution_count": 19,
   "metadata": {
    "ExecuteTime": {
     "end_time": "2025-06-16T11:04:02.719868600Z",
     "start_time": "2025-06-16T11:04:02.655878600Z"
    },
    "collapsed": false
   },
   "outputs": [
    {
     "name": "stdout",
     "output_type": "stream",
     "text": [
      "{\n",
      "    \"type\": \"sequence\",\n",
      "    \"spec_version\": \"2.1\",\n",
      "    \"id\": \"sequence--fb97db29-be35-4f8d-b483-c2899750838d\",\n",
      "    \"created\": \"2025-07-27T06:01:16.433Z\",\n",
      "    \"modified\": \"2025-07-27T06:01:16.433Z\",\n",
      "    \"sequence_type\": \"task\",\n",
      "    \"step_type\": \"start_step\",\n",
      "    \"on_completion\": \"sequence--4089e2b7-816d-4ad4-9d11-2604739b16ef\",\n",
      "    \"extensions\": {\n",
      "        \"extension-definition--be0c7c79-1961-43db-afde-637066a87a64\": {\n",
      "            \"extension_type\": \"new-sdo\"\n",
      "        }\n",
      "    }\n",
      "}\n",
      "input data->{'stix_object': {'type': 'sequence', 'spec_version': '2.1', 'id': 'sequence--fb97db29-be35-4f8d-b483-c2899750838d', 'created': '2025-07-27T06:01:16.433Z', 'modified': '2025-07-27T06:01:16.433Z', 'sequence_type': 'task', 'step_type': 'start_step', 'on_completion': 'sequence--4089e2b7-816d-4ad4-9d11-2604739b16ef', 'extensions': {'extension-definition--be0c7c79-1961-43db-afde-637066a87a64': {'extension_type': 'new-sdo'}}}, 'context_type': {'context_type': 'start'}}\n",
      "from ports \n",
      "stix_object->{'type': 'sequence', 'spec_version': '2.1', 'id': 'sequence--fb97db29-be35-4f8d-b483-c2899750838d', 'created': '2025-07-27T06:01:16.433Z', 'modified': '2025-07-27T06:01:16.433Z', 'sequence_type': 'task', 'step_type': 'start_step', 'on_completion': 'sequence--4089e2b7-816d-4ad4-9d11-2604739b16ef', 'extensions': {'extension-definition--be0c7c79-1961-43db-afde-637066a87a64': {'extension_type': 'new-sdo'}}}\n",
      "context type->start\n",
      " result->{'context_result': ' incident context saved - \\nstix_id -> sequence--fb97db29-be35-4f8d-b483-c2899750838d'}\n"
     ]
    }
   ],
   "source": [
    "# 1. Setup path to form and results\n",
    "sequence_data_path =\"SDO/Sequence/sequence_start.json\"\n",
    "results_path =\"step1/sequence_task_start.json\"\n",
    "# 2. Setup the Sequence Object for the Event\n",
    "#\n",
    "step_type = \"start_step\"\n",
    "sequence_type = \"task\"\n",
    "on_completion = seq_T_1[\"id\"]\n",
    "# 2. Invoke the Make Observed Data Block\n",
    "seq_T_0 = invoke_make_sequence_block(sequence_data_path, results_path, step_type=step_type, sequence_type=sequence_type, sequenced_object=None, on_completion=on_completion, on_success=None, on_failure=None, next_steps=None)\n",
    "# 3. Add the record to the in-session bundles and lists\n",
    "context_type = {\n",
    "    \"context_type\": \"start\"\n",
    "}\n",
    "task_seq_results_context_path = results_base + \"step1/task_seq_start_context.json\"\n",
    "result = invoke_save_incident_context_block(results_base + results_path, task_seq_results_context_path, context_type)\n",
    "print(f\" result->{result}\")"
   ]
  },
  {
   "cell_type": "markdown",
   "metadata": {
    "collapsed": false
   },
   "source": [
    "## H. Write out the Contex Memory for the Incident\n",
    "\n",
    "Export out the Context Memory for the Incident"
   ]
  },
  {
   "cell_type": "code",
   "execution_count": 20,
   "metadata": {
    "ExecuteTime": {
     "end_time": "2025-06-16T11:04:02.736973500Z",
     "start_time": "2025-06-16T11:04:02.721242400Z"
    },
    "collapsed": false
   },
   "outputs": [],
   "source": [
    "# Save the Tpe Refinery Context Memory File"
   ]
  },
  {
   "cell_type": "code",
   "execution_count": null,
   "metadata": {
    "ExecuteTime": {
     "end_time": "2025-06-16T11:04:02.776958400Z",
     "start_time": "2025-06-16T11:04:02.735979400Z"
    },
    "collapsed": false
   },
   "outputs": [],
   "source": []
  }
 ],
 "metadata": {
  "kernelspec": {
   "display_name": "brett-blocks-py3.11",
   "language": "python",
   "name": "python3"
  },
  "language_info": {
   "codemirror_mode": {
    "name": "ipython",
    "version": 3
   },
   "file_extension": ".py",
   "mimetype": "text/x-python",
   "name": "python",
   "nbconvert_exporter": "python",
   "pygments_lexer": "ipython3",
   "version": "3.11.3"
  }
 },
 "nbformat": 4,
 "nbformat_minor": 0
}
