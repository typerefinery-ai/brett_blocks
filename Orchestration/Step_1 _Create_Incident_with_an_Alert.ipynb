{
 "cells": [
  {
   "cell_type": "markdown",
   "source": [
    "# 2. Create an Incident from an Alert\n",
    "\n",
    "Notebook to build all of the different stix objects associated with a Phishing Alert imitialising an Incident. Note that the Stix objects created by these classes are frozen dicts, so its better to create the components and then the whole, rather than create an empty whole first and then add the components, which requires updating.\n",
    "\n",
    "We take v3.0 of the [Incident Core Extension](https://github.com/os-threat/cti-stix-common-objects/blob/main/extension-definition-specifications/incident-core/Incident%20Extension%20Suite.adoc) specification, with particular focus on the Sighting Extensions for Evidence, and combine it with the standard Stix approach. There are six stages:\n",
    "\n",
    "1. First setup the global parameters and retrieve the context memory\n",
    "2. Create the objects from the phishing email Alert,\n",
    "2. Add these objects to the `ObservedData` object\n",
    "3. Then create the `Indicator` and get the user `Identity` object from context memory\n",
    "4. Create the `Sighting` object with the `SightingAlert` extension\n",
    "5. Create the Event and the Sequence objects\n",
    "6. Create the Incident, with the [Incident Core Extension](https://github.com/os-threat/cti-stix-common-objects/blob/main/extension-definition-specifications/incident-core/Incident%20Extension%20Suite.adoc), and add all of the objects to it\n",
    "\n",
    "\n",
    "Each time a block makes an object, and saves it as a json, this notebook will parse the object into an actual Stix object, so it can be bundled and printy printed (This step also verifies the objects are created correctly, and is cool).\n",
    "\n",
    "\n",
    "![](img/Evidence_Alert.png)\n",
    "![](img/Evidence_Alert_Flows.png)\n",
    "\n",
    "## A. Load Imports\n",
    "\n",
    "### A.1 StixORM Imports\n"
   ],
   "metadata": {
    "collapsed": false
   }
  },
  {
   "cell_type": "code",
   "execution_count": 1,
   "outputs": [
    {
     "name": "stdout",
     "output_type": "stream",
     "text": [
      "Requirement already satisfied: stixorm in c:\\users\\brett\\anaconda3\\envs\\brett-blocks\\lib\\site-packages (0.3.2)\n",
      "Requirement already satisfied: loguru<0.8.0,>=0.7.0 in c:\\users\\brett\\anaconda3\\envs\\brett-blocks\\lib\\site-packages (from stixorm) (0.7.0)\n",
      "Requirement already satisfied: networkx<4.0,>=3.1 in c:\\users\\brett\\anaconda3\\envs\\brett-blocks\\lib\\site-packages (from stixorm) (3.1)\n",
      "Requirement already satisfied: pydantic<3.0.0,>=2.1.1 in c:\\users\\brett\\anaconda3\\envs\\brett-blocks\\lib\\site-packages (from stixorm) (2.1.1)\n",
      "Requirement already satisfied: stix2==3.0.1 in c:\\users\\brett\\anaconda3\\envs\\brett-blocks\\lib\\site-packages (from stixorm) (3.0.1)\n",
      "Requirement already satisfied: typedb-driver<3.0.0,>=2.25.6 in c:\\users\\brett\\anaconda3\\envs\\brett-blocks\\lib\\site-packages (from stixorm) (2.25.8)\n",
      "Requirement already satisfied: validators<0.21.0,>=0.20.0 in c:\\users\\brett\\anaconda3\\envs\\brett-blocks\\lib\\site-packages (from stixorm) (0.20.0)\n",
      "Requirement already satisfied: pytz in c:\\users\\brett\\anaconda3\\envs\\brett-blocks\\lib\\site-packages (from stix2==3.0.1->stixorm) (2023.3)\n",
      "Requirement already satisfied: requests in c:\\users\\brett\\anaconda3\\envs\\brett-blocks\\lib\\site-packages (from stix2==3.0.1->stixorm) (2.31.0)\n",
      "Requirement already satisfied: simplejson in c:\\users\\brett\\anaconda3\\envs\\brett-blocks\\lib\\site-packages (from stix2==3.0.1->stixorm) (3.19.1)\n",
      "Requirement already satisfied: stix2-patterns>=1.2.0 in c:\\users\\brett\\anaconda3\\envs\\brett-blocks\\lib\\site-packages (from stix2==3.0.1->stixorm) (2.0.0)\n",
      "Requirement already satisfied: colorama>=0.3.4 in c:\\users\\brett\\anaconda3\\envs\\brett-blocks\\lib\\site-packages (from loguru<0.8.0,>=0.7.0->stixorm) (0.4.6)\n",
      "Requirement already satisfied: win32-setctime>=1.0.0 in c:\\users\\brett\\anaconda3\\envs\\brett-blocks\\lib\\site-packages (from loguru<0.8.0,>=0.7.0->stixorm) (1.1.0)\n",
      "Requirement already satisfied: annotated-types>=0.4.0 in c:\\users\\brett\\anaconda3\\envs\\brett-blocks\\lib\\site-packages (from pydantic<3.0.0,>=2.1.1->stixorm) (0.5.0)\n",
      "Requirement already satisfied: pydantic-core==2.4.0 in c:\\users\\brett\\anaconda3\\envs\\brett-blocks\\lib\\site-packages (from pydantic<3.0.0,>=2.1.1->stixorm) (2.4.0)\n",
      "Requirement already satisfied: typing-extensions>=4.6.1 in c:\\users\\brett\\anaconda3\\envs\\brett-blocks\\lib\\site-packages (from pydantic<3.0.0,>=2.1.1->stixorm) (4.7.1)\n",
      "Requirement already satisfied: parse==1.18.0 in c:\\users\\brett\\anaconda3\\envs\\brett-blocks\\lib\\site-packages (from typedb-driver<3.0.0,>=2.25.6->stixorm) (1.18.0)\n",
      "Requirement already satisfied: decorator>=3.4.0 in c:\\users\\brett\\anaconda3\\envs\\brett-blocks\\lib\\site-packages (from validators<0.21.0,>=0.20.0->stixorm) (5.1.1)\n",
      "Requirement already satisfied: antlr4-python3-runtime~=4.9.0 in c:\\users\\brett\\anaconda3\\envs\\brett-blocks\\lib\\site-packages (from stix2-patterns>=1.2.0->stix2==3.0.1->stixorm) (4.9.3)\n",
      "Requirement already satisfied: six in c:\\users\\brett\\anaconda3\\envs\\brett-blocks\\lib\\site-packages (from stix2-patterns>=1.2.0->stix2==3.0.1->stixorm) (1.16.0)\n",
      "Requirement already satisfied: charset-normalizer<4,>=2 in c:\\users\\brett\\anaconda3\\envs\\brett-blocks\\lib\\site-packages (from requests->stix2==3.0.1->stixorm) (3.2.0)\n",
      "Requirement already satisfied: idna<4,>=2.5 in c:\\users\\brett\\anaconda3\\envs\\brett-blocks\\lib\\site-packages (from requests->stix2==3.0.1->stixorm) (3.4)\n",
      "Requirement already satisfied: urllib3<3,>=1.21.1 in c:\\users\\brett\\anaconda3\\envs\\brett-blocks\\lib\\site-packages (from requests->stix2==3.0.1->stixorm) (1.26.16)\n",
      "Requirement already satisfied: certifi>=2017.4.17 in c:\\users\\brett\\anaconda3\\envs\\brett-blocks\\lib\\site-packages (from requests->stix2==3.0.1->stixorm) (2023.7.22)\n"
     ]
    }
   ],
   "source": [
    "import sys\n",
    "!{sys.executable} -m pip install stixorm\n",
    "from stixorm.module.typedb import TypeDBSink, TypeDBSource\n",
    "from stixorm.module.authorise import import_type_factory\n",
    "from stixorm.module.definitions.stix21 import (\n",
    "    Identity, EmailAddress, UserAccount, Relationship, Bundle, Incident, URL, EmailMessage, ObservedData\n",
    ")\n",
    "from stixorm.module.definitions.os_threat import (\n",
    "    EventCoreExt, Event, SocialMediaContact, ContactNumber, IncidentCoreExt, TaskCoreExt,\n",
    "    Task, SightingEvidence, Sequence, SequenceExt, AnecdoteExt, Anecdote,\n",
    "    SightingAnecdote, SightingAlert, SightingContext, SightingExclusion,\n",
    "    SightingEnrichment, SightingHunt, SightingFramework, SightingExternal\n",
    ")\n",
    "from stixorm.module.authorise import import_type_factory\n",
    "from stixorm.module.typedb_lib.instructions import ResultStatus, Result\n",
    "from stixorm.module.parsing import parse_objects\n",
    "import_type = import_type_factory.get_all_imports()\n",
    "import logging\n",
    "logger = logging.getLogger(__name__)\n",
    "logger.setLevel(logging.INFO)"
   ],
   "metadata": {
    "collapsed": false
   }
  },
  {
   "cell_type": "markdown",
   "source": [
    "### A.2 Relative Path Imports\n",
    "https://stackoverflow.com/questions/76162459/jupyter-notebook-importerror-attempted-relative-import-with-no-known-parent-pac/77528726#77528726"
   ],
   "metadata": {
    "collapsed": false
   }
  },
  {
   "cell_type": "code",
   "execution_count": 2,
   "outputs": [],
   "source": [
    "import sys\n",
    "sys.path.append('../')\n",
    "import os"
   ],
   "metadata": {
    "collapsed": false
   }
  },
  {
   "cell_type": "markdown",
   "source": [
    "### A.3 Relative Import of Blocks"
   ],
   "metadata": {
    "collapsed": false
   }
  },
  {
   "cell_type": "code",
   "execution_count": 3,
   "outputs": [],
   "source": [
    "import json\n",
    "from Block_Families.Objects.SCO.Email_Message.make_email_msg import main as make_email_msg\n",
    "from Block_Families.Objects.SRO.Relationship.make_sro import main as make_sro\n",
    "from Utilities.local_make_sro import invoke_sro_block, invoke_sighting_block\n",
    "from Utilities.local_make_sdo import (\n",
    "    invoke_make_observed_data_block, invoke_make_indicator_block, invoke_make_event_block, invoke_make_sequence_block,\n",
    "    invoke_make_task_block\n",
    ")\n",
    "from Utilities.local_make_sco import (\n",
    "    invoke_make_email_addr_block, invoke_make_url_block, invoke_make_e_msg_block,\n",
    ")\n",
    "from conv import conv\n",
    "\n",
    "context_base = \"../Orchestration/Context_Mem/\"\n",
    "path_base = \"../Block_Families/Objects/\"\n",
    "results_base = \"../Orchestration/Results/\"\n",
    "sro_data = \"SRO/Relationship/sro_derived.json\"\n",
    "alert_data = {\n",
    "    \"from\": \"evil@northkorea.nk\",\n",
    "    \"to\": \"naive@example.com\",\n",
    "    \"reporter\": \"nsmith\",\n",
    "    \"url\": \"https://www.northkorea.nk/we/are/mad/\"\n",
    "}\n",
    "alert_details = {\n",
    "    \"alert_name\": \"Suspcious Email\",\n",
    "    \"alert_source\": \"user-report\",\n",
    "    \"alert_log\": \"I have found a suspicious email\"\n",
    "}\n",
    "# Make the Variable to hold the Bundle List\n",
    "bundle_list = []\n",
    "sequence_start_refs = []\n",
    "sequence_refs = []\n",
    "task_refs = []\n",
    "event_refs = []\n",
    "impact_refs = []\n",
    "other_object_refs = []\n",
    "results_paths = {}"
   ],
   "metadata": {
    "collapsed": false
   }
  },
  {
   "cell_type": "markdown",
   "source": [
    "### A.4 Load the Context Memory"
   ],
   "metadata": {
    "collapsed": false
   }
  },
  {
   "cell_type": "code",
   "execution_count": 4,
   "outputs": [],
   "source": [
    "# 1. Set the Variables\n",
    "context_identities = []\n",
    "identities_file = \"identity_bundle.json\"\n",
    "context_path = context_base + identities_file\n",
    "#2. Load the file\n",
    "if os.path.exists(context_path):\n",
    "    with open(context_path, \"r\") as script_input:\n",
    "        export_data = json.load(script_input)\n",
    "        context_identities = export_data[\"objects\"]"
   ],
   "metadata": {
    "collapsed": false
   }
  },
  {
   "cell_type": "markdown",
   "source": [
    "## B. Create the Objects to Document the Phishing Alert\n",
    "\n",
    "### B.1 Create the Email Address for the Threat Actor"
   ],
   "metadata": {
    "collapsed": false
   }
  },
  {
   "cell_type": "code",
   "execution_count": 5,
   "outputs": [
    {
     "name": "stdout",
     "output_type": "stream",
     "text": [
      "{\n",
      "    \"type\": \"email-addr\",\n",
      "    \"spec_version\": \"2.1\",\n",
      "    \"id\": \"email-addr--eb38d07e-6ba8-56c1-b107-d4db4aacf212\",\n",
      "    \"value\": \"evil@northkorea.nk\",\n",
      "    \"display_name\": \"Bad Man\"\n",
      "}\n"
     ]
    }
   ],
   "source": [
    "email_path = \"SCO/Email_Addr/email_addr_THREAT.json\"\n",
    "results_path = \"step1/THREAT__email_addr.json\"\n",
    "# 1. invoke the email object using method from ./Utilities/local_make_sco.py\n",
    "threat_email_addr_list = invoke_make_email_addr_block(email_path, results_path)\n",
    "# 2. add the record to the in-session bundles and incident lists\n",
    "bundle_list = bundle_list + threat_email_addr_list\n",
    "other_object_refs = other_object_refs + threat_email_addr_list\n",
    "# recover the threat email object in dict form as a global variable for later\n",
    "threat_email_addr = conv(threat_email_addr_list[0])"
   ],
   "metadata": {
    "collapsed": false
   }
  },
  {
   "cell_type": "markdown",
   "source": [
    "### B.2 Retrieve the TR User Account, the Email Address, and the TR Identity from the Context Memory"
   ],
   "metadata": {
    "collapsed": false
   }
  },
  {
   "cell_type": "code",
   "execution_count": 6,
   "outputs": [],
   "source": [
    "# 1. For Naive Smith, find the user account and the email. Plus get my own identity\n",
    "reporter_name = alert_data[\"reporter\"]\n",
    "to_email_addr = alert_data[\"to\"]\n",
    "TR_name = \"Trusty Jones\"\n",
    "# 2. Setup variables to hold the dicts\n",
    "reporter_account = {}\n",
    "reporter_email_addr = {}\n",
    "reporter_identity = {}\n",
    "TR_identity = {}\n",
    "#\n",
    "# 3. Retrieve the details for the employees involved\n",
    "#\n",
    "for rec in context_identities:\n",
    "    if rec[\"type\"] == \"user-account\":\n",
    "        if rec[\"account_login\"] == reporter_name:\n",
    "            reporter_account = rec\n",
    "    if rec[\"type\"] == \"email-addr\":\n",
    "        if rec[\"value\"] == to_email_addr:\n",
    "            reporter_email_addr = rec\n",
    "\n",
    "for rec in context_identities:\n",
    "    if rec[\"type\"] == \"identity\" and rec[\"identity_class\"] == \"individual\":\n",
    "        if rec[\"name\"] == TR_name:\n",
    "            TR_identity = rec\n",
    "        for email_address in rec[\"extensions\"][\"extension-definition--66e2492a-bbd3-4be6-88f5-cc91a017a498\"][\"email_addresses\"]:\n",
    "            if email_address[\"email_address_ref\"] == reporter_email_addr[\"id\"]:\n",
    "                reporter_identity = rec\n",
    "\n",
    "\n",
    "# add the record to the in-session bundles and lists\n",
    "bundle_list = bundle_list + [reporter_account, reporter_email_addr, TR_identity]\n",
    "other_object_refs = other_object_refs + [reporter_account, reporter_email_addr, TR_identity]"
   ],
   "metadata": {
    "collapsed": false
   }
  },
  {
   "cell_type": "markdown",
   "source": [
    "### B.3 Make the URL"
   ],
   "metadata": {
    "collapsed": false
   }
  },
  {
   "cell_type": "code",
   "execution_count": 7,
   "outputs": [
    {
     "name": "stdout",
     "output_type": "stream",
     "text": [
      "{\n",
      "    \"type\": \"url\",\n",
      "    \"spec_version\": \"2.1\",\n",
      "    \"id\": \"url--3279c7de-8f91-5c1a-99d9-d6546c6c41f7\",\n",
      "    \"value\": \"https://www.northkorea.nk/we/are/mad/\"\n",
      "}\n"
     ]
    }
   ],
   "source": [
    "url_path = \"SCO/URL/suspicious_url.json\"\n",
    "results_path = \"step1/THREAT__url.json\"\n",
    "hyperlink = alert_data[\"url\"]\n",
    "# make the email object\n",
    "url_list = invoke_make_url_block(url_path, results_path, hyperlink)\n",
    "# add the record to the in-session bundles and lists\n",
    "bundle_list = bundle_list + url_list\n",
    "other_object_refs = other_object_refs + url_list\n",
    "# recover the threat email object in dict form\n",
    "sus_url = conv(url_list[0])"
   ],
   "metadata": {
    "collapsed": false
   }
  },
  {
   "cell_type": "markdown",
   "source": [
    "### B.4 Make the Email Message"
   ],
   "metadata": {
    "collapsed": false
   }
  },
  {
   "cell_type": "code",
   "execution_count": 8,
   "outputs": [
    {
     "name": "stdout",
     "output_type": "stream",
     "text": [
      "{\n",
      "    \"type\": \"email-message\",\n",
      "    \"spec_version\": \"2.1\",\n",
      "    \"id\": \"email-message--6090e3d4-1fa8-5b36-9d2d-4a66d824995d\",\n",
      "    \"is_multipart\": false,\n",
      "    \"date\": \"2020-10-19T01:01:01Z\",\n",
      "    \"from_ref\": \"email-addr--eb38d07e-6ba8-56c1-b107-d4db4aacf212\",\n",
      "    \"to_refs\": [\n",
      "        \"email-addr--4722424c-7012-56b0-84d5-01d076fc547b\"\n",
      "    ],\n",
      "    \"subject\": \"we are coming for you\",\n",
      "    \"body\": \"some bad stuff written here\"\n",
      "}\n"
     ]
    }
   ],
   "source": [
    "msg_path = \"SCO/Email_Message/suspicious_email_msg.json\"\n",
    "results_path = \"step1/SUSS__email_msg.json\"\n",
    "from_ref = threat_email_addr\n",
    "to_ref = [reporter_email_addr]\n",
    "cc_ref = []\n",
    "bcc_ref = []\n",
    "# make the email object\n",
    "e_msg_list = invoke_make_e_msg_block(msg_path, results_path, from_ref, to_ref, cc_ref, bcc_ref)\n",
    "# add the record to the in-session bundles and lists\n",
    "bundle_list = bundle_list + e_msg_list\n",
    "other_object_refs = other_object_refs + e_msg_list\n",
    "# recover the threat email object in dict form\n",
    "sus_msg = conv(e_msg_list[0])"
   ],
   "metadata": {
    "collapsed": false
   }
  },
  {
   "cell_type": "markdown",
   "source": [
    "### B.4 Make the \"derived-from\" SRO"
   ],
   "metadata": {
    "collapsed": false
   }
  },
  {
   "cell_type": "code",
   "execution_count": 9,
   "outputs": [
    {
     "name": "stdout",
     "output_type": "stream",
     "text": [
      "{\n",
      "    \"type\": \"relationship\",\n",
      "    \"spec_version\": \"2.1\",\n",
      "    \"id\": \"relationship--e995743f-bf73-49a1-b844-665fb9cf38ab\",\n",
      "    \"created\": \"2023-12-20T13:15:06.038289Z\",\n",
      "    \"modified\": \"2023-12-20T13:15:06.038289Z\",\n",
      "    \"relationship_type\": \"derived-from\",\n",
      "    \"source_ref\": \"email-message--6090e3d4-1fa8-5b36-9d2d-4a66d824995d\",\n",
      "    \"target_ref\": \"url--3279c7de-8f91-5c1a-99d9-d6546c6c41f7\"\n",
      "}\n"
     ]
    }
   ],
   "source": [
    "# make the email object\n",
    "relationship_type = \"derived-from\"\n",
    "sro_data_path = \"SRO/Relationship/sro_derived.json\"\n",
    "sro_rsults_path = \"step1/SRO_derived.json\"\n",
    "derived_from_SRO_list = invoke_sro_block(sro_data_path, sro_rsults_path, sus_msg, sus_url, relationship_type)\n",
    "# add the record to the in-session bundles and lists\n",
    "bundle_list = bundle_list + derived_from_SRO_list\n",
    "other_object_refs = other_object_refs + derived_from_SRO_list\n",
    "# recover the derived URL to Email Message relationship object in dict form\n",
    "sus_relation = conv(derived_from_SRO_list[0])"
   ],
   "metadata": {
    "collapsed": false
   }
  },
  {
   "cell_type": "markdown",
   "source": [
    "## C. Collect the Elements of the Observation into an Observed-Data Object\n",
    "\n",
    "Tbis then represents the potential phishing email as a group of elements"
   ],
   "metadata": {
    "collapsed": false
   }
  },
  {
   "cell_type": "code",
   "execution_count": 10,
   "outputs": [
    {
     "name": "stdout",
     "output_type": "stream",
     "text": [
      "{\n",
      "    \"type\": \"observed-data\",\n",
      "    \"spec_version\": \"2.1\",\n",
      "    \"id\": \"observed-data--0dddd6b7-9bc8-42bf-8b21-cbec6bf1bc0b\",\n",
      "    \"created\": \"2023-12-20T13:15:06.075401Z\",\n",
      "    \"modified\": \"2023-12-20T13:15:06.075401Z\",\n",
      "    \"first_observed\": \"2020-10-19T01:01:01Z\",\n",
      "    \"last_observed\": \"2020-10-19T01:01:01Z\",\n",
      "    \"number_observed\": 1,\n",
      "    \"object_refs\": [\n",
      "        \"email-addr--eb38d07e-6ba8-56c1-b107-d4db4aacf212\",\n",
      "        \"user-account--597ad4d4-35ba-585d-8f6d-134a75032f9b\",\n",
      "        \"email-addr--4722424c-7012-56b0-84d5-01d076fc547b\",\n",
      "        \"url--3279c7de-8f91-5c1a-99d9-d6546c6c41f7\",\n",
      "        \"email-message--6090e3d4-1fa8-5b36-9d2d-4a66d824995d\",\n",
      "        \"relationship--e995743f-bf73-49a1-b844-665fb9cf38ab\"\n",
      "    ]\n",
      "}\n"
     ]
    }
   ],
   "source": [
    "# 1. Setup0 list of obsrvations\n",
    "observed_ids = []\n",
    "observed_ids.append(threat_email_addr[\"id\"])\n",
    "observed_ids.append(reporter_account[\"id\"])\n",
    "observed_ids.append(reporter_email_addr[\"id\"])\n",
    "observed_ids.append(sus_url[\"id\"])\n",
    "observed_ids.append(sus_msg[\"id\"])\n",
    "observed_ids.append(sus_relation[\"id\"])\n",
    "# 2. Setup path to form and results\n",
    "obs_path =\"SDO/Observed_Data/observation-alert.json\"\n",
    "results_path =\"step1/observation-alert.json\"\n",
    "# 3. Invoke the Make Observed Data Block\n",
    "obs_1 = invoke_make_observed_data_block(obs_path, results_path, observation=observed_ids)\n",
    "# 4. Add the record to the in-session bundles and lists\n",
    "bundle_list = bundle_list + obs_1\n",
    "other_object_refs = other_object_refs + obs_1"
   ],
   "metadata": {
    "collapsed": false
   }
  },
  {
   "cell_type": "markdown",
   "source": [
    "## D. Create the Alert Sighting\n",
    "\n",
    "Tbis then represents the sighting of potential phishing email as a group of elements\n",
    "\n",
    "### D.1 Create a Indicator with a Pattern for the Phishing Email\n",
    "but set its status to `unkown` to start with"
   ],
   "metadata": {
    "collapsed": false
   }
  },
  {
   "cell_type": "code",
   "execution_count": 11,
   "outputs": [
    {
     "name": "stdout",
     "output_type": "stream",
     "text": [
      "{\n",
      "    \"type\": \"indicator\",\n",
      "    \"spec_version\": \"2.1\",\n",
      "    \"id\": \"indicator--e9e0151c-2bf7-4cbd-ab31-889dabf3130b\",\n",
      "    \"created\": \"2023-12-20T13:15:06.098785Z\",\n",
      "    \"modified\": \"2023-12-20T13:15:06.098785Z\",\n",
      "    \"name\": \"Potential Phishing Email\",\n",
      "    \"description\": \"Suspicious email reported by user\",\n",
      "    \"indicator_types\": [\n",
      "        \"unknown\"\n",
      "    ],\n",
      "    \"pattern\": \"[email-addr:value = 'evil@northkorea.nk' AND email:subject = 'we are coming for you']\",\n",
      "    \"pattern_type\": \"stix\",\n",
      "    \"pattern_version\": \"2.1\",\n",
      "    \"valid_from\": \"2023-12-20T13:15:06.098785Z\"\n",
      "}\n"
     ]
    }
   ],
   "source": [
    "# 1. Setup pattern for indicator\n",
    "pat1 = \"[email-addr:value = '\" + threat_email_addr[\"value\"] + \"' AND email:subject = '\" + sus_msg[\"subject\"] + \"']\"\n",
    "# 2. Setup path to form and results\n",
    "ind_path =\"SDO/Indicator/indicator_alert.json\"\n",
    "results_path =\"step1/indicator_alert.json\"\n",
    "# 3. Invoke the Make Observed Data Block\n",
    "ind_1 = invoke_make_indicator_block(ind_path, results_path, pattern=pat1)\n",
    "# 4. Add the record to the in-session bundles and lists\n",
    "bundle_list = bundle_list + ind_1\n",
    "other_object_refs = other_object_refs + ind_1"
   ],
   "metadata": {
    "collapsed": false
   }
  },
  {
   "cell_type": "markdown",
   "source": [
    "### D.2 Create the Sighting\n",
    "Connecting the:\n",
    "- observed-data object\n",
    "- indicator object\n",
    "- the reporter identity as the location"
   ],
   "metadata": {
    "collapsed": false
   }
  },
  {
   "cell_type": "code",
   "execution_count": 12,
   "outputs": [
    {
     "name": "stdout",
     "output_type": "stream",
     "text": [
      "{\n",
      "    \"type\": \"sighting\",\n",
      "    \"spec_version\": \"2.1\",\n",
      "    \"id\": \"sighting--96eb2eb9-d161-4673-b9ca-0faf08340c35\",\n",
      "    \"created\": \"2023-12-20T13:15:06.13802Z\",\n",
      "    \"modified\": \"2023-12-20T13:15:06.13802Z\",\n",
      "    \"count\": 1,\n",
      "    \"sighting_of_ref\": \"indicator--e9e0151c-2bf7-4cbd-ab31-889dabf3130b\",\n",
      "    \"observed_data_refs\": [\n",
      "        \"observed-data--0dddd6b7-9bc8-42bf-8b21-cbec6bf1bc0b\"\n",
      "    ],\n",
      "    \"where_sighted_refs\": [\n",
      "        \"identity--cf7cd317-8322-4e44-bd86-0386dfcf50ba\"\n",
      "    ]\n",
      "}\n"
     ]
    }
   ],
   "source": [
    "# 1. Setup path to form and results\n",
    "sighting_data_path =\"SRO/Sighting/sighting_alert.json\"\n",
    "results_path =\"step1/sighting_alert.json\"\n",
    "# 2. Setup the SDO sighted, the Observed-Data that was observed with generated objects,\n",
    "#                        then the identity object from the context storage (note the slight difference in indexing\n",
    "sighted = ind_1[0][\"id\"]\n",
    "observed_list = [obs_1[0][\"id\"]]\n",
    "where_list = [reporter_identity[\"id\"]]\n",
    "# 2. Invoke the Make Observed Data Block\n",
    "sight1 = invoke_sighting_block(sighting_data_path, results_path, observed=observed_list, sighted=sighted, where=where_list)\n",
    "# 3. Add the record to the in-session bundles and lists\n",
    "bundle_list = bundle_list + sight1\n",
    "other_object_refs = other_object_refs + sight1"
   ],
   "metadata": {
    "collapsed": false
   }
  },
  {
   "cell_type": "markdown",
   "source": [
    "## E. Create the Event Objects\n",
    "\n",
    "### E.1 First Create the Event\n",
    "Tbis Event represents the sighting of potential phishing email as a group of elements,no real Impact yet"
   ],
   "metadata": {
    "collapsed": false
   }
  },
  {
   "cell_type": "code",
   "execution_count": 13,
   "outputs": [
    {
     "name": "stdout",
     "output_type": "stream",
     "text": [
      "{\n",
      "    \"type\": \"event\",\n",
      "    \"spec_version\": \"2.1\",\n",
      "    \"id\": \"event--869ea5d9-c602-4e9d-b2d4-4119cc8bc7c7\",\n",
      "    \"created\": \"2023-12-20T13:15:06.165026Z\",\n",
      "    \"modified\": \"2023-12-20T13:15:06.165026Z\",\n",
      "    \"description\": \"Suspicious email reported by user\",\n",
      "    \"end_time\": \"2023-12-20T13:15:06.165026Z\",\n",
      "    \"event_types\": [\n",
      "        \"dissemination-phishing-emails\"\n",
      "    ],\n",
      "    \"name\": \"Potential Phishing Email\",\n",
      "    \"sighting_refs\": [\n",
      "        \"sighting--96eb2eb9-d161-4673-b9ca-0faf08340c35\"\n",
      "    ],\n",
      "    \"start_time\": \"2023-12-20T13:15:06.165026Z\"\n",
      "}\n"
     ]
    }
   ],
   "source": [
    "# 1. Setup path to form and results\n",
    "event_data_path =\"SDO/Event/event_alert.json\"\n",
    "results_path =\"step1/event_alert.json\"\n",
    "# 2. Setup the SDO sighted, the Observed-Data that was observed with generated objects,\n",
    "#                        then the identity object from the context storage (note the slight difference in indexing\n",
    "sighting = sight1[0][\"id\"]\n",
    "# 2. Invoke the Make Observed Data Block\n",
    "event_1 = invoke_make_event_block(event_data_path, results_path, changed_objects=None,sighting_refs=sighting)\n",
    "# 3. Add the record to the in-session bundles and lists\n",
    "bundle_list = bundle_list + event_1\n",
    "event_refs = event_refs + event_1"
   ],
   "metadata": {
    "collapsed": false
   }
  },
  {
   "cell_type": "markdown",
   "source": [
    "\n",
    "### E.2 Then Create the Sequence Object for the Event\n",
    "\n",
    "The Sequence object is created to place the event in a sequence, in this case a single-step"
   ],
   "metadata": {
    "collapsed": false
   }
  },
  {
   "cell_type": "code",
   "execution_count": 14,
   "outputs": [
    {
     "name": "stdout",
     "output_type": "stream",
     "text": [
      "{\n",
      "    \"type\": \"sequence\",\n",
      "    \"spec_version\": \"2.1\",\n",
      "    \"id\": \"sequence--d815cbdf-37c1-44bc-989b-87dea4b2b252\",\n",
      "    \"created\": \"2023-12-20T13:15:06.197612Z\",\n",
      "    \"modified\": \"2023-12-20T13:15:06.197612Z\",\n",
      "    \"sequenced_object\": \"event--869ea5d9-c602-4e9d-b2d4-4119cc8bc7c7\",\n",
      "    \"sequence_type\": \"event\",\n",
      "    \"step_type\": \"single_step\"\n",
      "}\n"
     ]
    }
   ],
   "source": [
    "# 1. Setup path to form and results\n",
    "sequence_data_path =\"SDO/Sequence/sequence_alert.json\"\n",
    "results_path =\"step1/sequence_event_single.json\"\n",
    "# 2. Setup the Sequence Object for the Event\n",
    "#\n",
    "step_type = \"single_step\"\n",
    "sequence_type = \"event\"\n",
    "sequenced_object = event_1[0][\"id\"]\n",
    "# 2. Invoke the Make Observed Data Block\n",
    "seq_E_1 = invoke_make_sequence_block(sequence_data_path, results_path, step_type=step_type, sequence_type=sequence_type, sequenced_object=sequenced_object, on_completion=None, on_success=None, on_failure=None, next_steps=None)\n",
    "# 3. Add the record to the in-session bundles and lists\n",
    "bundle_list = bundle_list + seq_E_1\n",
    "sequence_refs = sequence_refs + seq_E_1"
   ],
   "metadata": {
    "collapsed": false
   }
  },
  {
   "cell_type": "markdown",
   "source": [
    "\n",
    "### E.3 Since it is the First Sequence, Create the Start Sequence Object and Connect it\n",
    "\n",
    "The Sequence object is created to place the event in a sequence, in this case a start-step"
   ],
   "metadata": {
    "collapsed": false
   }
  },
  {
   "cell_type": "code",
   "execution_count": 15,
   "outputs": [
    {
     "name": "stdout",
     "output_type": "stream",
     "text": [
      "{\n",
      "    \"type\": \"sequence\",\n",
      "    \"spec_version\": \"2.1\",\n",
      "    \"id\": \"sequence--a4e3fd06-0ba6-49c9-aec4-e96ab813cb25\",\n",
      "    \"created\": \"2023-12-20T13:15:06.229304Z\",\n",
      "    \"modified\": \"2023-12-20T13:15:06.229304Z\",\n",
      "    \"sequence_type\": \"event\",\n",
      "    \"step_type\": \"start_step\",\n",
      "    \"on_completion\": \"sequence--d815cbdf-37c1-44bc-989b-87dea4b2b252\"\n",
      "}\n"
     ]
    }
   ],
   "source": [
    "# 1. Setup path to form and results\n",
    "sequence_data_path =\"SDO/Sequence/sequence_start.json\"\n",
    "results_path =\"step1/sequence_event_start.json\"\n",
    "# 2. Setup the Sequence Object for the Event\n",
    "#\n",
    "step_type = \"start_step\"\n",
    "sequence_type = \"event\"\n",
    "on_completion = seq_E_1[0][\"id\"]\n",
    "# 2. Invoke the Make Observed Data Block\n",
    "seq_E_0 = invoke_make_sequence_block(sequence_data_path, results_path, step_type=step_type, sequence_type=sequence_type, sequenced_object=None, on_completion=on_completion, on_success=None, on_failure=None, next_steps=None)\n",
    "# 3. Add the record to the in-session bundles and lists\n",
    "bundle_list = bundle_list + seq_E_0\n",
    "sequence_start_refs = sequence_start_refs + seq_E_0"
   ],
   "metadata": {
    "collapsed": false
   }
  },
  {
   "cell_type": "markdown",
   "source": [
    "## F. Create the Task Objects\n",
    "\n",
    "Tbis Task represents the first Task to clarify the situation first,no real Impactyet"
   ],
   "metadata": {
    "collapsed": false
   }
  },
  {
   "cell_type": "code",
   "execution_count": 16,
   "outputs": [
    {
     "name": "stdout",
     "output_type": "stream",
     "text": [
      "{\n",
      "    \"type\": \"task\",\n",
      "    \"spec_version\": \"2.1\",\n",
      "    \"id\": \"task--8e895b6d-891a-410b-8474-c689d5168d7e\",\n",
      "    \"created\": \"2023-12-20T13:15:06.25734Z\",\n",
      "    \"modified\": \"2023-12-20T13:15:06.25734Z\",\n",
      "    \"description\": \"Suspicious email reported by user\",\n",
      "    \"end_time\": \"2023-12-20T13:15:06.25734Z\",\n",
      "    \"name\": \"Potential Phishing Email\",\n",
      "    \"start_time\": \"2023-12-20T13:15:06.25734Z\"\n",
      "}\n"
     ]
    }
   ],
   "source": [
    "# 1. Setup path to form and results\n",
    "task_data_path =\"SDO/Task/task_alert.json\"\n",
    "results_path =\"step1/task_alert.json\"\n",
    "# 2. Invoke the Make Observed Data Block\n",
    "task_1 = invoke_make_task_block(task_data_path, results_path, changed_objects=None)\n",
    "# 3. Add the record to the in-session bundles and lists\n",
    "bundle_list = bundle_list + task_1\n",
    "task_refs = task_refs + task_1"
   ],
   "metadata": {
    "collapsed": false
   }
  },
  {
   "cell_type": "markdown",
   "source": [
    "### F.2 Then Create the Sequence Object for the Task\n",
    "\n",
    "The Sequence object is created to place the Task in a sequence, in this case a single-step"
   ],
   "metadata": {
    "collapsed": false
   }
  },
  {
   "cell_type": "code",
   "execution_count": 17,
   "outputs": [
    {
     "name": "stdout",
     "output_type": "stream",
     "text": [
      "{\n",
      "    \"type\": \"sequence\",\n",
      "    \"spec_version\": \"2.1\",\n",
      "    \"id\": \"sequence--037db86a-5cc3-4b85-a17a-9500a3c54ad9\",\n",
      "    \"created\": \"2023-12-20T13:15:06.291913Z\",\n",
      "    \"modified\": \"2023-12-20T13:15:06.291913Z\",\n",
      "    \"sequenced_object\": \"task--8e895b6d-891a-410b-8474-c689d5168d7e\",\n",
      "    \"sequence_type\": \"task\",\n",
      "    \"step_type\": \"single_step\"\n",
      "}\n"
     ]
    }
   ],
   "source": [
    "# 1. Setup path to form and results\n",
    "sequence_data_path =\"SDO/Sequence/sequence_alert.json\"\n",
    "results_path =\"step1/sequence_task_single.json\"\n",
    "# 2. Setup the Sequence Object for the Event\n",
    "#\n",
    "step_type = \"single_step\"\n",
    "sequence_type = \"task\"\n",
    "sequenced_object = task_1[0][\"id\"]\n",
    "# 2. Invoke the Make Observed Data Block\n",
    "seq_T_1 = invoke_make_sequence_block(sequence_data_path, results_path, step_type=step_type, sequence_type=sequence_type, sequenced_object=sequenced_object, on_completion=None, on_success=None, on_failure=None, next_steps=None)\n",
    "# 3. Add the record to the in-session bundles and lists\n",
    "bundle_list = bundle_list + seq_T_1\n",
    "sequence_refs = sequence_refs + seq_E_1"
   ],
   "metadata": {
    "collapsed": false
   }
  },
  {
   "cell_type": "markdown",
   "source": [
    "\n",
    "### F.3 Then Create the Sequence Start Object for the Tasks\n",
    "\n",
    "The Sequence object is created to place the Task in a sequence, in this case a start-step"
   ],
   "metadata": {
    "collapsed": false
   }
  },
  {
   "cell_type": "code",
   "execution_count": 18,
   "outputs": [
    {
     "name": "stdout",
     "output_type": "stream",
     "text": [
      "{\n",
      "    \"type\": \"sequence\",\n",
      "    \"spec_version\": \"2.1\",\n",
      "    \"id\": \"sequence--2d5fdea0-9404-4459-b6d0-174ec56b9f7b\",\n",
      "    \"created\": \"2023-12-20T13:15:06.327113Z\",\n",
      "    \"modified\": \"2023-12-20T13:15:06.327113Z\",\n",
      "    \"sequence_type\": \"task\",\n",
      "    \"step_type\": \"start_step\",\n",
      "    \"on_completion\": \"sequence--037db86a-5cc3-4b85-a17a-9500a3c54ad9\"\n",
      "}\n"
     ]
    }
   ],
   "source": [
    "# 1. Setup path to form and results\n",
    "sequence_data_path =\"SDO/Sequence/sequence_start.json\"\n",
    "results_path =\"step1/sequence_task_start.json\"\n",
    "# 2. Setup the Sequence Object for the Event\n",
    "#\n",
    "step_type = \"start_step\"\n",
    "sequence_type = \"task\"\n",
    "on_completion = seq_T_1[0][\"id\"]\n",
    "# 2. Invoke the Make Observed Data Block\n",
    "seq_T_0 = invoke_make_sequence_block(sequence_data_path, results_path, step_type=step_type, sequence_type=sequence_type, sequenced_object=None, on_completion=on_completion, on_success=None, on_failure=None, next_steps=None)\n",
    "# 3. Add the record to the in-session bundles and lists\n",
    "bundle_list = bundle_list + seq_T_0\n",
    "sequence_start_refs = sequence_start_refs + seq_T_0"
   ],
   "metadata": {
    "collapsed": false
   }
  },
  {
   "cell_type": "markdown",
   "source": [
    "## G. Create the Incident Object\n",
    "\n",
    "Create the Incident object and assign all of the objets to it"
   ],
   "metadata": {
    "collapsed": false
   }
  },
  {
   "cell_type": "code",
   "execution_count": 18,
   "outputs": [],
   "source": [],
   "metadata": {
    "collapsed": false
   }
  },
  {
   "cell_type": "markdown",
   "source": [
    "## H. Write out the Contex Memory for the Incident\n",
    "\n",
    "Export out the Context Memory for the Incident"
   ],
   "metadata": {
    "collapsed": false
   }
  },
  {
   "cell_type": "code",
   "execution_count": 18,
   "outputs": [],
   "source": [],
   "metadata": {
    "collapsed": false
   }
  }
 ],
 "metadata": {
  "kernelspec": {
   "display_name": "Python 3",
   "language": "python",
   "name": "python3"
  },
  "language_info": {
   "codemirror_mode": {
    "name": "ipython",
    "version": 2
   },
   "file_extension": ".py",
   "mimetype": "text/x-python",
   "name": "python",
   "nbconvert_exporter": "python",
   "pygments_lexer": "ipython2",
   "version": "2.7.6"
  }
 },
 "nbformat": 4,
 "nbformat_minor": 0
}
