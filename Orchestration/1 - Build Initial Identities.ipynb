{
 "cells": [
  {
   "cell_type": "markdown",
   "id": "f7946020-8acc-4cbd-9aee-67b9e7478b25",
   "metadata": {},
   "source": [
    "# 1. Build Team Identities, Company Employment and User Identities\n",
    "\n",
    "Notebook to build all of the different identities assumed available when I have initiailised Type Refinery. Note that the Stix objects created by these classes are frozen dicts, so its better to create the components and then the whole, rather than create an empty whole first and then add the components, which requires updating.\n",
    "\n",
    "We will take the Type Refinery User as an Example of the Process of making a group of Complex Identity using the official [Identity_Contact_Information Extension](https://github.com/os-threat/cti-stix-common-objects/tree/main/extension-definition-specifications/identity-contact-information) specification, and combining it with the standard Stix approach. There are three stages:\n",
    "\n",
    "1. Create the `User_Account` first,\n",
    "2. Then the `Email_Address` objects, attaching the new User_Account.[\"id\"]\n",
    "3. Then create the `EmailContact`, `SocialMediaContact`, `ContactNumber` lists of sub-objects from the specification, attaching their User_Account.[\"id\"] and Email_Address.[\"id\"] as required\n",
    "4. Create the [Identity Stix object](https://docs.oasis-open.org/cti/stix/v2.1/os/stix-v2.1-os.html#_wh296fiwpklp) with the [Identity_Contact_Information Extension](https://github.com/os-threat/cti-stix-common-objects/blob/main/extension-definition-specifications/identity-contact-information/Identity%20Contact%20Information.docx), and joining the sub objects to the Extension object and then down to the base Identity object\n",
    "5. Collect all of the objects and put them into a bundle, and save into a json\n",
    "\n",
    "Then we will create identities fro the three dummy users that are always clicking the wrong links, but at least they are good on reporting. Finally, we will employ the four Identities with our current company, and save the complete group of objects into a bundle\n",
    "\n",
    "Each time a block makes an object, and saves it as a json, this notebook will parse the object into an actual Stix object, so it can be bundled and printy printed (It also verifies the objects are created correctly, and is cool).\n",
    "\n",
    "## A. Load Imports\n",
    "\n",
    "### A.1 StixORM Imports\n"
   ]
  },
  {
   "cell_type": "code",
   "execution_count": 1,
   "id": "b6294775-e3a8-40c6-8d53-11b595d5aeb3",
   "metadata": {
    "ExecuteTime": {
     "end_time": "2023-12-12T14:22:17.237443400Z",
     "start_time": "2023-12-12T14:22:13.114722700Z"
    }
   },
   "outputs": [
    {
     "name": "stdout",
     "output_type": "stream",
     "text": [
      "Requirement already satisfied: stixorm in c:\\users\\brett\\anaconda3\\envs\\brett-blocks\\lib\\site-packages (0.3.2)\n",
      "Requirement already satisfied: loguru<0.8.0,>=0.7.0 in c:\\users\\brett\\anaconda3\\envs\\brett-blocks\\lib\\site-packages (from stixorm) (0.7.0)\n",
      "Requirement already satisfied: networkx<4.0,>=3.1 in c:\\users\\brett\\anaconda3\\envs\\brett-blocks\\lib\\site-packages (from stixorm) (3.1)\n",
      "Requirement already satisfied: pydantic<3.0.0,>=2.1.1 in c:\\users\\brett\\anaconda3\\envs\\brett-blocks\\lib\\site-packages (from stixorm) (2.1.1)\n",
      "Requirement already satisfied: stix2==3.0.1 in c:\\users\\brett\\anaconda3\\envs\\brett-blocks\\lib\\site-packages (from stixorm) (3.0.1)\n",
      "Requirement already satisfied: typedb-driver<3.0.0,>=2.25.6 in c:\\users\\brett\\anaconda3\\envs\\brett-blocks\\lib\\site-packages (from stixorm) (2.25.8)\n",
      "Requirement already satisfied: validators<0.21.0,>=0.20.0 in c:\\users\\brett\\anaconda3\\envs\\brett-blocks\\lib\\site-packages (from stixorm) (0.20.0)\n",
      "Requirement already satisfied: pytz in c:\\users\\brett\\anaconda3\\envs\\brett-blocks\\lib\\site-packages (from stix2==3.0.1->stixorm) (2023.3)\n",
      "Requirement already satisfied: requests in c:\\users\\brett\\anaconda3\\envs\\brett-blocks\\lib\\site-packages (from stix2==3.0.1->stixorm) (2.31.0)\n",
      "Requirement already satisfied: simplejson in c:\\users\\brett\\anaconda3\\envs\\brett-blocks\\lib\\site-packages (from stix2==3.0.1->stixorm) (3.19.1)\n",
      "Requirement already satisfied: stix2-patterns>=1.2.0 in c:\\users\\brett\\anaconda3\\envs\\brett-blocks\\lib\\site-packages (from stix2==3.0.1->stixorm) (2.0.0)\n",
      "Requirement already satisfied: colorama>=0.3.4 in c:\\users\\brett\\anaconda3\\envs\\brett-blocks\\lib\\site-packages (from loguru<0.8.0,>=0.7.0->stixorm) (0.4.6)\n",
      "Requirement already satisfied: win32-setctime>=1.0.0 in c:\\users\\brett\\anaconda3\\envs\\brett-blocks\\lib\\site-packages (from loguru<0.8.0,>=0.7.0->stixorm) (1.1.0)\n",
      "Requirement already satisfied: annotated-types>=0.4.0 in c:\\users\\brett\\anaconda3\\envs\\brett-blocks\\lib\\site-packages (from pydantic<3.0.0,>=2.1.1->stixorm) (0.5.0)\n",
      "Requirement already satisfied: pydantic-core==2.4.0 in c:\\users\\brett\\anaconda3\\envs\\brett-blocks\\lib\\site-packages (from pydantic<3.0.0,>=2.1.1->stixorm) (2.4.0)\n",
      "Requirement already satisfied: typing-extensions>=4.6.1 in c:\\users\\brett\\anaconda3\\envs\\brett-blocks\\lib\\site-packages (from pydantic<3.0.0,>=2.1.1->stixorm) (4.7.1)\n",
      "Requirement already satisfied: parse==1.18.0 in c:\\users\\brett\\anaconda3\\envs\\brett-blocks\\lib\\site-packages (from typedb-driver<3.0.0,>=2.25.6->stixorm) (1.18.0)\n",
      "Requirement already satisfied: decorator>=3.4.0 in c:\\users\\brett\\anaconda3\\envs\\brett-blocks\\lib\\site-packages (from validators<0.21.0,>=0.20.0->stixorm) (5.1.1)\n",
      "Requirement already satisfied: antlr4-python3-runtime~=4.9.0 in c:\\users\\brett\\anaconda3\\envs\\brett-blocks\\lib\\site-packages (from stix2-patterns>=1.2.0->stix2==3.0.1->stixorm) (4.9.3)\n",
      "Requirement already satisfied: six in c:\\users\\brett\\anaconda3\\envs\\brett-blocks\\lib\\site-packages (from stix2-patterns>=1.2.0->stix2==3.0.1->stixorm) (1.16.0)\n",
      "Requirement already satisfied: charset-normalizer<4,>=2 in c:\\users\\brett\\anaconda3\\envs\\brett-blocks\\lib\\site-packages (from requests->stix2==3.0.1->stixorm) (3.2.0)\n",
      "Requirement already satisfied: idna<4,>=2.5 in c:\\users\\brett\\anaconda3\\envs\\brett-blocks\\lib\\site-packages (from requests->stix2==3.0.1->stixorm) (3.4)\n",
      "Requirement already satisfied: urllib3<3,>=1.21.1 in c:\\users\\brett\\anaconda3\\envs\\brett-blocks\\lib\\site-packages (from requests->stix2==3.0.1->stixorm) (1.26.16)\n",
      "Requirement already satisfied: certifi>=2017.4.17 in c:\\users\\brett\\anaconda3\\envs\\brett-blocks\\lib\\site-packages (from requests->stix2==3.0.1->stixorm) (2023.7.22)\n"
     ]
    }
   ],
   "source": [
    "import sys\n",
    "!{sys.executable} -m pip install stixorm\n",
    "from stixorm.module.typedb import TypeDBSink, TypeDBSource\n",
    "from stixorm.module.authorise import import_type_factory\n",
    "from stixorm.module.definitions.stix21 import (\n",
    "    Identity, EmailAddress, UserAccount\n",
    ")\n",
    "from stixorm.module.definitions.os_threat import (\n",
    "    IdentityContact, EmailContact, SocialMediaContact, ContactNumber\n",
    ")\n",
    "from stixorm.module.authorise import import_type_factory\n",
    "from stixorm.module.typedb_lib.instructions import ResultStatus, Result\n",
    "from stixorm.module.parsing import parse_objects\n",
    "import_type = import_type_factory.get_all_imports()\n",
    "import logging\n",
    "logger = logging.getLogger(__name__)\n",
    "logger.setLevel(logging.INFO)"
   ]
  },
  {
   "cell_type": "markdown",
   "source": [
    "## A.2 Relative Path Imports\n",
    "https://stackoverflow.com/questions/76162459/jupyter-notebook-importerror-attempted-relative-import-with-no-known-parent-pac/77528726#77528726"
   ],
   "metadata": {
    "collapsed": false
   }
  },
  {
   "cell_type": "code",
   "execution_count": 2,
   "outputs": [],
   "source": [
    "import sys\n",
    "sys.path.append('../')\n",
    "import os"
   ],
   "metadata": {
    "collapsed": false,
    "ExecuteTime": {
     "end_time": "2023-12-12T14:22:17.253896900Z",
     "start_time": "2023-12-12T14:22:17.239452200Z"
    }
   }
  },
  {
   "cell_type": "markdown",
   "source": [
    "## A.3 Relative Import of Blocks"
   ],
   "metadata": {
    "collapsed": false
   }
  },
  {
   "cell_type": "code",
   "execution_count": 3,
   "id": "1c37be77-8244-4ea2-b2e2-80f27afb189b",
   "metadata": {
    "ExecuteTime": {
     "end_time": "2023-12-12T14:22:17.287883600Z",
     "start_time": "2023-12-12T14:22:17.259360Z"
    }
   },
   "outputs": [],
   "source": [
    "import json\n",
    "from Block_Families.Objects.SCO.User_Account.make_user_account import main as make_user_account\n",
    "from Block_Families.Objects.SCO.Email_Addr.make_email_addr import main as make_email_addr\n",
    "from Block_Families.Objects.SDO.Identity.make_identity import main as make_identity\n",
    "from utilities import emulate_ports, unwind_ports\n",
    "\n",
    "path_base = \"../Block_Families/Objects/\"\n",
    "results_base = \"../Orchestration/Results/\"\n",
    "identities_data = [\n",
    "    {\n",
    "        \"who\": \"me\", \"email\": \"SCO/Email_Addr/email_addr_TR_user.json\", \n",
    "        \"acct\": \"SCO/User_Account/usr_account_TR_user.json\",\n",
    "        \"ident\": \"SDO/Identity/identity_TR_user.json\",\n",
    "        \"results\": \"TR_Identity\"\n",
    "    }, \n",
    "    {\n",
    "        \"who\": \"usr1\", \"email\": \"SCO/Email_Addr/email_addr_IT_user1.json\", \n",
    "        \"acct\": \"SCO/User_Account/usr_account_IT_user1.json\",\n",
    "        \"ident\": \"SDO/Identity/identity_IT_user1.json\",\n",
    "        \"results\": \"Usr1\"\n",
    "    }, \n",
    "    {\n",
    "        \"who\": \"usr2\", \"email\": \"SCO/Email_Addr/email_addr_IT_user2.json\", \n",
    "        \"acct\": \"SCO/User_Account/usr_account_IT_user2.json\",\n",
    "        \"ident\": \"SDO/Identity/identity_IT_user2.json\",\n",
    "        \"results\": \"Usr2\"\n",
    "    }, \n",
    "    {\n",
    "        \"who\": \"usr3\", \"email\": \"SCO/Email_Addr/email_addr_IT_user3.json\", \n",
    "        \"acct\": \"SCO/User_Account/usr_account_IT_user3.json\",\n",
    "        \"ident\": \"SDO/Identity/identity_IT_user3.json\",\n",
    "        \"results\": \"Usr3\"\n",
    "    }, \n",
    "]\n",
    "company_base = {\n",
    "    \"ident\": \"SDO/Identity/identity_TR_user_company.json\",\n",
    "    \"results\": \"employed\"\n",
    "}\n",
    "# Make the Variable to hold the Bundle List\n",
    "bundle_list = []\n",
    "results_paths = {}"
   ]
  },
  {
   "cell_type": "markdown",
   "source": [
    "## B. Make the User of this Type Refinery\n",
    "\n",
    "once on initialisation, otherwise you must update the identity object\n",
    "\n",
    "### B.1 First Select the User Data"
   ],
   "metadata": {
    "collapsed": false
   }
  },
  {
   "cell_type": "code",
   "execution_count": 4,
   "outputs": [],
   "source": [
    "for ident in identities_data:\n",
    "    if ident[\"who\"] == \"me\":\n",
    "        email_path = ident[\"email\"]\n",
    "        acct_path = ident[\"acct\"]\n",
    "        ident_path = ident[\"ident\"]\n",
    "        results_path = ident[\"results\"]\n"
   ],
   "metadata": {
    "collapsed": false,
    "ExecuteTime": {
     "end_time": "2023-12-12T14:22:17.299830100Z",
     "start_time": "2023-12-12T14:22:17.284874900Z"
    }
   }
  },
  {
   "cell_type": "markdown",
   "source": [
    "### B.2 Make the User Account\n",
    "Simply pass the paths for the input file and where the results should be written"
   ],
   "metadata": {
    "collapsed": false
   }
  },
  {
   "cell_type": "code",
   "execution_count": 5,
   "outputs": [
    {
     "name": "stdout",
     "output_type": "stream",
     "text": [
      "{\n",
      "    \"type\": \"user-account\",\n",
      "    \"spec_version\": \"2.1\",\n",
      "    \"id\": \"user-account--83658594-537d-5c32-b9f0-137354bd9bc3\",\n",
      "    \"user_id\": \"79563902\",\n",
      "    \"account_login\": \"tjones\",\n",
      "    \"account_type\": \"soc,\",\n",
      "    \"display_name\": \"Trusty Jones\"\n",
      "}\n"
     ]
    }
   ],
   "source": [
    "def local_make_acct(acct_path, results_path):\n",
    "    # Set the Relative Input and Output Paths for the block\n",
    "    acct_data_rel_path =  path_base + acct_path\n",
    "    acct_results_rel_path = results_base + results_path + \"__acct.json\"\n",
    "    results_paths[\"acct\"] = acct_results_rel_path\n",
    "    # Run the Make User Account block\n",
    "    make_user_account(acct_data_rel_path,acct_results_rel_path)\n",
    "    # Retrieve the saved file\n",
    "    if os.path.exists(acct_results_rel_path):\n",
    "        with open(acct_results_rel_path, \"r\") as script_input:\n",
    "            export_data = json.load(script_input)\n",
    "            export_data_list = export_data[\"user-account\"]\n",
    "            stix_object = export_data_list[0]\n",
    "            # convert it into a Stix Object and append to the bundle\n",
    "            usr_acct = UserAccount(**stix_object)\n",
    "            print(usr_acct.serialize(pretty=True))\n",
    "            bundle_list.append(usr_acct)\n",
    "\n",
    "# make the account object\n",
    "local_make_acct(acct_path, results_path)"
   ],
   "metadata": {
    "collapsed": false,
    "ExecuteTime": {
     "end_time": "2023-12-12T14:22:17.343608200Z",
     "start_time": "2023-12-12T14:22:17.304188Z"
    }
   }
  },
  {
   "cell_type": "markdown",
   "source": [
    "### B.3 Make the Email Address"
   ],
   "metadata": {
    "collapsed": false
   }
  },
  {
   "cell_type": "code",
   "execution_count": 6,
   "outputs": [
    {
     "name": "stdout",
     "output_type": "stream",
     "text": [
      "{\n",
      "    \"type\": \"email-addr\",\n",
      "    \"spec_version\": \"2.1\",\n",
      "    \"id\": \"email-addr--c99b87bd-f0a8-50ca-9f84-68072efc61e3\",\n",
      "    \"value\": \"trusty@example.com\",\n",
      "    \"display_name\": \"Trusty Jones\",\n",
      "    \"belongs_to_ref\": \"user-account--83658594-537d-5c32-b9f0-137354bd9bc3\"\n",
      "}\n"
     ]
    }
   ],
   "source": [
    "def local_make_email(email_path, results_path, acct_results):\n",
    "    #\n",
    "    # 1. Set the Relative Input and Output Paths for the block\n",
    "    #\n",
    "    email_data_rel_path = path_base + email_path\n",
    "    email_results_rel_path = results_base + results_path + \"__email.json\"\n",
    "    results_paths['email'] = email_results_rel_path\n",
    "    #\n",
    "    # NOTE: This code is only To fake input ports\n",
    "    # Add the User Account object and the  EmailAddress\n",
    "    #  Form data file\n",
    "    #\n",
    "    emulate_ports(email_data_rel_path, [acct_results])\n",
    "    #\n",
    "    # Make the Email Address object\n",
    "    #\n",
    "    make_email_addr(email_data_rel_path,email_results_rel_path)\n",
    "    #\n",
    "    # Remove Port Emulation - Fix the data file so it only has form data\n",
    "    #\n",
    "    unwind_ports(email_data_rel_path)\n",
    "    # Retrieve the saved file\n",
    "    if os.path.exists(email_results_rel_path):\n",
    "        with open(email_results_rel_path, \"r\") as script_input:\n",
    "            export_data = json.load(script_input)\n",
    "            export_data_list = export_data[\"email-addr\"]\n",
    "            stix_object = export_data_list[0]\n",
    "            # convert it into a Stix Object and append to the bundle\n",
    "            email_addr = EmailAddress(**stix_object)\n",
    "            print(email_addr.serialize(pretty=True))\n",
    "            bundle_list.append(email_addr)\n",
    "\n",
    "\n",
    "\n",
    "# make the email object\n",
    "email_results_rel_path=\"\"\n",
    "local_make_email(email_path, results_path, results_paths['acct'])"
   ],
   "metadata": {
    "collapsed": false,
    "ExecuteTime": {
     "end_time": "2023-12-12T14:22:17.353743Z",
     "start_time": "2023-12-12T14:22:17.314792500Z"
    }
   }
  },
  {
   "cell_type": "markdown",
   "source": [
    "### B.4 Make the Identity"
   ],
   "metadata": {
    "collapsed": false
   }
  },
  {
   "cell_type": "code",
   "execution_count": 7,
   "outputs": [
    {
     "name": "stdout",
     "output_type": "stream",
     "text": [
      "{\n",
      "    \"type\": \"identity\",\n",
      "    \"spec_version\": \"2.1\",\n",
      "    \"id\": \"identity--7580544f-0671-4633-b9a2-16fef9bcf124\",\n",
      "    \"created\": \"2023-12-12T14:22:17.352739Z\",\n",
      "    \"modified\": \"2023-12-12T14:22:17.352739Z\",\n",
      "    \"name\": \"Trusty Jones\",\n",
      "    \"description\": \"A Trusty Individual\",\n",
      "    \"roles\": [\n",
      "        \"soc\",\n",
      "        \"support\"\n",
      "    ],\n",
      "    \"identity_class\": \"individual\",\n",
      "    \"sectors\": [\n",
      "        \"technology\"\n",
      "    ],\n",
      "    \"extensions\": {\n",
      "        \"extension-definition--66e2492a-bbd3-4be6-88f5-cc91a017a498\": {\n",
      "            \"extension_type\": \"property-extension\",\n",
      "            \"contact_numbers\": [\n",
      "                {\n",
      "                    \"contact_number_type\": \"work-phone\",\n",
      "                    \"contact_number\": \"0418-208-368\"\n",
      "                }\n",
      "            ],\n",
      "            \"email_addresses\": [\n",
      "                {\n",
      "                    \"digital_contact_type\": \"work\",\n",
      "                    \"email_address_ref\": \"email-addr--c99b87bd-f0a8-50ca-9f84-68072efc61e3\"\n",
      "                }\n",
      "            ],\n",
      "            \"first_name\": \"Me\",\n",
      "            \"last_name\": \"Jones\",\n",
      "            \"middle_name\": \"Percival\",\n",
      "            \"prefix\": \"Dr\",\n",
      "            \"social_media_accounts\": [\n",
      "                {\n",
      "                    \"digital_contact_type\": \"work\",\n",
      "                    \"user_account_ref\": \"user-account--83658594-537d-5c32-b9f0-137354bd9bc3\"\n",
      "                }\n",
      "            ],\n",
      "            \"team\": \"All_Stars\"\n",
      "        }\n",
      "    }\n",
      "}\n"
     ]
    }
   ],
   "source": [
    "def local_make_identity(ident_path, results_path, email_results, acct_results):\n",
    "    # Set the Relative Input and Output Paths for the block\n",
    "    identity_data_rel_path = path_base + ident_path\n",
    "    identity_results_rel_path = results_base + results_path + \"__ident.json\"\n",
    "    #\n",
    "    # NOTE: This code is only To fake input ports\n",
    "    # Add the USer Account object and the  EmailAddress\n",
    "    #  to the Identity Form object\n",
    "    ##\n",
    "    # NOTE: This code is only To fake input ports\n",
    "    # Add the User Account object and the  EmailAddress\n",
    "    #  Form data file\n",
    "    #\n",
    "    emulate_ports(identity_data_rel_path, [acct_results, email_results])\n",
    "    # Make the Email Address object\n",
    "    make_identity(identity_data_rel_path,identity_results_rel_path)\n",
    "    #\n",
    "    # Remove Port Emulation - Fix the data file so it only has form data\n",
    "    #\n",
    "    unwind_ports(identity_data_rel_path)\n",
    "    # Retrieve the saved file\n",
    "    if os.path.exists(identity_results_rel_path):\n",
    "        with open(identity_results_rel_path, \"r\") as script_input:\n",
    "            export_data = json.load(script_input)\n",
    "            export_data_list = export_data[\"identity\"]\n",
    "            stix_object = export_data_list[0]\n",
    "            # convert it into a Stix Object and append to the bundle\n",
    "            identity = Identity(**stix_object)\n",
    "            print(identity.serialize(pretty=True))\n",
    "            bundle_list.append(identity)\n",
    "\n",
    "\n",
    "\n",
    "# make the email object\n",
    "local_make_identity(ident_path, results_path, email_results=results_paths['email'], acct_results=results_paths['acct'])"
   ],
   "metadata": {
    "collapsed": false,
    "ExecuteTime": {
     "end_time": "2023-12-12T14:22:17.405861Z",
     "start_time": "2023-12-12T14:22:17.351738700Z"
    }
   }
  },
  {
   "cell_type": "code",
   "execution_count": 7,
   "outputs": [],
   "source": [],
   "metadata": {
    "collapsed": false,
    "ExecuteTime": {
     "end_time": "2023-12-12T14:22:17.405861Z",
     "start_time": "2023-12-12T14:22:17.379403900Z"
    }
   }
  }
 ],
 "metadata": {
  "kernelspec": {
   "display_name": "Python 3 (ipykernel)",
   "language": "python",
   "name": "python3"
  },
  "language_info": {
   "codemirror_mode": {
    "name": "ipython",
    "version": 3
   },
   "file_extension": ".py",
   "mimetype": "text/x-python",
   "name": "python",
   "nbconvert_exporter": "python",
   "pygments_lexer": "ipython3",
   "version": "3.9.17"
  }
 },
 "nbformat": 4,
 "nbformat_minor": 5
}
