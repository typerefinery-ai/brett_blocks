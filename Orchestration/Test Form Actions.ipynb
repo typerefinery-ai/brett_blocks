{
 "cells": [
  {
   "cell_type": "markdown",
   "source": [
    "# Tests to check UI blocks\n",
    "\n",
    "\n",
    "\n",
    "## 1. Setup Imports"
   ],
   "metadata": {
    "collapsed": false
   }
  },
  {
   "cell_type": "code",
   "execution_count": 1,
   "outputs": [],
   "source": [
    "\n",
    "import sys\n",
    "sys.path.append('../')\n",
    "import os\n",
    "import logging\n",
    "logger = logging.getLogger(__name__)\n",
    "logger.setLevel(logging.INFO)\n",
    "from Utilities.local_make_general import invoke_get_relationship_type_block\n",
    "from Utilities.local_make_general import invoke_rmb_tree_copy\n",
    "from Utilities.local_make_general import invoke_rmb_tree_editDAG\n",
    "\n",
    "from Block_Families.General._library.convert_n_and_e import convert_node, convert_relns, convert_sighting\n",
    "\n",
    "context_base = \"../Orchestration/generated/os-triage/context_mem\"\n",
    "results_base = \"../Orchestration/Results/\"\n",
    "object_base = \"../Block_Families/StixORM/\"\n",
    "os_triage_base = \"../Block_Families/OS_Triage/\""
   ],
   "metadata": {
    "collapsed": false,
    "ExecuteTime": {
     "end_time": "2024-10-07T05:33:28.143400300Z",
     "start_time": "2024-10-07T05:33:27.659690700Z"
    }
   }
  },
  {
   "cell_type": "markdown",
   "source": [
    "## 2. Test \"Get Relationship Type Block\""
   ],
   "metadata": {
    "collapsed": false
   }
  },
  {
   "cell_type": "code",
   "execution_count": 2,
   "outputs": [
    {
     "name": "stdout",
     "output_type": "stream",
     "text": [
      "result_dict->{'relationship_type_list': ['derived-from', 'duplicate-of', 'related-to'], 'reln_form_values': {'source_ref': 'url--3279c7de-8f91-5c1a-99d9-d6546c6c41f7', 'target_ref': 'email-message--6090e3d4-1fa8-5b36-9d2d-4a66d824995d'}}\n"
     ]
    }
   ],
   "source": [
    "#\n",
    "source_path = results_base + \"step1/THREAT__url.json\"\n",
    "target_path = results_base + \"step1/SUSS__email_msg.json\"\n",
    "results_path = results_base + \"step1/SRO_Types.json\"\n",
    "\n",
    "result_dict = invoke_get_relationship_type_block(source_path, target_path, results_path)\n",
    "print(f\"result_dict->{result_dict}\")"
   ],
   "metadata": {
    "collapsed": false,
    "ExecuteTime": {
     "end_time": "2024-10-07T05:33:28.217527100Z",
     "start_time": "2024-10-07T05:33:28.146402800Z"
    }
   }
  },
  {
   "cell_type": "markdown",
   "source": [
    "## 3. Test Tree RMB Menu - Copy"
   ],
   "metadata": {
    "collapsed": false
   }
  },
  {
   "cell_type": "code",
   "execution_count": 3,
   "outputs": [
    {
     "name": "stdout",
     "output_type": "stream",
     "text": [
      "input data->{'tree_object': {'id': 'sighting--3b8ee097-281c-4093-85e1-b8e8ee326c27', 'type': 'sighting', 'original': {'type': 'sighting', 'spec_version': '2.1', 'id': 'sighting--3b8ee097-281c-4093-85e1-b8e8ee326c27', 'created': '2024-08-21T10:08:44.987Z', 'modified': '2024-08-21T10:08:44.987Z', 'count': 1, 'sighting_of_ref': 'indicator--198740d5-dde1-4310-8ab4-5c2f82aef6b8', 'observed_data_refs': ['observed-data--39fb32f8-97d9-4f62-b084-3726f3dbe56b'], 'where_sighted_refs': ['identity--ea44a8db-cf67-4743-b193-6ce0ffe54fdb'], 'extensions': {'sighting-alert': {'name': 'user-report', 'log': 'I have found a suspicious email', 'system_id': 'XYZ-1234', 'source': 'user submission'}, 'extension-definition--0d76d6d9-16ca-43fd-bd41-4f800ba8fc43': {'extension_type': 'property-extension'}}}, 'icon': 'sighting-alert', 'name': 'Sighting-Alert', 'heading': 'Sighting-Alert', 'description': 'Sighting of indicator<br>Where Sighted -> identity', 'edge': 'other_object_refs', 'children': [{'id': 'observed-data--39fb32f8-97d9-4f62-b084-3726f3dbe56b', 'type': 'observed-data', 'original': {'type': 'observed-data', 'spec_version': '2.1', 'id': 'observed-data--39fb32f8-97d9-4f62-b084-3726f3dbe56b', 'created': '2024-08-21T10:08:44.870Z', 'modified': '2024-08-21T10:08:44.870Z', 'first_observed': '2020-10-19T01:01:01Z', 'last_observed': '2020-10-19T01:01:01Z', 'number_observed': 1, 'object_refs': ['email-addr--eb38d07e-6ba8-56c1-b107-d4db4aacf212', 'user-account--597ad4d4-35ba-585d-8f6d-134a75032f9b', 'email-addr--4722424c-7012-56b0-84d5-01d076fc547b', 'url--3279c7de-8f91-5c1a-99d9-d6546c6c41f7', 'email-message--6090e3d4-1fa8-5b36-9d2d-4a66d824995d', 'relationship--20bf102b-8822-4063-b0fc-dd8363d98502']}, 'icon': 'observed-data', 'name': 'Observed Data', 'heading': 'Observed Data', 'description': '<br>First Observed -> 2020-10-19T01:01:01Z, Last Observed -> 2020-10-19T01:01:01Z', 'edge': 'observed_data_refs', 'children': [{'id': 'email-addr--eb38d07e-6ba8-56c1-b107-d4db4aacf212', 'type': 'email-addr', 'original': {'type': 'email-addr', 'spec_version': '2.1', 'id': 'email-addr--eb38d07e-6ba8-56c1-b107-d4db4aacf212', 'value': 'evil@northkorea.nk', 'display_name': 'Bad Man'}, 'icon': 'email-addr', 'name': 'Email Address', 'heading': 'Email Address -> Bad Man', 'description': '<br>Value -> evil@northkorea.nk'}, {'id': 'user-account--597ad4d4-35ba-585d-8f6d-134a75032f9b', 'type': 'user-account', 'original': {'type': 'user-account', 'spec_version': '2.1', 'id': 'user-account--597ad4d4-35ba-585d-8f6d-134a75032f9b', 'user_id': '79563902', 'account_login': 'nsmith', 'account_type': 'sales,', 'display_name': 'Naive Smith'}, 'icon': 'user-account', 'name': 'User Account', 'heading': 'User Account', 'description': '<br>Display Name -> Naive Smith<br>Account Type -> sales,, User ID -> 79563902<br>Login String ->nsmith'}, {'id': 'email-addr--4722424c-7012-56b0-84d5-01d076fc547b', 'type': 'email-addr', 'original': {'type': 'email-addr', 'spec_version': '2.1', 'id': 'email-addr--4722424c-7012-56b0-84d5-01d076fc547b', 'value': 'naive@example.com', 'display_name': 'Naive Smith', 'belongs_to_ref': 'user-account--597ad4d4-35ba-585d-8f6d-134a75032f9b'}, 'icon': 'email-addr', 'name': 'Email Address', 'heading': 'Email Address -> Naive Smith', 'description': '<br>Value -> naive@example.com'}, {'id': 'url--3279c7de-8f91-5c1a-99d9-d6546c6c41f7', 'type': 'url', 'original': {'type': 'url', 'spec_version': '2.1', 'id': 'url--3279c7de-8f91-5c1a-99d9-d6546c6c41f7', 'value': 'https://www.northkorea.nk/we/are/mad/'}, 'icon': 'url', 'name': 'URL', 'heading': 'URL', 'description': '<br>Value -> https://www.northkorea.nk/we/are/mad/'}, {'id': 'email-message--6090e3d4-1fa8-5b36-9d2d-4a66d824995d', 'type': 'email-message', 'original': {'type': 'email-message', 'spec_version': '2.1', 'id': 'email-message--6090e3d4-1fa8-5b36-9d2d-4a66d824995d', 'is_multipart': False, 'date': '2020-10-19T01:01:01Z', 'from_ref': 'email-addr--eb38d07e-6ba8-56c1-b107-d4db4aacf212', 'to_refs': ['email-addr--4722424c-7012-56b0-84d5-01d076fc547b'], 'subject': 'we are coming for you', 'body': 'some bad stuff written here'}, 'icon': 'email-message', 'name': 'Email Message', 'heading': 'Email Message', 'description': '<br>Subject -> we are coming for you, Date -> 2020-10-19T01:01:01Z<br>Body -> some bad stuff written here'}, {'id': 'relationship--20bf102b-8822-4063-b0fc-dd8363d98502', 'original': {'type': 'relationship', 'spec_version': '2.1', 'id': 'relationship--20bf102b-8822-4063-b0fc-dd8363d98502', 'created': '2024-08-21T10:08:44.824Z', 'modified': '2024-08-21T10:08:44.824Z', 'relationship_type': 'derived-from', 'source_ref': 'email-message--6090e3d4-1fa8-5b36-9d2d-4a66d824995d', 'target_ref': 'url--3279c7de-8f91-5c1a-99d9-d6546c6c41f7'}, 'name': 'Derived-From', 'heading': 'Derived-From - SRO', 'description': '<br>Result -> Email-Message<br>Raw-Material -> Url', 'type': 'relationship', 'icon': 'relationship'}]}, {'id': 'indicator--198740d5-dde1-4310-8ab4-5c2f82aef6b8', 'type': 'indicator', 'original': {'type': 'indicator', 'spec_version': '2.1', 'id': 'indicator--198740d5-dde1-4310-8ab4-5c2f82aef6b8', 'created': '2024-08-21T10:08:44.919Z', 'modified': '2024-08-21T10:08:44.919Z', 'name': 'Potential Phishing Email', 'description': 'Suspicious email reported by user', 'indicator_types': ['unknown'], 'pattern': \"[email-addr:value = 'evil@northkorea.nk' AND email:subject = 'we are coming for you']\", 'pattern_type': 'stix', 'pattern_version': '2.1', 'valid_from': '2024-08-21T10:08:44.919Z'}, 'icon': 'indicator', 'name': 'Indicator', 'heading': 'Indicator - Potential Phishing Email', 'description': \"<br>Suspicious email reported by user<br>Pattern Type -> stixIndicator Types -> ['unknown']<br>Pattern -> [email-addr:value = 'evil@northkorea.nk' AND email:subject = 'we are coming for you']\", 'edge': 'sighting_of_ref'}, {'id': 'identity--ea44a8db-cf67-4743-b193-6ce0ffe54fdb', 'type': 'identity', 'original': {'type': 'identity', 'spec_version': '2.1', 'id': 'identity--ea44a8db-cf67-4743-b193-6ce0ffe54fdb', 'created': '2024-08-21T10:08:32.946Z', 'modified': '2024-08-21T10:08:32.946Z', 'name': 'Naive Smith', 'description': 'A Naive Individual', 'roles': ['user', 'sales'], 'identity_class': 'individual', 'sectors': ['technology'], 'extensions': {'extension-definition--66e2492a-bbd3-4be6-88f5-cc91a017a498': {'extension_type': 'property-extension', 'contact_numbers': [{'contact_number_type': 'work-phone', 'contact_number': '0499-999-109'}], 'email_addresses': [{'digital_contact_type': 'work', 'email_address_ref': 'email-addr--4722424c-7012-56b0-84d5-01d076fc547b'}], 'first_name': 'Naive', 'last_name': 'Smith', 'middle_name': 'Weakling', 'prefix': 'Mr', 'social_media_accounts': [{'digital_contact_type': 'work', 'user_account_ref': 'user-account--597ad4d4-35ba-585d-8f6d-134a75032f9b'}], 'team': 'Sales'}}}, 'icon': 'identity-contact', 'name': 'Individual', 'heading': 'Individual - Naive Smith', 'description': '<br>A Naive Individual', 'edge': 'sighting_of_ref'}]}}\n",
      "result_dict->{'context_result': 'tree object saved to unattached context - \\nstix_id -> sighting--3b8ee097-281c-4093-85e1-b8e8ee326c27'}\n"
     ]
    }
   ],
   "source": [
    "#\n",
    "source_path = os_triage_base + \"Mouse/rmb_tree_data.json\"\n",
    "results_path = results_base + \"step1/rmb_tree_copy.json\"\n",
    "\n",
    "result_dict = invoke_rmb_tree_copy(source_path, results_path)\n",
    "print(f\"result_dict->{result_dict}\")"
   ],
   "metadata": {
    "collapsed": false,
    "ExecuteTime": {
     "end_time": "2024-10-07T05:33:28.243544700Z",
     "start_time": "2024-10-07T05:33:28.182006600Z"
    }
   }
  },
  {
   "cell_type": "markdown",
   "source": [
    "## 4. Tree RMB Menu - Edit DAG"
   ],
   "metadata": {
    "collapsed": false
   }
  },
  {
   "cell_type": "code",
   "execution_count": 4,
   "outputs": [
    {
     "name": "stdout",
     "output_type": "stream",
     "text": [
      "input object, object id -> email-addr--eb38d07e-6ba8-56c1-b107-d4db4aacf212\n",
      "===================================================\n",
      "\n",
      "input object, object id -> user-account--597ad4d4-35ba-585d-8f6d-134a75032f9b\n",
      "===================================================\n",
      "\n",
      "input object, object id -> email-addr--4722424c-7012-56b0-84d5-01d076fc547b\n",
      "===================================================\n",
      "\n",
      "input object, object id -> url--3279c7de-8f91-5c1a-99d9-d6546c6c41f7\n",
      "===================================================\n",
      "\n",
      "input object, object id -> email-message--6090e3d4-1fa8-5b36-9d2d-4a66d824995d\n",
      "===================================================\n",
      "\n",
      "input object, object id -> relationship--20bf102b-8822-4063-b0fc-dd8363d98502\n",
      "===================================================\n",
      "\n",
      "input object, object id -> observed-data--39fb32f8-97d9-4f62-b084-3726f3dbe56b\n",
      "===================================================\n",
      "\n",
      "input object, object id -> indicator--198740d5-dde1-4310-8ab4-5c2f82aef6b8\n",
      "===================================================\n",
      "\n",
      "input object, object id -> identity--ea44a8db-cf67-4743-b193-6ce0ffe54fdb\n",
      "===================================================\n",
      "\n",
      "input object, object id -> sighting--3b8ee097-281c-4093-85e1-b8e8ee326c27\n",
      "===================================================\n",
      "\n",
      "result_dict->{'context_result': \"tree object saved to unattached context - \\nstix_id's -> ['email-addr--eb38d07e-6ba8-56c1-b107-d4db4aacf212', 'user-account--597ad4d4-35ba-585d-8f6d-134a75032f9b', 'email-addr--4722424c-7012-56b0-84d5-01d076fc547b', 'url--3279c7de-8f91-5c1a-99d9-d6546c6c41f7', 'email-message--6090e3d4-1fa8-5b36-9d2d-4a66d824995d', 'relationship--20bf102b-8822-4063-b0fc-dd8363d98502', 'observed-data--39fb32f8-97d9-4f62-b084-3726f3dbe56b', 'indicator--198740d5-dde1-4310-8ab4-5c2f82aef6b8', 'identity--ea44a8db-cf67-4743-b193-6ce0ffe54fdb', 'sighting--3b8ee097-281c-4093-85e1-b8e8ee326c27']\"}\n"
     ]
    }
   ],
   "source": [
    "\n",
    "from Utilities.local_make_general import invoke_rmb_tree_editDAG\n",
    "context_base = \"../Orchestration/generated/os-triage/context_mem\"\n",
    "results_base = \"../Orchestration/Results/\"\n",
    "object_base = \"../Block_Families/StixORM/\"\n",
    "os_triage_base = \"../Block_Families/OS_Triage/\"\n",
    "#\n",
    "source_path = os_triage_base + \"Mouse/rmb_tree_data.json\"\n",
    "results_path = results_base + \"step1/rmb_tree_edit_DAG.json\"\n",
    "\n",
    "result_dict = invoke_rmb_tree_editDAG(source_path, results_path)\n",
    "print(f\"result_dict->{result_dict}\")"
   ],
   "metadata": {
    "collapsed": false,
    "ExecuteTime": {
     "end_time": "2024-10-07T05:33:28.248618300Z",
     "start_time": "2024-10-07T05:33:28.196535500Z"
    }
   }
  }
 ],
 "metadata": {
  "kernelspec": {
   "display_name": "Python 3",
   "language": "python",
   "name": "python3"
  },
  "language_info": {
   "codemirror_mode": {
    "name": "ipython",
    "version": 2
   },
   "file_extension": ".py",
   "mimetype": "text/x-python",
   "name": "python",
   "nbconvert_exporter": "python",
   "pygments_lexer": "ipython2",
   "version": "2.7.6"
  }
 },
 "nbformat": 4,
 "nbformat_minor": 0
}
