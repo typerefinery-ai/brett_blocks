{
 "cells": [
  {
   "cell_type": "markdown",
   "metadata": {
    "collapsed": false
   },
   "source": [
    "# Tests to check UI blocks\n",
    "\n",
    "\n",
    "\n",
    "## 1. Setup Imports"
   ]
  },
  {
   "cell_type": "code",
   "execution_count": null,
   "metadata": {
    "collapsed": false
   },
   "outputs": [],
   "source": [
    "\n",
    "import sys\n",
    "sys.path.append('../')\n",
    "import os\n",
    "import logging\n",
    "logger = logging.getLogger(__name__)\n",
    "logger.setLevel(logging.INFO)\n",
    "from Utilities.local_make_general import invoke_get_relationship_type_block\n",
    "from Utilities.local_make_general import invoke_get_connection_type_block\n",
    "from Utilities.local_make_general import invoke_rmb_tree_copy\n",
    "from Utilities.local_make_general import invoke_rmb_tree_editDAG\n",
    "\n",
    "from Block_Families.General._library.convert_n_and_e import convert_node, convert_relns, convert_sighting\n",
    "\n",
    "context_base = \"../Orchestration/generated/os-triage/context_mem\"\n",
    "results_base = \"../Orchestration/Results/\"\n",
    "object_base = \"../Block_Families/StixORM/\"\n",
    "os_triage_base = \"../Block_Families/OS_Triage/\""
   ]
  },
  {
   "cell_type": "markdown",
   "metadata": {
    "collapsed": false
   },
   "source": [
    "## 2. Test \"Get Relationship Type Block\""
   ]
  },
  {
   "cell_type": "code",
   "execution_count": null,
   "metadata": {
    "collapsed": false
   },
   "outputs": [],
   "source": [
    "#\n",
    "source_path = results_base + \"step1/THREAT__url.json\"\n",
    "target_path = results_base + \"step1/SUSS__email_msg.json\"\n",
    "results_path = results_base + \"step1/SRO_Types.json\"\n",
    "\n",
    "result_dict = invoke_get_relationship_type_block(source_path, target_path, results_path)\n",
    "print(f\"result_dict->{result_dict}\")"
   ]
  },
  {
   "cell_type": "markdown",
   "metadata": {
    "collapsed": false
   },
   "source": [
    "# 2.B Test \"Get Connection Type Block\""
   ]
  },
  {
   "cell_type": "code",
   "execution_count": null,
   "metadata": {
    "collapsed": false
   },
   "outputs": [],
   "source": [
    "\n",
    "source_path = results_base +\"step1/SUSS__email_msg.json\"\n",
    "target_path = results_base + \"step1/THREAT____email.json\"\n",
    "results_path = results_base + \"step1/SRO_Types.json\"\n",
    "\n",
    "result_dict = invoke_get_connection_type_block(source_path, target_path, results_path)\n",
    "print(f\"result_dict->{result_dict}\")"
   ]
  },
  {
   "cell_type": "markdown",
   "metadata": {
    "collapsed": false
   },
   "source": [
    "## 3. Test Tree RMB Menu - Copy"
   ]
  },
  {
   "cell_type": "code",
   "execution_count": null,
   "metadata": {
    "collapsed": false
   },
   "outputs": [],
   "source": [
    "#\n",
    "source_path = os_triage_base + \"Mouse/rmb_tree_data.json\"\n",
    "results_path = results_base + \"step1/rmb_tree_copy.json\"\n",
    "\n",
    "result_dict = invoke_rmb_tree_copy(source_path, results_path)\n",
    "print(f\"result_dict->{result_dict}\")"
   ]
  },
  {
   "cell_type": "markdown",
   "metadata": {
    "collapsed": false
   },
   "source": [
    "## 4. Tree RMB Menu - Edit DAG"
   ]
  },
  {
   "cell_type": "code",
   "execution_count": null,
   "metadata": {
    "collapsed": false
   },
   "outputs": [],
   "source": [
    "\n",
    "from Utilities.local_make_general import invoke_rmb_tree_editDAG\n",
    "context_base = \"../Orchestration/generated/os-triage/context_mem\"\n",
    "results_base = \"../Orchestration/Results/\"\n",
    "object_base = \"../Block_Families/StixORM/\"\n",
    "os_triage_base = \"../Block_Families/OS_Triage/\"\n",
    "#\n",
    "source_path = os_triage_base + \"Mouse/rmb_tree_data.json\"\n",
    "results_path = results_base + \"step1/rmb_tree_edit_DAG.json\"\n",
    "\n",
    "result_dict = invoke_rmb_tree_editDAG(source_path, results_path)\n",
    "print(f\"result_dict->{result_dict}\")"
   ]
  },
  {
   "cell_type": "markdown",
   "metadata": {
    "collapsed": false
   },
   "source": [
    "# 5. Get default incident"
   ]
  },
  {
   "cell_type": "code",
   "execution_count": null,
   "metadata": {
    "collapsed": false
   },
   "outputs": [],
   "source": [
    "from Utilities.local_make_general import invoke_get_default_incident_objects_block\n",
    "context_base = \"../Orchestration/generated/os-triage/context_mem\"\n",
    "results_base = \"../Orchestration/Results/\"\n",
    "object_base = \"../Block_Families/StixORM/\"\n",
    "os_triage_base = \"../Block_Families/OS_Triage/\"\n",
    "#\n",
    "source_path = os_triage_base + \"Open_Incident/get_default_incidents_objects.json\"\n",
    "results_path = results_base + \"step4/default_incidents_object.json\"\n",
    "\n",
    "result_dict = invoke_get_default_incident_objects_block(source_path, results_path)\n",
    "print(f\"result_dict->{result_dict}\")"
   ]
  },
  {
   "cell_type": "code",
   "execution_count": null,
   "metadata": {
    "collapsed": false
   },
   "outputs": [],
   "source": [
    "from Block_Families.OS_Triage.Open_Incident.get_default_incidents_objects import get_default_incidents_objects\n",
    "test = get_default_incidents_objects()\n",
    "print(test)"
   ]
  },
  {
   "cell_type": "code",
   "execution_count": 1,
   "metadata": {
    "ExecuteTime": {
     "end_time": "2025-04-13T12:25:47.366991900Z",
     "start_time": "2025-04-13T12:25:46.546760700Z"
    },
    "collapsed": false
   },
   "outputs": [
    {
     "name": "stdout",
     "output_type": "stream",
     "text": [
      "current context \n",
      "\n",
      " [{'id': 'incident--d1cdb31f-8e54-4bdd-b3f9-ce9d0c94acc8', 'type': 'incident', 'original': {'type': 'incident', 'spec_version': '2.1', 'id': 'incident--d1cdb31f-8e54-4bdd-b3f9-ce9d0c94acc8', 'created': '2025-04-07T05:14:04.68Z', 'modified': '2025-04-07T05:14:04.68Z', 'name': 'potential phishing', 'extensions': {'extension-definition--ef765651-680c-498d-9894-99799f2fa126': {'extension_type': 'property-extension', 'investigation_status': 'new', 'incident_types': ['dissemination-phishing-emails'], 'other_object_refs': ['email-addr--eb38d07e-6ba8-56c1-b107-d4db4aacf212', 'email-addr--4722424c-7012-56b0-84d5-01d076fc547b', 'user-account--597ad4d4-35ba-585d-8f6d-134a75032f9b', 'identity--9ff40376-63a4-4707-be1b-aa704dcf8434', 'identity--0e005516-4d26-45b7-a00b-332fe63966d5', 'url--3279c7de-8f91-5c1a-99d9-d6546c6c41f7', 'email-message--6090e3d4-1fa8-5b36-9d2d-4a66d824995d', 'relationship--6014caa7-daf8-463b-859a-b6864a0afc64', 'observed-data--238e15ab-149e-49bb-a516-7bb28082f9df', 'indicator--18fe5c9a-1410-4c53-80f1-f42554be016b', 'sighting--6c836ab4-803d-4c66-a426-0efcd2bfe24b', 'identity--c0f33394-c5d9-4e1f-8b65-f6cae8351831', 'anecdote--e1298bc0-818e-5cdb-9154-eac37c8e260f', 'observed-data--cc4642ab-9cd3-4292-a9fd-29fd2eccd1b5', 'sighting--bd3556e1-ca81-4c56-b5fe-5d193ab6acb9'], 'event_refs': ['event--62f28dde-20c2-4d2c-9f20-d16b30823dba'], 'sequence_refs': ['sequence--5d2b2a10-3266-4e33-bb67-4361e3346eec', 'sequence--d9993cd7-1adb-4c5a-8b99-8eadb63a8aee', 'sequence--bc87fff2-2f6b-4614-b36e-1d2572136fc1'], 'sequence_start_refs': ['sequence--342a27b1-4830-4e67-af89-1e08b227acb9', 'sequence--487397ef-c515-4276-a6ca-b82e2da2225c'], 'task_refs': ['task--cbe7f332-b393-4a84-827b-69d07dc3c848', 'task--8b50a1b9-c227-47b6-8e0c-97f2a493171d'], 'impact_refs': ['impact--6149c82a-fbda-48cc-84e4-60a0f73cfb2c']}}}, 'icon': 'incident-ext', 'name': 'Incident Extension', 'heading': 'Incident Extension', 'description': '', 'object_form': 'incident', 'object_group': 'sdo-forms', 'object_family': 'stix-forms'}, {'id': 'sequence--342a27b1-4830-4e67-af89-1e08b227acb9', 'type': 'sequence', 'original': {'type': 'sequence', 'spec_version': '2.1', 'id': 'sequence--342a27b1-4830-4e67-af89-1e08b227acb9', 'created': '2025-04-07T05:14:04.966Z', 'modified': '2025-04-07T05:14:04.966Z', 'sequence_type': 'event', 'step_type': 'start_step', 'on_completion': 'sequence--5d2b2a10-3266-4e33-bb67-4361e3346eec', 'extensions': {'extension-definition--be0c7c79-1961-43db-afde-637066a87a64': {'extension_type': 'new-sdo'}}}, 'icon': 'step-terminal', 'name': 'Start Step', 'heading': 'Start Step for Event', 'description': '', 'object_form': 'sequence', 'object_group': 'sdo-forms', 'object_family': 'extension-forms'}, {'id': 'sequence--487397ef-c515-4276-a6ca-b82e2da2225c', 'type': 'sequence', 'original': {'type': 'sequence', 'spec_version': '2.1', 'id': 'sequence--487397ef-c515-4276-a6ca-b82e2da2225c', 'created': '2025-04-07T05:14:05.168Z', 'modified': '2025-04-07T05:14:05.168Z', 'sequence_type': 'task', 'step_type': 'start_step', 'on_completion': 'sequence--d9993cd7-1adb-4c5a-8b99-8eadb63a8aee', 'extensions': {'extension-definition--be0c7c79-1961-43db-afde-637066a87a64': {'extension_type': 'new-sdo'}}}, 'icon': 'step-terminal', 'name': 'Start Step', 'heading': 'Start Step for Task', 'description': '', 'object_form': 'sequence', 'object_group': 'sdo-forms', 'object_family': 'extension-forms'}, {'id': 'sequence--5d2b2a10-3266-4e33-bb67-4361e3346eec', 'type': 'sequence', 'original': {'type': 'sequence', 'spec_version': '2.1', 'id': 'sequence--5d2b2a10-3266-4e33-bb67-4361e3346eec', 'created': '2025-04-07T05:14:04.903Z', 'modified': '2025-04-07T05:14:04.903Z', 'sequenced_object': 'event--62f28dde-20c2-4d2c-9f20-d16b30823dba', 'sequence_type': 'event', 'step_type': 'single_step', 'extensions': {'extension-definition--be0c7c79-1961-43db-afde-637066a87a64': {'extension_type': 'new-sdo'}}}, 'icon': 'step-single', 'name': 'Single Step', 'heading': 'Single Step for Event', 'description': '', 'object_form': 'sequence', 'object_group': 'sdo-forms', 'object_family': 'extension-forms'}, {'id': 'sequence--d9993cd7-1adb-4c5a-8b99-8eadb63a8aee', 'type': 'sequence', 'original': {'type': 'sequence', 'spec_version': '2.1', 'id': 'sequence--d9993cd7-1adb-4c5a-8b99-8eadb63a8aee', 'created': '2025-04-07T05:14:05.81Z', 'modified': '2025-04-07T05:14:05.81Z', 'sequenced_object': 'task--cbe7f332-b393-4a84-827b-69d07dc3c848', 'sequence_type': 'task', 'step_type': 'single_step', 'extensions': {'extension-definition--be0c7c79-1961-43db-afde-637066a87a64': {'extension_type': 'new-sdo'}}}, 'icon': 'step-single', 'name': 'Single Step', 'heading': 'Single Step for Task', 'description': '', 'object_form': 'sequence', 'object_group': 'sdo-forms', 'object_family': 'extension-forms'}, {'id': 'sequence--bc87fff2-2f6b-4614-b36e-1d2572136fc1', 'type': 'sequence', 'original': {'type': 'sequence', 'spec_version': '2.1', 'id': 'sequence--bc87fff2-2f6b-4614-b36e-1d2572136fc1', 'created': '2025-04-07T05:14:18.717Z', 'modified': '2025-04-07T05:14:18.717Z', 'sequenced_object': 'task--8b50a1b9-c227-47b6-8e0c-97f2a493171d', 'sequence_type': 'task', 'step_type': 'single_step', 'extensions': {'extension-definition--be0c7c79-1961-43db-afde-637066a87a64': {'extension_type': 'new-sdo'}}}, 'icon': 'step-single', 'name': 'Single Step', 'heading': 'Single Step for Task', 'description': '', 'object_form': 'sequence', 'object_group': 'sdo-forms', 'object_family': 'extension-forms'}, {'id': 'impact--6149c82a-fbda-48cc-84e4-60a0f73cfb2c', 'type': 'impact', 'original': {'type': 'impact', 'spec_version': '2.1', 'id': 'impact--6149c82a-fbda-48cc-84e4-60a0f73cfb2c', 'created': '2025-04-07T05:14:18.517Z', 'modified': '2025-04-07T05:14:18.517Z', 'impact_category': 'availability', 'criticality': 99, 'description': 'Laptop is stuffed', 'end_time': '2025-04-07T05:14:18.517Z', 'impacted_entity_counts': {'computers-mobile': 1}, 'impacted_refs': ['identity--c0f33394-c5d9-4e1f-8b65-f6cae8351831'], 'recoverability': 'regular', 'start_time': '2025-04-07T05:14:18.517Z', 'extensions': {'availability': {'availability_impact': 99}, 'extension-definition--7cc33dd6-f6a1-489b-98ea-522d351d71b9': {'extension_type': 'new-sdo'}}}, 'icon': 'impact-availability', 'name': 'Availability Impact', 'heading': 'Availability Impact', 'description': '<br>Laptop is stuffed<br>Total Impact ->99<br>Impacted Entities -> <br>Laptop is stuffed<br>Variety -> 99computers-mobile -> 1', 'object_form': 'impact', 'object_group': 'sdo-forms', 'object_family': 'extension-forms'}, {'id': 'event--62f28dde-20c2-4d2c-9f20-d16b30823dba', 'type': 'event', 'original': {'type': 'event', 'spec_version': '2.1', 'id': 'event--62f28dde-20c2-4d2c-9f20-d16b30823dba', 'created': '2025-04-07T05:14:04.845Z', 'modified': '2025-04-07T05:14:04.845Z', 'description': 'Suspicious email reported by user', 'end_time': '2025-04-07T05:14:04.845Z', 'event_types': ['dissemination-phishing-emails'], 'name': 'Potential Phishing Email', 'start_time': '2025-04-07T05:14:04.845Z', 'extensions': {'extension-definition--4ca6de00-5b0d-45ef-a1dc-ea7279ea910e': {'extension_type': 'new-sdo'}}}, 'icon': 'event', 'name': 'Event', 'heading': 'Event -> Potential Phishing Email, Status -> ', 'description': '<br>Suspicious email reported by user', 'object_form': 'event', 'object_group': 'sdo-forms', 'object_family': 'extension-forms'}, {'id': 'task--cbe7f332-b393-4a84-827b-69d07dc3c848', 'type': 'task', 'original': {'type': 'task', 'spec_version': '2.1', 'id': 'task--cbe7f332-b393-4a84-827b-69d07dc3c848', 'created': '2025-04-07T05:14:05.27Z', 'modified': '2025-04-07T05:14:05.27Z', 'description': 'Suspicious email reported by user', 'end_time': '2025-04-07T05:14:05.27Z', 'name': 'Potential Phishing Email', 'start_time': '2025-04-07T05:14:05.27Z', 'extensions': {'extension-definition--2074a052-8be4-4932-849e-f5e7798e0030': {'extension_type': 'new-sdo'}}}, 'icon': 'task', 'name': 'Task', 'heading': 'Task -> Potential Phishing Email', 'description': '<br>Suspicious email reported by user', 'object_form': 'task', 'object_group': 'sdo-forms', 'object_family': 'extension-forms'}, {'id': 'task--8b50a1b9-c227-47b6-8e0c-97f2a493171d', 'type': 'task', 'original': {'type': 'task', 'spec_version': '2.1', 'id': 'task--8b50a1b9-c227-47b6-8e0c-97f2a493171d', 'created': '2025-04-07T05:14:18.658Z', 'modified': '2025-04-07T05:14:18.658Z', 'description': 'Find out who else got the email', 'end_time': '2025-04-07T05:14:18.658Z', 'name': 'Query Exchange Server', 'start_time': '2025-04-07T05:14:18.658Z', 'extensions': {'extension-definition--2074a052-8be4-4932-849e-f5e7798e0030': {'extension_type': 'new-sdo'}}}, 'icon': 'task', 'name': 'Task', 'heading': 'Task -> Query Exchange Server', 'description': '<br>Find out who else got the email', 'object_form': 'task', 'object_group': 'sdo-forms', 'object_family': 'extension-forms'}, {'id': 'email-addr--eb38d07e-6ba8-56c1-b107-d4db4aacf212', 'type': 'email-addr', 'original': {'type': 'email-addr', 'spec_version': '2.1', 'id': 'email-addr--eb38d07e-6ba8-56c1-b107-d4db4aacf212', 'value': 'evil@northkorea.nk', 'display_name': 'Bad Man'}, 'icon': 'email-addr', 'name': 'Email Address', 'heading': 'Email Address -> Bad Man', 'description': '<br>Value -> evil@northkorea.nk', 'object_form': 'email-addr', 'object_group': 'sco-forms', 'object_family': 'stix-forms'}, {'id': 'email-addr--4722424c-7012-56b0-84d5-01d076fc547b', 'type': 'email-addr', 'original': {'type': 'email-addr', 'spec_version': '2.1', 'id': 'email-addr--4722424c-7012-56b0-84d5-01d076fc547b', 'value': 'naive@example.com', 'display_name': 'Naive Smith', 'belongs_to_ref': 'user-account--597ad4d4-35ba-585d-8f6d-134a75032f9b'}, 'icon': 'email-addr', 'name': 'Email Address', 'heading': 'Email Address -> Naive Smith', 'description': '<br>Value -> naive@example.com', 'object_form': 'email-addr', 'object_group': 'sco-forms', 'object_family': 'stix-forms'}, {'id': 'user-account--597ad4d4-35ba-585d-8f6d-134a75032f9b', 'type': 'user-account', 'original': {'type': 'user-account', 'spec_version': '2.1', 'id': 'user-account--597ad4d4-35ba-585d-8f6d-134a75032f9b', 'user_id': '79563902', 'account_login': 'nsmith', 'account_type': 'sales,', 'display_name': 'Naive Smith'}, 'icon': 'user-account', 'name': 'User Account', 'heading': 'User Account', 'description': '<br>Display Name -> Naive Smith<br>Account Type -> sales,, User ID -> 79563902<br>Login String ->nsmith', 'object_form': 'user-account', 'object_group': 'sco-forms', 'object_family': 'stix-forms'}, {'id': 'identity--9ff40376-63a4-4707-be1b-aa704dcf8434', 'type': 'identity', 'original': {'type': 'identity', 'spec_version': '2.1', 'id': 'identity--9ff40376-63a4-4707-be1b-aa704dcf8434', 'created': '2025-04-07T05:05:14.689Z', 'modified': '2025-04-07T05:05:14.689Z', 'name': 'Naive Smith', 'description': 'A Naive Individual', 'roles': ['user', 'sales'], 'identity_class': 'individual', 'sectors': ['technology'], 'extensions': {'extension-definition--66e2492a-bbd3-4be6-88f5-cc91a017a498': {'extension_type': 'property-extension', 'contact_numbers': [{'contact_number_type': 'work-phone', 'contact_number': '0499-999-109'}], 'email_addresses': [{'digital_contact_type': 'work', 'email_address_ref': 'email-addr--4722424c-7012-56b0-84d5-01d076fc547b'}], 'first_name': 'Naive', 'last_name': 'Smith', 'middle_name': 'Weakling', 'prefix': 'Mr', 'social_media_accounts': [{'digital_contact_type': 'work', 'user_account_ref': 'user-account--597ad4d4-35ba-585d-8f6d-134a75032f9b'}], 'team': 'Sales'}}}, 'icon': 'identity-contact', 'name': 'Individual', 'heading': 'Individual - Naive Smith', 'description': '<br>A Naive Individual', 'object_form': 'identity', 'object_group': 'sdo-forms', 'object_family': 'stix-forms'}, {'id': 'identity--0e005516-4d26-45b7-a00b-332fe63966d5', 'type': 'identity', 'original': {'type': 'identity', 'spec_version': '2.1', 'id': 'identity--0e005516-4d26-45b7-a00b-332fe63966d5', 'created': '2025-04-07T05:05:14.533Z', 'modified': '2025-04-07T05:05:14.533Z', 'name': 'Trusty Jones', 'description': 'A Trusty Individual', 'roles': ['soc', 'support'], 'identity_class': 'individual', 'sectors': ['technology'], 'extensions': {'extension-definition--66e2492a-bbd3-4be6-88f5-cc91a017a498': {'extension_type': 'property-extension', 'contact_numbers': [{'contact_number_type': 'work-phone', 'contact_number': '0418-208-368'}], 'email_addresses': [{'digital_contact_type': 'work', 'email_address_ref': 'email-addr--c99b87bd-f0a8-50ca-9f84-68072efc61e3'}], 'first_name': 'Me', 'last_name': 'Jones', 'middle_name': 'Percival', 'prefix': 'Dr', 'social_media_accounts': [{'digital_contact_type': 'work', 'user_account_ref': 'user-account--83658594-537d-5c32-b9f0-137354bd9bc3'}], 'team': 'All_Stars'}}}, 'icon': 'identity-contact', 'name': 'Individual', 'heading': 'Individual - Trusty Jones', 'description': '<br>A Trusty Individual', 'object_form': 'identity', 'object_group': 'sdo-forms', 'object_family': 'stix-forms'}, {'id': 'url--3279c7de-8f91-5c1a-99d9-d6546c6c41f7', 'type': 'url', 'original': {'type': 'url', 'spec_version': '2.1', 'id': 'url--3279c7de-8f91-5c1a-99d9-d6546c6c41f7', 'value': 'https://www.northkorea.nk/we/are/mad/'}, 'icon': 'url', 'name': 'URL', 'heading': 'URL', 'description': '<br>Value -> https://www.northkorea.nk/we/are/mad/', 'object_form': 'url', 'object_group': 'sco-forms', 'object_family': 'stix-forms'}, {'id': 'email-message--6090e3d4-1fa8-5b36-9d2d-4a66d824995d', 'type': 'email-message', 'original': {'type': 'email-message', 'spec_version': '2.1', 'id': 'email-message--6090e3d4-1fa8-5b36-9d2d-4a66d824995d', 'is_multipart': False, 'date': '2020-10-19T01:01:01Z', 'from_ref': 'email-addr--eb38d07e-6ba8-56c1-b107-d4db4aacf212', 'to_refs': ['email-addr--4722424c-7012-56b0-84d5-01d076fc547b'], 'subject': 'we are coming for you', 'body': 'some bad stuff written here'}, 'icon': 'email-message', 'name': 'Email Message', 'heading': 'Email Message', 'description': '<br>Subject -> we are coming for you, Date -> 2020-10-19T01:01:01Z<br>Body -> some bad stuff written here', 'object_form': 'email-message', 'object_group': 'sco-forms', 'object_family': 'stix-forms'}, {'id': 'observed-data--238e15ab-149e-49bb-a516-7bb28082f9df', 'type': 'observed-data', 'original': {'type': 'observed-data', 'spec_version': '2.1', 'id': 'observed-data--238e15ab-149e-49bb-a516-7bb28082f9df', 'created': '2025-04-07T05:14:04.473Z', 'modified': '2025-04-07T05:14:04.473Z', 'first_observed': '2020-10-19T01:01:01Z', 'last_observed': '2020-10-19T01:01:01Z', 'number_observed': 1, 'object_refs': ['email-addr--eb38d07e-6ba8-56c1-b107-d4db4aacf212', 'user-account--597ad4d4-35ba-585d-8f6d-134a75032f9b', 'email-addr--4722424c-7012-56b0-84d5-01d076fc547b', 'url--3279c7de-8f91-5c1a-99d9-d6546c6c41f7', 'email-message--6090e3d4-1fa8-5b36-9d2d-4a66d824995d', 'relationship--6014caa7-daf8-463b-859a-b6864a0afc64']}, 'icon': 'observed-data', 'name': 'Observed Data', 'heading': 'Observed Data', 'description': '<br>First Observed -> 2020-10-19T01:01:01Z, Last Observed -> 2020-10-19T01:01:01Z', 'object_form': 'observed-data', 'object_group': 'sdo-forms', 'object_family': 'stix-forms'}, {'id': 'indicator--18fe5c9a-1410-4c53-80f1-f42554be016b', 'type': 'indicator', 'original': {'type': 'indicator', 'spec_version': '2.1', 'id': 'indicator--18fe5c9a-1410-4c53-80f1-f42554be016b', 'created': '2025-04-07T05:14:04.534Z', 'modified': '2025-04-07T05:14:04.534Z', 'name': 'Potential Phishing Email', 'description': 'Suspicious email reported by user', 'indicator_types': ['unknown'], 'pattern': \"[email-addr:value = 'evil@northkorea.nk' AND email:subject = 'we are coming for you']\", 'pattern_type': 'stix', 'pattern_version': '2.1', 'valid_from': '2025-04-07T05:14:04.534Z'}, 'icon': 'indicator', 'name': 'Indicator', 'heading': 'Indicator - Potential Phishing Email', 'description': \"<br>Suspicious email reported by user<br>Pattern Type -> stixIndicator Types -> ['unknown']<br>Pattern -> [email-addr:value = 'evil@northkorea.nk' AND email:subject = 'we are coming for you']\", 'object_form': 'indicator', 'object_group': 'sdo-forms', 'object_family': 'stix-forms'}, {'id': 'sighting--6c836ab4-803d-4c66-a426-0efcd2bfe24b', 'type': 'sighting', 'original': {'type': 'sighting', 'spec_version': '2.1', 'id': 'sighting--6c836ab4-803d-4c66-a426-0efcd2bfe24b', 'created': '2025-04-07T05:14:04.615Z', 'modified': '2025-04-07T05:14:04.615Z', 'count': 1, 'sighting_of_ref': 'indicator--18fe5c9a-1410-4c53-80f1-f42554be016b', 'observed_data_refs': ['observed-data--238e15ab-149e-49bb-a516-7bb28082f9df'], 'where_sighted_refs': ['identity--9ff40376-63a4-4707-be1b-aa704dcf8434'], 'extensions': {'sighting-alert': {'name': 'user-report', 'log': 'I have found a suspicious email', 'system_id': 'XYZ-1234', 'source': 'user submission'}, 'extension-definition--0d76d6d9-16ca-43fd-bd41-4f800ba8fc43': {'extension_type': 'property-extension'}}}, 'icon': 'sighting-alert', 'name': 'Sighting-Alert', 'heading': 'Sighting-Alert', 'description': 'Sighting of indicator<br>Where Sighted -> identity', 'object_form': 'sighting', 'object_group': 'sro-forms', 'object_family': 'stix-forms'}, {'id': 'relationship--6014caa7-daf8-463b-859a-b6864a0afc64', 'original': {'type': 'relationship', 'spec_version': '2.1', 'id': 'relationship--6014caa7-daf8-463b-859a-b6864a0afc64', 'created': '2025-04-07T05:14:04.441Z', 'modified': '2025-04-07T05:14:04.441Z', 'relationship_type': 'derived-from', 'source_ref': 'email-message--6090e3d4-1fa8-5b36-9d2d-4a66d824995d', 'target_ref': 'url--3279c7de-8f91-5c1a-99d9-d6546c6c41f7'}, 'name': 'Derived-From', 'heading': 'Derived-From - SRO', 'description': '<br>Result -> Email-Message<br>Raw-Material -> Url', 'type': 'relationship', 'icon': 'relationship', 'object_form': 'relationship', 'object_group': 'sro-forms', 'object_family': 'stix-forms'}, {'id': 'identity--c0f33394-c5d9-4e1f-8b65-f6cae8351831', 'type': 'identity', 'original': {'type': 'identity', 'spec_version': '2.1', 'id': 'identity--c0f33394-c5d9-4e1f-8b65-f6cae8351831', 'created': '2025-04-07T05:05:15.286Z', 'modified': '2025-04-07T05:05:15.286Z', 'name': 'HP Laptop 1', 'description': \"Usr 1's Laptop\", 'roles': ['laptop'], 'identity_class': 'asset', 'sectors': ['technology'], 'external_references': [{'source_name': 'HP Ultima 10', 'description': '16GB RAM, 1TB SD, Microsoft Windows 11 Professional', 'url': 'https://mail.echange.microsoft.com', 'external_id': 'Asset--629456a'}]}, 'icon': 'identity-asset', 'name': 'Hardware Asset', 'heading': 'Hardware Asset - HP Laptop 1', 'description': \"<br>Usr 1's Laptop<br>HP Ultima 10<br>16GB RAM, 1TB SD, Microsoft Windows 11 Professional\", 'object_form': 'identity', 'object_group': 'sdo-forms', 'object_family': 'stix-forms'}, {'id': 'anecdote--e1298bc0-818e-5cdb-9154-eac37c8e260f', 'type': 'anecdote', 'original': {'type': 'anecdote', 'spec_version': '2.1', 'id': 'anecdote--e1298bc0-818e-5cdb-9154-eac37c8e260f', 'value': 'I clicked on the link, and my laptop screen went weird', 'report_date': '2025-04-07T05:14:18.110126Z', 'provided_by_ref': 'identity--9ff40376-63a4-4707-be1b-aa704dcf8434'}, 'icon': 'anecdote', 'name': 'Anecdote', 'heading': 'Anecdote -> 2025-04-07T05:14:18.110126Z', 'description': '/Statement -> I clicked on the link, and my laptop screen went weird', 'object_form': 'anecdote', 'object_group': 'sco-forms', 'object_family': 'extension-forms'}, {'id': 'observed-data--cc4642ab-9cd3-4292-a9fd-29fd2eccd1b5', 'type': 'observed-data', 'original': {'type': 'observed-data', 'spec_version': '2.1', 'id': 'observed-data--cc4642ab-9cd3-4292-a9fd-29fd2eccd1b5', 'created': '2025-04-07T05:14:18.143Z', 'modified': '2025-04-07T05:14:18.143Z', 'first_observed': '2020-10-19T01:01:01Z', 'last_observed': '2020-10-19T01:01:01Z', 'number_observed': 1, 'object_refs': ['anecdote--e1298bc0-818e-5cdb-9154-eac37c8e260f']}, 'icon': 'observed-data', 'name': 'Observed Data', 'heading': 'Observed Data', 'description': '<br>First Observed -> 2020-10-19T01:01:01Z, Last Observed -> 2020-10-19T01:01:01Z', 'object_form': 'observed-data', 'object_group': 'sdo-forms', 'object_family': 'stix-forms'}, {'id': 'sighting--bd3556e1-ca81-4c56-b5fe-5d193ab6acb9', 'type': 'sighting', 'original': {'type': 'sighting', 'spec_version': '2.1', 'id': 'sighting--bd3556e1-ca81-4c56-b5fe-5d193ab6acb9', 'created': '2025-04-07T05:14:18.190Z', 'modified': '2025-04-07T05:14:18.190Z', 'count': 1, 'sighting_of_ref': 'identity--9ff40376-63a4-4707-be1b-aa704dcf8434', 'observed_data_refs': ['observed-data--cc4642ab-9cd3-4292-a9fd-29fd2eccd1b5'], 'where_sighted_refs': ['identity--0e005516-4d26-45b7-a00b-332fe63966d5'], 'extensions': {'sighting-anecdote': {'person_name': 'user-report', 'person_context': 'employee', 'report_submission': 'interview'}, 'extension-definition--0d76d6d9-16ca-43fd-bd41-4f800ba8fc43': {'extension_type': 'property-extension'}}}, 'icon': 'sighting-anecdote', 'name': 'Sighting-Anecdote', 'heading': 'Sighting-Anecdote', 'description': 'Sighting of identity<br>Where Sighted -> identity', 'object_form': 'sighting', 'object_group': 'sro-forms', 'object_family': 'stix-forms'}, {'id': 'incident--d1cdb31f-8e54-4bdd-b3f9-ce9d0c94acc8', 'type': 'incident', 'original': {'type': 'incident', 'spec_version': '2.1', 'id': 'incident--d1cdb31f-8e54-4bdd-b3f9-ce9d0c94acc8', 'created': '2025-04-07T05:14:04.68Z', 'modified': '2025-04-07T05:14:04.68Z', 'name': 'potential phishing', 'extensions': {'extension-definition--ef765651-680c-498d-9894-99799f2fa126': {'extension_type': 'property-extension', 'investigation_status': 'new', 'incident_types': ['dissemination-phishing-emails'], 'other_object_refs': ['email-addr--eb38d07e-6ba8-56c1-b107-d4db4aacf212', 'email-addr--4722424c-7012-56b0-84d5-01d076fc547b', 'user-account--597ad4d4-35ba-585d-8f6d-134a75032f9b', 'identity--9ff40376-63a4-4707-be1b-aa704dcf8434', 'identity--0e005516-4d26-45b7-a00b-332fe63966d5', 'url--3279c7de-8f91-5c1a-99d9-d6546c6c41f7', 'email-message--6090e3d4-1fa8-5b36-9d2d-4a66d824995d', 'relationship--6014caa7-daf8-463b-859a-b6864a0afc64', 'observed-data--238e15ab-149e-49bb-a516-7bb28082f9df', 'indicator--18fe5c9a-1410-4c53-80f1-f42554be016b', 'sighting--6c836ab4-803d-4c66-a426-0efcd2bfe24b', 'identity--c0f33394-c5d9-4e1f-8b65-f6cae8351831', 'anecdote--e1298bc0-818e-5cdb-9154-eac37c8e260f', 'observed-data--cc4642ab-9cd3-4292-a9fd-29fd2eccd1b5', 'sighting--bd3556e1-ca81-4c56-b5fe-5d193ab6acb9'], 'event_refs': ['event--62f28dde-20c2-4d2c-9f20-d16b30823dba'], 'sequence_refs': ['sequence--5d2b2a10-3266-4e33-bb67-4361e3346eec', 'sequence--d9993cd7-1adb-4c5a-8b99-8eadb63a8aee', 'sequence--bc87fff2-2f6b-4614-b36e-1d2572136fc1'], 'sequence_start_refs': ['sequence--342a27b1-4830-4e67-af89-1e08b227acb9', 'sequence--487397ef-c515-4276-a6ca-b82e2da2225c'], 'task_refs': ['task--cbe7f332-b393-4a84-827b-69d07dc3c848', 'task--8b50a1b9-c227-47b6-8e0c-97f2a493171d'], 'impact_refs': ['impact--6149c82a-fbda-48cc-84e4-60a0f73cfb2c']}}}, 'icon': 'incident-ext', 'name': 'Incident Extension', 'heading': 'Incident Extension', 'description': '', 'object_form': 'incident', 'object_group': 'sdo-forms', 'object_family': 'stix-forms'}]\n",
      "incident object \n",
      "\n",
      "[{'type': 'incident', 'spec_version': '2.1', 'id': 'incident--d1cdb31f-8e54-4bdd-b3f9-ce9d0c94acc8', 'created': '2025-04-07T05:14:04.68Z', 'modified': '2025-04-07T05:14:04.68Z', 'name': 'potential phishing', 'extensions': {'extension-definition--ef765651-680c-498d-9894-99799f2fa126': {'extension_type': 'property-extension', 'investigation_status': 'new', 'incident_types': ['dissemination-phishing-emails'], 'other_object_refs': ['email-addr--eb38d07e-6ba8-56c1-b107-d4db4aacf212', 'email-addr--4722424c-7012-56b0-84d5-01d076fc547b', 'user-account--597ad4d4-35ba-585d-8f6d-134a75032f9b', 'identity--9ff40376-63a4-4707-be1b-aa704dcf8434', 'identity--0e005516-4d26-45b7-a00b-332fe63966d5', 'url--3279c7de-8f91-5c1a-99d9-d6546c6c41f7', 'email-message--6090e3d4-1fa8-5b36-9d2d-4a66d824995d', 'relationship--6014caa7-daf8-463b-859a-b6864a0afc64', 'observed-data--238e15ab-149e-49bb-a516-7bb28082f9df', 'indicator--18fe5c9a-1410-4c53-80f1-f42554be016b', 'sighting--6c836ab4-803d-4c66-a426-0efcd2bfe24b', 'identity--c0f33394-c5d9-4e1f-8b65-f6cae8351831', 'anecdote--e1298bc0-818e-5cdb-9154-eac37c8e260f', 'observed-data--cc4642ab-9cd3-4292-a9fd-29fd2eccd1b5', 'sighting--bd3556e1-ca81-4c56-b5fe-5d193ab6acb9'], 'event_refs': ['event--62f28dde-20c2-4d2c-9f20-d16b30823dba'], 'sequence_refs': ['sequence--5d2b2a10-3266-4e33-bb67-4361e3346eec', 'sequence--d9993cd7-1adb-4c5a-8b99-8eadb63a8aee', 'sequence--bc87fff2-2f6b-4614-b36e-1d2572136fc1'], 'sequence_start_refs': ['sequence--342a27b1-4830-4e67-af89-1e08b227acb9', 'sequence--487397ef-c515-4276-a6ca-b82e2da2225c'], 'task_refs': ['task--cbe7f332-b393-4a84-827b-69d07dc3c848', 'task--8b50a1b9-c227-47b6-8e0c-97f2a493171d'], 'impact_refs': ['impact--6149c82a-fbda-48cc-84e4-60a0f73cfb2c']}}}, {'type': 'incident', 'spec_version': '2.1', 'id': 'incident--d1cdb31f-8e54-4bdd-b3f9-ce9d0c94acc8', 'created': '2025-04-07T05:14:04.68Z', 'modified': '2025-04-07T05:14:04.68Z', 'name': 'potential phishing', 'extensions': {'extension-definition--ef765651-680c-498d-9894-99799f2fa126': {'extension_type': 'property-extension', 'investigation_status': 'new', 'incident_types': ['dissemination-phishing-emails'], 'other_object_refs': ['email-addr--eb38d07e-6ba8-56c1-b107-d4db4aacf212', 'email-addr--4722424c-7012-56b0-84d5-01d076fc547b', 'user-account--597ad4d4-35ba-585d-8f6d-134a75032f9b', 'identity--9ff40376-63a4-4707-be1b-aa704dcf8434', 'identity--0e005516-4d26-45b7-a00b-332fe63966d5', 'url--3279c7de-8f91-5c1a-99d9-d6546c6c41f7', 'email-message--6090e3d4-1fa8-5b36-9d2d-4a66d824995d', 'relationship--6014caa7-daf8-463b-859a-b6864a0afc64', 'observed-data--238e15ab-149e-49bb-a516-7bb28082f9df', 'indicator--18fe5c9a-1410-4c53-80f1-f42554be016b', 'sighting--6c836ab4-803d-4c66-a426-0efcd2bfe24b', 'identity--c0f33394-c5d9-4e1f-8b65-f6cae8351831', 'anecdote--e1298bc0-818e-5cdb-9154-eac37c8e260f', 'observed-data--cc4642ab-9cd3-4292-a9fd-29fd2eccd1b5', 'sighting--bd3556e1-ca81-4c56-b5fe-5d193ab6acb9'], 'event_refs': ['event--62f28dde-20c2-4d2c-9f20-d16b30823dba'], 'sequence_refs': ['sequence--5d2b2a10-3266-4e33-bb67-4361e3346eec', 'sequence--d9993cd7-1adb-4c5a-8b99-8eadb63a8aee', 'sequence--bc87fff2-2f6b-4614-b36e-1d2572136fc1'], 'sequence_start_refs': ['sequence--342a27b1-4830-4e67-af89-1e08b227acb9', 'sequence--487397ef-c515-4276-a6ca-b82e2da2225c'], 'task_refs': ['task--cbe7f332-b393-4a84-827b-69d07dc3c848', 'task--8b50a1b9-c227-47b6-8e0c-97f2a493171d'], 'impact_refs': ['impact--6149c82a-fbda-48cc-84e4-60a0f73cfb2c']}}}]\n",
      "\n",
      "\n",
      "sequence->{'type': 'sequence', 'spec_version': '2.1', 'id': 'sequence--5d2b2a10-3266-4e33-bb67-4361e3346eec', 'created': '2025-04-07T05:14:04.903Z', 'modified': '2025-04-07T05:14:04.903Z', 'sequenced_object': 'event--62f28dde-20c2-4d2c-9f20-d16b30823dba', 'sequence_type': 'event', 'step_type': 'single_step', 'extensions': {'extension-definition--be0c7c79-1961-43db-afde-637066a87a64': {'extension_type': 'new-sdo'}}}\n",
      "\n",
      "\n",
      "\n",
      "sequence->{'type': 'sequence', 'spec_version': '2.1', 'id': 'sequence--d9993cd7-1adb-4c5a-8b99-8eadb63a8aee', 'created': '2025-04-07T05:14:05.81Z', 'modified': '2025-04-07T05:14:05.81Z', 'sequenced_object': 'task--cbe7f332-b393-4a84-827b-69d07dc3c848', 'sequence_type': 'task', 'step_type': 'single_step', 'extensions': {'extension-definition--be0c7c79-1961-43db-afde-637066a87a64': {'extension_type': 'new-sdo'}}}\n",
      "\n",
      "\n",
      "\n",
      "sequence->{'type': 'sequence', 'spec_version': '2.1', 'id': 'sequence--bc87fff2-2f6b-4614-b36e-1d2572136fc1', 'created': '2025-04-07T05:14:18.717Z', 'modified': '2025-04-07T05:14:18.717Z', 'sequenced_object': 'task--8b50a1b9-c227-47b6-8e0c-97f2a493171d', 'sequence_type': 'task', 'step_type': 'single_step', 'extensions': {'extension-definition--be0c7c79-1961-43db-afde-637066a87a64': {'extension_type': 'new-sdo'}}}\n",
      "\n",
      "\n",
      "\n",
      "========= ids ===========\n",
      "email-message--6090e3d4-1fa8-5b36-9d2d-4a66d824995d\n",
      "sequence--bc87fff2-2f6b-4614-b36e-1d2572136fc1\n",
      "task--8b50a1b9-c227-47b6-8e0c-97f2a493171d\n",
      "\n",
      "\n",
      "\n",
      "==========obj dif===========\n",
      "{'dictionary_item_removed': {\"root['cc_refs']\": ['email-addr--0e889020-a432-5676-aa03-ba1e1851e6c4']}}\n",
      "\n",
      "----------------------- email-message--6090e3d4-1fa8-5b36-9d2d-4a66d824995d\n",
      "match -> $email-message isa email-message, has stix-id $stix-id;\n",
      "$stix-id email-message--6090e3d4-1fa8-5b36-9d2d-4a66d824995d;\n",
      " $email-addr1 isa email-addr, has stix-id \"email-addr--0e889020-a432-5676-aa03-ba1e1851e6c4\";\n",
      "$cc-email1 (email:$email-message, email-address:$email-addr1) isa cc-email;\n",
      "\n",
      "insert -> \n",
      "delete -> $cc-email1 isa cc-email;\n",
      "\n",
      "==========obj dif===========\n",
      "{'iterable_item_removed': {\"root['object_refs'][6]\": 'email-addr--0e889020-a432-5676-aa03-ba1e1851e6c4'}}\n",
      "\n",
      "----------------------- observed-data--238e15ab-149e-49bb-a516-7bb28082f9df\n",
      "match -> $observed-data isa observed-data, has stix-id $stix-id;\n",
      "$stix-id \"observed-data--238e15ab-149e-49bb-a516-7bb28082f9df\";\n",
      " $email-addr1 isa email-addr, has stix-id \"email-addr--0e889020-a432-5676-aa03-ba1e1851e6c4\";\n",
      "$obj-refs1 (object:$observed-data, referred:$email-addr1) isa obj-refs;\n",
      "\n",
      "insert -> \n",
      "delete -> $obj-refs1 isa obj-refs;\n",
      "\n",
      " its a change -> incident--d1cdb31f-8e54-4bdd-b3f9-ce9d0c94acc8.json\n",
      "\n",
      "==========obj dif===========\n",
      "{'iterable_item_added': {\"root['extensions']['extension-definition--ef765651-680c-498d-9894-99799f2fa126']['sequence_refs'][2]\": 'sequence--bc87fff2-2f6b-4614-b36e-1d2572136fc1', \"root['extensions']['extension-definition--ef765651-680c-498d-9894-99799f2fa126']['task_refs'][1]\": 'task--8b50a1b9-c227-47b6-8e0c-97f2a493171d'}, 'iterable_item_removed': {\"root['extensions']['extension-definition--ef765651-680c-498d-9894-99799f2fa126']['other_object_refs'][15]\": 'email-addr--0e889020-a432-5676-aa03-ba1e1851e6c4'}}\n",
      "\n",
      "----------------------- incident--d1cdb31f-8e54-4bdd-b3f9-ce9d0c94acc8\n",
      "match -> $incident isa incident, has stix-id $stix-id;\n",
      "$stix-id \"incident--d1cdb31f-8e54-4bdd-b3f9-ce9d0c94acc8\";\n",
      " $sequence1 isa sequence, has stix-id \"sequence--bc87fff2-2f6b-4614-b36e-1d2572136fc1\";\n",
      "$incident-ext1 isa incident-ext;$occurence-ext1 (occurence:$incident, incident-core:$incident-ext1) isa occurence-ext;\n",
      "insert -> $sequence-refs1 (incident:$incident-ext1, the-steps:$sequence1) isa sequence-refs;\n",
      "\n",
      "delete -> \n",
      "\n",
      "----------------------- incident--d1cdb31f-8e54-4bdd-b3f9-ce9d0c94acc8\n",
      "match -> $incident isa incident, has stix-id $stix-id;\n",
      "$stix-id \"incident--d1cdb31f-8e54-4bdd-b3f9-ce9d0c94acc8\";\n",
      " $task2 isa task, has stix-id \"task--8b50a1b9-c227-47b6-8e0c-97f2a493171d\";\n",
      "$incident-ext2 isa incident-ext;$occurence-ext2 (occurence:$incident, incident-core:$incident-ext2) isa occurence-ext;\n",
      "insert -> $task-refs2 (incident:$incident-ext2, the-task:$task2) isa task-refs;\n",
      "\n",
      "delete -> \n",
      "\n",
      "----------------------- incident--d1cdb31f-8e54-4bdd-b3f9-ce9d0c94acc8\n",
      "match -> $incident isa incident, has stix-id $stix-id;\n",
      "$stix-id \"incident--d1cdb31f-8e54-4bdd-b3f9-ce9d0c94acc8\";\n",
      " $email-addr3 isa email-addr, has stix-id \"email-addr--0e889020-a432-5676-aa03-ba1e1851e6c4\";\n",
      "$incident-ext3 isa incident-ext;$occurence-ext3 (occurence:$incident, incident-core:$incident-ext3) isa occurence-ext;$other-obj-refs3 (object:$incident-ext3, referred:$email-addr3) isa other-obj-refs;\n",
      "\n",
      "insert -> \n",
      "delete -> $other-obj-refs3 isa other-obj-refs;\n",
      "\n",
      "{'iterable_item_added': {\"root['extensions']['extension-definition--ef765651-680c-498d-9894-99799f2fa126']['sequence_refs'][2]\": 'sequence--bc87fff2-2f6b-4614-b36e-1d2572136fc1', \"root['extensions']['extension-definition--ef765651-680c-498d-9894-99799f2fa126']['task_refs'][1]\": 'task--8b50a1b9-c227-47b6-8e0c-97f2a493171d'}, 'iterable_item_removed': {\"root['extensions']['extension-definition--ef765651-680c-498d-9894-99799f2fa126']['other_object_refs'][15]\": 'email-addr--0e889020-a432-5676-aa03-ba1e1851e6c4'}}\n",
      "\n",
      "=================================================\n",
      "==================================================\n"
     ]
    }
   ],
   "source": [
    "from try_print_update import compare_incidents\n",
    "import json\n",
    "report = compare_incidents()\n",
    "print(\"=================================================\")\n",
    "#print(report)\n",
    "print(\"==================================================\")\n",
    "with open(\"diff-results.json\", \"w\") as f:\n",
    "    f.write(json.dumps(report))"
   ]
  },
  {
   "cell_type": "code",
   "execution_count": 1,
   "metadata": {
    "collapsed": false,
    "ExecuteTime": {
     "end_time": "2025-04-19T06:52:33.707956600Z",
     "start_time": "2025-04-19T06:52:33.112572100Z"
    }
   },
   "outputs": [
    {
     "name": "stdout",
     "output_type": "stream",
     "text": [
      "key is --> start\n",
      "incident obj -> {'id': 'incident--740242ef-622b-4073-b6cb-bdacc5f0d6a0', 'type': 'incident', 'original': {'type': 'incident', 'spec_version': '2.1', 'id': 'incident--740242ef-622b-4073-b6cb-bdacc5f0d6a0', 'created': '2025-04-07T05:05:35.601Z', 'modified': '2025-04-07T05:05:35.601Z', 'name': 'potential phishing', 'extensions': {'extension-definition--ef765651-680c-498d-9894-99799f2fa126': {'extension_type': 'property-extension', 'investigation_status': 'new', 'incident_types': ['dissemination-phishing-emails'], 'other_object_refs': ['email-addr--eb38d07e-6ba8-56c1-b107-d4db4aacf212', 'email-addr--4722424c-7012-56b0-84d5-01d076fc547b', 'user-account--597ad4d4-35ba-585d-8f6d-134a75032f9b', 'identity--9ff40376-63a4-4707-be1b-aa704dcf8434', 'identity--0e005516-4d26-45b7-a00b-332fe63966d5', 'url--3279c7de-8f91-5c1a-99d9-d6546c6c41f7', 'email-message--6090e3d4-1fa8-5b36-9d2d-4a66d824995d', 'relationship--b64d5201-c859-4836-baf9-433e716d90f5', 'observed-data--d57bc077-bc07-4a7e-87b4-0a8e12d17e41', 'indicator--d586cbe7-fcc4-439a-9725-203498cadb01', 'sighting--f5761565-2d07-403d-bee6-239da328db3d', 'identity--c0f33394-c5d9-4e1f-8b65-f6cae8351831', 'anecdote--e1298bc0-818e-5cdb-9154-eac37c8e260f', 'observed-data--4f7efda4-cf47-441f-b361-8c32bd443358', 'sighting--7982108a-d6cf-46c2-8859-e9aa32d37970'], 'event_refs': ['event--275ad284-17d2-4909-8e79-bd5e4966f24a'], 'sequence_refs': ['sequence--1d05f338-deed-40e3-a6cf-ef36586568b6', 'sequence--46db5197-9b39-4436-bfe3-e3f0ce487a86', 'sequence--cb5f3f59-2983-4c38-b3d5-68619e18890e'], 'sequence_start_refs': ['sequence--7c959362-f670-4946-8f45-692f3c438b11', 'sequence--97c09570-82f9-401e-acd6-2b5cc7ee6b42'], 'task_refs': ['task--eb0fb645-db1e-4015-9a95-168891ce42d1', 'task--c87fa465-1115-4f0b-ae1e-adae77478395'], 'impact_refs': ['impact--369a95ac-0a8b-4710-95aa-f052c9550590']}}}, 'icon': 'incident-ext', 'name': 'Incident Extension', 'heading': 'Incident Extension', 'description': '', 'object_form': 'incident', 'object_group': 'sdo-forms', 'object_family': 'stix-forms'}\n",
      "type of incident obj -?<class 'dict'>\n",
      "key is --> sequence\n",
      "incident obj -> {'id': 'incident--740242ef-622b-4073-b6cb-bdacc5f0d6a0', 'type': 'incident', 'original': {'type': 'incident', 'spec_version': '2.1', 'id': 'incident--740242ef-622b-4073-b6cb-bdacc5f0d6a0', 'created': '2025-04-07T05:05:35.601Z', 'modified': '2025-04-07T05:05:35.601Z', 'name': 'potential phishing', 'extensions': {'extension-definition--ef765651-680c-498d-9894-99799f2fa126': {'extension_type': 'property-extension', 'investigation_status': 'new', 'incident_types': ['dissemination-phishing-emails'], 'other_object_refs': ['email-addr--eb38d07e-6ba8-56c1-b107-d4db4aacf212', 'email-addr--4722424c-7012-56b0-84d5-01d076fc547b', 'user-account--597ad4d4-35ba-585d-8f6d-134a75032f9b', 'identity--9ff40376-63a4-4707-be1b-aa704dcf8434', 'identity--0e005516-4d26-45b7-a00b-332fe63966d5', 'url--3279c7de-8f91-5c1a-99d9-d6546c6c41f7', 'email-message--6090e3d4-1fa8-5b36-9d2d-4a66d824995d', 'relationship--b64d5201-c859-4836-baf9-433e716d90f5', 'observed-data--d57bc077-bc07-4a7e-87b4-0a8e12d17e41', 'indicator--d586cbe7-fcc4-439a-9725-203498cadb01', 'sighting--f5761565-2d07-403d-bee6-239da328db3d', 'identity--c0f33394-c5d9-4e1f-8b65-f6cae8351831', 'anecdote--e1298bc0-818e-5cdb-9154-eac37c8e260f', 'observed-data--4f7efda4-cf47-441f-b361-8c32bd443358', 'sighting--7982108a-d6cf-46c2-8859-e9aa32d37970'], 'event_refs': ['event--275ad284-17d2-4909-8e79-bd5e4966f24a'], 'sequence_refs': ['sequence--1d05f338-deed-40e3-a6cf-ef36586568b6', 'sequence--46db5197-9b39-4436-bfe3-e3f0ce487a86', 'sequence--cb5f3f59-2983-4c38-b3d5-68619e18890e'], 'sequence_start_refs': ['sequence--7c959362-f670-4946-8f45-692f3c438b11', 'sequence--97c09570-82f9-401e-acd6-2b5cc7ee6b42'], 'task_refs': ['task--eb0fb645-db1e-4015-9a95-168891ce42d1', 'task--c87fa465-1115-4f0b-ae1e-adae77478395'], 'impact_refs': ['impact--369a95ac-0a8b-4710-95aa-f052c9550590']}}, 'sequence_start_refs': ['sequence--7c959362-f670-4946-8f45-692f3c438b11', 'sequence--97c09570-82f9-401e-acd6-2b5cc7ee6b42']}, 'icon': 'incident-ext', 'name': 'Incident Extension', 'heading': 'Incident Extension', 'description': '', 'object_form': 'incident', 'object_group': 'sdo-forms', 'object_family': 'stix-forms'}\n",
      "type of incident obj -?<class 'dict'>\n",
      "key is --> impact\n",
      "incident obj -> {'id': 'incident--740242ef-622b-4073-b6cb-bdacc5f0d6a0', 'type': 'incident', 'original': {'type': 'incident', 'spec_version': '2.1', 'id': 'incident--740242ef-622b-4073-b6cb-bdacc5f0d6a0', 'created': '2025-04-07T05:05:35.601Z', 'modified': '2025-04-07T05:05:35.601Z', 'name': 'potential phishing', 'extensions': {'extension-definition--ef765651-680c-498d-9894-99799f2fa126': {'extension_type': 'property-extension', 'investigation_status': 'new', 'incident_types': ['dissemination-phishing-emails'], 'other_object_refs': ['email-addr--eb38d07e-6ba8-56c1-b107-d4db4aacf212', 'email-addr--4722424c-7012-56b0-84d5-01d076fc547b', 'user-account--597ad4d4-35ba-585d-8f6d-134a75032f9b', 'identity--9ff40376-63a4-4707-be1b-aa704dcf8434', 'identity--0e005516-4d26-45b7-a00b-332fe63966d5', 'url--3279c7de-8f91-5c1a-99d9-d6546c6c41f7', 'email-message--6090e3d4-1fa8-5b36-9d2d-4a66d824995d', 'relationship--b64d5201-c859-4836-baf9-433e716d90f5', 'observed-data--d57bc077-bc07-4a7e-87b4-0a8e12d17e41', 'indicator--d586cbe7-fcc4-439a-9725-203498cadb01', 'sighting--f5761565-2d07-403d-bee6-239da328db3d', 'identity--c0f33394-c5d9-4e1f-8b65-f6cae8351831', 'anecdote--e1298bc0-818e-5cdb-9154-eac37c8e260f', 'observed-data--4f7efda4-cf47-441f-b361-8c32bd443358', 'sighting--7982108a-d6cf-46c2-8859-e9aa32d37970'], 'event_refs': ['event--275ad284-17d2-4909-8e79-bd5e4966f24a'], 'sequence_refs': ['sequence--1d05f338-deed-40e3-a6cf-ef36586568b6', 'sequence--46db5197-9b39-4436-bfe3-e3f0ce487a86', 'sequence--cb5f3f59-2983-4c38-b3d5-68619e18890e'], 'sequence_start_refs': ['sequence--7c959362-f670-4946-8f45-692f3c438b11', 'sequence--97c09570-82f9-401e-acd6-2b5cc7ee6b42'], 'task_refs': ['task--eb0fb645-db1e-4015-9a95-168891ce42d1', 'task--c87fa465-1115-4f0b-ae1e-adae77478395'], 'impact_refs': ['impact--369a95ac-0a8b-4710-95aa-f052c9550590']}}, 'sequence_start_refs': ['sequence--7c959362-f670-4946-8f45-692f3c438b11', 'sequence--97c09570-82f9-401e-acd6-2b5cc7ee6b42'], 'sequence_refs': ['sequence--1d05f338-deed-40e3-a6cf-ef36586568b6', 'sequence--46db5197-9b39-4436-bfe3-e3f0ce487a86', 'sequence--cb5f3f59-2983-4c38-b3d5-68619e18890e']}, 'icon': 'incident-ext', 'name': 'Incident Extension', 'heading': 'Incident Extension', 'description': '', 'object_form': 'incident', 'object_group': 'sdo-forms', 'object_family': 'stix-forms'}\n",
      "type of incident obj -?<class 'dict'>\n",
      "key is --> event\n",
      "incident obj -> {'id': 'incident--740242ef-622b-4073-b6cb-bdacc5f0d6a0', 'type': 'incident', 'original': {'type': 'incident', 'spec_version': '2.1', 'id': 'incident--740242ef-622b-4073-b6cb-bdacc5f0d6a0', 'created': '2025-04-07T05:05:35.601Z', 'modified': '2025-04-07T05:05:35.601Z', 'name': 'potential phishing', 'extensions': {'extension-definition--ef765651-680c-498d-9894-99799f2fa126': {'extension_type': 'property-extension', 'investigation_status': 'new', 'incident_types': ['dissemination-phishing-emails'], 'other_object_refs': ['email-addr--eb38d07e-6ba8-56c1-b107-d4db4aacf212', 'email-addr--4722424c-7012-56b0-84d5-01d076fc547b', 'user-account--597ad4d4-35ba-585d-8f6d-134a75032f9b', 'identity--9ff40376-63a4-4707-be1b-aa704dcf8434', 'identity--0e005516-4d26-45b7-a00b-332fe63966d5', 'url--3279c7de-8f91-5c1a-99d9-d6546c6c41f7', 'email-message--6090e3d4-1fa8-5b36-9d2d-4a66d824995d', 'relationship--b64d5201-c859-4836-baf9-433e716d90f5', 'observed-data--d57bc077-bc07-4a7e-87b4-0a8e12d17e41', 'indicator--d586cbe7-fcc4-439a-9725-203498cadb01', 'sighting--f5761565-2d07-403d-bee6-239da328db3d', 'identity--c0f33394-c5d9-4e1f-8b65-f6cae8351831', 'anecdote--e1298bc0-818e-5cdb-9154-eac37c8e260f', 'observed-data--4f7efda4-cf47-441f-b361-8c32bd443358', 'sighting--7982108a-d6cf-46c2-8859-e9aa32d37970'], 'event_refs': ['event--275ad284-17d2-4909-8e79-bd5e4966f24a'], 'sequence_refs': ['sequence--1d05f338-deed-40e3-a6cf-ef36586568b6', 'sequence--46db5197-9b39-4436-bfe3-e3f0ce487a86', 'sequence--cb5f3f59-2983-4c38-b3d5-68619e18890e'], 'sequence_start_refs': ['sequence--7c959362-f670-4946-8f45-692f3c438b11', 'sequence--97c09570-82f9-401e-acd6-2b5cc7ee6b42'], 'task_refs': ['task--eb0fb645-db1e-4015-9a95-168891ce42d1', 'task--c87fa465-1115-4f0b-ae1e-adae77478395'], 'impact_refs': ['impact--369a95ac-0a8b-4710-95aa-f052c9550590']}}, 'sequence_start_refs': ['sequence--7c959362-f670-4946-8f45-692f3c438b11', 'sequence--97c09570-82f9-401e-acd6-2b5cc7ee6b42'], 'sequence_refs': ['sequence--1d05f338-deed-40e3-a6cf-ef36586568b6', 'sequence--46db5197-9b39-4436-bfe3-e3f0ce487a86', 'sequence--cb5f3f59-2983-4c38-b3d5-68619e18890e'], 'impact_refs': ['impact--369a95ac-0a8b-4710-95aa-f052c9550590']}, 'icon': 'incident-ext', 'name': 'Incident Extension', 'heading': 'Incident Extension', 'description': '', 'object_form': 'incident', 'object_group': 'sdo-forms', 'object_family': 'stix-forms'}\n",
      "type of incident obj -?<class 'dict'>\n",
      "key is --> task\n",
      "incident obj -> {'id': 'incident--740242ef-622b-4073-b6cb-bdacc5f0d6a0', 'type': 'incident', 'original': {'type': 'incident', 'spec_version': '2.1', 'id': 'incident--740242ef-622b-4073-b6cb-bdacc5f0d6a0', 'created': '2025-04-07T05:05:35.601Z', 'modified': '2025-04-07T05:05:35.601Z', 'name': 'potential phishing', 'extensions': {'extension-definition--ef765651-680c-498d-9894-99799f2fa126': {'extension_type': 'property-extension', 'investigation_status': 'new', 'incident_types': ['dissemination-phishing-emails'], 'other_object_refs': ['email-addr--eb38d07e-6ba8-56c1-b107-d4db4aacf212', 'email-addr--4722424c-7012-56b0-84d5-01d076fc547b', 'user-account--597ad4d4-35ba-585d-8f6d-134a75032f9b', 'identity--9ff40376-63a4-4707-be1b-aa704dcf8434', 'identity--0e005516-4d26-45b7-a00b-332fe63966d5', 'url--3279c7de-8f91-5c1a-99d9-d6546c6c41f7', 'email-message--6090e3d4-1fa8-5b36-9d2d-4a66d824995d', 'relationship--b64d5201-c859-4836-baf9-433e716d90f5', 'observed-data--d57bc077-bc07-4a7e-87b4-0a8e12d17e41', 'indicator--d586cbe7-fcc4-439a-9725-203498cadb01', 'sighting--f5761565-2d07-403d-bee6-239da328db3d', 'identity--c0f33394-c5d9-4e1f-8b65-f6cae8351831', 'anecdote--e1298bc0-818e-5cdb-9154-eac37c8e260f', 'observed-data--4f7efda4-cf47-441f-b361-8c32bd443358', 'sighting--7982108a-d6cf-46c2-8859-e9aa32d37970'], 'event_refs': ['event--275ad284-17d2-4909-8e79-bd5e4966f24a'], 'sequence_refs': ['sequence--1d05f338-deed-40e3-a6cf-ef36586568b6', 'sequence--46db5197-9b39-4436-bfe3-e3f0ce487a86', 'sequence--cb5f3f59-2983-4c38-b3d5-68619e18890e'], 'sequence_start_refs': ['sequence--7c959362-f670-4946-8f45-692f3c438b11', 'sequence--97c09570-82f9-401e-acd6-2b5cc7ee6b42'], 'task_refs': ['task--eb0fb645-db1e-4015-9a95-168891ce42d1', 'task--c87fa465-1115-4f0b-ae1e-adae77478395'], 'impact_refs': ['impact--369a95ac-0a8b-4710-95aa-f052c9550590']}}, 'sequence_start_refs': ['sequence--7c959362-f670-4946-8f45-692f3c438b11', 'sequence--97c09570-82f9-401e-acd6-2b5cc7ee6b42'], 'sequence_refs': ['sequence--1d05f338-deed-40e3-a6cf-ef36586568b6', 'sequence--46db5197-9b39-4436-bfe3-e3f0ce487a86', 'sequence--cb5f3f59-2983-4c38-b3d5-68619e18890e'], 'impact_refs': ['impact--369a95ac-0a8b-4710-95aa-f052c9550590'], 'event_refs': ['event--275ad284-17d2-4909-8e79-bd5e4966f24a']}, 'icon': 'incident-ext', 'name': 'Incident Extension', 'heading': 'Incident Extension', 'description': '', 'object_form': 'incident', 'object_group': 'sdo-forms', 'object_family': 'stix-forms'}\n",
      "type of incident obj -?<class 'dict'>\n",
      "key is --> other\n",
      "incident obj -> {'id': 'incident--740242ef-622b-4073-b6cb-bdacc5f0d6a0', 'type': 'incident', 'original': {'type': 'incident', 'spec_version': '2.1', 'id': 'incident--740242ef-622b-4073-b6cb-bdacc5f0d6a0', 'created': '2025-04-07T05:05:35.601Z', 'modified': '2025-04-07T05:05:35.601Z', 'name': 'potential phishing', 'extensions': {'extension-definition--ef765651-680c-498d-9894-99799f2fa126': {'extension_type': 'property-extension', 'investigation_status': 'new', 'incident_types': ['dissemination-phishing-emails'], 'other_object_refs': ['email-addr--eb38d07e-6ba8-56c1-b107-d4db4aacf212', 'email-addr--4722424c-7012-56b0-84d5-01d076fc547b', 'user-account--597ad4d4-35ba-585d-8f6d-134a75032f9b', 'identity--9ff40376-63a4-4707-be1b-aa704dcf8434', 'identity--0e005516-4d26-45b7-a00b-332fe63966d5', 'url--3279c7de-8f91-5c1a-99d9-d6546c6c41f7', 'email-message--6090e3d4-1fa8-5b36-9d2d-4a66d824995d', 'relationship--b64d5201-c859-4836-baf9-433e716d90f5', 'observed-data--d57bc077-bc07-4a7e-87b4-0a8e12d17e41', 'indicator--d586cbe7-fcc4-439a-9725-203498cadb01', 'sighting--f5761565-2d07-403d-bee6-239da328db3d', 'identity--c0f33394-c5d9-4e1f-8b65-f6cae8351831', 'anecdote--e1298bc0-818e-5cdb-9154-eac37c8e260f', 'observed-data--4f7efda4-cf47-441f-b361-8c32bd443358', 'sighting--7982108a-d6cf-46c2-8859-e9aa32d37970'], 'event_refs': ['event--275ad284-17d2-4909-8e79-bd5e4966f24a'], 'sequence_refs': ['sequence--1d05f338-deed-40e3-a6cf-ef36586568b6', 'sequence--46db5197-9b39-4436-bfe3-e3f0ce487a86', 'sequence--cb5f3f59-2983-4c38-b3d5-68619e18890e'], 'sequence_start_refs': ['sequence--7c959362-f670-4946-8f45-692f3c438b11', 'sequence--97c09570-82f9-401e-acd6-2b5cc7ee6b42'], 'task_refs': ['task--eb0fb645-db1e-4015-9a95-168891ce42d1', 'task--c87fa465-1115-4f0b-ae1e-adae77478395'], 'impact_refs': ['impact--369a95ac-0a8b-4710-95aa-f052c9550590']}}, 'sequence_start_refs': ['sequence--7c959362-f670-4946-8f45-692f3c438b11', 'sequence--97c09570-82f9-401e-acd6-2b5cc7ee6b42'], 'sequence_refs': ['sequence--1d05f338-deed-40e3-a6cf-ef36586568b6', 'sequence--46db5197-9b39-4436-bfe3-e3f0ce487a86', 'sequence--cb5f3f59-2983-4c38-b3d5-68619e18890e'], 'impact_refs': ['impact--369a95ac-0a8b-4710-95aa-f052c9550590'], 'event_refs': ['event--275ad284-17d2-4909-8e79-bd5e4966f24a'], 'task_refs': ['task--eb0fb645-db1e-4015-9a95-168891ce42d1', 'task--c87fa465-1115-4f0b-ae1e-adae77478395']}, 'icon': 'incident-ext', 'name': 'Incident Extension', 'heading': 'Incident Extension', 'description': '', 'object_form': 'incident', 'object_group': 'sdo-forms', 'object_family': 'stix-forms'}\n",
      "type of incident obj -?<class 'dict'>\n",
      "key is --> start\n",
      "incident obj -> {'id': 'incident--d1cdb31f-8e54-4bdd-b3f9-ce9d0c94acc8', 'type': 'incident', 'original': {'type': 'incident', 'spec_version': '2.1', 'id': 'incident--d1cdb31f-8e54-4bdd-b3f9-ce9d0c94acc8', 'created': '2025-04-07T05:14:04.68Z', 'modified': '2025-04-07T05:14:04.68Z', 'name': 'potential phishing', 'extensions': {'extension-definition--ef765651-680c-498d-9894-99799f2fa126': {'extension_type': 'property-extension', 'investigation_status': 'new', 'incident_types': ['dissemination-phishing-emails'], 'other_object_refs': ['email-addr--eb38d07e-6ba8-56c1-b107-d4db4aacf212', 'email-addr--4722424c-7012-56b0-84d5-01d076fc547b', 'user-account--597ad4d4-35ba-585d-8f6d-134a75032f9b', 'identity--9ff40376-63a4-4707-be1b-aa704dcf8434', 'identity--0e005516-4d26-45b7-a00b-332fe63966d5', 'url--3279c7de-8f91-5c1a-99d9-d6546c6c41f7', 'email-message--6090e3d4-1fa8-5b36-9d2d-4a66d824995d', 'relationship--6014caa7-daf8-463b-859a-b6864a0afc64', 'observed-data--238e15ab-149e-49bb-a516-7bb28082f9df', 'indicator--18fe5c9a-1410-4c53-80f1-f42554be016b', 'sighting--6c836ab4-803d-4c66-a426-0efcd2bfe24b', 'identity--c0f33394-c5d9-4e1f-8b65-f6cae8351831', 'anecdote--e1298bc0-818e-5cdb-9154-eac37c8e260f', 'observed-data--cc4642ab-9cd3-4292-a9fd-29fd2eccd1b5', 'sighting--bd3556e1-ca81-4c56-b5fe-5d193ab6acb9'], 'event_refs': ['event--62f28dde-20c2-4d2c-9f20-d16b30823dba'], 'sequence_refs': ['sequence--5d2b2a10-3266-4e33-bb67-4361e3346eec', 'sequence--d9993cd7-1adb-4c5a-8b99-8eadb63a8aee', 'sequence--bc87fff2-2f6b-4614-b36e-1d2572136fc1'], 'sequence_start_refs': ['sequence--342a27b1-4830-4e67-af89-1e08b227acb9', 'sequence--487397ef-c515-4276-a6ca-b82e2da2225c'], 'task_refs': ['task--cbe7f332-b393-4a84-827b-69d07dc3c848', 'task--8b50a1b9-c227-47b6-8e0c-97f2a493171d'], 'impact_refs': ['impact--6149c82a-fbda-48cc-84e4-60a0f73cfb2c']}}}, 'icon': 'incident-ext', 'name': 'Incident Extension', 'heading': 'Incident Extension', 'description': '', 'object_form': 'incident', 'object_group': 'sdo-forms', 'object_family': 'stix-forms'}\n",
      "type of incident obj -?<class 'dict'>\n",
      "key is --> sequence\n",
      "incident obj -> {'id': 'incident--d1cdb31f-8e54-4bdd-b3f9-ce9d0c94acc8', 'type': 'incident', 'original': {'type': 'incident', 'spec_version': '2.1', 'id': 'incident--d1cdb31f-8e54-4bdd-b3f9-ce9d0c94acc8', 'created': '2025-04-07T05:14:04.68Z', 'modified': '2025-04-07T05:14:04.68Z', 'name': 'potential phishing', 'extensions': {'extension-definition--ef765651-680c-498d-9894-99799f2fa126': {'extension_type': 'property-extension', 'investigation_status': 'new', 'incident_types': ['dissemination-phishing-emails'], 'other_object_refs': ['email-addr--eb38d07e-6ba8-56c1-b107-d4db4aacf212', 'email-addr--4722424c-7012-56b0-84d5-01d076fc547b', 'user-account--597ad4d4-35ba-585d-8f6d-134a75032f9b', 'identity--9ff40376-63a4-4707-be1b-aa704dcf8434', 'identity--0e005516-4d26-45b7-a00b-332fe63966d5', 'url--3279c7de-8f91-5c1a-99d9-d6546c6c41f7', 'email-message--6090e3d4-1fa8-5b36-9d2d-4a66d824995d', 'relationship--6014caa7-daf8-463b-859a-b6864a0afc64', 'observed-data--238e15ab-149e-49bb-a516-7bb28082f9df', 'indicator--18fe5c9a-1410-4c53-80f1-f42554be016b', 'sighting--6c836ab4-803d-4c66-a426-0efcd2bfe24b', 'identity--c0f33394-c5d9-4e1f-8b65-f6cae8351831', 'anecdote--e1298bc0-818e-5cdb-9154-eac37c8e260f', 'observed-data--cc4642ab-9cd3-4292-a9fd-29fd2eccd1b5', 'sighting--bd3556e1-ca81-4c56-b5fe-5d193ab6acb9'], 'event_refs': ['event--62f28dde-20c2-4d2c-9f20-d16b30823dba'], 'sequence_refs': ['sequence--5d2b2a10-3266-4e33-bb67-4361e3346eec', 'sequence--d9993cd7-1adb-4c5a-8b99-8eadb63a8aee', 'sequence--bc87fff2-2f6b-4614-b36e-1d2572136fc1'], 'sequence_start_refs': ['sequence--342a27b1-4830-4e67-af89-1e08b227acb9', 'sequence--487397ef-c515-4276-a6ca-b82e2da2225c'], 'task_refs': ['task--cbe7f332-b393-4a84-827b-69d07dc3c848', 'task--8b50a1b9-c227-47b6-8e0c-97f2a493171d'], 'impact_refs': ['impact--6149c82a-fbda-48cc-84e4-60a0f73cfb2c']}}, 'sequence_start_refs': ['sequence--342a27b1-4830-4e67-af89-1e08b227acb9', 'sequence--487397ef-c515-4276-a6ca-b82e2da2225c']}, 'icon': 'incident-ext', 'name': 'Incident Extension', 'heading': 'Incident Extension', 'description': '', 'object_form': 'incident', 'object_group': 'sdo-forms', 'object_family': 'stix-forms'}\n",
      "type of incident obj -?<class 'dict'>\n",
      "key is --> impact\n",
      "incident obj -> {'id': 'incident--d1cdb31f-8e54-4bdd-b3f9-ce9d0c94acc8', 'type': 'incident', 'original': {'type': 'incident', 'spec_version': '2.1', 'id': 'incident--d1cdb31f-8e54-4bdd-b3f9-ce9d0c94acc8', 'created': '2025-04-07T05:14:04.68Z', 'modified': '2025-04-07T05:14:04.68Z', 'name': 'potential phishing', 'extensions': {'extension-definition--ef765651-680c-498d-9894-99799f2fa126': {'extension_type': 'property-extension', 'investigation_status': 'new', 'incident_types': ['dissemination-phishing-emails'], 'other_object_refs': ['email-addr--eb38d07e-6ba8-56c1-b107-d4db4aacf212', 'email-addr--4722424c-7012-56b0-84d5-01d076fc547b', 'user-account--597ad4d4-35ba-585d-8f6d-134a75032f9b', 'identity--9ff40376-63a4-4707-be1b-aa704dcf8434', 'identity--0e005516-4d26-45b7-a00b-332fe63966d5', 'url--3279c7de-8f91-5c1a-99d9-d6546c6c41f7', 'email-message--6090e3d4-1fa8-5b36-9d2d-4a66d824995d', 'relationship--6014caa7-daf8-463b-859a-b6864a0afc64', 'observed-data--238e15ab-149e-49bb-a516-7bb28082f9df', 'indicator--18fe5c9a-1410-4c53-80f1-f42554be016b', 'sighting--6c836ab4-803d-4c66-a426-0efcd2bfe24b', 'identity--c0f33394-c5d9-4e1f-8b65-f6cae8351831', 'anecdote--e1298bc0-818e-5cdb-9154-eac37c8e260f', 'observed-data--cc4642ab-9cd3-4292-a9fd-29fd2eccd1b5', 'sighting--bd3556e1-ca81-4c56-b5fe-5d193ab6acb9'], 'event_refs': ['event--62f28dde-20c2-4d2c-9f20-d16b30823dba'], 'sequence_refs': ['sequence--5d2b2a10-3266-4e33-bb67-4361e3346eec', 'sequence--d9993cd7-1adb-4c5a-8b99-8eadb63a8aee', 'sequence--bc87fff2-2f6b-4614-b36e-1d2572136fc1'], 'sequence_start_refs': ['sequence--342a27b1-4830-4e67-af89-1e08b227acb9', 'sequence--487397ef-c515-4276-a6ca-b82e2da2225c'], 'task_refs': ['task--cbe7f332-b393-4a84-827b-69d07dc3c848', 'task--8b50a1b9-c227-47b6-8e0c-97f2a493171d'], 'impact_refs': ['impact--6149c82a-fbda-48cc-84e4-60a0f73cfb2c']}}, 'sequence_start_refs': ['sequence--342a27b1-4830-4e67-af89-1e08b227acb9', 'sequence--487397ef-c515-4276-a6ca-b82e2da2225c'], 'sequence_refs': ['sequence--5d2b2a10-3266-4e33-bb67-4361e3346eec', 'sequence--d9993cd7-1adb-4c5a-8b99-8eadb63a8aee', 'sequence--bc87fff2-2f6b-4614-b36e-1d2572136fc1']}, 'icon': 'incident-ext', 'name': 'Incident Extension', 'heading': 'Incident Extension', 'description': '', 'object_form': 'incident', 'object_group': 'sdo-forms', 'object_family': 'stix-forms'}\n",
      "type of incident obj -?<class 'dict'>\n",
      "key is --> event\n",
      "incident obj -> {'id': 'incident--d1cdb31f-8e54-4bdd-b3f9-ce9d0c94acc8', 'type': 'incident', 'original': {'type': 'incident', 'spec_version': '2.1', 'id': 'incident--d1cdb31f-8e54-4bdd-b3f9-ce9d0c94acc8', 'created': '2025-04-07T05:14:04.68Z', 'modified': '2025-04-07T05:14:04.68Z', 'name': 'potential phishing', 'extensions': {'extension-definition--ef765651-680c-498d-9894-99799f2fa126': {'extension_type': 'property-extension', 'investigation_status': 'new', 'incident_types': ['dissemination-phishing-emails'], 'other_object_refs': ['email-addr--eb38d07e-6ba8-56c1-b107-d4db4aacf212', 'email-addr--4722424c-7012-56b0-84d5-01d076fc547b', 'user-account--597ad4d4-35ba-585d-8f6d-134a75032f9b', 'identity--9ff40376-63a4-4707-be1b-aa704dcf8434', 'identity--0e005516-4d26-45b7-a00b-332fe63966d5', 'url--3279c7de-8f91-5c1a-99d9-d6546c6c41f7', 'email-message--6090e3d4-1fa8-5b36-9d2d-4a66d824995d', 'relationship--6014caa7-daf8-463b-859a-b6864a0afc64', 'observed-data--238e15ab-149e-49bb-a516-7bb28082f9df', 'indicator--18fe5c9a-1410-4c53-80f1-f42554be016b', 'sighting--6c836ab4-803d-4c66-a426-0efcd2bfe24b', 'identity--c0f33394-c5d9-4e1f-8b65-f6cae8351831', 'anecdote--e1298bc0-818e-5cdb-9154-eac37c8e260f', 'observed-data--cc4642ab-9cd3-4292-a9fd-29fd2eccd1b5', 'sighting--bd3556e1-ca81-4c56-b5fe-5d193ab6acb9'], 'event_refs': ['event--62f28dde-20c2-4d2c-9f20-d16b30823dba'], 'sequence_refs': ['sequence--5d2b2a10-3266-4e33-bb67-4361e3346eec', 'sequence--d9993cd7-1adb-4c5a-8b99-8eadb63a8aee', 'sequence--bc87fff2-2f6b-4614-b36e-1d2572136fc1'], 'sequence_start_refs': ['sequence--342a27b1-4830-4e67-af89-1e08b227acb9', 'sequence--487397ef-c515-4276-a6ca-b82e2da2225c'], 'task_refs': ['task--cbe7f332-b393-4a84-827b-69d07dc3c848', 'task--8b50a1b9-c227-47b6-8e0c-97f2a493171d'], 'impact_refs': ['impact--6149c82a-fbda-48cc-84e4-60a0f73cfb2c']}}, 'sequence_start_refs': ['sequence--342a27b1-4830-4e67-af89-1e08b227acb9', 'sequence--487397ef-c515-4276-a6ca-b82e2da2225c'], 'sequence_refs': ['sequence--5d2b2a10-3266-4e33-bb67-4361e3346eec', 'sequence--d9993cd7-1adb-4c5a-8b99-8eadb63a8aee', 'sequence--bc87fff2-2f6b-4614-b36e-1d2572136fc1'], 'impact_refs': ['impact--6149c82a-fbda-48cc-84e4-60a0f73cfb2c']}, 'icon': 'incident-ext', 'name': 'Incident Extension', 'heading': 'Incident Extension', 'description': '', 'object_form': 'incident', 'object_group': 'sdo-forms', 'object_family': 'stix-forms'}\n",
      "type of incident obj -?<class 'dict'>\n",
      "key is --> task\n",
      "incident obj -> {'id': 'incident--d1cdb31f-8e54-4bdd-b3f9-ce9d0c94acc8', 'type': 'incident', 'original': {'type': 'incident', 'spec_version': '2.1', 'id': 'incident--d1cdb31f-8e54-4bdd-b3f9-ce9d0c94acc8', 'created': '2025-04-07T05:14:04.68Z', 'modified': '2025-04-07T05:14:04.68Z', 'name': 'potential phishing', 'extensions': {'extension-definition--ef765651-680c-498d-9894-99799f2fa126': {'extension_type': 'property-extension', 'investigation_status': 'new', 'incident_types': ['dissemination-phishing-emails'], 'other_object_refs': ['email-addr--eb38d07e-6ba8-56c1-b107-d4db4aacf212', 'email-addr--4722424c-7012-56b0-84d5-01d076fc547b', 'user-account--597ad4d4-35ba-585d-8f6d-134a75032f9b', 'identity--9ff40376-63a4-4707-be1b-aa704dcf8434', 'identity--0e005516-4d26-45b7-a00b-332fe63966d5', 'url--3279c7de-8f91-5c1a-99d9-d6546c6c41f7', 'email-message--6090e3d4-1fa8-5b36-9d2d-4a66d824995d', 'relationship--6014caa7-daf8-463b-859a-b6864a0afc64', 'observed-data--238e15ab-149e-49bb-a516-7bb28082f9df', 'indicator--18fe5c9a-1410-4c53-80f1-f42554be016b', 'sighting--6c836ab4-803d-4c66-a426-0efcd2bfe24b', 'identity--c0f33394-c5d9-4e1f-8b65-f6cae8351831', 'anecdote--e1298bc0-818e-5cdb-9154-eac37c8e260f', 'observed-data--cc4642ab-9cd3-4292-a9fd-29fd2eccd1b5', 'sighting--bd3556e1-ca81-4c56-b5fe-5d193ab6acb9'], 'event_refs': ['event--62f28dde-20c2-4d2c-9f20-d16b30823dba'], 'sequence_refs': ['sequence--5d2b2a10-3266-4e33-bb67-4361e3346eec', 'sequence--d9993cd7-1adb-4c5a-8b99-8eadb63a8aee', 'sequence--bc87fff2-2f6b-4614-b36e-1d2572136fc1'], 'sequence_start_refs': ['sequence--342a27b1-4830-4e67-af89-1e08b227acb9', 'sequence--487397ef-c515-4276-a6ca-b82e2da2225c'], 'task_refs': ['task--cbe7f332-b393-4a84-827b-69d07dc3c848', 'task--8b50a1b9-c227-47b6-8e0c-97f2a493171d'], 'impact_refs': ['impact--6149c82a-fbda-48cc-84e4-60a0f73cfb2c']}}, 'sequence_start_refs': ['sequence--342a27b1-4830-4e67-af89-1e08b227acb9', 'sequence--487397ef-c515-4276-a6ca-b82e2da2225c'], 'sequence_refs': ['sequence--5d2b2a10-3266-4e33-bb67-4361e3346eec', 'sequence--d9993cd7-1adb-4c5a-8b99-8eadb63a8aee', 'sequence--bc87fff2-2f6b-4614-b36e-1d2572136fc1'], 'impact_refs': ['impact--6149c82a-fbda-48cc-84e4-60a0f73cfb2c'], 'event_refs': ['event--62f28dde-20c2-4d2c-9f20-d16b30823dba']}, 'icon': 'incident-ext', 'name': 'Incident Extension', 'heading': 'Incident Extension', 'description': '', 'object_form': 'incident', 'object_group': 'sdo-forms', 'object_family': 'stix-forms'}\n",
      "type of incident obj -?<class 'dict'>\n",
      "key is --> other\n",
      "incident obj -> {'id': 'incident--d1cdb31f-8e54-4bdd-b3f9-ce9d0c94acc8', 'type': 'incident', 'original': {'type': 'incident', 'spec_version': '2.1', 'id': 'incident--d1cdb31f-8e54-4bdd-b3f9-ce9d0c94acc8', 'created': '2025-04-07T05:14:04.68Z', 'modified': '2025-04-07T05:14:04.68Z', 'name': 'potential phishing', 'extensions': {'extension-definition--ef765651-680c-498d-9894-99799f2fa126': {'extension_type': 'property-extension', 'investigation_status': 'new', 'incident_types': ['dissemination-phishing-emails'], 'other_object_refs': ['email-addr--eb38d07e-6ba8-56c1-b107-d4db4aacf212', 'email-addr--4722424c-7012-56b0-84d5-01d076fc547b', 'user-account--597ad4d4-35ba-585d-8f6d-134a75032f9b', 'identity--9ff40376-63a4-4707-be1b-aa704dcf8434', 'identity--0e005516-4d26-45b7-a00b-332fe63966d5', 'url--3279c7de-8f91-5c1a-99d9-d6546c6c41f7', 'email-message--6090e3d4-1fa8-5b36-9d2d-4a66d824995d', 'relationship--6014caa7-daf8-463b-859a-b6864a0afc64', 'observed-data--238e15ab-149e-49bb-a516-7bb28082f9df', 'indicator--18fe5c9a-1410-4c53-80f1-f42554be016b', 'sighting--6c836ab4-803d-4c66-a426-0efcd2bfe24b', 'identity--c0f33394-c5d9-4e1f-8b65-f6cae8351831', 'anecdote--e1298bc0-818e-5cdb-9154-eac37c8e260f', 'observed-data--cc4642ab-9cd3-4292-a9fd-29fd2eccd1b5', 'sighting--bd3556e1-ca81-4c56-b5fe-5d193ab6acb9'], 'event_refs': ['event--62f28dde-20c2-4d2c-9f20-d16b30823dba'], 'sequence_refs': ['sequence--5d2b2a10-3266-4e33-bb67-4361e3346eec', 'sequence--d9993cd7-1adb-4c5a-8b99-8eadb63a8aee', 'sequence--bc87fff2-2f6b-4614-b36e-1d2572136fc1'], 'sequence_start_refs': ['sequence--342a27b1-4830-4e67-af89-1e08b227acb9', 'sequence--487397ef-c515-4276-a6ca-b82e2da2225c'], 'task_refs': ['task--cbe7f332-b393-4a84-827b-69d07dc3c848', 'task--8b50a1b9-c227-47b6-8e0c-97f2a493171d'], 'impact_refs': ['impact--6149c82a-fbda-48cc-84e4-60a0f73cfb2c']}}, 'sequence_start_refs': ['sequence--342a27b1-4830-4e67-af89-1e08b227acb9', 'sequence--487397ef-c515-4276-a6ca-b82e2da2225c'], 'sequence_refs': ['sequence--5d2b2a10-3266-4e33-bb67-4361e3346eec', 'sequence--d9993cd7-1adb-4c5a-8b99-8eadb63a8aee', 'sequence--bc87fff2-2f6b-4614-b36e-1d2572136fc1'], 'impact_refs': ['impact--6149c82a-fbda-48cc-84e4-60a0f73cfb2c'], 'event_refs': ['event--62f28dde-20c2-4d2c-9f20-d16b30823dba'], 'task_refs': ['task--cbe7f332-b393-4a84-827b-69d07dc3c848', 'task--8b50a1b9-c227-47b6-8e0c-97f2a493171d']}, 'icon': 'incident-ext', 'name': 'Incident Extension', 'heading': 'Incident Extension', 'description': '', 'object_form': 'incident', 'object_group': 'sdo-forms', 'object_family': 'stix-forms'}\n",
      "type of incident obj -?<class 'dict'>\n",
      "[\n",
      "    {\n",
      "        \"id\": \"incident--d1cdb31f-8e54-4bdd-b3f9-ce9d0c94acc8\",\n",
      "        \"type\": \"incident\",\n",
      "        \"original\": {\n",
      "            \"type\": \"incident\",\n",
      "            \"spec_version\": \"2.1\",\n",
      "            \"id\": \"incident--d1cdb31f-8e54-4bdd-b3f9-ce9d0c94acc8\",\n",
      "            \"created\": \"2025-04-07T05:14:04.68Z\",\n",
      "            \"modified\": \"2025-04-07T05:14:04.68Z\",\n",
      "            \"name\": \"potential phishing\",\n",
      "            \"extensions\": {\n",
      "                \"extension-definition--ef765651-680c-498d-9894-99799f2fa126\": {\n",
      "                    \"extension_type\": \"property-extension\",\n",
      "                    \"investigation_status\": \"new\",\n",
      "                    \"incident_types\": [\n",
      "                        \"dissemination-phishing-emails\"\n",
      "                    ],\n",
      "                    \"other_object_refs\": [\n",
      "                        \"email-addr--eb38d07e-6ba8-56c1-b107-d4db4aacf212\",\n",
      "                        \"email-addr--4722424c-7012-56b0-84d5-01d076fc547b\",\n",
      "                        \"user-account--597ad4d4-35ba-585d-8f6d-134a75032f9b\",\n",
      "                        \"identity--9ff40376-63a4-4707-be1b-aa704dcf8434\",\n",
      "                        \"identity--0e005516-4d26-45b7-a00b-332fe63966d5\",\n",
      "                        \"url--3279c7de-8f91-5c1a-99d9-d6546c6c41f7\",\n",
      "                        \"email-message--6090e3d4-1fa8-5b36-9d2d-4a66d824995d\",\n",
      "                        \"relationship--6014caa7-daf8-463b-859a-b6864a0afc64\",\n",
      "                        \"observed-data--238e15ab-149e-49bb-a516-7bb28082f9df\",\n",
      "                        \"indicator--18fe5c9a-1410-4c53-80f1-f42554be016b\",\n",
      "                        \"sighting--6c836ab4-803d-4c66-a426-0efcd2bfe24b\",\n",
      "                        \"identity--c0f33394-c5d9-4e1f-8b65-f6cae8351831\",\n",
      "                        \"anecdote--e1298bc0-818e-5cdb-9154-eac37c8e260f\",\n",
      "                        \"observed-data--cc4642ab-9cd3-4292-a9fd-29fd2eccd1b5\",\n",
      "                        \"sighting--bd3556e1-ca81-4c56-b5fe-5d193ab6acb9\"\n",
      "                    ],\n",
      "                    \"event_refs\": [\n",
      "                        \"event--62f28dde-20c2-4d2c-9f20-d16b30823dba\"\n",
      "                    ],\n",
      "                    \"sequence_refs\": [\n",
      "                        \"sequence--5d2b2a10-3266-4e33-bb67-4361e3346eec\",\n",
      "                        \"sequence--d9993cd7-1adb-4c5a-8b99-8eadb63a8aee\",\n",
      "                        \"sequence--bc87fff2-2f6b-4614-b36e-1d2572136fc1\"\n",
      "                    ],\n",
      "                    \"sequence_start_refs\": [\n",
      "                        \"sequence--342a27b1-4830-4e67-af89-1e08b227acb9\",\n",
      "                        \"sequence--487397ef-c515-4276-a6ca-b82e2da2225c\"\n",
      "                    ],\n",
      "                    \"task_refs\": [\n",
      "                        \"task--cbe7f332-b393-4a84-827b-69d07dc3c848\",\n",
      "                        \"task--8b50a1b9-c227-47b6-8e0c-97f2a493171d\"\n",
      "                    ],\n",
      "                    \"impact_refs\": [\n",
      "                        \"impact--6149c82a-fbda-48cc-84e4-60a0f73cfb2c\"\n",
      "                    ]\n",
      "                }\n",
      "            },\n",
      "            \"sequence_start_refs\": [\n",
      "                \"sequence--342a27b1-4830-4e67-af89-1e08b227acb9\",\n",
      "                \"sequence--487397ef-c515-4276-a6ca-b82e2da2225c\"\n",
      "            ],\n",
      "            \"sequence_refs\": [\n",
      "                \"sequence--5d2b2a10-3266-4e33-bb67-4361e3346eec\",\n",
      "                \"sequence--d9993cd7-1adb-4c5a-8b99-8eadb63a8aee\",\n",
      "                \"sequence--bc87fff2-2f6b-4614-b36e-1d2572136fc1\"\n",
      "            ],\n",
      "            \"impact_refs\": [\n",
      "                \"impact--6149c82a-fbda-48cc-84e4-60a0f73cfb2c\"\n",
      "            ],\n",
      "            \"event_refs\": [\n",
      "                \"event--62f28dde-20c2-4d2c-9f20-d16b30823dba\"\n",
      "            ],\n",
      "            \"task_refs\": [\n",
      "                \"task--cbe7f332-b393-4a84-827b-69d07dc3c848\",\n",
      "                \"task--8b50a1b9-c227-47b6-8e0c-97f2a493171d\"\n",
      "            ],\n",
      "            \"other_object_refs\": [\n",
      "                \"email-addr--eb38d07e-6ba8-56c1-b107-d4db4aacf212\",\n",
      "                \"email-addr--4722424c-7012-56b0-84d5-01d076fc547b\",\n",
      "                \"user-account--597ad4d4-35ba-585d-8f6d-134a75032f9b\",\n",
      "                \"identity--9ff40376-63a4-4707-be1b-aa704dcf8434\",\n",
      "                \"identity--0e005516-4d26-45b7-a00b-332fe63966d5\",\n",
      "                \"url--3279c7de-8f91-5c1a-99d9-d6546c6c41f7\",\n",
      "                \"email-message--6090e3d4-1fa8-5b36-9d2d-4a66d824995d\",\n",
      "                \"observed-data--238e15ab-149e-49bb-a516-7bb28082f9df\",\n",
      "                \"indicator--18fe5c9a-1410-4c53-80f1-f42554be016b\",\n",
      "                \"sighting--6c836ab4-803d-4c66-a426-0efcd2bfe24b\",\n",
      "                \"relationship--6014caa7-daf8-463b-859a-b6864a0afc64\",\n",
      "                \"identity--c0f33394-c5d9-4e1f-8b65-f6cae8351831\",\n",
      "                \"anecdote--e1298bc0-818e-5cdb-9154-eac37c8e260f\",\n",
      "                \"observed-data--cc4642ab-9cd3-4292-a9fd-29fd2eccd1b5\",\n",
      "                \"sighting--bd3556e1-ca81-4c56-b5fe-5d193ab6acb9\"\n",
      "            ]\n",
      "        },\n",
      "        \"icon\": \"incident-ext\",\n",
      "        \"name\": \"Incident Extension\",\n",
      "        \"heading\": \"Incident Extension\",\n",
      "        \"description\": \"\",\n",
      "        \"object_form\": \"incident\",\n",
      "        \"object_group\": \"sdo-forms\",\n",
      "        \"object_family\": \"stix-forms\"\n",
      "    },\n",
      "    {\n",
      "        \"id\": \"incident--d1cdb31f-8e54-4bdd-b3f9-ce9d0c94acc8\",\n",
      "        \"type\": \"incident\",\n",
      "        \"original\": {\n",
      "            \"type\": \"incident\",\n",
      "            \"spec_version\": \"2.1\",\n",
      "            \"id\": \"incident--d1cdb31f-8e54-4bdd-b3f9-ce9d0c94acc8\",\n",
      "            \"created\": \"2025-04-07T05:14:04.68Z\",\n",
      "            \"modified\": \"2025-04-07T05:14:04.68Z\",\n",
      "            \"name\": \"potential phishing\",\n",
      "            \"extensions\": {\n",
      "                \"extension-definition--ef765651-680c-498d-9894-99799f2fa126\": {\n",
      "                    \"extension_type\": \"property-extension\",\n",
      "                    \"investigation_status\": \"new\",\n",
      "                    \"incident_types\": [\n",
      "                        \"dissemination-phishing-emails\"\n",
      "                    ],\n",
      "                    \"other_object_refs\": [\n",
      "                        \"email-addr--eb38d07e-6ba8-56c1-b107-d4db4aacf212\",\n",
      "                        \"email-addr--4722424c-7012-56b0-84d5-01d076fc547b\",\n",
      "                        \"user-account--597ad4d4-35ba-585d-8f6d-134a75032f9b\",\n",
      "                        \"identity--9ff40376-63a4-4707-be1b-aa704dcf8434\",\n",
      "                        \"identity--0e005516-4d26-45b7-a00b-332fe63966d5\",\n",
      "                        \"url--3279c7de-8f91-5c1a-99d9-d6546c6c41f7\",\n",
      "                        \"email-message--6090e3d4-1fa8-5b36-9d2d-4a66d824995d\",\n",
      "                        \"relationship--6014caa7-daf8-463b-859a-b6864a0afc64\",\n",
      "                        \"observed-data--238e15ab-149e-49bb-a516-7bb28082f9df\",\n",
      "                        \"indicator--18fe5c9a-1410-4c53-80f1-f42554be016b\",\n",
      "                        \"sighting--6c836ab4-803d-4c66-a426-0efcd2bfe24b\",\n",
      "                        \"identity--c0f33394-c5d9-4e1f-8b65-f6cae8351831\",\n",
      "                        \"anecdote--e1298bc0-818e-5cdb-9154-eac37c8e260f\",\n",
      "                        \"observed-data--cc4642ab-9cd3-4292-a9fd-29fd2eccd1b5\",\n",
      "                        \"sighting--bd3556e1-ca81-4c56-b5fe-5d193ab6acb9\"\n",
      "                    ],\n",
      "                    \"event_refs\": [\n",
      "                        \"event--62f28dde-20c2-4d2c-9f20-d16b30823dba\"\n",
      "                    ],\n",
      "                    \"sequence_refs\": [\n",
      "                        \"sequence--5d2b2a10-3266-4e33-bb67-4361e3346eec\",\n",
      "                        \"sequence--d9993cd7-1adb-4c5a-8b99-8eadb63a8aee\",\n",
      "                        \"sequence--bc87fff2-2f6b-4614-b36e-1d2572136fc1\"\n",
      "                    ],\n",
      "                    \"sequence_start_refs\": [\n",
      "                        \"sequence--342a27b1-4830-4e67-af89-1e08b227acb9\",\n",
      "                        \"sequence--487397ef-c515-4276-a6ca-b82e2da2225c\"\n",
      "                    ],\n",
      "                    \"task_refs\": [\n",
      "                        \"task--cbe7f332-b393-4a84-827b-69d07dc3c848\",\n",
      "                        \"task--8b50a1b9-c227-47b6-8e0c-97f2a493171d\"\n",
      "                    ],\n",
      "                    \"impact_refs\": [\n",
      "                        \"impact--6149c82a-fbda-48cc-84e4-60a0f73cfb2c\"\n",
      "                    ]\n",
      "                }\n",
      "            },\n",
      "            \"sequence_start_refs\": [\n",
      "                \"sequence--342a27b1-4830-4e67-af89-1e08b227acb9\",\n",
      "                \"sequence--487397ef-c515-4276-a6ca-b82e2da2225c\"\n",
      "            ],\n",
      "            \"sequence_refs\": [\n",
      "                \"sequence--5d2b2a10-3266-4e33-bb67-4361e3346eec\",\n",
      "                \"sequence--d9993cd7-1adb-4c5a-8b99-8eadb63a8aee\",\n",
      "                \"sequence--bc87fff2-2f6b-4614-b36e-1d2572136fc1\"\n",
      "            ],\n",
      "            \"impact_refs\": [\n",
      "                \"impact--6149c82a-fbda-48cc-84e4-60a0f73cfb2c\"\n",
      "            ],\n",
      "            \"event_refs\": [\n",
      "                \"event--62f28dde-20c2-4d2c-9f20-d16b30823dba\"\n",
      "            ],\n",
      "            \"task_refs\": [\n",
      "                \"task--cbe7f332-b393-4a84-827b-69d07dc3c848\",\n",
      "                \"task--8b50a1b9-c227-47b6-8e0c-97f2a493171d\"\n",
      "            ],\n",
      "            \"other_object_refs\": [\n",
      "                \"email-addr--eb38d07e-6ba8-56c1-b107-d4db4aacf212\",\n",
      "                \"email-addr--4722424c-7012-56b0-84d5-01d076fc547b\",\n",
      "                \"user-account--597ad4d4-35ba-585d-8f6d-134a75032f9b\",\n",
      "                \"identity--9ff40376-63a4-4707-be1b-aa704dcf8434\",\n",
      "                \"identity--0e005516-4d26-45b7-a00b-332fe63966d5\",\n",
      "                \"url--3279c7de-8f91-5c1a-99d9-d6546c6c41f7\",\n",
      "                \"email-message--6090e3d4-1fa8-5b36-9d2d-4a66d824995d\",\n",
      "                \"observed-data--238e15ab-149e-49bb-a516-7bb28082f9df\",\n",
      "                \"indicator--18fe5c9a-1410-4c53-80f1-f42554be016b\",\n",
      "                \"sighting--6c836ab4-803d-4c66-a426-0efcd2bfe24b\",\n",
      "                \"relationship--6014caa7-daf8-463b-859a-b6864a0afc64\",\n",
      "                \"identity--c0f33394-c5d9-4e1f-8b65-f6cae8351831\",\n",
      "                \"anecdote--e1298bc0-818e-5cdb-9154-eac37c8e260f\",\n",
      "                \"observed-data--cc4642ab-9cd3-4292-a9fd-29fd2eccd1b5\",\n",
      "                \"sighting--bd3556e1-ca81-4c56-b5fe-5d193ab6acb9\"\n",
      "            ]\n",
      "        },\n",
      "        \"icon\": \"incident-ext\",\n",
      "        \"name\": \"Incident Extension\",\n",
      "        \"heading\": \"Incident Extension\",\n",
      "        \"description\": \"\",\n",
      "        \"object_form\": \"incident\",\n",
      "        \"object_group\": \"sdo-forms\",\n",
      "        \"object_family\": \"stix-forms\"\n",
      "    }\n",
      "]\n"
     ]
    }
   ],
   "source": [
    "from Block_Families.OS_Triage.Open_Incident.get_all_incidents import get_all_incidents\n",
    "import json\n",
    "test = get_all_incidents()\n",
    "test_string = json.dumps(test, indent=4)\n",
    "print(test_string)"
   ]
  },
  {
   "cell_type": "code",
   "execution_count": null,
   "outputs": [],
   "source": [],
   "metadata": {
    "collapsed": false
   }
  }
 ],
 "metadata": {
  "kernelspec": {
   "display_name": "Python 3",
   "language": "python",
   "name": "python3"
  },
  "language_info": {
   "codemirror_mode": {
    "name": "ipython",
    "version": 2
   },
   "file_extension": ".py",
   "mimetype": "text/x-python",
   "name": "python",
   "nbconvert_exporter": "python",
   "pygments_lexer": "ipython2",
   "version": "2.7.6"
  }
 },
 "nbformat": 4,
 "nbformat_minor": 0
}
