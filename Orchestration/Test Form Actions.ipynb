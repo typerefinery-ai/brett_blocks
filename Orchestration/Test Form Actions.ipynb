{
 "cells": [
  {
   "cell_type": "code",
   "execution_count": 1,
   "metadata": {
    "collapsed": true,
    "ExecuteTime": {
     "end_time": "2024-09-21T09:20:47.464911500Z",
     "start_time": "2024-09-21T09:20:47.034940300Z"
    }
   },
   "outputs": [],
   "source": [
    "import sys\n",
    "sys.path.append('../')\n",
    "import os\n",
    "import logging\n",
    "logger = logging.getLogger(__name__)\n",
    "logger.setLevel(logging.INFO)\n",
    "from Utilities.local_make_general import invoke_get_relationship_type_block\n",
    "\n",
    "from Block_Families.General._library.convert_n_and_e import convert_node, convert_relns, convert_sighting"
   ]
  },
  {
   "cell_type": "code",
   "execution_count": 2,
   "outputs": [
    {
     "name": "stdout",
     "output_type": "stream",
     "text": [
      "result_dict->{'reln_type_list': ['derived-from', 'duplicate-of', 'related-to'], 'reln_form_values': {}}\n"
     ]
    }
   ],
   "source": [
    "\n",
    "context_base = \"../Orchestration/generated/os-triage/context_mem\"\n",
    "results_base = \"../Orchestration/Results/\"\n",
    "source_path = results_base + \"step1/THREAT__url.json\"\n",
    "target_path = results_base + \"step1/SUSS__email_msg.json\"\n",
    "results_path = results_base + \"step1/SRO_Types.json\"\n",
    "\n",
    "result_dict = invoke_get_relationship_type_block(source_path, target_path, results_path)\n",
    "print(f\"result_dict->{result_dict}\")"
   ],
   "metadata": {
    "collapsed": false,
    "ExecuteTime": {
     "end_time": "2024-09-21T09:20:47.525732400Z",
     "start_time": "2024-09-21T09:20:47.466910Z"
    }
   }
  }
 ],
 "metadata": {
  "kernelspec": {
   "display_name": "Python 3",
   "language": "python",
   "name": "python3"
  },
  "language_info": {
   "codemirror_mode": {
    "name": "ipython",
    "version": 2
   },
   "file_extension": ".py",
   "mimetype": "text/x-python",
   "name": "python",
   "nbconvert_exporter": "python",
   "pygments_lexer": "ipython2",
   "version": "2.7.6"
  }
 },
 "nbformat": 4,
 "nbformat_minor": 0
}
