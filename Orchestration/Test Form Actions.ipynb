{
 "cells": [
  {
   "cell_type": "markdown",
   "metadata": {
    "collapsed": false
   },
   "source": [
    "# Tests to check UI blocks\n",
    "\n",
    "\n",
    "\n",
    "## 1. Setup Imports"
   ]
  },
  {
   "cell_type": "code",
   "execution_count": 1,
   "metadata": {
    "collapsed": false,
    "ExecuteTime": {
     "end_time": "2025-07-07T09:16:43.616906300Z",
     "start_time": "2025-07-07T09:16:42.523115300Z"
    }
   },
   "outputs": [],
   "source": [
    "\n",
    "import sys\n",
    "sys.path.append('../')\n",
    "import os\n",
    "import logging\n",
    "logger = logging.getLogger(__name__)\n",
    "logger.setLevel(logging.INFO)\n",
    "from Utilities.local_make_general import invoke_get_relationship_type_block\n",
    "from Utilities.local_make_general import invoke_get_connection_type_block\n",
    "from Utilities.local_make_general import invoke_get_connections_block\n",
    "from Utilities.local_make_general import invoke_rmb_tree_copy\n",
    "from Utilities.local_make_general import invoke_rmb_tree_editDAG\n",
    "from Utilities.local_make_general import invoke_get_default_incident_objects_block\n",
    "from Block_Families.OS_Triage.Open_Incident.get_default_incidents_objects import get_default_incidents_objects\n",
    "from Block_Families.OS_Triage.Open_Incident.get_all_incidents import get_all_incidents\n",
    "import json\n",
    "\n",
    "\n",
    "from Block_Families.General._library.convert_n_and_e import convert_node, convert_relns, convert_sighting\n",
    "\n",
    "context_base = \"../Orchestration/generated/os-triage/context_mem\"\n",
    "results_base = \"../Orchestration/Results/\"\n",
    "object_base = \"../Block_Families/StixORM/\"\n",
    "os_triage_base = \"../Block_Families/OS_Triage/\""
   ]
  },
  {
   "cell_type": "markdown",
   "metadata": {
    "collapsed": false
   },
   "source": [
    "## 2. Test \"Get Relationship Type Block\""
   ]
  },
  {
   "cell_type": "code",
   "execution_count": 2,
   "metadata": {
    "collapsed": false,
    "ExecuteTime": {
     "end_time": "2025-07-07T09:16:43.662430100Z",
     "start_time": "2025-07-07T09:16:43.617906200Z"
    }
   },
   "outputs": [
    {
     "name": "stdout",
     "output_type": "stream",
     "text": [
      "result_dict->{'relationship_type_list': ['derived-from', 'duplicate-of', 'related-to'], 'reln_form_values': {'source_ref': 'url--3279c7de-8f91-5c1a-99d9-d6546c6c41f7', 'target_ref': 'email-message--6090e3d4-1fa8-5b36-9d2d-4a66d824995d'}}\n"
     ]
    }
   ],
   "source": [
    "#\n",
    "source_path = results_base + \"step1/THREAT__url.json\"\n",
    "target_path = results_base + \"step1/SUSS__email_msg.json\"\n",
    "results_path = results_base + \"step1/SRO_Types.json\"\n",
    "\n",
    "result_dict = invoke_get_relationship_type_block(source_path, target_path, results_path)\n",
    "print(f\"result_dict->{result_dict}\")"
   ]
  },
  {
   "cell_type": "markdown",
   "metadata": {
    "collapsed": false
   },
   "source": [
    "# 2.B Test \"Get Connection Type Block\""
   ]
  },
  {
   "cell_type": "code",
   "execution_count": 3,
   "metadata": {
    "collapsed": false,
    "ExecuteTime": {
     "end_time": "2025-07-07T09:16:43.733655600Z",
     "start_time": "2025-07-07T09:16:43.665778900Z"
    }
   },
   "outputs": [
    {
     "name": "stdout",
     "output_type": "stream",
     "text": [
      "result_dict->{'connection_field_list': ['from_ref', 'sender_ref', 'to_refs', 'cc_refs', 'bcc_refs'], 'connect_objects': {'source_ref': 'email-message--6090e3d4-1fa8-5b36-9d2d-4a66d824995d', 'target_ref': 'email-addr--eb38d07e-6ba8-56c1-b107-d4db4aacf212'}}\n"
     ]
    }
   ],
   "source": [
    "\n",
    "source_path = results_base +\"step1/SUSS__email_msg.json\"\n",
    "target_path = results_base + \"step1/THREAT____email.json\"\n",
    "results_path = results_base + \"step1/SRO_Types.json\"\n",
    "\n",
    "result_dict = invoke_get_connection_type_block(source_path, target_path, results_path)\n",
    "print(f\"result_dict->{result_dict}\")"
   ]
  },
  {
   "cell_type": "markdown",
   "metadata": {
    "collapsed": false
   },
   "source": [
    "## 3. Test Tree RMB Menu - Copy"
   ]
  },
  {
   "cell_type": "code",
   "execution_count": 4,
   "metadata": {
    "collapsed": false,
    "ExecuteTime": {
     "end_time": "2025-07-07T09:16:43.748641800Z",
     "start_time": "2025-07-07T09:16:43.695779700Z"
    }
   },
   "outputs": [
    {
     "name": "stdout",
     "output_type": "stream",
     "text": [
      "input data->{'tree_object': {'id': 'sighting--3b8ee097-281c-4093-85e1-b8e8ee326c27', 'type': 'sighting', 'original': {'type': 'sighting', 'spec_version': '2.1', 'id': 'sighting--3b8ee097-281c-4093-85e1-b8e8ee326c27', 'created': '2024-08-21T10:08:44.987Z', 'modified': '2024-08-21T10:08:44.987Z', 'count': 1, 'sighting_of_ref': 'indicator--198740d5-dde1-4310-8ab4-5c2f82aef6b8', 'observed_data_refs': ['observed-data--39fb32f8-97d9-4f62-b084-3726f3dbe56b'], 'where_sighted_refs': ['identity--ea44a8db-cf67-4743-b193-6ce0ffe54fdb'], 'extensions': {'sighting-alert': {'name': 'user-report', 'log': 'I have found a suspicious email', 'system_id': 'XYZ-1234', 'source': 'user submission'}, 'extension-definition--0d76d6d9-16ca-43fd-bd41-4f800ba8fc43': {'extension_type': 'property-extension'}}}, 'icon': 'sighting-alert', 'name': 'Sighting-Alert', 'heading': 'Sighting-Alert', 'description': 'Sighting of indicator<br>Where Sighted -> identity', 'edge': 'other_object_refs', 'children': [{'id': 'observed-data--39fb32f8-97d9-4f62-b084-3726f3dbe56b', 'type': 'observed-data', 'original': {'type': 'observed-data', 'spec_version': '2.1', 'id': 'observed-data--39fb32f8-97d9-4f62-b084-3726f3dbe56b', 'created': '2024-08-21T10:08:44.870Z', 'modified': '2024-08-21T10:08:44.870Z', 'first_observed': '2020-10-19T01:01:01Z', 'last_observed': '2020-10-19T01:01:01Z', 'number_observed': 1, 'object_refs': ['email-addr--eb38d07e-6ba8-56c1-b107-d4db4aacf212', 'user-account--597ad4d4-35ba-585d-8f6d-134a75032f9b', 'email-addr--4722424c-7012-56b0-84d5-01d076fc547b', 'url--3279c7de-8f91-5c1a-99d9-d6546c6c41f7', 'email-message--6090e3d4-1fa8-5b36-9d2d-4a66d824995d', 'relationship--20bf102b-8822-4063-b0fc-dd8363d98502']}, 'icon': 'observed-data', 'name': 'Observed Data', 'heading': 'Observed Data', 'description': '<br>First Observed -> 2020-10-19T01:01:01Z, Last Observed -> 2020-10-19T01:01:01Z', 'edge': 'observed_data_refs', 'children': [{'id': 'email-addr--eb38d07e-6ba8-56c1-b107-d4db4aacf212', 'type': 'email-addr', 'original': {'type': 'email-addr', 'spec_version': '2.1', 'id': 'email-addr--eb38d07e-6ba8-56c1-b107-d4db4aacf212', 'value': 'evil@northkorea.nk', 'display_name': 'Bad Man'}, 'icon': 'email-addr', 'name': 'Email Address', 'heading': 'Email Address -> Bad Man', 'description': '<br>Value -> evil@northkorea.nk'}, {'id': 'user-account--597ad4d4-35ba-585d-8f6d-134a75032f9b', 'type': 'user-account', 'original': {'type': 'user-account', 'spec_version': '2.1', 'id': 'user-account--597ad4d4-35ba-585d-8f6d-134a75032f9b', 'user_id': '79563902', 'account_login': 'nsmith', 'account_type': 'sales,', 'display_name': 'Naive Smith'}, 'icon': 'user-account', 'name': 'User Account', 'heading': 'User Account', 'description': '<br>Display Name -> Naive Smith<br>Account Type -> sales,, User ID -> 79563902<br>Login String ->nsmith'}, {'id': 'email-addr--4722424c-7012-56b0-84d5-01d076fc547b', 'type': 'email-addr', 'original': {'type': 'email-addr', 'spec_version': '2.1', 'id': 'email-addr--4722424c-7012-56b0-84d5-01d076fc547b', 'value': 'naive@example.com', 'display_name': 'Naive Smith', 'belongs_to_ref': 'user-account--597ad4d4-35ba-585d-8f6d-134a75032f9b'}, 'icon': 'email-addr', 'name': 'Email Address', 'heading': 'Email Address -> Naive Smith', 'description': '<br>Value -> naive@example.com'}, {'id': 'url--3279c7de-8f91-5c1a-99d9-d6546c6c41f7', 'type': 'url', 'original': {'type': 'url', 'spec_version': '2.1', 'id': 'url--3279c7de-8f91-5c1a-99d9-d6546c6c41f7', 'value': 'https://www.northkorea.nk/we/are/mad/'}, 'icon': 'url', 'name': 'URL', 'heading': 'URL', 'description': '<br>Value -> https://www.northkorea.nk/we/are/mad/'}, {'id': 'email-message--6090e3d4-1fa8-5b36-9d2d-4a66d824995d', 'type': 'email-message', 'original': {'type': 'email-message', 'spec_version': '2.1', 'id': 'email-message--6090e3d4-1fa8-5b36-9d2d-4a66d824995d', 'is_multipart': False, 'date': '2020-10-19T01:01:01Z', 'from_ref': 'email-addr--eb38d07e-6ba8-56c1-b107-d4db4aacf212', 'to_refs': ['email-addr--4722424c-7012-56b0-84d5-01d076fc547b'], 'subject': 'we are coming for you', 'body': 'some bad stuff written here'}, 'icon': 'email-message', 'name': 'Email Message', 'heading': 'Email Message', 'description': '<br>Subject -> we are coming for you, Date -> 2020-10-19T01:01:01Z<br>Body -> some bad stuff written here'}, {'id': 'relationship--20bf102b-8822-4063-b0fc-dd8363d98502', 'original': {'type': 'relationship', 'spec_version': '2.1', 'id': 'relationship--20bf102b-8822-4063-b0fc-dd8363d98502', 'created': '2024-08-21T10:08:44.824Z', 'modified': '2024-08-21T10:08:44.824Z', 'relationship_type': 'derived-from', 'source_ref': 'email-message--6090e3d4-1fa8-5b36-9d2d-4a66d824995d', 'target_ref': 'url--3279c7de-8f91-5c1a-99d9-d6546c6c41f7'}, 'name': 'Derived-From', 'heading': 'Derived-From - SRO', 'description': '<br>Result -> Email-Message<br>Raw-Material -> Url', 'type': 'relationship', 'icon': 'relationship'}]}, {'id': 'indicator--198740d5-dde1-4310-8ab4-5c2f82aef6b8', 'type': 'indicator', 'original': {'type': 'indicator', 'spec_version': '2.1', 'id': 'indicator--198740d5-dde1-4310-8ab4-5c2f82aef6b8', 'created': '2024-08-21T10:08:44.919Z', 'modified': '2024-08-21T10:08:44.919Z', 'name': 'Potential Phishing Email', 'description': 'Suspicious email reported by user', 'indicator_types': ['unknown'], 'pattern': \"[email-addr:value = 'evil@northkorea.nk' AND email:subject = 'we are coming for you']\", 'pattern_type': 'stix', 'pattern_version': '2.1', 'valid_from': '2024-08-21T10:08:44.919Z'}, 'icon': 'indicator', 'name': 'Indicator', 'heading': 'Indicator - Potential Phishing Email', 'description': \"<br>Suspicious email reported by user<br>Pattern Type -> stixIndicator Types -> ['unknown']<br>Pattern -> [email-addr:value = 'evil@northkorea.nk' AND email:subject = 'we are coming for you']\", 'edge': 'sighting_of_ref'}, {'id': 'identity--ea44a8db-cf67-4743-b193-6ce0ffe54fdb', 'type': 'identity', 'original': {'type': 'identity', 'spec_version': '2.1', 'id': 'identity--ea44a8db-cf67-4743-b193-6ce0ffe54fdb', 'created': '2024-08-21T10:08:32.946Z', 'modified': '2024-08-21T10:08:32.946Z', 'name': 'Naive Smith', 'description': 'A Naive Individual', 'roles': ['user', 'sales'], 'identity_class': 'individual', 'sectors': ['technology'], 'extensions': {'extension-definition--66e2492a-bbd3-4be6-88f5-cc91a017a498': {'extension_type': 'property-extension', 'contact_numbers': [{'contact_number_type': 'work-phone', 'contact_number': '0499-999-109'}], 'email_addresses': [{'digital_contact_type': 'work', 'email_address_ref': 'email-addr--4722424c-7012-56b0-84d5-01d076fc547b'}], 'first_name': 'Naive', 'last_name': 'Smith', 'middle_name': 'Weakling', 'prefix': 'Mr', 'social_media_accounts': [{'digital_contact_type': 'work', 'user_account_ref': 'user-account--597ad4d4-35ba-585d-8f6d-134a75032f9b'}], 'team': 'Sales'}}}, 'icon': 'identity-contact', 'name': 'Individual', 'heading': 'Individual - Naive Smith', 'description': '<br>A Naive Individual', 'edge': 'sighting_of_ref'}]}}\n",
      "result_dict->{'context_result': 'tree object saved to unattached context - \\nstix_id -> sighting--3b8ee097-281c-4093-85e1-b8e8ee326c27'}\n"
     ]
    }
   ],
   "source": [
    "#\n",
    "source_path = os_triage_base + \"Mouse/rmb_tree_data.json\"\n",
    "results_path = results_base + \"step1/rmb_tree_copy.json\"\n",
    "\n",
    "result_dict = invoke_rmb_tree_copy(source_path, results_path)\n",
    "print(f\"result_dict->{result_dict}\")"
   ]
  },
  {
   "cell_type": "markdown",
   "metadata": {
    "collapsed": false
   },
   "source": [
    "## 4. Tree RMB Menu - Edit DAG"
   ]
  },
  {
   "cell_type": "code",
   "execution_count": 5,
   "metadata": {
    "collapsed": false,
    "ExecuteTime": {
     "end_time": "2025-07-07T09:16:43.918813200Z",
     "start_time": "2025-07-07T09:16:43.749641500Z"
    }
   },
   "outputs": [
    {
     "name": "stdout",
     "output_type": "stream",
     "text": [
      "input object, object id -> email-addr--eb38d07e-6ba8-56c1-b107-d4db4aacf212\n",
      "===================================================\n",
      "\n",
      "input object, object id -> user-account--597ad4d4-35ba-585d-8f6d-134a75032f9b\n",
      "===================================================\n",
      "\n",
      "input object, object id -> email-addr--4722424c-7012-56b0-84d5-01d076fc547b\n",
      "===================================================\n",
      "\n",
      "input object, object id -> url--3279c7de-8f91-5c1a-99d9-d6546c6c41f7\n",
      "===================================================\n",
      "\n",
      "input object, object id -> email-message--6090e3d4-1fa8-5b36-9d2d-4a66d824995d\n",
      "===================================================\n",
      "\n",
      "input object, object id -> relationship--20bf102b-8822-4063-b0fc-dd8363d98502\n",
      "===================================================\n",
      "\n",
      "input object, object id -> observed-data--39fb32f8-97d9-4f62-b084-3726f3dbe56b\n",
      "===================================================\n",
      "\n",
      "input object, object id -> indicator--198740d5-dde1-4310-8ab4-5c2f82aef6b8\n",
      "===================================================\n",
      "\n",
      "input object, object id -> identity--ea44a8db-cf67-4743-b193-6ce0ffe54fdb\n",
      "===================================================\n",
      "\n",
      "input object, object id -> sighting--3b8ee097-281c-4093-85e1-b8e8ee326c27\n",
      "===================================================\n",
      "\n",
      "result_dict->{'context_result': \"tree object saved to unattached context - \\nstix_id's -> ['email-addr--eb38d07e-6ba8-56c1-b107-d4db4aacf212', 'user-account--597ad4d4-35ba-585d-8f6d-134a75032f9b', 'email-addr--4722424c-7012-56b0-84d5-01d076fc547b', 'url--3279c7de-8f91-5c1a-99d9-d6546c6c41f7', 'email-message--6090e3d4-1fa8-5b36-9d2d-4a66d824995d', 'relationship--20bf102b-8822-4063-b0fc-dd8363d98502', 'observed-data--39fb32f8-97d9-4f62-b084-3726f3dbe56b', 'indicator--198740d5-dde1-4310-8ab4-5c2f82aef6b8', 'identity--ea44a8db-cf67-4743-b193-6ce0ffe54fdb', 'sighting--3b8ee097-281c-4093-85e1-b8e8ee326c27']\"}\n"
     ]
    }
   ],
   "source": [
    "\n",
    "context_base = \"../Orchestration/generated/os-triage/context_mem\"\n",
    "results_base = \"../Orchestration/Results/\"\n",
    "object_base = \"../Block_Families/StixORM/\"\n",
    "os_triage_base = \"../Block_Families/OS_Triage/\"\n",
    "#\n",
    "source_path = os_triage_base + \"Mouse/rmb_tree_data.json\"\n",
    "results_path = results_base + \"step1/rmb_tree_edit_DAG.json\"\n",
    "\n",
    "result_dict = invoke_rmb_tree_editDAG(source_path, results_path)\n",
    "print(f\"result_dict->{result_dict}\")"
   ]
  },
  {
   "cell_type": "markdown",
   "metadata": {
    "collapsed": false
   },
   "source": [
    "# 5. Get default incident"
   ]
  },
  {
   "cell_type": "code",
   "execution_count": 6,
   "metadata": {
    "collapsed": false,
    "ExecuteTime": {
     "end_time": "2025-07-07T09:16:43.931345900Z",
     "start_time": "2025-07-07T09:16:43.907810300Z"
    }
   },
   "outputs": [
    {
     "name": "stdout",
     "output_type": "stream",
     "text": [
      "result_dict->[{'id': 'incident--6d52a48a-c174-40cf-9a92-69422159a75b', 'type': 'incident', 'original': {'type': 'incident', 'spec_version': '2.1', 'id': 'incident--6d52a48a-c174-40cf-9a92-69422159a75b', 'created': '2025-07-07T04:28:45.928Z', 'modified': '2025-07-07T04:28:45.928Z', 'name': 'potential phishing', 'extensions': {'extension-definition--ef765651-680c-498d-9894-99799f2fa126': {'extension_type': 'property-extension', 'investigation_status': 'new', 'incident_types': ['dissemination-phishing-emails'], 'other_object_refs': ['email-addr--eb38d07e-6ba8-56c1-b107-d4db4aacf212', 'email-addr--4722424c-7012-56b0-84d5-01d076fc547b', 'user-account--597ad4d4-35ba-585d-8f6d-134a75032f9b', 'identity--869ba25e-3dbb-4e1c-b2f7-55e480f501f4', 'identity--bcb5d0d5-80b4-43bf-856f-180fc274169b', 'url--3279c7de-8f91-5c1a-99d9-d6546c6c41f7', 'email-message--6090e3d4-1fa8-5b36-9d2d-4a66d824995d', 'relationship--584b96dc-0dad-4db9-9005-9280ddc61263', 'observed-data--fbbe550d-2b3e-44e2-be8f-8e22f0172db6', 'indicator--e9eea779-6a78-4a19-8c91-f07efbad06c9', 'sighting--2177e689-9d1e-4da9-b0c8-dd6715f8f430', 'identity--eba479d4-5f39-436f-b0e5-5d001f2ea632', 'anecdote--e1298bc0-818e-5cdb-9154-eac37c8e260f', 'observed-data--ccaa6ee7-f5ff-4fe3-8969-d282c1210694', 'sighting--462dcea7-1c1a-43ac-96ce-0234bafb97f4'], 'event_refs': ['event--71966765-87dd-4fb5-abd5-5ef8ed373023'], 'sequence_refs': ['sequence--a5ee5b06-16a4-4cbe-ad59-f4930c075828', 'sequence--f74a35c6-fd81-4e98-bca7-d958a09e1961', 'sequence--7a6a71ad-351d-4fd0-af5e-70ddc29b1716'], 'sequence_start_refs': ['sequence--dde400f9-636c-4b93-a264-e047aab7cb49', 'sequence--8d8e2b5c-8cb3-4149-b777-c9a382003340'], 'task_refs': ['task--ea191634-3264-41d0-93c3-1a4f4f90f0df', 'task--b148b218-b5a7-4773-9225-be59584d95f2'], 'impact_refs': ['impact--85e1bd8c-6fbf-4f12-bc01-217f1aaa5b11']}}, 'sequence_start_refs': ['sequence--dde400f9-636c-4b93-a264-e047aab7cb49', 'sequence--8d8e2b5c-8cb3-4149-b777-c9a382003340'], 'sequence_refs': ['sequence--a5ee5b06-16a4-4cbe-ad59-f4930c075828', 'sequence--f74a35c6-fd81-4e98-bca7-d958a09e1961', 'sequence--7a6a71ad-351d-4fd0-af5e-70ddc29b1716'], 'impact_refs': ['impact--85e1bd8c-6fbf-4f12-bc01-217f1aaa5b11'], 'event_refs': ['event--71966765-87dd-4fb5-abd5-5ef8ed373023'], 'task_refs': ['task--ea191634-3264-41d0-93c3-1a4f4f90f0df', 'task--b148b218-b5a7-4773-9225-be59584d95f2'], 'other_object_refs': ['email-addr--eb38d07e-6ba8-56c1-b107-d4db4aacf212', 'email-addr--4722424c-7012-56b0-84d5-01d076fc547b', 'user-account--597ad4d4-35ba-585d-8f6d-134a75032f9b', 'identity--869ba25e-3dbb-4e1c-b2f7-55e480f501f4', 'identity--bcb5d0d5-80b4-43bf-856f-180fc274169b', 'url--3279c7de-8f91-5c1a-99d9-d6546c6c41f7', 'email-message--6090e3d4-1fa8-5b36-9d2d-4a66d824995d', 'observed-data--fbbe550d-2b3e-44e2-be8f-8e22f0172db6', 'indicator--e9eea779-6a78-4a19-8c91-f07efbad06c9', 'sighting--2177e689-9d1e-4da9-b0c8-dd6715f8f430', 'identity--eba479d4-5f39-436f-b0e5-5d001f2ea632', 'anecdote--e1298bc0-818e-5cdb-9154-eac37c8e260f', 'observed-data--ccaa6ee7-f5ff-4fe3-8969-d282c1210694', 'sighting--462dcea7-1c1a-43ac-96ce-0234bafb97f4']}, 'icon': 'incident-ext', 'name': 'Incident Extension', 'heading': 'Incident Extension', 'description': '', 'object_form': 'incident', 'object_group': 'sdo-forms', 'object_family': 'stix-forms'}, {'id': 'sequence--dde400f9-636c-4b93-a264-e047aab7cb49', 'type': 'sequence', 'original': {'type': 'sequence', 'spec_version': '2.1', 'id': 'sequence--dde400f9-636c-4b93-a264-e047aab7cb49', 'created': '2025-07-07T04:28:47.225Z', 'modified': '2025-07-07T04:28:47.225Z', 'sequence_type': 'event', 'step_type': 'start_step', 'on_completion': 'sequence--a5ee5b06-16a4-4cbe-ad59-f4930c075828', 'extensions': {'extension-definition--be0c7c79-1961-43db-afde-637066a87a64': {'extension_type': 'new-sdo'}}}, 'icon': 'step-terminal', 'name': 'Start Step', 'heading': 'Start Step for Event', 'description': '', 'object_form': 'sequence', 'object_group': 'sdo-forms', 'object_family': 'extension-forms'}, {'id': 'sequence--8d8e2b5c-8cb3-4149-b777-c9a382003340', 'type': 'sequence', 'original': {'type': 'sequence', 'spec_version': '2.1', 'id': 'sequence--8d8e2b5c-8cb3-4149-b777-c9a382003340', 'created': '2025-07-07T04:28:47.549Z', 'modified': '2025-07-07T04:28:47.549Z', 'sequence_type': 'task', 'step_type': 'start_step', 'on_completion': 'sequence--f74a35c6-fd81-4e98-bca7-d958a09e1961', 'extensions': {'extension-definition--be0c7c79-1961-43db-afde-637066a87a64': {'extension_type': 'new-sdo'}}}, 'icon': 'step-terminal', 'name': 'Start Step', 'heading': 'Start Step for Task', 'description': '', 'object_form': 'sequence', 'object_group': 'sdo-forms', 'object_family': 'extension-forms'}, {'id': 'sequence--a5ee5b06-16a4-4cbe-ad59-f4930c075828', 'type': 'sequence', 'original': {'type': 'sequence', 'spec_version': '2.1', 'id': 'sequence--a5ee5b06-16a4-4cbe-ad59-f4930c075828', 'created': '2025-07-07T04:28:47.118Z', 'modified': '2025-07-07T04:28:47.118Z', 'sequenced_object': 'event--71966765-87dd-4fb5-abd5-5ef8ed373023', 'sequence_type': 'event', 'step_type': 'single_step', 'extensions': {'extension-definition--be0c7c79-1961-43db-afde-637066a87a64': {'extension_type': 'new-sdo'}}}, 'icon': 'step-single', 'name': 'Single Step', 'heading': 'Single Step for Event', 'description': '', 'object_form': 'sequence', 'object_group': 'sdo-forms', 'object_family': 'extension-forms'}, {'id': 'sequence--f74a35c6-fd81-4e98-bca7-d958a09e1961', 'type': 'sequence', 'original': {'type': 'sequence', 'spec_version': '2.1', 'id': 'sequence--f74a35c6-fd81-4e98-bca7-d958a09e1961', 'created': '2025-07-07T04:28:47.420Z', 'modified': '2025-07-07T04:28:47.420Z', 'sequenced_object': 'task--ea191634-3264-41d0-93c3-1a4f4f90f0df', 'sequence_type': 'task', 'step_type': 'single_step', 'extensions': {'extension-definition--be0c7c79-1961-43db-afde-637066a87a64': {'extension_type': 'new-sdo'}}}, 'icon': 'step-single', 'name': 'Single Step', 'heading': 'Single Step for Task', 'description': '', 'object_form': 'sequence', 'object_group': 'sdo-forms', 'object_family': 'extension-forms'}, {'id': 'sequence--7a6a71ad-351d-4fd0-af5e-70ddc29b1716', 'type': 'sequence', 'original': {'type': 'sequence', 'spec_version': '2.1', 'id': 'sequence--7a6a71ad-351d-4fd0-af5e-70ddc29b1716', 'created': '2025-07-07T04:29:00.368Z', 'modified': '2025-07-07T04:29:00.368Z', 'sequenced_object': 'task--b148b218-b5a7-4773-9225-be59584d95f2', 'sequence_type': 'task', 'step_type': 'single_step', 'extensions': {'extension-definition--be0c7c79-1961-43db-afde-637066a87a64': {'extension_type': 'new-sdo'}}}, 'icon': 'step-single', 'name': 'Single Step', 'heading': 'Single Step for Task', 'description': '', 'object_form': 'sequence', 'object_group': 'sdo-forms', 'object_family': 'extension-forms'}, {'id': 'impact--85e1bd8c-6fbf-4f12-bc01-217f1aaa5b11', 'type': 'impact', 'original': {'type': 'impact', 'spec_version': '2.1', 'id': 'impact--85e1bd8c-6fbf-4f12-bc01-217f1aaa5b11', 'created': '2025-07-07T04:29:00.140Z', 'modified': '2025-07-07T04:29:00.140Z', 'impact_category': 'availability', 'criticality': 99, 'description': 'Laptop is stuffed', 'end_time': '2025-07-07T04:29:00.140Z', 'impacted_entity_counts': {'computers-mobile': 1}, 'impacted_refs': ['identity--eba479d4-5f39-436f-b0e5-5d001f2ea632'], 'recoverability': 'regular', 'start_time': '2025-07-07T04:29:00.140Z', 'extensions': {'availability': {'availability_impact': 99}, 'extension-definition--7cc33dd6-f6a1-489b-98ea-522d351d71b9': {'extension_type': 'new-sdo'}}}, 'icon': 'impact-availability', 'name': 'Availability Impact', 'heading': 'Availability Impact', 'description': '<br>Laptop is stuffed<br>Total Impact ->99<br>Impacted Entities -> <br>Laptop is stuffed<br>Variety -> 99computers-mobile -> 1', 'object_form': 'impact', 'object_group': 'sdo-forms', 'object_family': 'extension-forms'}, {'id': 'event--71966765-87dd-4fb5-abd5-5ef8ed373023', 'type': 'event', 'original': {'type': 'event', 'spec_version': '2.1', 'id': 'event--71966765-87dd-4fb5-abd5-5ef8ed373023', 'created': '2025-07-07T04:28:47.35Z', 'modified': '2025-07-07T04:28:47.35Z', 'description': 'Suspicious email reported by user', 'end_time': '2025-07-07T04:28:47.35Z', 'event_types': ['dissemination-phishing-emails'], 'name': 'Potential Phishing Email', 'start_time': '2025-07-07T04:28:47.35Z', 'extensions': {'extension-definition--4ca6de00-5b0d-45ef-a1dc-ea7279ea910e': {'extension_type': 'new-sdo'}}}, 'icon': 'event', 'name': 'Event', 'heading': 'Event -> Potential Phishing Email, Status -> ', 'description': '<br>Suspicious email reported by user', 'object_form': 'event', 'object_group': 'sdo-forms', 'object_family': 'extension-forms'}, {'id': 'task--ea191634-3264-41d0-93c3-1a4f4f90f0df', 'type': 'task', 'original': {'type': 'task', 'spec_version': '2.1', 'id': 'task--ea191634-3264-41d0-93c3-1a4f4f90f0df', 'created': '2025-07-07T04:28:47.341Z', 'modified': '2025-07-07T04:28:47.341Z', 'description': 'Suspicious email reported by user', 'end_time': '2025-07-07T04:28:47.341Z', 'name': 'Potential Phishing Email', 'start_time': '2025-07-07T04:28:47.341Z', 'extensions': {'extension-definition--2074a052-8be4-4932-849e-f5e7798e0030': {'extension_type': 'new-sdo'}}}, 'icon': 'task', 'name': 'Task', 'heading': 'Task -> Potential Phishing Email', 'description': '<br>Suspicious email reported by user', 'object_form': 'task', 'object_group': 'sdo-forms', 'object_family': 'extension-forms'}, {'id': 'task--b148b218-b5a7-4773-9225-be59584d95f2', 'type': 'task', 'original': {'type': 'task', 'spec_version': '2.1', 'id': 'task--b148b218-b5a7-4773-9225-be59584d95f2', 'created': '2025-07-07T04:29:00.247Z', 'modified': '2025-07-07T04:29:00.247Z', 'description': 'Find out who else got the email', 'end_time': '2025-07-07T04:29:00.247Z', 'name': 'Query Exchange Server', 'start_time': '2025-07-07T04:29:00.247Z', 'extensions': {'extension-definition--2074a052-8be4-4932-849e-f5e7798e0030': {'extension_type': 'new-sdo'}}}, 'icon': 'task', 'name': 'Task', 'heading': 'Task -> Query Exchange Server', 'description': '<br>Find out who else got the email', 'object_form': 'task', 'object_group': 'sdo-forms', 'object_family': 'extension-forms'}, {'id': 'email-addr--eb38d07e-6ba8-56c1-b107-d4db4aacf212', 'type': 'email-addr', 'original': {'type': 'email-addr', 'spec_version': '2.1', 'id': 'email-addr--eb38d07e-6ba8-56c1-b107-d4db4aacf212', 'value': 'evil@northkorea.nk', 'display_name': 'Bad Man'}, 'icon': 'email-addr', 'name': 'Email Address', 'heading': 'Email Address -> Bad Man', 'description': '<br>Value -> evil@northkorea.nk', 'object_form': 'email-addr', 'object_group': 'sco-forms', 'object_family': 'stix-forms'}, {'id': 'email-addr--4722424c-7012-56b0-84d5-01d076fc547b', 'type': 'email-addr', 'original': {'type': 'email-addr', 'spec_version': '2.1', 'id': 'email-addr--4722424c-7012-56b0-84d5-01d076fc547b', 'value': 'naive@example.com', 'display_name': 'Naive Smith', 'belongs_to_ref': 'user-account--597ad4d4-35ba-585d-8f6d-134a75032f9b'}, 'icon': 'email-addr', 'name': 'Email Address', 'heading': 'Email Address -> Naive Smith', 'description': '<br>Value -> naive@example.com', 'object_form': 'email-addr', 'object_group': 'sco-forms', 'object_family': 'stix-forms'}, {'id': 'user-account--597ad4d4-35ba-585d-8f6d-134a75032f9b', 'type': 'user-account', 'original': {'type': 'user-account', 'spec_version': '2.1', 'id': 'user-account--597ad4d4-35ba-585d-8f6d-134a75032f9b', 'user_id': '79563902', 'account_login': 'nsmith', 'account_type': 'sales,', 'display_name': 'Naive Smith'}, 'icon': 'user-account', 'name': 'User Account', 'heading': 'User Account', 'description': '<br>Display Name -> Naive Smith<br>Account Type -> sales,, User ID -> 79563902<br>Login String ->nsmith', 'object_form': 'user-account', 'object_group': 'sco-forms', 'object_family': 'stix-forms'}, {'id': 'identity--869ba25e-3dbb-4e1c-b2f7-55e480f501f4', 'type': 'identity', 'original': {'type': 'identity', 'spec_version': '2.1', 'id': 'identity--869ba25e-3dbb-4e1c-b2f7-55e480f501f4', 'created': '2025-07-07T04:28:27.312Z', 'modified': '2025-07-07T04:28:27.312Z', 'name': 'Naive Smith', 'description': 'A Naive Individual', 'roles': ['user', 'sales'], 'identity_class': 'individual', 'sectors': ['technology'], 'extensions': {'extension-definition--66e2492a-bbd3-4be6-88f5-cc91a017a498': {'extension_type': 'property-extension', 'contact_numbers': [{'contact_number_type': 'work-phone', 'contact_number': '0499-999-109'}], 'email_addresses': [{'digital_contact_type': 'work', 'email_address_ref': 'email-addr--4722424c-7012-56b0-84d5-01d076fc547b'}], 'first_name': 'Naive', 'last_name': 'Smith', 'middle_name': 'Weakling', 'prefix': 'Mr', 'social_media_accounts': [{'digital_contact_type': 'work', 'user_account_ref': 'user-account--597ad4d4-35ba-585d-8f6d-134a75032f9b'}], 'team': 'Sales'}}}, 'icon': 'identity-contact', 'name': 'Individual', 'heading': 'Individual - Naive Smith', 'description': '<br>A Naive Individual', 'object_form': 'identity', 'object_group': 'sdo-forms', 'object_family': 'stix-forms'}, {'id': 'identity--bcb5d0d5-80b4-43bf-856f-180fc274169b', 'type': 'identity', 'original': {'type': 'identity', 'spec_version': '2.1', 'id': 'identity--bcb5d0d5-80b4-43bf-856f-180fc274169b', 'created': '2025-07-07T04:28:27.68Z', 'modified': '2025-07-07T04:28:27.68Z', 'name': 'Trusty Jones', 'description': 'A Trusty Individual', 'roles': ['soc', 'support'], 'identity_class': 'individual', 'sectors': ['technology'], 'extensions': {'extension-definition--66e2492a-bbd3-4be6-88f5-cc91a017a498': {'extension_type': 'property-extension', 'contact_numbers': [{'contact_number_type': 'work-phone', 'contact_number': '0418-208-368'}], 'email_addresses': [{'digital_contact_type': 'work', 'email_address_ref': 'email-addr--c99b87bd-f0a8-50ca-9f84-68072efc61e3'}], 'first_name': 'Me', 'last_name': 'Jones', 'middle_name': 'Percival', 'prefix': 'Dr', 'social_media_accounts': [{'digital_contact_type': 'work', 'user_account_ref': 'user-account--83658594-537d-5c32-b9f0-137354bd9bc3'}], 'team': 'All_Stars'}}}, 'icon': 'identity-contact', 'name': 'Individual', 'heading': 'Individual - Trusty Jones', 'description': '<br>A Trusty Individual', 'object_form': 'identity', 'object_group': 'sdo-forms', 'object_family': 'stix-forms'}, {'id': 'url--3279c7de-8f91-5c1a-99d9-d6546c6c41f7', 'type': 'url', 'original': {'type': 'url', 'spec_version': '2.1', 'id': 'url--3279c7de-8f91-5c1a-99d9-d6546c6c41f7', 'value': 'https://www.northkorea.nk/we/are/mad/'}, 'icon': 'url', 'name': 'URL', 'heading': 'URL', 'description': '<br>Value -> https://www.northkorea.nk/we/are/mad/', 'object_form': 'url', 'object_group': 'sco-forms', 'object_family': 'stix-forms'}, {'id': 'email-message--6090e3d4-1fa8-5b36-9d2d-4a66d824995d', 'type': 'email-message', 'original': {'type': 'email-message', 'spec_version': '2.1', 'id': 'email-message--6090e3d4-1fa8-5b36-9d2d-4a66d824995d', 'is_multipart': False, 'date': '2020-10-19T01:01:01.000Z', 'from_ref': 'email-addr--eb38d07e-6ba8-56c1-b107-d4db4aacf212', 'to_refs': ['email-addr--4722424c-7012-56b0-84d5-01d076fc547b'], 'subject': 'we are coming for you', 'body': 'some bad stuff written here'}, 'icon': 'email-message', 'name': 'Email Message', 'heading': 'Email Message', 'description': '<br>Subject -> we are coming for you, Date -> 2020-10-19T01:01:01.000Z<br>Body -> some bad stuff written here', 'object_form': 'email-message', 'object_group': 'sco-forms', 'object_family': 'stix-forms'}, {'id': 'observed-data--fbbe550d-2b3e-44e2-be8f-8e22f0172db6', 'type': 'observed-data', 'original': {'type': 'observed-data', 'spec_version': '2.1', 'id': 'observed-data--fbbe550d-2b3e-44e2-be8f-8e22f0172db6', 'created': '2025-07-07T04:28:46.622Z', 'modified': '2025-07-07T04:28:46.622Z', 'first_observed': '2020-10-19T01:01:01.000Z', 'last_observed': '2020-10-19T01:01:01.000Z', 'number_observed': 1, 'object_refs': ['email-addr--eb38d07e-6ba8-56c1-b107-d4db4aacf212', 'user-account--597ad4d4-35ba-585d-8f6d-134a75032f9b', 'email-addr--4722424c-7012-56b0-84d5-01d076fc547b', 'url--3279c7de-8f91-5c1a-99d9-d6546c6c41f7', 'email-message--6090e3d4-1fa8-5b36-9d2d-4a66d824995d', 'relationship--584b96dc-0dad-4db9-9005-9280ddc61263']}, 'icon': 'observed-data', 'name': 'Observed Data', 'heading': 'Observed Data', 'description': '<br>First Observed -> 2020-10-19T01:01:01.000Z, Last Observed -> 2020-10-19T01:01:01.000Z', 'object_form': 'observed-data', 'object_group': 'sdo-forms', 'object_family': 'stix-forms'}, {'id': 'indicator--e9eea779-6a78-4a19-8c91-f07efbad06c9', 'type': 'indicator', 'original': {'type': 'indicator', 'spec_version': '2.1', 'id': 'indicator--e9eea779-6a78-4a19-8c91-f07efbad06c9', 'created': '2025-07-07T04:28:46.797Z', 'modified': '2025-07-07T04:28:46.797Z', 'name': 'Potential Phishing Email', 'description': 'Suspicious email reported by user', 'indicator_types': ['unknown'], 'pattern': \"[email-addr:value = 'evil@northkorea.nk' AND email:subject = 'we are coming for you']\", 'pattern_type': 'stix', 'pattern_version': '2.1', 'valid_from': '2025-07-07T04:28:46.797Z'}, 'icon': 'indicator', 'name': 'Indicator', 'heading': 'Indicator - Potential Phishing Email', 'description': \"<br>Suspicious email reported by user<br>Pattern Type -> stixIndicator Types -> ['unknown']<br>Pattern -> [email-addr:value = 'evil@northkorea.nk' AND email:subject = 'we are coming for you']\", 'object_form': 'indicator', 'object_group': 'sdo-forms', 'object_family': 'stix-forms'}, {'id': 'sighting--2177e689-9d1e-4da9-b0c8-dd6715f8f430', 'type': 'sighting', 'original': {'type': 'sighting', 'spec_version': '2.1', 'id': 'sighting--2177e689-9d1e-4da9-b0c8-dd6715f8f430', 'created': '2025-07-07T04:28:46.907Z', 'modified': '2025-07-07T04:28:46.907Z', 'count': 1, 'sighting_of_ref': 'indicator--e9eea779-6a78-4a19-8c91-f07efbad06c9', 'observed_data_refs': ['observed-data--fbbe550d-2b3e-44e2-be8f-8e22f0172db6'], 'where_sighted_refs': ['identity--869ba25e-3dbb-4e1c-b2f7-55e480f501f4'], 'extensions': {'sighting-alert': {'name': 'user-report', 'log': 'I have found a suspicious email', 'system_id': 'XYZ-1234', 'source': 'user submission'}, 'extension-definition--0d76d6d9-16ca-43fd-bd41-4f800ba8fc43': {'extension_type': 'property-extension'}}}, 'icon': 'sighting-alert', 'name': 'Sighting-Alert', 'heading': 'Sighting-Alert', 'description': 'Sighting of indicator<br>Where Sighted -> identity', 'object_form': 'sighting', 'object_group': 'sro-forms', 'object_family': 'stix-forms'}, {'id': 'identity--eba479d4-5f39-436f-b0e5-5d001f2ea632', 'type': 'identity', 'original': {'type': 'identity', 'spec_version': '2.1', 'id': 'identity--eba479d4-5f39-436f-b0e5-5d001f2ea632', 'created': '2025-07-07T04:28:28.639Z', 'modified': '2025-07-07T04:28:28.639Z', 'name': 'HP Laptop 1', 'description': \"Usr 1's Laptop\", 'roles': ['laptop'], 'identity_class': 'asset', 'sectors': ['technology'], 'external_references': [{'source_name': 'HP Ultima 10', 'description': '16GB RAM, 1TB SD, Microsoft Windows 11 Professional', 'url': 'https://mail.echange.microsoft.com', 'external_id': 'Asset--629456a'}]}, 'icon': 'identity-asset', 'name': 'Hardware Asset', 'heading': 'Hardware Asset - HP Laptop 1', 'description': \"<br>Usr 1's Laptop<br>HP Ultima 10<br>16GB RAM, 1TB SD, Microsoft Windows 11 Professional\", 'object_form': 'identity', 'object_group': 'sdo-forms', 'object_family': 'stix-forms'}, {'id': 'anecdote--e1298bc0-818e-5cdb-9154-eac37c8e260f', 'type': 'anecdote', 'original': {'type': 'anecdote', 'spec_version': '2.1', 'id': 'anecdote--e1298bc0-818e-5cdb-9154-eac37c8e260f', 'value': 'I clicked on the link, and my laptop screen went weird', 'report_date': '2025-07-07T04:28:59.640458Z', 'provided_by_ref': 'identity--869ba25e-3dbb-4e1c-b2f7-55e480f501f4'}, 'icon': 'anecdote', 'name': 'Anecdote', 'heading': 'Anecdote -> 2025-07-07T04:28:59.640458Z', 'description': '/Statement -> I clicked on the link, and my laptop screen went weird', 'object_form': 'anecdote', 'object_group': 'sco-forms', 'object_family': 'extension-forms'}, {'id': 'observed-data--ccaa6ee7-f5ff-4fe3-8969-d282c1210694', 'type': 'observed-data', 'original': {'type': 'observed-data', 'spec_version': '2.1', 'id': 'observed-data--ccaa6ee7-f5ff-4fe3-8969-d282c1210694', 'created': '2025-07-07T04:28:59.733Z', 'modified': '2025-07-07T04:28:59.733Z', 'first_observed': '2020-10-19T01:01:01Z', 'last_observed': '2020-10-19T01:01:01Z', 'number_observed': 1, 'object_refs': ['anecdote--e1298bc0-818e-5cdb-9154-eac37c8e260f']}, 'icon': 'observed-data', 'name': 'Observed Data', 'heading': 'Observed Data', 'description': '<br>First Observed -> 2020-10-19T01:01:01Z, Last Observed -> 2020-10-19T01:01:01Z', 'object_form': 'observed-data', 'object_group': 'sdo-forms', 'object_family': 'stix-forms'}, {'id': 'sighting--462dcea7-1c1a-43ac-96ce-0234bafb97f4', 'type': 'sighting', 'original': {'type': 'sighting', 'spec_version': '2.1', 'id': 'sighting--462dcea7-1c1a-43ac-96ce-0234bafb97f4', 'created': '2025-07-07T04:28:59.820Z', 'modified': '2025-07-07T04:28:59.820Z', 'count': 1, 'sighting_of_ref': 'identity--869ba25e-3dbb-4e1c-b2f7-55e480f501f4', 'observed_data_refs': ['observed-data--ccaa6ee7-f5ff-4fe3-8969-d282c1210694'], 'where_sighted_refs': ['identity--bcb5d0d5-80b4-43bf-856f-180fc274169b'], 'extensions': {'sighting-anecdote': {'person_name': 'user-report', 'person_context': 'employee', 'report_submission': 'interview'}, 'extension-definition--0d76d6d9-16ca-43fd-bd41-4f800ba8fc43': {'extension_type': 'property-extension'}}}, 'icon': 'sighting-anecdote', 'name': 'Sighting-Anecdote', 'heading': 'Sighting-Anecdote', 'description': 'Sighting of identity<br>Where Sighted -> identity', 'object_form': 'sighting', 'object_group': 'sro-forms', 'object_family': 'stix-forms'}, {'id': 'incident--6d52a48a-c174-40cf-9a92-69422159a75b', 'type': 'incident', 'original': {'type': 'incident', 'spec_version': '2.1', 'id': 'incident--6d52a48a-c174-40cf-9a92-69422159a75b', 'created': '2025-07-07T04:28:45.928Z', 'modified': '2025-07-07T04:28:45.928Z', 'name': 'potential phishing', 'extensions': {'extension-definition--ef765651-680c-498d-9894-99799f2fa126': {'extension_type': 'property-extension', 'investigation_status': 'new', 'incident_types': ['dissemination-phishing-emails'], 'other_object_refs': ['email-addr--eb38d07e-6ba8-56c1-b107-d4db4aacf212', 'email-addr--4722424c-7012-56b0-84d5-01d076fc547b', 'user-account--597ad4d4-35ba-585d-8f6d-134a75032f9b', 'identity--869ba25e-3dbb-4e1c-b2f7-55e480f501f4', 'identity--bcb5d0d5-80b4-43bf-856f-180fc274169b', 'url--3279c7de-8f91-5c1a-99d9-d6546c6c41f7', 'email-message--6090e3d4-1fa8-5b36-9d2d-4a66d824995d', 'relationship--584b96dc-0dad-4db9-9005-9280ddc61263', 'observed-data--fbbe550d-2b3e-44e2-be8f-8e22f0172db6', 'indicator--e9eea779-6a78-4a19-8c91-f07efbad06c9', 'sighting--2177e689-9d1e-4da9-b0c8-dd6715f8f430', 'identity--eba479d4-5f39-436f-b0e5-5d001f2ea632', 'anecdote--e1298bc0-818e-5cdb-9154-eac37c8e260f', 'observed-data--ccaa6ee7-f5ff-4fe3-8969-d282c1210694', 'sighting--462dcea7-1c1a-43ac-96ce-0234bafb97f4'], 'event_refs': ['event--71966765-87dd-4fb5-abd5-5ef8ed373023'], 'sequence_refs': ['sequence--a5ee5b06-16a4-4cbe-ad59-f4930c075828', 'sequence--f74a35c6-fd81-4e98-bca7-d958a09e1961', 'sequence--7a6a71ad-351d-4fd0-af5e-70ddc29b1716'], 'sequence_start_refs': ['sequence--dde400f9-636c-4b93-a264-e047aab7cb49', 'sequence--8d8e2b5c-8cb3-4149-b777-c9a382003340'], 'task_refs': ['task--ea191634-3264-41d0-93c3-1a4f4f90f0df', 'task--b148b218-b5a7-4773-9225-be59584d95f2'], 'impact_refs': ['impact--85e1bd8c-6fbf-4f12-bc01-217f1aaa5b11']}}, 'sequence_start_refs': ['sequence--dde400f9-636c-4b93-a264-e047aab7cb49', 'sequence--8d8e2b5c-8cb3-4149-b777-c9a382003340'], 'sequence_refs': ['sequence--a5ee5b06-16a4-4cbe-ad59-f4930c075828', 'sequence--f74a35c6-fd81-4e98-bca7-d958a09e1961', 'sequence--7a6a71ad-351d-4fd0-af5e-70ddc29b1716'], 'impact_refs': ['impact--85e1bd8c-6fbf-4f12-bc01-217f1aaa5b11'], 'event_refs': ['event--71966765-87dd-4fb5-abd5-5ef8ed373023'], 'task_refs': ['task--ea191634-3264-41d0-93c3-1a4f4f90f0df', 'task--b148b218-b5a7-4773-9225-be59584d95f2'], 'other_object_refs': ['email-addr--eb38d07e-6ba8-56c1-b107-d4db4aacf212', 'email-addr--4722424c-7012-56b0-84d5-01d076fc547b', 'user-account--597ad4d4-35ba-585d-8f6d-134a75032f9b', 'identity--869ba25e-3dbb-4e1c-b2f7-55e480f501f4', 'identity--bcb5d0d5-80b4-43bf-856f-180fc274169b', 'url--3279c7de-8f91-5c1a-99d9-d6546c6c41f7', 'email-message--6090e3d4-1fa8-5b36-9d2d-4a66d824995d', 'observed-data--fbbe550d-2b3e-44e2-be8f-8e22f0172db6', 'indicator--e9eea779-6a78-4a19-8c91-f07efbad06c9', 'sighting--2177e689-9d1e-4da9-b0c8-dd6715f8f430', 'identity--eba479d4-5f39-436f-b0e5-5d001f2ea632', 'anecdote--e1298bc0-818e-5cdb-9154-eac37c8e260f', 'observed-data--ccaa6ee7-f5ff-4fe3-8969-d282c1210694', 'sighting--462dcea7-1c1a-43ac-96ce-0234bafb97f4']}, 'icon': 'incident-ext', 'name': 'Incident Extension', 'heading': 'Incident Extension', 'description': '', 'object_form': 'incident', 'object_group': 'sdo-forms', 'object_family': 'stix-forms'}]\n"
     ]
    }
   ],
   "source": [
    "\n",
    "context_base = \"../Orchestration/generated/os-triage/context_mem\"\n",
    "results_base = \"../Orchestration/Results/\"\n",
    "object_base = \"../Block_Families/StixORM/\"\n",
    "os_triage_base = \"../Block_Families/OS_Triage/\"\n",
    "#\n",
    "source_path = os_triage_base + \"Open_Incident/get_default_incidents_objects.json\"\n",
    "results_path = results_base + \"step4/default_incidents_object.json\"\n",
    "\n",
    "result_dict = invoke_get_default_incident_objects_block(source_path, results_path)\n",
    "print(f\"result_dict->{result_dict}\")"
   ]
  },
  {
   "cell_type": "code",
   "execution_count": 7,
   "metadata": {
    "collapsed": false,
    "ExecuteTime": {
     "end_time": "2025-07-07T09:16:44.033633600Z",
     "start_time": "2025-07-07T09:16:43.930331600Z"
    }
   },
   "outputs": [
    {
     "name": "stdout",
     "output_type": "stream",
     "text": [
      "[{'id': 'incident--6d52a48a-c174-40cf-9a92-69422159a75b', 'type': 'incident', 'original': {'type': 'incident', 'spec_version': '2.1', 'id': 'incident--6d52a48a-c174-40cf-9a92-69422159a75b', 'created': '2025-07-07T04:28:45.928Z', 'modified': '2025-07-07T04:28:45.928Z', 'name': 'potential phishing', 'extensions': {'extension-definition--ef765651-680c-498d-9894-99799f2fa126': {'extension_type': 'property-extension', 'investigation_status': 'new', 'incident_types': ['dissemination-phishing-emails'], 'other_object_refs': ['email-addr--eb38d07e-6ba8-56c1-b107-d4db4aacf212', 'email-addr--4722424c-7012-56b0-84d5-01d076fc547b', 'user-account--597ad4d4-35ba-585d-8f6d-134a75032f9b', 'identity--869ba25e-3dbb-4e1c-b2f7-55e480f501f4', 'identity--bcb5d0d5-80b4-43bf-856f-180fc274169b', 'url--3279c7de-8f91-5c1a-99d9-d6546c6c41f7', 'email-message--6090e3d4-1fa8-5b36-9d2d-4a66d824995d', 'relationship--584b96dc-0dad-4db9-9005-9280ddc61263', 'observed-data--fbbe550d-2b3e-44e2-be8f-8e22f0172db6', 'indicator--e9eea779-6a78-4a19-8c91-f07efbad06c9', 'sighting--2177e689-9d1e-4da9-b0c8-dd6715f8f430', 'identity--eba479d4-5f39-436f-b0e5-5d001f2ea632', 'anecdote--e1298bc0-818e-5cdb-9154-eac37c8e260f', 'observed-data--ccaa6ee7-f5ff-4fe3-8969-d282c1210694', 'sighting--462dcea7-1c1a-43ac-96ce-0234bafb97f4'], 'event_refs': ['event--71966765-87dd-4fb5-abd5-5ef8ed373023'], 'sequence_refs': ['sequence--a5ee5b06-16a4-4cbe-ad59-f4930c075828', 'sequence--f74a35c6-fd81-4e98-bca7-d958a09e1961', 'sequence--7a6a71ad-351d-4fd0-af5e-70ddc29b1716'], 'sequence_start_refs': ['sequence--dde400f9-636c-4b93-a264-e047aab7cb49', 'sequence--8d8e2b5c-8cb3-4149-b777-c9a382003340'], 'task_refs': ['task--ea191634-3264-41d0-93c3-1a4f4f90f0df', 'task--b148b218-b5a7-4773-9225-be59584d95f2'], 'impact_refs': ['impact--85e1bd8c-6fbf-4f12-bc01-217f1aaa5b11']}}, 'sequence_start_refs': ['sequence--dde400f9-636c-4b93-a264-e047aab7cb49', 'sequence--8d8e2b5c-8cb3-4149-b777-c9a382003340'], 'sequence_refs': ['sequence--a5ee5b06-16a4-4cbe-ad59-f4930c075828', 'sequence--f74a35c6-fd81-4e98-bca7-d958a09e1961', 'sequence--7a6a71ad-351d-4fd0-af5e-70ddc29b1716'], 'impact_refs': ['impact--85e1bd8c-6fbf-4f12-bc01-217f1aaa5b11'], 'event_refs': ['event--71966765-87dd-4fb5-abd5-5ef8ed373023'], 'task_refs': ['task--ea191634-3264-41d0-93c3-1a4f4f90f0df', 'task--b148b218-b5a7-4773-9225-be59584d95f2'], 'other_object_refs': ['email-addr--eb38d07e-6ba8-56c1-b107-d4db4aacf212', 'email-addr--4722424c-7012-56b0-84d5-01d076fc547b', 'user-account--597ad4d4-35ba-585d-8f6d-134a75032f9b', 'identity--869ba25e-3dbb-4e1c-b2f7-55e480f501f4', 'identity--bcb5d0d5-80b4-43bf-856f-180fc274169b', 'url--3279c7de-8f91-5c1a-99d9-d6546c6c41f7', 'email-message--6090e3d4-1fa8-5b36-9d2d-4a66d824995d', 'observed-data--fbbe550d-2b3e-44e2-be8f-8e22f0172db6', 'indicator--e9eea779-6a78-4a19-8c91-f07efbad06c9', 'sighting--2177e689-9d1e-4da9-b0c8-dd6715f8f430', 'identity--eba479d4-5f39-436f-b0e5-5d001f2ea632', 'anecdote--e1298bc0-818e-5cdb-9154-eac37c8e260f', 'observed-data--ccaa6ee7-f5ff-4fe3-8969-d282c1210694', 'sighting--462dcea7-1c1a-43ac-96ce-0234bafb97f4']}, 'icon': 'incident-ext', 'name': 'Incident Extension', 'heading': 'Incident Extension', 'description': '', 'object_form': 'incident', 'object_group': 'sdo-forms', 'object_family': 'stix-forms'}, {'id': 'sequence--dde400f9-636c-4b93-a264-e047aab7cb49', 'type': 'sequence', 'original': {'type': 'sequence', 'spec_version': '2.1', 'id': 'sequence--dde400f9-636c-4b93-a264-e047aab7cb49', 'created': '2025-07-07T04:28:47.225Z', 'modified': '2025-07-07T04:28:47.225Z', 'sequence_type': 'event', 'step_type': 'start_step', 'on_completion': 'sequence--a5ee5b06-16a4-4cbe-ad59-f4930c075828', 'extensions': {'extension-definition--be0c7c79-1961-43db-afde-637066a87a64': {'extension_type': 'new-sdo'}}}, 'icon': 'step-terminal', 'name': 'Start Step', 'heading': 'Start Step for Event', 'description': '', 'object_form': 'sequence', 'object_group': 'sdo-forms', 'object_family': 'extension-forms'}, {'id': 'sequence--8d8e2b5c-8cb3-4149-b777-c9a382003340', 'type': 'sequence', 'original': {'type': 'sequence', 'spec_version': '2.1', 'id': 'sequence--8d8e2b5c-8cb3-4149-b777-c9a382003340', 'created': '2025-07-07T04:28:47.549Z', 'modified': '2025-07-07T04:28:47.549Z', 'sequence_type': 'task', 'step_type': 'start_step', 'on_completion': 'sequence--f74a35c6-fd81-4e98-bca7-d958a09e1961', 'extensions': {'extension-definition--be0c7c79-1961-43db-afde-637066a87a64': {'extension_type': 'new-sdo'}}}, 'icon': 'step-terminal', 'name': 'Start Step', 'heading': 'Start Step for Task', 'description': '', 'object_form': 'sequence', 'object_group': 'sdo-forms', 'object_family': 'extension-forms'}, {'id': 'sequence--a5ee5b06-16a4-4cbe-ad59-f4930c075828', 'type': 'sequence', 'original': {'type': 'sequence', 'spec_version': '2.1', 'id': 'sequence--a5ee5b06-16a4-4cbe-ad59-f4930c075828', 'created': '2025-07-07T04:28:47.118Z', 'modified': '2025-07-07T04:28:47.118Z', 'sequenced_object': 'event--71966765-87dd-4fb5-abd5-5ef8ed373023', 'sequence_type': 'event', 'step_type': 'single_step', 'extensions': {'extension-definition--be0c7c79-1961-43db-afde-637066a87a64': {'extension_type': 'new-sdo'}}}, 'icon': 'step-single', 'name': 'Single Step', 'heading': 'Single Step for Event', 'description': '', 'object_form': 'sequence', 'object_group': 'sdo-forms', 'object_family': 'extension-forms'}, {'id': 'sequence--f74a35c6-fd81-4e98-bca7-d958a09e1961', 'type': 'sequence', 'original': {'type': 'sequence', 'spec_version': '2.1', 'id': 'sequence--f74a35c6-fd81-4e98-bca7-d958a09e1961', 'created': '2025-07-07T04:28:47.420Z', 'modified': '2025-07-07T04:28:47.420Z', 'sequenced_object': 'task--ea191634-3264-41d0-93c3-1a4f4f90f0df', 'sequence_type': 'task', 'step_type': 'single_step', 'extensions': {'extension-definition--be0c7c79-1961-43db-afde-637066a87a64': {'extension_type': 'new-sdo'}}}, 'icon': 'step-single', 'name': 'Single Step', 'heading': 'Single Step for Task', 'description': '', 'object_form': 'sequence', 'object_group': 'sdo-forms', 'object_family': 'extension-forms'}, {'id': 'sequence--7a6a71ad-351d-4fd0-af5e-70ddc29b1716', 'type': 'sequence', 'original': {'type': 'sequence', 'spec_version': '2.1', 'id': 'sequence--7a6a71ad-351d-4fd0-af5e-70ddc29b1716', 'created': '2025-07-07T04:29:00.368Z', 'modified': '2025-07-07T04:29:00.368Z', 'sequenced_object': 'task--b148b218-b5a7-4773-9225-be59584d95f2', 'sequence_type': 'task', 'step_type': 'single_step', 'extensions': {'extension-definition--be0c7c79-1961-43db-afde-637066a87a64': {'extension_type': 'new-sdo'}}}, 'icon': 'step-single', 'name': 'Single Step', 'heading': 'Single Step for Task', 'description': '', 'object_form': 'sequence', 'object_group': 'sdo-forms', 'object_family': 'extension-forms'}, {'id': 'impact--85e1bd8c-6fbf-4f12-bc01-217f1aaa5b11', 'type': 'impact', 'original': {'type': 'impact', 'spec_version': '2.1', 'id': 'impact--85e1bd8c-6fbf-4f12-bc01-217f1aaa5b11', 'created': '2025-07-07T04:29:00.140Z', 'modified': '2025-07-07T04:29:00.140Z', 'impact_category': 'availability', 'criticality': 99, 'description': 'Laptop is stuffed', 'end_time': '2025-07-07T04:29:00.140Z', 'impacted_entity_counts': {'computers-mobile': 1}, 'impacted_refs': ['identity--eba479d4-5f39-436f-b0e5-5d001f2ea632'], 'recoverability': 'regular', 'start_time': '2025-07-07T04:29:00.140Z', 'extensions': {'availability': {'availability_impact': 99}, 'extension-definition--7cc33dd6-f6a1-489b-98ea-522d351d71b9': {'extension_type': 'new-sdo'}}}, 'icon': 'impact-availability', 'name': 'Availability Impact', 'heading': 'Availability Impact', 'description': '<br>Laptop is stuffed<br>Total Impact ->99<br>Impacted Entities -> <br>Laptop is stuffed<br>Variety -> 99computers-mobile -> 1', 'object_form': 'impact', 'object_group': 'sdo-forms', 'object_family': 'extension-forms'}, {'id': 'event--71966765-87dd-4fb5-abd5-5ef8ed373023', 'type': 'event', 'original': {'type': 'event', 'spec_version': '2.1', 'id': 'event--71966765-87dd-4fb5-abd5-5ef8ed373023', 'created': '2025-07-07T04:28:47.35Z', 'modified': '2025-07-07T04:28:47.35Z', 'description': 'Suspicious email reported by user', 'end_time': '2025-07-07T04:28:47.35Z', 'event_types': ['dissemination-phishing-emails'], 'name': 'Potential Phishing Email', 'start_time': '2025-07-07T04:28:47.35Z', 'extensions': {'extension-definition--4ca6de00-5b0d-45ef-a1dc-ea7279ea910e': {'extension_type': 'new-sdo'}}}, 'icon': 'event', 'name': 'Event', 'heading': 'Event -> Potential Phishing Email, Status -> ', 'description': '<br>Suspicious email reported by user', 'object_form': 'event', 'object_group': 'sdo-forms', 'object_family': 'extension-forms'}, {'id': 'task--ea191634-3264-41d0-93c3-1a4f4f90f0df', 'type': 'task', 'original': {'type': 'task', 'spec_version': '2.1', 'id': 'task--ea191634-3264-41d0-93c3-1a4f4f90f0df', 'created': '2025-07-07T04:28:47.341Z', 'modified': '2025-07-07T04:28:47.341Z', 'description': 'Suspicious email reported by user', 'end_time': '2025-07-07T04:28:47.341Z', 'name': 'Potential Phishing Email', 'start_time': '2025-07-07T04:28:47.341Z', 'extensions': {'extension-definition--2074a052-8be4-4932-849e-f5e7798e0030': {'extension_type': 'new-sdo'}}}, 'icon': 'task', 'name': 'Task', 'heading': 'Task -> Potential Phishing Email', 'description': '<br>Suspicious email reported by user', 'object_form': 'task', 'object_group': 'sdo-forms', 'object_family': 'extension-forms'}, {'id': 'task--b148b218-b5a7-4773-9225-be59584d95f2', 'type': 'task', 'original': {'type': 'task', 'spec_version': '2.1', 'id': 'task--b148b218-b5a7-4773-9225-be59584d95f2', 'created': '2025-07-07T04:29:00.247Z', 'modified': '2025-07-07T04:29:00.247Z', 'description': 'Find out who else got the email', 'end_time': '2025-07-07T04:29:00.247Z', 'name': 'Query Exchange Server', 'start_time': '2025-07-07T04:29:00.247Z', 'extensions': {'extension-definition--2074a052-8be4-4932-849e-f5e7798e0030': {'extension_type': 'new-sdo'}}}, 'icon': 'task', 'name': 'Task', 'heading': 'Task -> Query Exchange Server', 'description': '<br>Find out who else got the email', 'object_form': 'task', 'object_group': 'sdo-forms', 'object_family': 'extension-forms'}, {'id': 'email-addr--eb38d07e-6ba8-56c1-b107-d4db4aacf212', 'type': 'email-addr', 'original': {'type': 'email-addr', 'spec_version': '2.1', 'id': 'email-addr--eb38d07e-6ba8-56c1-b107-d4db4aacf212', 'value': 'evil@northkorea.nk', 'display_name': 'Bad Man'}, 'icon': 'email-addr', 'name': 'Email Address', 'heading': 'Email Address -> Bad Man', 'description': '<br>Value -> evil@northkorea.nk', 'object_form': 'email-addr', 'object_group': 'sco-forms', 'object_family': 'stix-forms'}, {'id': 'email-addr--4722424c-7012-56b0-84d5-01d076fc547b', 'type': 'email-addr', 'original': {'type': 'email-addr', 'spec_version': '2.1', 'id': 'email-addr--4722424c-7012-56b0-84d5-01d076fc547b', 'value': 'naive@example.com', 'display_name': 'Naive Smith', 'belongs_to_ref': 'user-account--597ad4d4-35ba-585d-8f6d-134a75032f9b'}, 'icon': 'email-addr', 'name': 'Email Address', 'heading': 'Email Address -> Naive Smith', 'description': '<br>Value -> naive@example.com', 'object_form': 'email-addr', 'object_group': 'sco-forms', 'object_family': 'stix-forms'}, {'id': 'user-account--597ad4d4-35ba-585d-8f6d-134a75032f9b', 'type': 'user-account', 'original': {'type': 'user-account', 'spec_version': '2.1', 'id': 'user-account--597ad4d4-35ba-585d-8f6d-134a75032f9b', 'user_id': '79563902', 'account_login': 'nsmith', 'account_type': 'sales,', 'display_name': 'Naive Smith'}, 'icon': 'user-account', 'name': 'User Account', 'heading': 'User Account', 'description': '<br>Display Name -> Naive Smith<br>Account Type -> sales,, User ID -> 79563902<br>Login String ->nsmith', 'object_form': 'user-account', 'object_group': 'sco-forms', 'object_family': 'stix-forms'}, {'id': 'identity--869ba25e-3dbb-4e1c-b2f7-55e480f501f4', 'type': 'identity', 'original': {'type': 'identity', 'spec_version': '2.1', 'id': 'identity--869ba25e-3dbb-4e1c-b2f7-55e480f501f4', 'created': '2025-07-07T04:28:27.312Z', 'modified': '2025-07-07T04:28:27.312Z', 'name': 'Naive Smith', 'description': 'A Naive Individual', 'roles': ['user', 'sales'], 'identity_class': 'individual', 'sectors': ['technology'], 'extensions': {'extension-definition--66e2492a-bbd3-4be6-88f5-cc91a017a498': {'extension_type': 'property-extension', 'contact_numbers': [{'contact_number_type': 'work-phone', 'contact_number': '0499-999-109'}], 'email_addresses': [{'digital_contact_type': 'work', 'email_address_ref': 'email-addr--4722424c-7012-56b0-84d5-01d076fc547b'}], 'first_name': 'Naive', 'last_name': 'Smith', 'middle_name': 'Weakling', 'prefix': 'Mr', 'social_media_accounts': [{'digital_contact_type': 'work', 'user_account_ref': 'user-account--597ad4d4-35ba-585d-8f6d-134a75032f9b'}], 'team': 'Sales'}}}, 'icon': 'identity-contact', 'name': 'Individual', 'heading': 'Individual - Naive Smith', 'description': '<br>A Naive Individual', 'object_form': 'identity', 'object_group': 'sdo-forms', 'object_family': 'stix-forms'}, {'id': 'identity--bcb5d0d5-80b4-43bf-856f-180fc274169b', 'type': 'identity', 'original': {'type': 'identity', 'spec_version': '2.1', 'id': 'identity--bcb5d0d5-80b4-43bf-856f-180fc274169b', 'created': '2025-07-07T04:28:27.68Z', 'modified': '2025-07-07T04:28:27.68Z', 'name': 'Trusty Jones', 'description': 'A Trusty Individual', 'roles': ['soc', 'support'], 'identity_class': 'individual', 'sectors': ['technology'], 'extensions': {'extension-definition--66e2492a-bbd3-4be6-88f5-cc91a017a498': {'extension_type': 'property-extension', 'contact_numbers': [{'contact_number_type': 'work-phone', 'contact_number': '0418-208-368'}], 'email_addresses': [{'digital_contact_type': 'work', 'email_address_ref': 'email-addr--c99b87bd-f0a8-50ca-9f84-68072efc61e3'}], 'first_name': 'Me', 'last_name': 'Jones', 'middle_name': 'Percival', 'prefix': 'Dr', 'social_media_accounts': [{'digital_contact_type': 'work', 'user_account_ref': 'user-account--83658594-537d-5c32-b9f0-137354bd9bc3'}], 'team': 'All_Stars'}}}, 'icon': 'identity-contact', 'name': 'Individual', 'heading': 'Individual - Trusty Jones', 'description': '<br>A Trusty Individual', 'object_form': 'identity', 'object_group': 'sdo-forms', 'object_family': 'stix-forms'}, {'id': 'url--3279c7de-8f91-5c1a-99d9-d6546c6c41f7', 'type': 'url', 'original': {'type': 'url', 'spec_version': '2.1', 'id': 'url--3279c7de-8f91-5c1a-99d9-d6546c6c41f7', 'value': 'https://www.northkorea.nk/we/are/mad/'}, 'icon': 'url', 'name': 'URL', 'heading': 'URL', 'description': '<br>Value -> https://www.northkorea.nk/we/are/mad/', 'object_form': 'url', 'object_group': 'sco-forms', 'object_family': 'stix-forms'}, {'id': 'email-message--6090e3d4-1fa8-5b36-9d2d-4a66d824995d', 'type': 'email-message', 'original': {'type': 'email-message', 'spec_version': '2.1', 'id': 'email-message--6090e3d4-1fa8-5b36-9d2d-4a66d824995d', 'is_multipart': False, 'date': '2020-10-19T01:01:01.000Z', 'from_ref': 'email-addr--eb38d07e-6ba8-56c1-b107-d4db4aacf212', 'to_refs': ['email-addr--4722424c-7012-56b0-84d5-01d076fc547b'], 'subject': 'we are coming for you', 'body': 'some bad stuff written here'}, 'icon': 'email-message', 'name': 'Email Message', 'heading': 'Email Message', 'description': '<br>Subject -> we are coming for you, Date -> 2020-10-19T01:01:01.000Z<br>Body -> some bad stuff written here', 'object_form': 'email-message', 'object_group': 'sco-forms', 'object_family': 'stix-forms'}, {'id': 'observed-data--fbbe550d-2b3e-44e2-be8f-8e22f0172db6', 'type': 'observed-data', 'original': {'type': 'observed-data', 'spec_version': '2.1', 'id': 'observed-data--fbbe550d-2b3e-44e2-be8f-8e22f0172db6', 'created': '2025-07-07T04:28:46.622Z', 'modified': '2025-07-07T04:28:46.622Z', 'first_observed': '2020-10-19T01:01:01.000Z', 'last_observed': '2020-10-19T01:01:01.000Z', 'number_observed': 1, 'object_refs': ['email-addr--eb38d07e-6ba8-56c1-b107-d4db4aacf212', 'user-account--597ad4d4-35ba-585d-8f6d-134a75032f9b', 'email-addr--4722424c-7012-56b0-84d5-01d076fc547b', 'url--3279c7de-8f91-5c1a-99d9-d6546c6c41f7', 'email-message--6090e3d4-1fa8-5b36-9d2d-4a66d824995d', 'relationship--584b96dc-0dad-4db9-9005-9280ddc61263']}, 'icon': 'observed-data', 'name': 'Observed Data', 'heading': 'Observed Data', 'description': '<br>First Observed -> 2020-10-19T01:01:01.000Z, Last Observed -> 2020-10-19T01:01:01.000Z', 'object_form': 'observed-data', 'object_group': 'sdo-forms', 'object_family': 'stix-forms'}, {'id': 'indicator--e9eea779-6a78-4a19-8c91-f07efbad06c9', 'type': 'indicator', 'original': {'type': 'indicator', 'spec_version': '2.1', 'id': 'indicator--e9eea779-6a78-4a19-8c91-f07efbad06c9', 'created': '2025-07-07T04:28:46.797Z', 'modified': '2025-07-07T04:28:46.797Z', 'name': 'Potential Phishing Email', 'description': 'Suspicious email reported by user', 'indicator_types': ['unknown'], 'pattern': \"[email-addr:value = 'evil@northkorea.nk' AND email:subject = 'we are coming for you']\", 'pattern_type': 'stix', 'pattern_version': '2.1', 'valid_from': '2025-07-07T04:28:46.797Z'}, 'icon': 'indicator', 'name': 'Indicator', 'heading': 'Indicator - Potential Phishing Email', 'description': \"<br>Suspicious email reported by user<br>Pattern Type -> stixIndicator Types -> ['unknown']<br>Pattern -> [email-addr:value = 'evil@northkorea.nk' AND email:subject = 'we are coming for you']\", 'object_form': 'indicator', 'object_group': 'sdo-forms', 'object_family': 'stix-forms'}, {'id': 'sighting--2177e689-9d1e-4da9-b0c8-dd6715f8f430', 'type': 'sighting', 'original': {'type': 'sighting', 'spec_version': '2.1', 'id': 'sighting--2177e689-9d1e-4da9-b0c8-dd6715f8f430', 'created': '2025-07-07T04:28:46.907Z', 'modified': '2025-07-07T04:28:46.907Z', 'count': 1, 'sighting_of_ref': 'indicator--e9eea779-6a78-4a19-8c91-f07efbad06c9', 'observed_data_refs': ['observed-data--fbbe550d-2b3e-44e2-be8f-8e22f0172db6'], 'where_sighted_refs': ['identity--869ba25e-3dbb-4e1c-b2f7-55e480f501f4'], 'extensions': {'sighting-alert': {'name': 'user-report', 'log': 'I have found a suspicious email', 'system_id': 'XYZ-1234', 'source': 'user submission'}, 'extension-definition--0d76d6d9-16ca-43fd-bd41-4f800ba8fc43': {'extension_type': 'property-extension'}}}, 'icon': 'sighting-alert', 'name': 'Sighting-Alert', 'heading': 'Sighting-Alert', 'description': 'Sighting of indicator<br>Where Sighted -> identity', 'object_form': 'sighting', 'object_group': 'sro-forms', 'object_family': 'stix-forms'}, {'id': 'identity--eba479d4-5f39-436f-b0e5-5d001f2ea632', 'type': 'identity', 'original': {'type': 'identity', 'spec_version': '2.1', 'id': 'identity--eba479d4-5f39-436f-b0e5-5d001f2ea632', 'created': '2025-07-07T04:28:28.639Z', 'modified': '2025-07-07T04:28:28.639Z', 'name': 'HP Laptop 1', 'description': \"Usr 1's Laptop\", 'roles': ['laptop'], 'identity_class': 'asset', 'sectors': ['technology'], 'external_references': [{'source_name': 'HP Ultima 10', 'description': '16GB RAM, 1TB SD, Microsoft Windows 11 Professional', 'url': 'https://mail.echange.microsoft.com', 'external_id': 'Asset--629456a'}]}, 'icon': 'identity-asset', 'name': 'Hardware Asset', 'heading': 'Hardware Asset - HP Laptop 1', 'description': \"<br>Usr 1's Laptop<br>HP Ultima 10<br>16GB RAM, 1TB SD, Microsoft Windows 11 Professional\", 'object_form': 'identity', 'object_group': 'sdo-forms', 'object_family': 'stix-forms'}, {'id': 'anecdote--e1298bc0-818e-5cdb-9154-eac37c8e260f', 'type': 'anecdote', 'original': {'type': 'anecdote', 'spec_version': '2.1', 'id': 'anecdote--e1298bc0-818e-5cdb-9154-eac37c8e260f', 'value': 'I clicked on the link, and my laptop screen went weird', 'report_date': '2025-07-07T04:28:59.640458Z', 'provided_by_ref': 'identity--869ba25e-3dbb-4e1c-b2f7-55e480f501f4'}, 'icon': 'anecdote', 'name': 'Anecdote', 'heading': 'Anecdote -> 2025-07-07T04:28:59.640458Z', 'description': '/Statement -> I clicked on the link, and my laptop screen went weird', 'object_form': 'anecdote', 'object_group': 'sco-forms', 'object_family': 'extension-forms'}, {'id': 'observed-data--ccaa6ee7-f5ff-4fe3-8969-d282c1210694', 'type': 'observed-data', 'original': {'type': 'observed-data', 'spec_version': '2.1', 'id': 'observed-data--ccaa6ee7-f5ff-4fe3-8969-d282c1210694', 'created': '2025-07-07T04:28:59.733Z', 'modified': '2025-07-07T04:28:59.733Z', 'first_observed': '2020-10-19T01:01:01Z', 'last_observed': '2020-10-19T01:01:01Z', 'number_observed': 1, 'object_refs': ['anecdote--e1298bc0-818e-5cdb-9154-eac37c8e260f']}, 'icon': 'observed-data', 'name': 'Observed Data', 'heading': 'Observed Data', 'description': '<br>First Observed -> 2020-10-19T01:01:01Z, Last Observed -> 2020-10-19T01:01:01Z', 'object_form': 'observed-data', 'object_group': 'sdo-forms', 'object_family': 'stix-forms'}, {'id': 'sighting--462dcea7-1c1a-43ac-96ce-0234bafb97f4', 'type': 'sighting', 'original': {'type': 'sighting', 'spec_version': '2.1', 'id': 'sighting--462dcea7-1c1a-43ac-96ce-0234bafb97f4', 'created': '2025-07-07T04:28:59.820Z', 'modified': '2025-07-07T04:28:59.820Z', 'count': 1, 'sighting_of_ref': 'identity--869ba25e-3dbb-4e1c-b2f7-55e480f501f4', 'observed_data_refs': ['observed-data--ccaa6ee7-f5ff-4fe3-8969-d282c1210694'], 'where_sighted_refs': ['identity--bcb5d0d5-80b4-43bf-856f-180fc274169b'], 'extensions': {'sighting-anecdote': {'person_name': 'user-report', 'person_context': 'employee', 'report_submission': 'interview'}, 'extension-definition--0d76d6d9-16ca-43fd-bd41-4f800ba8fc43': {'extension_type': 'property-extension'}}}, 'icon': 'sighting-anecdote', 'name': 'Sighting-Anecdote', 'heading': 'Sighting-Anecdote', 'description': 'Sighting of identity<br>Where Sighted -> identity', 'object_form': 'sighting', 'object_group': 'sro-forms', 'object_family': 'stix-forms'}, {'id': 'incident--6d52a48a-c174-40cf-9a92-69422159a75b', 'type': 'incident', 'original': {'type': 'incident', 'spec_version': '2.1', 'id': 'incident--6d52a48a-c174-40cf-9a92-69422159a75b', 'created': '2025-07-07T04:28:45.928Z', 'modified': '2025-07-07T04:28:45.928Z', 'name': 'potential phishing', 'extensions': {'extension-definition--ef765651-680c-498d-9894-99799f2fa126': {'extension_type': 'property-extension', 'investigation_status': 'new', 'incident_types': ['dissemination-phishing-emails'], 'other_object_refs': ['email-addr--eb38d07e-6ba8-56c1-b107-d4db4aacf212', 'email-addr--4722424c-7012-56b0-84d5-01d076fc547b', 'user-account--597ad4d4-35ba-585d-8f6d-134a75032f9b', 'identity--869ba25e-3dbb-4e1c-b2f7-55e480f501f4', 'identity--bcb5d0d5-80b4-43bf-856f-180fc274169b', 'url--3279c7de-8f91-5c1a-99d9-d6546c6c41f7', 'email-message--6090e3d4-1fa8-5b36-9d2d-4a66d824995d', 'relationship--584b96dc-0dad-4db9-9005-9280ddc61263', 'observed-data--fbbe550d-2b3e-44e2-be8f-8e22f0172db6', 'indicator--e9eea779-6a78-4a19-8c91-f07efbad06c9', 'sighting--2177e689-9d1e-4da9-b0c8-dd6715f8f430', 'identity--eba479d4-5f39-436f-b0e5-5d001f2ea632', 'anecdote--e1298bc0-818e-5cdb-9154-eac37c8e260f', 'observed-data--ccaa6ee7-f5ff-4fe3-8969-d282c1210694', 'sighting--462dcea7-1c1a-43ac-96ce-0234bafb97f4'], 'event_refs': ['event--71966765-87dd-4fb5-abd5-5ef8ed373023'], 'sequence_refs': ['sequence--a5ee5b06-16a4-4cbe-ad59-f4930c075828', 'sequence--f74a35c6-fd81-4e98-bca7-d958a09e1961', 'sequence--7a6a71ad-351d-4fd0-af5e-70ddc29b1716'], 'sequence_start_refs': ['sequence--dde400f9-636c-4b93-a264-e047aab7cb49', 'sequence--8d8e2b5c-8cb3-4149-b777-c9a382003340'], 'task_refs': ['task--ea191634-3264-41d0-93c3-1a4f4f90f0df', 'task--b148b218-b5a7-4773-9225-be59584d95f2'], 'impact_refs': ['impact--85e1bd8c-6fbf-4f12-bc01-217f1aaa5b11']}}, 'sequence_start_refs': ['sequence--dde400f9-636c-4b93-a264-e047aab7cb49', 'sequence--8d8e2b5c-8cb3-4149-b777-c9a382003340'], 'sequence_refs': ['sequence--a5ee5b06-16a4-4cbe-ad59-f4930c075828', 'sequence--f74a35c6-fd81-4e98-bca7-d958a09e1961', 'sequence--7a6a71ad-351d-4fd0-af5e-70ddc29b1716'], 'impact_refs': ['impact--85e1bd8c-6fbf-4f12-bc01-217f1aaa5b11'], 'event_refs': ['event--71966765-87dd-4fb5-abd5-5ef8ed373023'], 'task_refs': ['task--ea191634-3264-41d0-93c3-1a4f4f90f0df', 'task--b148b218-b5a7-4773-9225-be59584d95f2'], 'other_object_refs': ['email-addr--eb38d07e-6ba8-56c1-b107-d4db4aacf212', 'email-addr--4722424c-7012-56b0-84d5-01d076fc547b', 'user-account--597ad4d4-35ba-585d-8f6d-134a75032f9b', 'identity--869ba25e-3dbb-4e1c-b2f7-55e480f501f4', 'identity--bcb5d0d5-80b4-43bf-856f-180fc274169b', 'url--3279c7de-8f91-5c1a-99d9-d6546c6c41f7', 'email-message--6090e3d4-1fa8-5b36-9d2d-4a66d824995d', 'observed-data--fbbe550d-2b3e-44e2-be8f-8e22f0172db6', 'indicator--e9eea779-6a78-4a19-8c91-f07efbad06c9', 'sighting--2177e689-9d1e-4da9-b0c8-dd6715f8f430', 'identity--eba479d4-5f39-436f-b0e5-5d001f2ea632', 'anecdote--e1298bc0-818e-5cdb-9154-eac37c8e260f', 'observed-data--ccaa6ee7-f5ff-4fe3-8969-d282c1210694', 'sighting--462dcea7-1c1a-43ac-96ce-0234bafb97f4']}, 'icon': 'incident-ext', 'name': 'Incident Extension', 'heading': 'Incident Extension', 'description': '', 'object_form': 'incident', 'object_group': 'sdo-forms', 'object_family': 'stix-forms'}]\n"
     ]
    }
   ],
   "source": [
    "test = get_default_incidents_objects()\n",
    "print(test)"
   ]
  },
  {
   "cell_type": "code",
   "execution_count": 8,
   "metadata": {
    "collapsed": false,
    "ExecuteTime": {
     "end_time": "2025-07-07T09:16:44.072646200Z",
     "start_time": "2025-07-07T09:16:43.945859900Z"
    }
   },
   "outputs": [
    {
     "name": "stdout",
     "output_type": "stream",
     "text": [
      "key is --> start\n",
      "incident obj -> {'id': 'incident--6d52a48a-c174-40cf-9a92-69422159a75b', 'type': 'incident', 'original': {'type': 'incident', 'spec_version': '2.1', 'id': 'incident--6d52a48a-c174-40cf-9a92-69422159a75b', 'created': '2025-07-07T04:28:45.928Z', 'modified': '2025-07-07T04:28:45.928Z', 'name': 'potential phishing', 'extensions': {'extension-definition--ef765651-680c-498d-9894-99799f2fa126': {'extension_type': 'property-extension', 'investigation_status': 'new', 'incident_types': ['dissemination-phishing-emails'], 'other_object_refs': ['email-addr--eb38d07e-6ba8-56c1-b107-d4db4aacf212', 'email-addr--4722424c-7012-56b0-84d5-01d076fc547b', 'user-account--597ad4d4-35ba-585d-8f6d-134a75032f9b', 'identity--869ba25e-3dbb-4e1c-b2f7-55e480f501f4', 'identity--bcb5d0d5-80b4-43bf-856f-180fc274169b', 'url--3279c7de-8f91-5c1a-99d9-d6546c6c41f7', 'email-message--6090e3d4-1fa8-5b36-9d2d-4a66d824995d', 'relationship--584b96dc-0dad-4db9-9005-9280ddc61263', 'observed-data--fbbe550d-2b3e-44e2-be8f-8e22f0172db6', 'indicator--e9eea779-6a78-4a19-8c91-f07efbad06c9', 'sighting--2177e689-9d1e-4da9-b0c8-dd6715f8f430', 'identity--eba479d4-5f39-436f-b0e5-5d001f2ea632', 'anecdote--e1298bc0-818e-5cdb-9154-eac37c8e260f', 'observed-data--ccaa6ee7-f5ff-4fe3-8969-d282c1210694', 'sighting--462dcea7-1c1a-43ac-96ce-0234bafb97f4'], 'event_refs': ['event--71966765-87dd-4fb5-abd5-5ef8ed373023'], 'sequence_refs': ['sequence--a5ee5b06-16a4-4cbe-ad59-f4930c075828', 'sequence--f74a35c6-fd81-4e98-bca7-d958a09e1961', 'sequence--7a6a71ad-351d-4fd0-af5e-70ddc29b1716'], 'sequence_start_refs': ['sequence--dde400f9-636c-4b93-a264-e047aab7cb49', 'sequence--8d8e2b5c-8cb3-4149-b777-c9a382003340'], 'task_refs': ['task--ea191634-3264-41d0-93c3-1a4f4f90f0df', 'task--b148b218-b5a7-4773-9225-be59584d95f2'], 'impact_refs': ['impact--85e1bd8c-6fbf-4f12-bc01-217f1aaa5b11']}}, 'sequence_start_refs': ['sequence--dde400f9-636c-4b93-a264-e047aab7cb49', 'sequence--8d8e2b5c-8cb3-4149-b777-c9a382003340'], 'sequence_refs': ['sequence--a5ee5b06-16a4-4cbe-ad59-f4930c075828', 'sequence--f74a35c6-fd81-4e98-bca7-d958a09e1961', 'sequence--7a6a71ad-351d-4fd0-af5e-70ddc29b1716'], 'impact_refs': ['impact--85e1bd8c-6fbf-4f12-bc01-217f1aaa5b11'], 'event_refs': ['event--71966765-87dd-4fb5-abd5-5ef8ed373023'], 'task_refs': ['task--ea191634-3264-41d0-93c3-1a4f4f90f0df', 'task--b148b218-b5a7-4773-9225-be59584d95f2'], 'other_object_refs': ['email-addr--eb38d07e-6ba8-56c1-b107-d4db4aacf212', 'email-addr--4722424c-7012-56b0-84d5-01d076fc547b', 'user-account--597ad4d4-35ba-585d-8f6d-134a75032f9b', 'identity--869ba25e-3dbb-4e1c-b2f7-55e480f501f4', 'identity--bcb5d0d5-80b4-43bf-856f-180fc274169b', 'url--3279c7de-8f91-5c1a-99d9-d6546c6c41f7', 'email-message--6090e3d4-1fa8-5b36-9d2d-4a66d824995d', 'observed-data--fbbe550d-2b3e-44e2-be8f-8e22f0172db6', 'indicator--e9eea779-6a78-4a19-8c91-f07efbad06c9', 'sighting--2177e689-9d1e-4da9-b0c8-dd6715f8f430', 'identity--eba479d4-5f39-436f-b0e5-5d001f2ea632', 'anecdote--e1298bc0-818e-5cdb-9154-eac37c8e260f', 'observed-data--ccaa6ee7-f5ff-4fe3-8969-d282c1210694', 'sighting--462dcea7-1c1a-43ac-96ce-0234bafb97f4']}, 'icon': 'incident-ext', 'name': 'Incident Extension', 'heading': 'Incident Extension', 'description': '', 'object_form': 'incident', 'object_group': 'sdo-forms', 'object_family': 'stix-forms'}\n",
      "type of incident obj -?<class 'dict'>\n",
      "key is --> sequence\n",
      "incident obj -> {'id': 'incident--6d52a48a-c174-40cf-9a92-69422159a75b', 'type': 'incident', 'original': {'type': 'incident', 'spec_version': '2.1', 'id': 'incident--6d52a48a-c174-40cf-9a92-69422159a75b', 'created': '2025-07-07T04:28:45.928Z', 'modified': '2025-07-07T04:28:45.928Z', 'name': 'potential phishing', 'extensions': {'extension-definition--ef765651-680c-498d-9894-99799f2fa126': {'extension_type': 'property-extension', 'investigation_status': 'new', 'incident_types': ['dissemination-phishing-emails'], 'other_object_refs': ['email-addr--eb38d07e-6ba8-56c1-b107-d4db4aacf212', 'email-addr--4722424c-7012-56b0-84d5-01d076fc547b', 'user-account--597ad4d4-35ba-585d-8f6d-134a75032f9b', 'identity--869ba25e-3dbb-4e1c-b2f7-55e480f501f4', 'identity--bcb5d0d5-80b4-43bf-856f-180fc274169b', 'url--3279c7de-8f91-5c1a-99d9-d6546c6c41f7', 'email-message--6090e3d4-1fa8-5b36-9d2d-4a66d824995d', 'relationship--584b96dc-0dad-4db9-9005-9280ddc61263', 'observed-data--fbbe550d-2b3e-44e2-be8f-8e22f0172db6', 'indicator--e9eea779-6a78-4a19-8c91-f07efbad06c9', 'sighting--2177e689-9d1e-4da9-b0c8-dd6715f8f430', 'identity--eba479d4-5f39-436f-b0e5-5d001f2ea632', 'anecdote--e1298bc0-818e-5cdb-9154-eac37c8e260f', 'observed-data--ccaa6ee7-f5ff-4fe3-8969-d282c1210694', 'sighting--462dcea7-1c1a-43ac-96ce-0234bafb97f4'], 'event_refs': ['event--71966765-87dd-4fb5-abd5-5ef8ed373023'], 'sequence_refs': ['sequence--a5ee5b06-16a4-4cbe-ad59-f4930c075828', 'sequence--f74a35c6-fd81-4e98-bca7-d958a09e1961', 'sequence--7a6a71ad-351d-4fd0-af5e-70ddc29b1716'], 'sequence_start_refs': ['sequence--dde400f9-636c-4b93-a264-e047aab7cb49', 'sequence--8d8e2b5c-8cb3-4149-b777-c9a382003340'], 'task_refs': ['task--ea191634-3264-41d0-93c3-1a4f4f90f0df', 'task--b148b218-b5a7-4773-9225-be59584d95f2'], 'impact_refs': ['impact--85e1bd8c-6fbf-4f12-bc01-217f1aaa5b11']}}, 'sequence_start_refs': ['sequence--dde400f9-636c-4b93-a264-e047aab7cb49', 'sequence--8d8e2b5c-8cb3-4149-b777-c9a382003340'], 'sequence_refs': ['sequence--a5ee5b06-16a4-4cbe-ad59-f4930c075828', 'sequence--f74a35c6-fd81-4e98-bca7-d958a09e1961', 'sequence--7a6a71ad-351d-4fd0-af5e-70ddc29b1716'], 'impact_refs': ['impact--85e1bd8c-6fbf-4f12-bc01-217f1aaa5b11'], 'event_refs': ['event--71966765-87dd-4fb5-abd5-5ef8ed373023'], 'task_refs': ['task--ea191634-3264-41d0-93c3-1a4f4f90f0df', 'task--b148b218-b5a7-4773-9225-be59584d95f2'], 'other_object_refs': ['email-addr--eb38d07e-6ba8-56c1-b107-d4db4aacf212', 'email-addr--4722424c-7012-56b0-84d5-01d076fc547b', 'user-account--597ad4d4-35ba-585d-8f6d-134a75032f9b', 'identity--869ba25e-3dbb-4e1c-b2f7-55e480f501f4', 'identity--bcb5d0d5-80b4-43bf-856f-180fc274169b', 'url--3279c7de-8f91-5c1a-99d9-d6546c6c41f7', 'email-message--6090e3d4-1fa8-5b36-9d2d-4a66d824995d', 'observed-data--fbbe550d-2b3e-44e2-be8f-8e22f0172db6', 'indicator--e9eea779-6a78-4a19-8c91-f07efbad06c9', 'sighting--2177e689-9d1e-4da9-b0c8-dd6715f8f430', 'identity--eba479d4-5f39-436f-b0e5-5d001f2ea632', 'anecdote--e1298bc0-818e-5cdb-9154-eac37c8e260f', 'observed-data--ccaa6ee7-f5ff-4fe3-8969-d282c1210694', 'sighting--462dcea7-1c1a-43ac-96ce-0234bafb97f4']}, 'icon': 'incident-ext', 'name': 'Incident Extension', 'heading': 'Incident Extension', 'description': '', 'object_form': 'incident', 'object_group': 'sdo-forms', 'object_family': 'stix-forms'}\n",
      "type of incident obj -?<class 'dict'>\n",
      "key is --> impact\n",
      "incident obj -> {'id': 'incident--6d52a48a-c174-40cf-9a92-69422159a75b', 'type': 'incident', 'original': {'type': 'incident', 'spec_version': '2.1', 'id': 'incident--6d52a48a-c174-40cf-9a92-69422159a75b', 'created': '2025-07-07T04:28:45.928Z', 'modified': '2025-07-07T04:28:45.928Z', 'name': 'potential phishing', 'extensions': {'extension-definition--ef765651-680c-498d-9894-99799f2fa126': {'extension_type': 'property-extension', 'investigation_status': 'new', 'incident_types': ['dissemination-phishing-emails'], 'other_object_refs': ['email-addr--eb38d07e-6ba8-56c1-b107-d4db4aacf212', 'email-addr--4722424c-7012-56b0-84d5-01d076fc547b', 'user-account--597ad4d4-35ba-585d-8f6d-134a75032f9b', 'identity--869ba25e-3dbb-4e1c-b2f7-55e480f501f4', 'identity--bcb5d0d5-80b4-43bf-856f-180fc274169b', 'url--3279c7de-8f91-5c1a-99d9-d6546c6c41f7', 'email-message--6090e3d4-1fa8-5b36-9d2d-4a66d824995d', 'relationship--584b96dc-0dad-4db9-9005-9280ddc61263', 'observed-data--fbbe550d-2b3e-44e2-be8f-8e22f0172db6', 'indicator--e9eea779-6a78-4a19-8c91-f07efbad06c9', 'sighting--2177e689-9d1e-4da9-b0c8-dd6715f8f430', 'identity--eba479d4-5f39-436f-b0e5-5d001f2ea632', 'anecdote--e1298bc0-818e-5cdb-9154-eac37c8e260f', 'observed-data--ccaa6ee7-f5ff-4fe3-8969-d282c1210694', 'sighting--462dcea7-1c1a-43ac-96ce-0234bafb97f4'], 'event_refs': ['event--71966765-87dd-4fb5-abd5-5ef8ed373023'], 'sequence_refs': ['sequence--a5ee5b06-16a4-4cbe-ad59-f4930c075828', 'sequence--f74a35c6-fd81-4e98-bca7-d958a09e1961', 'sequence--7a6a71ad-351d-4fd0-af5e-70ddc29b1716'], 'sequence_start_refs': ['sequence--dde400f9-636c-4b93-a264-e047aab7cb49', 'sequence--8d8e2b5c-8cb3-4149-b777-c9a382003340'], 'task_refs': ['task--ea191634-3264-41d0-93c3-1a4f4f90f0df', 'task--b148b218-b5a7-4773-9225-be59584d95f2'], 'impact_refs': ['impact--85e1bd8c-6fbf-4f12-bc01-217f1aaa5b11']}}, 'sequence_start_refs': ['sequence--dde400f9-636c-4b93-a264-e047aab7cb49', 'sequence--8d8e2b5c-8cb3-4149-b777-c9a382003340'], 'sequence_refs': ['sequence--a5ee5b06-16a4-4cbe-ad59-f4930c075828', 'sequence--f74a35c6-fd81-4e98-bca7-d958a09e1961', 'sequence--7a6a71ad-351d-4fd0-af5e-70ddc29b1716'], 'impact_refs': ['impact--85e1bd8c-6fbf-4f12-bc01-217f1aaa5b11'], 'event_refs': ['event--71966765-87dd-4fb5-abd5-5ef8ed373023'], 'task_refs': ['task--ea191634-3264-41d0-93c3-1a4f4f90f0df', 'task--b148b218-b5a7-4773-9225-be59584d95f2'], 'other_object_refs': ['email-addr--eb38d07e-6ba8-56c1-b107-d4db4aacf212', 'email-addr--4722424c-7012-56b0-84d5-01d076fc547b', 'user-account--597ad4d4-35ba-585d-8f6d-134a75032f9b', 'identity--869ba25e-3dbb-4e1c-b2f7-55e480f501f4', 'identity--bcb5d0d5-80b4-43bf-856f-180fc274169b', 'url--3279c7de-8f91-5c1a-99d9-d6546c6c41f7', 'email-message--6090e3d4-1fa8-5b36-9d2d-4a66d824995d', 'observed-data--fbbe550d-2b3e-44e2-be8f-8e22f0172db6', 'indicator--e9eea779-6a78-4a19-8c91-f07efbad06c9', 'sighting--2177e689-9d1e-4da9-b0c8-dd6715f8f430', 'identity--eba479d4-5f39-436f-b0e5-5d001f2ea632', 'anecdote--e1298bc0-818e-5cdb-9154-eac37c8e260f', 'observed-data--ccaa6ee7-f5ff-4fe3-8969-d282c1210694', 'sighting--462dcea7-1c1a-43ac-96ce-0234bafb97f4']}, 'icon': 'incident-ext', 'name': 'Incident Extension', 'heading': 'Incident Extension', 'description': '', 'object_form': 'incident', 'object_group': 'sdo-forms', 'object_family': 'stix-forms'}\n",
      "type of incident obj -?<class 'dict'>\n",
      "key is --> event\n",
      "incident obj -> {'id': 'incident--6d52a48a-c174-40cf-9a92-69422159a75b', 'type': 'incident', 'original': {'type': 'incident', 'spec_version': '2.1', 'id': 'incident--6d52a48a-c174-40cf-9a92-69422159a75b', 'created': '2025-07-07T04:28:45.928Z', 'modified': '2025-07-07T04:28:45.928Z', 'name': 'potential phishing', 'extensions': {'extension-definition--ef765651-680c-498d-9894-99799f2fa126': {'extension_type': 'property-extension', 'investigation_status': 'new', 'incident_types': ['dissemination-phishing-emails'], 'other_object_refs': ['email-addr--eb38d07e-6ba8-56c1-b107-d4db4aacf212', 'email-addr--4722424c-7012-56b0-84d5-01d076fc547b', 'user-account--597ad4d4-35ba-585d-8f6d-134a75032f9b', 'identity--869ba25e-3dbb-4e1c-b2f7-55e480f501f4', 'identity--bcb5d0d5-80b4-43bf-856f-180fc274169b', 'url--3279c7de-8f91-5c1a-99d9-d6546c6c41f7', 'email-message--6090e3d4-1fa8-5b36-9d2d-4a66d824995d', 'relationship--584b96dc-0dad-4db9-9005-9280ddc61263', 'observed-data--fbbe550d-2b3e-44e2-be8f-8e22f0172db6', 'indicator--e9eea779-6a78-4a19-8c91-f07efbad06c9', 'sighting--2177e689-9d1e-4da9-b0c8-dd6715f8f430', 'identity--eba479d4-5f39-436f-b0e5-5d001f2ea632', 'anecdote--e1298bc0-818e-5cdb-9154-eac37c8e260f', 'observed-data--ccaa6ee7-f5ff-4fe3-8969-d282c1210694', 'sighting--462dcea7-1c1a-43ac-96ce-0234bafb97f4'], 'event_refs': ['event--71966765-87dd-4fb5-abd5-5ef8ed373023'], 'sequence_refs': ['sequence--a5ee5b06-16a4-4cbe-ad59-f4930c075828', 'sequence--f74a35c6-fd81-4e98-bca7-d958a09e1961', 'sequence--7a6a71ad-351d-4fd0-af5e-70ddc29b1716'], 'sequence_start_refs': ['sequence--dde400f9-636c-4b93-a264-e047aab7cb49', 'sequence--8d8e2b5c-8cb3-4149-b777-c9a382003340'], 'task_refs': ['task--ea191634-3264-41d0-93c3-1a4f4f90f0df', 'task--b148b218-b5a7-4773-9225-be59584d95f2'], 'impact_refs': ['impact--85e1bd8c-6fbf-4f12-bc01-217f1aaa5b11']}}, 'sequence_start_refs': ['sequence--dde400f9-636c-4b93-a264-e047aab7cb49', 'sequence--8d8e2b5c-8cb3-4149-b777-c9a382003340'], 'sequence_refs': ['sequence--a5ee5b06-16a4-4cbe-ad59-f4930c075828', 'sequence--f74a35c6-fd81-4e98-bca7-d958a09e1961', 'sequence--7a6a71ad-351d-4fd0-af5e-70ddc29b1716'], 'impact_refs': ['impact--85e1bd8c-6fbf-4f12-bc01-217f1aaa5b11'], 'event_refs': ['event--71966765-87dd-4fb5-abd5-5ef8ed373023'], 'task_refs': ['task--ea191634-3264-41d0-93c3-1a4f4f90f0df', 'task--b148b218-b5a7-4773-9225-be59584d95f2'], 'other_object_refs': ['email-addr--eb38d07e-6ba8-56c1-b107-d4db4aacf212', 'email-addr--4722424c-7012-56b0-84d5-01d076fc547b', 'user-account--597ad4d4-35ba-585d-8f6d-134a75032f9b', 'identity--869ba25e-3dbb-4e1c-b2f7-55e480f501f4', 'identity--bcb5d0d5-80b4-43bf-856f-180fc274169b', 'url--3279c7de-8f91-5c1a-99d9-d6546c6c41f7', 'email-message--6090e3d4-1fa8-5b36-9d2d-4a66d824995d', 'observed-data--fbbe550d-2b3e-44e2-be8f-8e22f0172db6', 'indicator--e9eea779-6a78-4a19-8c91-f07efbad06c9', 'sighting--2177e689-9d1e-4da9-b0c8-dd6715f8f430', 'identity--eba479d4-5f39-436f-b0e5-5d001f2ea632', 'anecdote--e1298bc0-818e-5cdb-9154-eac37c8e260f', 'observed-data--ccaa6ee7-f5ff-4fe3-8969-d282c1210694', 'sighting--462dcea7-1c1a-43ac-96ce-0234bafb97f4']}, 'icon': 'incident-ext', 'name': 'Incident Extension', 'heading': 'Incident Extension', 'description': '', 'object_form': 'incident', 'object_group': 'sdo-forms', 'object_family': 'stix-forms'}\n",
      "type of incident obj -?<class 'dict'>\n",
      "key is --> task\n",
      "incident obj -> {'id': 'incident--6d52a48a-c174-40cf-9a92-69422159a75b', 'type': 'incident', 'original': {'type': 'incident', 'spec_version': '2.1', 'id': 'incident--6d52a48a-c174-40cf-9a92-69422159a75b', 'created': '2025-07-07T04:28:45.928Z', 'modified': '2025-07-07T04:28:45.928Z', 'name': 'potential phishing', 'extensions': {'extension-definition--ef765651-680c-498d-9894-99799f2fa126': {'extension_type': 'property-extension', 'investigation_status': 'new', 'incident_types': ['dissemination-phishing-emails'], 'other_object_refs': ['email-addr--eb38d07e-6ba8-56c1-b107-d4db4aacf212', 'email-addr--4722424c-7012-56b0-84d5-01d076fc547b', 'user-account--597ad4d4-35ba-585d-8f6d-134a75032f9b', 'identity--869ba25e-3dbb-4e1c-b2f7-55e480f501f4', 'identity--bcb5d0d5-80b4-43bf-856f-180fc274169b', 'url--3279c7de-8f91-5c1a-99d9-d6546c6c41f7', 'email-message--6090e3d4-1fa8-5b36-9d2d-4a66d824995d', 'relationship--584b96dc-0dad-4db9-9005-9280ddc61263', 'observed-data--fbbe550d-2b3e-44e2-be8f-8e22f0172db6', 'indicator--e9eea779-6a78-4a19-8c91-f07efbad06c9', 'sighting--2177e689-9d1e-4da9-b0c8-dd6715f8f430', 'identity--eba479d4-5f39-436f-b0e5-5d001f2ea632', 'anecdote--e1298bc0-818e-5cdb-9154-eac37c8e260f', 'observed-data--ccaa6ee7-f5ff-4fe3-8969-d282c1210694', 'sighting--462dcea7-1c1a-43ac-96ce-0234bafb97f4'], 'event_refs': ['event--71966765-87dd-4fb5-abd5-5ef8ed373023'], 'sequence_refs': ['sequence--a5ee5b06-16a4-4cbe-ad59-f4930c075828', 'sequence--f74a35c6-fd81-4e98-bca7-d958a09e1961', 'sequence--7a6a71ad-351d-4fd0-af5e-70ddc29b1716'], 'sequence_start_refs': ['sequence--dde400f9-636c-4b93-a264-e047aab7cb49', 'sequence--8d8e2b5c-8cb3-4149-b777-c9a382003340'], 'task_refs': ['task--ea191634-3264-41d0-93c3-1a4f4f90f0df', 'task--b148b218-b5a7-4773-9225-be59584d95f2'], 'impact_refs': ['impact--85e1bd8c-6fbf-4f12-bc01-217f1aaa5b11']}}, 'sequence_start_refs': ['sequence--dde400f9-636c-4b93-a264-e047aab7cb49', 'sequence--8d8e2b5c-8cb3-4149-b777-c9a382003340'], 'sequence_refs': ['sequence--a5ee5b06-16a4-4cbe-ad59-f4930c075828', 'sequence--f74a35c6-fd81-4e98-bca7-d958a09e1961', 'sequence--7a6a71ad-351d-4fd0-af5e-70ddc29b1716'], 'impact_refs': ['impact--85e1bd8c-6fbf-4f12-bc01-217f1aaa5b11'], 'event_refs': ['event--71966765-87dd-4fb5-abd5-5ef8ed373023'], 'task_refs': ['task--ea191634-3264-41d0-93c3-1a4f4f90f0df', 'task--b148b218-b5a7-4773-9225-be59584d95f2'], 'other_object_refs': ['email-addr--eb38d07e-6ba8-56c1-b107-d4db4aacf212', 'email-addr--4722424c-7012-56b0-84d5-01d076fc547b', 'user-account--597ad4d4-35ba-585d-8f6d-134a75032f9b', 'identity--869ba25e-3dbb-4e1c-b2f7-55e480f501f4', 'identity--bcb5d0d5-80b4-43bf-856f-180fc274169b', 'url--3279c7de-8f91-5c1a-99d9-d6546c6c41f7', 'email-message--6090e3d4-1fa8-5b36-9d2d-4a66d824995d', 'observed-data--fbbe550d-2b3e-44e2-be8f-8e22f0172db6', 'indicator--e9eea779-6a78-4a19-8c91-f07efbad06c9', 'sighting--2177e689-9d1e-4da9-b0c8-dd6715f8f430', 'identity--eba479d4-5f39-436f-b0e5-5d001f2ea632', 'anecdote--e1298bc0-818e-5cdb-9154-eac37c8e260f', 'observed-data--ccaa6ee7-f5ff-4fe3-8969-d282c1210694', 'sighting--462dcea7-1c1a-43ac-96ce-0234bafb97f4']}, 'icon': 'incident-ext', 'name': 'Incident Extension', 'heading': 'Incident Extension', 'description': '', 'object_form': 'incident', 'object_group': 'sdo-forms', 'object_family': 'stix-forms'}\n",
      "type of incident obj -?<class 'dict'>\n",
      "key is --> other\n",
      "incident obj -> {'id': 'incident--6d52a48a-c174-40cf-9a92-69422159a75b', 'type': 'incident', 'original': {'type': 'incident', 'spec_version': '2.1', 'id': 'incident--6d52a48a-c174-40cf-9a92-69422159a75b', 'created': '2025-07-07T04:28:45.928Z', 'modified': '2025-07-07T04:28:45.928Z', 'name': 'potential phishing', 'extensions': {'extension-definition--ef765651-680c-498d-9894-99799f2fa126': {'extension_type': 'property-extension', 'investigation_status': 'new', 'incident_types': ['dissemination-phishing-emails'], 'other_object_refs': ['email-addr--eb38d07e-6ba8-56c1-b107-d4db4aacf212', 'email-addr--4722424c-7012-56b0-84d5-01d076fc547b', 'user-account--597ad4d4-35ba-585d-8f6d-134a75032f9b', 'identity--869ba25e-3dbb-4e1c-b2f7-55e480f501f4', 'identity--bcb5d0d5-80b4-43bf-856f-180fc274169b', 'url--3279c7de-8f91-5c1a-99d9-d6546c6c41f7', 'email-message--6090e3d4-1fa8-5b36-9d2d-4a66d824995d', 'relationship--584b96dc-0dad-4db9-9005-9280ddc61263', 'observed-data--fbbe550d-2b3e-44e2-be8f-8e22f0172db6', 'indicator--e9eea779-6a78-4a19-8c91-f07efbad06c9', 'sighting--2177e689-9d1e-4da9-b0c8-dd6715f8f430', 'identity--eba479d4-5f39-436f-b0e5-5d001f2ea632', 'anecdote--e1298bc0-818e-5cdb-9154-eac37c8e260f', 'observed-data--ccaa6ee7-f5ff-4fe3-8969-d282c1210694', 'sighting--462dcea7-1c1a-43ac-96ce-0234bafb97f4'], 'event_refs': ['event--71966765-87dd-4fb5-abd5-5ef8ed373023'], 'sequence_refs': ['sequence--a5ee5b06-16a4-4cbe-ad59-f4930c075828', 'sequence--f74a35c6-fd81-4e98-bca7-d958a09e1961', 'sequence--7a6a71ad-351d-4fd0-af5e-70ddc29b1716'], 'sequence_start_refs': ['sequence--dde400f9-636c-4b93-a264-e047aab7cb49', 'sequence--8d8e2b5c-8cb3-4149-b777-c9a382003340'], 'task_refs': ['task--ea191634-3264-41d0-93c3-1a4f4f90f0df', 'task--b148b218-b5a7-4773-9225-be59584d95f2'], 'impact_refs': ['impact--85e1bd8c-6fbf-4f12-bc01-217f1aaa5b11']}}, 'sequence_start_refs': ['sequence--dde400f9-636c-4b93-a264-e047aab7cb49', 'sequence--8d8e2b5c-8cb3-4149-b777-c9a382003340'], 'sequence_refs': ['sequence--a5ee5b06-16a4-4cbe-ad59-f4930c075828', 'sequence--f74a35c6-fd81-4e98-bca7-d958a09e1961', 'sequence--7a6a71ad-351d-4fd0-af5e-70ddc29b1716'], 'impact_refs': ['impact--85e1bd8c-6fbf-4f12-bc01-217f1aaa5b11'], 'event_refs': ['event--71966765-87dd-4fb5-abd5-5ef8ed373023'], 'task_refs': ['task--ea191634-3264-41d0-93c3-1a4f4f90f0df', 'task--b148b218-b5a7-4773-9225-be59584d95f2'], 'other_object_refs': ['email-addr--eb38d07e-6ba8-56c1-b107-d4db4aacf212', 'email-addr--4722424c-7012-56b0-84d5-01d076fc547b', 'user-account--597ad4d4-35ba-585d-8f6d-134a75032f9b', 'identity--869ba25e-3dbb-4e1c-b2f7-55e480f501f4', 'identity--bcb5d0d5-80b4-43bf-856f-180fc274169b', 'url--3279c7de-8f91-5c1a-99d9-d6546c6c41f7', 'email-message--6090e3d4-1fa8-5b36-9d2d-4a66d824995d', 'observed-data--fbbe550d-2b3e-44e2-be8f-8e22f0172db6', 'indicator--e9eea779-6a78-4a19-8c91-f07efbad06c9', 'sighting--2177e689-9d1e-4da9-b0c8-dd6715f8f430', 'identity--eba479d4-5f39-436f-b0e5-5d001f2ea632', 'anecdote--e1298bc0-818e-5cdb-9154-eac37c8e260f', 'observed-data--ccaa6ee7-f5ff-4fe3-8969-d282c1210694', 'sighting--462dcea7-1c1a-43ac-96ce-0234bafb97f4']}, 'icon': 'incident-ext', 'name': 'Incident Extension', 'heading': 'Incident Extension', 'description': '', 'object_form': 'incident', 'object_group': 'sdo-forms', 'object_family': 'stix-forms'}\n",
      "type of incident obj -?<class 'dict'>\n",
      "[\n",
      "    {\n",
      "        \"id\": \"incident--6d52a48a-c174-40cf-9a92-69422159a75b\",\n",
      "        \"type\": \"incident\",\n",
      "        \"original\": {\n",
      "            \"type\": \"incident\",\n",
      "            \"spec_version\": \"2.1\",\n",
      "            \"id\": \"incident--6d52a48a-c174-40cf-9a92-69422159a75b\",\n",
      "            \"created\": \"2025-07-07T04:28:45.928Z\",\n",
      "            \"modified\": \"2025-07-07T04:28:45.928Z\",\n",
      "            \"name\": \"potential phishing\",\n",
      "            \"extensions\": {\n",
      "                \"extension-definition--ef765651-680c-498d-9894-99799f2fa126\": {\n",
      "                    \"extension_type\": \"property-extension\",\n",
      "                    \"investigation_status\": \"new\",\n",
      "                    \"incident_types\": [\n",
      "                        \"dissemination-phishing-emails\"\n",
      "                    ],\n",
      "                    \"other_object_refs\": [\n",
      "                        \"email-addr--eb38d07e-6ba8-56c1-b107-d4db4aacf212\",\n",
      "                        \"email-addr--4722424c-7012-56b0-84d5-01d076fc547b\",\n",
      "                        \"user-account--597ad4d4-35ba-585d-8f6d-134a75032f9b\",\n",
      "                        \"identity--869ba25e-3dbb-4e1c-b2f7-55e480f501f4\",\n",
      "                        \"identity--bcb5d0d5-80b4-43bf-856f-180fc274169b\",\n",
      "                        \"url--3279c7de-8f91-5c1a-99d9-d6546c6c41f7\",\n",
      "                        \"email-message--6090e3d4-1fa8-5b36-9d2d-4a66d824995d\",\n",
      "                        \"relationship--584b96dc-0dad-4db9-9005-9280ddc61263\",\n",
      "                        \"observed-data--fbbe550d-2b3e-44e2-be8f-8e22f0172db6\",\n",
      "                        \"indicator--e9eea779-6a78-4a19-8c91-f07efbad06c9\",\n",
      "                        \"sighting--2177e689-9d1e-4da9-b0c8-dd6715f8f430\",\n",
      "                        \"identity--eba479d4-5f39-436f-b0e5-5d001f2ea632\",\n",
      "                        \"anecdote--e1298bc0-818e-5cdb-9154-eac37c8e260f\",\n",
      "                        \"observed-data--ccaa6ee7-f5ff-4fe3-8969-d282c1210694\",\n",
      "                        \"sighting--462dcea7-1c1a-43ac-96ce-0234bafb97f4\"\n",
      "                    ],\n",
      "                    \"event_refs\": [\n",
      "                        \"event--71966765-87dd-4fb5-abd5-5ef8ed373023\"\n",
      "                    ],\n",
      "                    \"sequence_refs\": [\n",
      "                        \"sequence--a5ee5b06-16a4-4cbe-ad59-f4930c075828\",\n",
      "                        \"sequence--f74a35c6-fd81-4e98-bca7-d958a09e1961\",\n",
      "                        \"sequence--7a6a71ad-351d-4fd0-af5e-70ddc29b1716\"\n",
      "                    ],\n",
      "                    \"sequence_start_refs\": [\n",
      "                        \"sequence--dde400f9-636c-4b93-a264-e047aab7cb49\",\n",
      "                        \"sequence--8d8e2b5c-8cb3-4149-b777-c9a382003340\"\n",
      "                    ],\n",
      "                    \"task_refs\": [\n",
      "                        \"task--ea191634-3264-41d0-93c3-1a4f4f90f0df\",\n",
      "                        \"task--b148b218-b5a7-4773-9225-be59584d95f2\"\n",
      "                    ],\n",
      "                    \"impact_refs\": [\n",
      "                        \"impact--85e1bd8c-6fbf-4f12-bc01-217f1aaa5b11\"\n",
      "                    ]\n",
      "                }\n",
      "            },\n",
      "            \"sequence_start_refs\": [\n",
      "                \"sequence--dde400f9-636c-4b93-a264-e047aab7cb49\",\n",
      "                \"sequence--8d8e2b5c-8cb3-4149-b777-c9a382003340\"\n",
      "            ],\n",
      "            \"sequence_refs\": [\n",
      "                \"sequence--a5ee5b06-16a4-4cbe-ad59-f4930c075828\",\n",
      "                \"sequence--f74a35c6-fd81-4e98-bca7-d958a09e1961\",\n",
      "                \"sequence--7a6a71ad-351d-4fd0-af5e-70ddc29b1716\"\n",
      "            ],\n",
      "            \"impact_refs\": [\n",
      "                \"impact--85e1bd8c-6fbf-4f12-bc01-217f1aaa5b11\"\n",
      "            ],\n",
      "            \"event_refs\": [\n",
      "                \"event--71966765-87dd-4fb5-abd5-5ef8ed373023\"\n",
      "            ],\n",
      "            \"task_refs\": [\n",
      "                \"task--ea191634-3264-41d0-93c3-1a4f4f90f0df\",\n",
      "                \"task--b148b218-b5a7-4773-9225-be59584d95f2\"\n",
      "            ],\n",
      "            \"other_object_refs\": [\n",
      "                \"email-addr--eb38d07e-6ba8-56c1-b107-d4db4aacf212\",\n",
      "                \"email-addr--4722424c-7012-56b0-84d5-01d076fc547b\",\n",
      "                \"user-account--597ad4d4-35ba-585d-8f6d-134a75032f9b\",\n",
      "                \"identity--869ba25e-3dbb-4e1c-b2f7-55e480f501f4\",\n",
      "                \"identity--bcb5d0d5-80b4-43bf-856f-180fc274169b\",\n",
      "                \"url--3279c7de-8f91-5c1a-99d9-d6546c6c41f7\",\n",
      "                \"email-message--6090e3d4-1fa8-5b36-9d2d-4a66d824995d\",\n",
      "                \"observed-data--fbbe550d-2b3e-44e2-be8f-8e22f0172db6\",\n",
      "                \"indicator--e9eea779-6a78-4a19-8c91-f07efbad06c9\",\n",
      "                \"sighting--2177e689-9d1e-4da9-b0c8-dd6715f8f430\",\n",
      "                \"identity--eba479d4-5f39-436f-b0e5-5d001f2ea632\",\n",
      "                \"anecdote--e1298bc0-818e-5cdb-9154-eac37c8e260f\",\n",
      "                \"observed-data--ccaa6ee7-f5ff-4fe3-8969-d282c1210694\",\n",
      "                \"sighting--462dcea7-1c1a-43ac-96ce-0234bafb97f4\"\n",
      "            ]\n",
      "        },\n",
      "        \"icon\": \"incident-ext\",\n",
      "        \"name\": \"Incident Extension\",\n",
      "        \"heading\": \"Incident Extension\",\n",
      "        \"description\": \"\",\n",
      "        \"object_form\": \"incident\",\n",
      "        \"object_group\": \"sdo-forms\",\n",
      "        \"object_family\": \"stix-forms\"\n",
      "    },\n",
      "    {\n",
      "        \"id\": \"incident--6d52a48a-c174-40cf-9a92-69422159a75b\",\n",
      "        \"type\": \"incident\",\n",
      "        \"original\": {\n",
      "            \"type\": \"incident\",\n",
      "            \"spec_version\": \"2.1\",\n",
      "            \"id\": \"incident--6d52a48a-c174-40cf-9a92-69422159a75b\",\n",
      "            \"created\": \"2025-07-07T04:28:45.928Z\",\n",
      "            \"modified\": \"2025-07-07T04:28:45.928Z\",\n",
      "            \"name\": \"potential phishing\",\n",
      "            \"extensions\": {\n",
      "                \"extension-definition--ef765651-680c-498d-9894-99799f2fa126\": {\n",
      "                    \"extension_type\": \"property-extension\",\n",
      "                    \"investigation_status\": \"new\",\n",
      "                    \"incident_types\": [\n",
      "                        \"dissemination-phishing-emails\"\n",
      "                    ],\n",
      "                    \"other_object_refs\": [\n",
      "                        \"email-addr--eb38d07e-6ba8-56c1-b107-d4db4aacf212\",\n",
      "                        \"email-addr--4722424c-7012-56b0-84d5-01d076fc547b\",\n",
      "                        \"user-account--597ad4d4-35ba-585d-8f6d-134a75032f9b\",\n",
      "                        \"identity--869ba25e-3dbb-4e1c-b2f7-55e480f501f4\",\n",
      "                        \"identity--bcb5d0d5-80b4-43bf-856f-180fc274169b\",\n",
      "                        \"url--3279c7de-8f91-5c1a-99d9-d6546c6c41f7\",\n",
      "                        \"email-message--6090e3d4-1fa8-5b36-9d2d-4a66d824995d\",\n",
      "                        \"relationship--584b96dc-0dad-4db9-9005-9280ddc61263\",\n",
      "                        \"observed-data--fbbe550d-2b3e-44e2-be8f-8e22f0172db6\",\n",
      "                        \"indicator--e9eea779-6a78-4a19-8c91-f07efbad06c9\",\n",
      "                        \"sighting--2177e689-9d1e-4da9-b0c8-dd6715f8f430\",\n",
      "                        \"identity--eba479d4-5f39-436f-b0e5-5d001f2ea632\",\n",
      "                        \"anecdote--e1298bc0-818e-5cdb-9154-eac37c8e260f\",\n",
      "                        \"observed-data--ccaa6ee7-f5ff-4fe3-8969-d282c1210694\",\n",
      "                        \"sighting--462dcea7-1c1a-43ac-96ce-0234bafb97f4\"\n",
      "                    ],\n",
      "                    \"event_refs\": [\n",
      "                        \"event--71966765-87dd-4fb5-abd5-5ef8ed373023\"\n",
      "                    ],\n",
      "                    \"sequence_refs\": [\n",
      "                        \"sequence--a5ee5b06-16a4-4cbe-ad59-f4930c075828\",\n",
      "                        \"sequence--f74a35c6-fd81-4e98-bca7-d958a09e1961\",\n",
      "                        \"sequence--7a6a71ad-351d-4fd0-af5e-70ddc29b1716\"\n",
      "                    ],\n",
      "                    \"sequence_start_refs\": [\n",
      "                        \"sequence--dde400f9-636c-4b93-a264-e047aab7cb49\",\n",
      "                        \"sequence--8d8e2b5c-8cb3-4149-b777-c9a382003340\"\n",
      "                    ],\n",
      "                    \"task_refs\": [\n",
      "                        \"task--ea191634-3264-41d0-93c3-1a4f4f90f0df\",\n",
      "                        \"task--b148b218-b5a7-4773-9225-be59584d95f2\"\n",
      "                    ],\n",
      "                    \"impact_refs\": [\n",
      "                        \"impact--85e1bd8c-6fbf-4f12-bc01-217f1aaa5b11\"\n",
      "                    ]\n",
      "                }\n",
      "            },\n",
      "            \"sequence_start_refs\": [\n",
      "                \"sequence--dde400f9-636c-4b93-a264-e047aab7cb49\",\n",
      "                \"sequence--8d8e2b5c-8cb3-4149-b777-c9a382003340\"\n",
      "            ],\n",
      "            \"sequence_refs\": [\n",
      "                \"sequence--a5ee5b06-16a4-4cbe-ad59-f4930c075828\",\n",
      "                \"sequence--f74a35c6-fd81-4e98-bca7-d958a09e1961\",\n",
      "                \"sequence--7a6a71ad-351d-4fd0-af5e-70ddc29b1716\"\n",
      "            ],\n",
      "            \"impact_refs\": [\n",
      "                \"impact--85e1bd8c-6fbf-4f12-bc01-217f1aaa5b11\"\n",
      "            ],\n",
      "            \"event_refs\": [\n",
      "                \"event--71966765-87dd-4fb5-abd5-5ef8ed373023\"\n",
      "            ],\n",
      "            \"task_refs\": [\n",
      "                \"task--ea191634-3264-41d0-93c3-1a4f4f90f0df\",\n",
      "                \"task--b148b218-b5a7-4773-9225-be59584d95f2\"\n",
      "            ],\n",
      "            \"other_object_refs\": [\n",
      "                \"email-addr--eb38d07e-6ba8-56c1-b107-d4db4aacf212\",\n",
      "                \"email-addr--4722424c-7012-56b0-84d5-01d076fc547b\",\n",
      "                \"user-account--597ad4d4-35ba-585d-8f6d-134a75032f9b\",\n",
      "                \"identity--869ba25e-3dbb-4e1c-b2f7-55e480f501f4\",\n",
      "                \"identity--bcb5d0d5-80b4-43bf-856f-180fc274169b\",\n",
      "                \"url--3279c7de-8f91-5c1a-99d9-d6546c6c41f7\",\n",
      "                \"email-message--6090e3d4-1fa8-5b36-9d2d-4a66d824995d\",\n",
      "                \"observed-data--fbbe550d-2b3e-44e2-be8f-8e22f0172db6\",\n",
      "                \"indicator--e9eea779-6a78-4a19-8c91-f07efbad06c9\",\n",
      "                \"sighting--2177e689-9d1e-4da9-b0c8-dd6715f8f430\",\n",
      "                \"identity--eba479d4-5f39-436f-b0e5-5d001f2ea632\",\n",
      "                \"anecdote--e1298bc0-818e-5cdb-9154-eac37c8e260f\",\n",
      "                \"observed-data--ccaa6ee7-f5ff-4fe3-8969-d282c1210694\",\n",
      "                \"sighting--462dcea7-1c1a-43ac-96ce-0234bafb97f4\"\n",
      "            ]\n",
      "        },\n",
      "        \"icon\": \"incident-ext\",\n",
      "        \"name\": \"Incident Extension\",\n",
      "        \"heading\": \"Incident Extension\",\n",
      "        \"description\": \"\",\n",
      "        \"object_form\": \"incident\",\n",
      "        \"object_group\": \"sdo-forms\",\n",
      "        \"object_family\": \"stix-forms\"\n",
      "    }\n",
      "]\n"
     ]
    }
   ],
   "source": [
    "test = get_all_incidents()\n",
    "test_string = json.dumps(test, indent=4)\n",
    "print(test_string)"
   ]
  },
  {
   "cell_type": "code",
   "execution_count": 13,
   "metadata": {},
   "outputs": [
    {
     "name": "stdout",
     "output_type": "stream",
     "text": [
      "[]\n",
      "[]\n"
     ]
    }
   ],
   "source": [
    "\n",
    "input1 = { \"object_type\": \"observed-data\",\n",
    "\t\t   \"object_field\": \"object_refs\",}\n",
    "\n",
    "input2 = { \"object_type\": \"email-message\",\n",
    "\t\t   \"object_field\": \"from_ref\",}\n",
    "\n",
    "test = invoke_get_connections_block(input1[\"object_type\"], input1[\"object_field\"], results_base + \"step1/get_connections_test1.json\")\n",
    "print(test)\n",
    "test = invoke_get_connections_block(input2[\"object_type\"], input2[\"object_field\"], results_base + \"step1/get_connections_test2.json\")\n",
    "print(test)"
   ]
  }
 ],
 "metadata": {
  "kernelspec": {
   "display_name": ".venv",
   "language": "python",
   "name": "python3"
  },
  "language_info": {
   "codemirror_mode": {
    "name": "ipython",
    "version": 3
   },
   "file_extension": ".py",
   "mimetype": "text/x-python",
   "name": "python",
   "nbconvert_exporter": "python",
   "pygments_lexer": "ipython3",
   "version": "3.11.3"
  }
 },
 "nbformat": 4,
 "nbformat_minor": 0
}
