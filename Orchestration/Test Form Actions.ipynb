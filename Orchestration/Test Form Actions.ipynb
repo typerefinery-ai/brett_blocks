{
 "cells": [
  {
   "cell_type": "markdown",
   "metadata": {
    "collapsed": false
   },
   "source": [
    "# Tests to check UI blocks\n",
    "\n",
    "\n",
    "\n",
    "## 1. Setup Imports"
   ]
  },
  {
   "cell_type": "code",
   "execution_count": 1,
   "metadata": {
    "collapsed": false,
    "ExecuteTime": {
     "end_time": "2025-05-03T05:49:53.699732700Z",
     "start_time": "2025-05-03T05:49:53.101630100Z"
    }
   },
   "outputs": [],
   "source": [
    "\n",
    "import sys\n",
    "sys.path.append('../')\n",
    "import os\n",
    "import logging\n",
    "logger = logging.getLogger(__name__)\n",
    "logger.setLevel(logging.INFO)\n",
    "from Utilities.local_make_general import invoke_get_relationship_type_block\n",
    "from Utilities.local_make_general import invoke_get_connection_type_block\n",
    "from Utilities.local_make_general import invoke_rmb_tree_copy\n",
    "from Utilities.local_make_general import invoke_rmb_tree_editDAG\n",
    "\n",
    "from Block_Families.General._library.convert_n_and_e import convert_node, convert_relns, convert_sighting\n",
    "\n",
    "context_base = \"../Orchestration/generated/os-triage/context_mem\"\n",
    "results_base = \"../Orchestration/Results/\"\n",
    "object_base = \"../Block_Families/StixORM/\"\n",
    "os_triage_base = \"../Block_Families/OS_Triage/\""
   ]
  },
  {
   "cell_type": "markdown",
   "metadata": {
    "collapsed": false
   },
   "source": [
    "## 2. Test \"Get Relationship Type Block\""
   ]
  },
  {
   "cell_type": "code",
   "execution_count": 2,
   "metadata": {
    "collapsed": false
   },
   "outputs": [
    {
     "ename": "KeyError",
     "evalue": "'source'",
     "output_type": "error",
     "traceback": [
      "\u001B[1;31m---------------------------------------------------------------------------\u001B[0m",
      "\u001B[1;31mKeyError\u001B[0m                                  Traceback (most recent call last)",
      "Cell \u001B[1;32mIn[2], line 6\u001B[0m\n\u001B[0;32m      3\u001B[0m target_path \u001B[38;5;241m=\u001B[39m results_base \u001B[38;5;241m+\u001B[39m \u001B[38;5;124m\"\u001B[39m\u001B[38;5;124mstep1/SUSS__email_msg.json\u001B[39m\u001B[38;5;124m\"\u001B[39m\n\u001B[0;32m      4\u001B[0m results_path \u001B[38;5;241m=\u001B[39m results_base \u001B[38;5;241m+\u001B[39m \u001B[38;5;124m\"\u001B[39m\u001B[38;5;124mstep1/SRO_Types.json\u001B[39m\u001B[38;5;124m\"\u001B[39m\n\u001B[1;32m----> 6\u001B[0m result_dict \u001B[38;5;241m=\u001B[39m \u001B[43minvoke_get_relationship_type_block\u001B[49m\u001B[43m(\u001B[49m\u001B[43msource_path\u001B[49m\u001B[43m,\u001B[49m\u001B[43m \u001B[49m\u001B[43mtarget_path\u001B[49m\u001B[43m,\u001B[49m\u001B[43m \u001B[49m\u001B[43mresults_path\u001B[49m\u001B[43m)\u001B[49m\n\u001B[0;32m      7\u001B[0m \u001B[38;5;28mprint\u001B[39m(\u001B[38;5;124mf\u001B[39m\u001B[38;5;124m\"\u001B[39m\u001B[38;5;124mresult_dict->\u001B[39m\u001B[38;5;132;01m{\u001B[39;00mresult_dict\u001B[38;5;132;01m}\u001B[39;00m\u001B[38;5;124m\"\u001B[39m)\n",
      "File \u001B[1;32m~\\PycharmProjects\\brett_blocks\\Orchestration\\Utilities\\local_make_general.py:240\u001B[0m, in \u001B[0;36minvoke_get_relationship_type_block\u001B[1;34m(source_dict_path, target_dict_path, results_path)\u001B[0m\n\u001B[0;32m    238\u001B[0m     \u001B[38;5;28;01mwith\u001B[39;00m \u001B[38;5;28mopen\u001B[39m(source_target_path, \u001B[38;5;124m'\u001B[39m\u001B[38;5;124mw\u001B[39m\u001B[38;5;124m'\u001B[39m) \u001B[38;5;28;01mas\u001B[39;00m f:\n\u001B[0;32m    239\u001B[0m         f\u001B[38;5;241m.\u001B[39mwrite(json\u001B[38;5;241m.\u001B[39mdumps(local_inputs))\n\u001B[1;32m--> 240\u001B[0m \u001B[43mget_relationship_type\u001B[49m\u001B[43m(\u001B[49m\u001B[43msource_target_path\u001B[49m\u001B[43m,\u001B[49m\u001B[43mresults_path\u001B[49m\u001B[43m)\u001B[49m\n\u001B[0;32m    241\u001B[0m \u001B[38;5;66;03m#\u001B[39;00m\n\u001B[0;32m    242\u001B[0m \u001B[38;5;66;03m# Remove the context type record\u001B[39;00m\n\u001B[0;32m    243\u001B[0m \u001B[38;5;66;03m#\u001B[39;00m\n\u001B[0;32m    244\u001B[0m \u001B[38;5;66;03m#\u001B[39;00m\n\u001B[0;32m    245\u001B[0m \u001B[38;5;28;01mif\u001B[39;00m os\u001B[38;5;241m.\u001B[39mpath\u001B[38;5;241m.\u001B[39mexists(results_path):\n",
      "File \u001B[1;32m~\\PycharmProjects\\brett_blocks\\Block_Families\\OS_Triage\\Mouse\\get_relationship_types.py:232\u001B[0m, in \u001B[0;36mmain\u001B[1;34m(inputfile, outputfile)\u001B[0m\n\u001B[0;32m    229\u001B[0m             target_obj \u001B[38;5;241m=\u001B[39m parse(target_dict, import_type\u001B[38;5;241m=\u001B[39mimport_type)\n\u001B[0;32m    230\u001B[0m         \u001B[38;5;66;03m#\u001B[39;00m\n\u001B[0;32m    231\u001B[0m         \u001B[38;5;66;03m# setup logger for execution\u001B[39;00m\n\u001B[1;32m--> 232\u001B[0m         reln_type_list \u001B[38;5;241m=\u001B[39m \u001B[43mget_relationship_type\u001B[49m\u001B[43m(\u001B[49m\u001B[43msource_obj\u001B[49m\u001B[43m,\u001B[49m\u001B[43m \u001B[49m\u001B[43mtarget_obj\u001B[49m\u001B[43m)\u001B[49m\n\u001B[0;32m    234\u001B[0m \u001B[38;5;28;01mwith\u001B[39;00m \u001B[38;5;28mopen\u001B[39m(outputfile, \u001B[38;5;124m\"\u001B[39m\u001B[38;5;124mw\u001B[39m\u001B[38;5;124m\"\u001B[39m) \u001B[38;5;28;01mas\u001B[39;00m outfile:\n\u001B[0;32m    235\u001B[0m     json\u001B[38;5;241m.\u001B[39mdump(reln_type_list, outfile)\n",
      "File \u001B[1;32m~\\PycharmProjects\\brett_blocks\\Block_Families\\OS_Triage\\Mouse\\get_relationship_types.py:159\u001B[0m, in \u001B[0;36mget_relationship_type\u001B[1;34m(source, target)\u001B[0m\n\u001B[0;32m    157\u001B[0m source_passes \u001B[38;5;241m=\u001B[39m \u001B[38;5;28;01mFalse\u001B[39;00m\n\u001B[0;32m    158\u001B[0m target_passes \u001B[38;5;241m=\u001B[39m \u001B[38;5;28;01mFalse\u001B[39;00m\n\u001B[1;32m--> 159\u001B[0m constraint_source_list \u001B[38;5;241m=\u001B[39m \u001B[43mconstraint_layer\u001B[49m\u001B[43m[\u001B[49m\u001B[38;5;124;43m\"\u001B[39;49m\u001B[38;5;124;43msource\u001B[39;49m\u001B[38;5;124;43m\"\u001B[39;49m\u001B[43m]\u001B[49m\n\u001B[0;32m    160\u001B[0m constraint_target_list \u001B[38;5;241m=\u001B[39m constraint_layer[\u001B[38;5;124m\"\u001B[39m\u001B[38;5;124mtarget\u001B[39m\u001B[38;5;124m\"\u001B[39m]\n\u001B[0;32m    161\u001B[0m \u001B[38;5;66;03m# 6.A Evaluate whether the source object is in the source list\u001B[39;00m\n",
      "\u001B[1;31mKeyError\u001B[0m: 'source'"
     ]
    }
   ],
   "source": [
    "#\n",
    "source_path = results_base + \"step1/THREAT__url.json\"\n",
    "target_path = results_base + \"step1/SUSS__email_msg.json\"\n",
    "results_path = results_base + \"step1/SRO_Types.json\"\n",
    "\n",
    "result_dict = invoke_get_relationship_type_block(source_path, target_path, results_path)\n",
    "print(f\"result_dict->{result_dict}\")"
   ]
  },
  {
   "cell_type": "markdown",
   "metadata": {
    "collapsed": false
   },
   "source": [
    "# 2.B Test \"Get Connection Type Block\""
   ]
  },
  {
   "cell_type": "code",
   "execution_count": 3,
   "metadata": {
    "collapsed": false,
    "ExecuteTime": {
     "end_time": "2025-05-02T10:49:19.760138700Z",
     "start_time": "2025-05-02T10:49:19.673347300Z"
    }
   },
   "outputs": [
    {
     "name": "stdout",
     "output_type": "stream",
     "text": [
      "result_dict->{'connection_field_list': ['from_ref', 'sender_ref', 'to_refs', 'cc_refs', 'bcc_refs'], 'connect_objects': {'source_ref': 'email-message--6090e3d4-1fa8-5b36-9d2d-4a66d824995d', 'target_ref': 'email-addr--eb38d07e-6ba8-56c1-b107-d4db4aacf212'}}\n"
     ]
    }
   ],
   "source": [
    "\n",
    "source_path = results_base +\"step1/SUSS__email_msg.json\"\n",
    "target_path = results_base + \"step1/THREAT____email.json\"\n",
    "results_path = results_base + \"step1/SRO_Types.json\"\n",
    "\n",
    "result_dict = invoke_get_connection_type_block(source_path, target_path, results_path)\n",
    "print(f\"result_dict->{result_dict}\")"
   ]
  },
  {
   "cell_type": "markdown",
   "metadata": {
    "collapsed": false
   },
   "source": [
    "## 3. Test Tree RMB Menu - Copy"
   ]
  },
  {
   "cell_type": "code",
   "execution_count": null,
   "metadata": {
    "collapsed": false
   },
   "outputs": [],
   "source": [
    "#\n",
    "source_path = os_triage_base + \"Mouse/rmb_tree_data.json\"\n",
    "results_path = results_base + \"step1/rmb_tree_copy.json\"\n",
    "\n",
    "result_dict = invoke_rmb_tree_copy(source_path, results_path)\n",
    "print(f\"result_dict->{result_dict}\")"
   ]
  },
  {
   "cell_type": "markdown",
   "metadata": {
    "collapsed": false
   },
   "source": [
    "## 4. Tree RMB Menu - Edit DAG"
   ]
  },
  {
   "cell_type": "code",
   "execution_count": null,
   "metadata": {
    "collapsed": false
   },
   "outputs": [],
   "source": [
    "\n",
    "from Utilities.local_make_general import invoke_rmb_tree_editDAG\n",
    "context_base = \"../Orchestration/generated/os-triage/context_mem\"\n",
    "results_base = \"../Orchestration/Results/\"\n",
    "object_base = \"../Block_Families/StixORM/\"\n",
    "os_triage_base = \"../Block_Families/OS_Triage/\"\n",
    "#\n",
    "source_path = os_triage_base + \"Mouse/rmb_tree_data.json\"\n",
    "results_path = results_base + \"step1/rmb_tree_edit_DAG.json\"\n",
    "\n",
    "result_dict = invoke_rmb_tree_editDAG(source_path, results_path)\n",
    "print(f\"result_dict->{result_dict}\")"
   ]
  },
  {
   "cell_type": "markdown",
   "metadata": {
    "collapsed": false
   },
   "source": [
    "# 5. Get default incident"
   ]
  },
  {
   "cell_type": "code",
   "execution_count": null,
   "metadata": {
    "collapsed": false
   },
   "outputs": [],
   "source": [
    "from Utilities.local_make_general import invoke_get_default_incident_objects_block\n",
    "context_base = \"../Orchestration/generated/os-triage/context_mem\"\n",
    "results_base = \"../Orchestration/Results/\"\n",
    "object_base = \"../Block_Families/StixORM/\"\n",
    "os_triage_base = \"../Block_Families/OS_Triage/\"\n",
    "#\n",
    "source_path = os_triage_base + \"Open_Incident/get_default_incidents_objects.json\"\n",
    "results_path = results_base + \"step4/default_incidents_object.json\"\n",
    "\n",
    "result_dict = invoke_get_default_incident_objects_block(source_path, results_path)\n",
    "print(f\"result_dict->{result_dict}\")"
   ]
  },
  {
   "cell_type": "code",
   "execution_count": null,
   "metadata": {
    "collapsed": false
   },
   "outputs": [],
   "source": [
    "from Block_Families.OS_Triage.Open_Incident.get_default_incidents_objects import get_default_incidents_objects\n",
    "test = get_default_incidents_objects()\n",
    "print(test)"
   ]
  },
  {
   "cell_type": "code",
   "execution_count": null,
   "metadata": {
    "collapsed": false
   },
   "outputs": [],
   "source": [
    "from try_print_update import compare_incidents\n",
    "import json\n",
    "report = compare_incidents()\n",
    "print(\"=================================================\")\n",
    "#print(report)\n",
    "print(\"==================================================\")\n",
    "with open(\"diff-results.json\", \"w\") as f:\n",
    "    f.write(json.dumps(report))"
   ]
  },
  {
   "cell_type": "code",
   "execution_count": null,
   "metadata": {
    "collapsed": false
   },
   "outputs": [],
   "source": [
    "from Block_Families.OS_Triage.Open_Incident.get_all_incidents import get_all_incidents\n",
    "import json\n",
    "test = get_all_incidents()\n",
    "test_string = json.dumps(test, indent=4)\n",
    "print(test_string)"
   ]
  },
  {
   "cell_type": "code",
   "execution_count": null,
   "outputs": [],
   "source": [],
   "metadata": {
    "collapsed": false
   }
  }
 ],
 "metadata": {
  "kernelspec": {
   "display_name": "Python 3",
   "language": "python",
   "name": "python3"
  },
  "language_info": {
   "codemirror_mode": {
    "name": "ipython",
    "version": 2
   },
   "file_extension": ".py",
   "mimetype": "text/x-python",
   "name": "python",
   "nbconvert_exporter": "python",
   "pygments_lexer": "ipython2",
   "version": "2.7.6"
  }
 },
 "nbformat": 4,
 "nbformat_minor": 0
}
