{
 "cells": [
  {
   "cell_type": "markdown",
   "source": [
    "# A. Test some stuff\n",
    "test some stuff\n"
   ],
   "metadata": {
    "collapsed": false
   }
  },
  {
   "cell_type": "code",
   "execution_count": 1,
   "outputs": [
    {
     "name": "stdout",
     "output_type": "stream",
     "text": [
      "Requirement already satisfied: stixorm in c:\\users\\brett\\anaconda3\\envs\\brett-blocks\\lib\\site-packages (0.3.9)\n",
      "Requirement already satisfied: loguru<0.8.0,>=0.7.0 in c:\\users\\brett\\anaconda3\\envs\\brett-blocks\\lib\\site-packages (from stixorm) (0.7.0)\n",
      "Requirement already satisfied: networkx<4.0,>=3.1 in c:\\users\\brett\\anaconda3\\envs\\brett-blocks\\lib\\site-packages (from stixorm) (3.1)\n",
      "Requirement already satisfied: pydantic<3.0.0,>=2.1.1 in c:\\users\\brett\\anaconda3\\envs\\brett-blocks\\lib\\site-packages (from stixorm) (2.1.1)\n",
      "Requirement already satisfied: stix2==3.0.1 in c:\\users\\brett\\anaconda3\\envs\\brett-blocks\\lib\\site-packages (from stixorm) (3.0.1)\n",
      "Requirement already satisfied: typedb-driver<3.0.0,>=2.25.6 in c:\\users\\brett\\anaconda3\\envs\\brett-blocks\\lib\\site-packages (from stixorm) (2.25.8)\n",
      "Requirement already satisfied: validators<0.21.0,>=0.20.0 in c:\\users\\brett\\anaconda3\\envs\\brett-blocks\\lib\\site-packages (from stixorm) (0.20.0)\n",
      "Requirement already satisfied: pytz in c:\\users\\brett\\anaconda3\\envs\\brett-blocks\\lib\\site-packages (from stix2==3.0.1->stixorm) (2023.3)\n",
      "Requirement already satisfied: requests in c:\\users\\brett\\anaconda3\\envs\\brett-blocks\\lib\\site-packages (from stix2==3.0.1->stixorm) (2.31.0)\n",
      "Requirement already satisfied: simplejson in c:\\users\\brett\\anaconda3\\envs\\brett-blocks\\lib\\site-packages (from stix2==3.0.1->stixorm) (3.19.1)\n",
      "Requirement already satisfied: stix2-patterns>=1.2.0 in c:\\users\\brett\\anaconda3\\envs\\brett-blocks\\lib\\site-packages (from stix2==3.0.1->stixorm) (2.0.0)\n",
      "Requirement already satisfied: colorama>=0.3.4 in c:\\users\\brett\\anaconda3\\envs\\brett-blocks\\lib\\site-packages (from loguru<0.8.0,>=0.7.0->stixorm) (0.4.6)\n",
      "Requirement already satisfied: win32-setctime>=1.0.0 in c:\\users\\brett\\anaconda3\\envs\\brett-blocks\\lib\\site-packages (from loguru<0.8.0,>=0.7.0->stixorm) (1.1.0)\n",
      "Requirement already satisfied: annotated-types>=0.4.0 in c:\\users\\brett\\anaconda3\\envs\\brett-blocks\\lib\\site-packages (from pydantic<3.0.0,>=2.1.1->stixorm) (0.5.0)\n",
      "Requirement already satisfied: pydantic-core==2.4.0 in c:\\users\\brett\\anaconda3\\envs\\brett-blocks\\lib\\site-packages (from pydantic<3.0.0,>=2.1.1->stixorm) (2.4.0)\n",
      "Requirement already satisfied: typing-extensions>=4.6.1 in c:\\users\\brett\\anaconda3\\envs\\brett-blocks\\lib\\site-packages (from pydantic<3.0.0,>=2.1.1->stixorm) (4.7.1)\n",
      "Requirement already satisfied: parse==1.18.0 in c:\\users\\brett\\anaconda3\\envs\\brett-blocks\\lib\\site-packages (from typedb-driver<3.0.0,>=2.25.6->stixorm) (1.18.0)\n",
      "Requirement already satisfied: decorator>=3.4.0 in c:\\users\\brett\\anaconda3\\envs\\brett-blocks\\lib\\site-packages (from validators<0.21.0,>=0.20.0->stixorm) (5.1.1)\n",
      "Requirement already satisfied: antlr4-python3-runtime~=4.9.0 in c:\\users\\brett\\anaconda3\\envs\\brett-blocks\\lib\\site-packages (from stix2-patterns>=1.2.0->stix2==3.0.1->stixorm) (4.9.3)\n",
      "Requirement already satisfied: six in c:\\users\\brett\\anaconda3\\envs\\brett-blocks\\lib\\site-packages (from stix2-patterns>=1.2.0->stix2==3.0.1->stixorm) (1.16.0)\n",
      "Requirement already satisfied: charset-normalizer<4,>=2 in c:\\users\\brett\\anaconda3\\envs\\brett-blocks\\lib\\site-packages (from requests->stix2==3.0.1->stixorm) (3.2.0)\n",
      "Requirement already satisfied: idna<4,>=2.5 in c:\\users\\brett\\anaconda3\\envs\\brett-blocks\\lib\\site-packages (from requests->stix2==3.0.1->stixorm) (3.4)\n",
      "Requirement already satisfied: urllib3<3,>=1.21.1 in c:\\users\\brett\\anaconda3\\envs\\brett-blocks\\lib\\site-packages (from requests->stix2==3.0.1->stixorm) (1.26.16)\n",
      "Requirement already satisfied: certifi>=2017.4.17 in c:\\users\\brett\\anaconda3\\envs\\brett-blocks\\lib\\site-packages (from requests->stix2==3.0.1->stixorm) (2023.7.22)\n"
     ]
    }
   ],
   "source": [
    "import sys\n",
    "!{sys.executable} -m pip install stixorm\n",
    "from stixorm.module.typedb import TypeDBSink, TypeDBSource\n",
    "from stixorm.module.authorise import import_type_factory\n",
    "from stixorm.module.definitions.stix21 import (\n",
    "    Identity, EmailAddress, UserAccount, Relationship, Bundle, Incident, URL, EmailMessage, ObservedData\n",
    ")\n",
    "from stixorm.module.definitions.os_threat import (\n",
    "    EventCoreExt, Event, SocialMediaContact, ContactNumber, IncidentCoreExt, TaskCoreExt,\n",
    "    Task, SightingEvidence, Sequence, SequenceExt, AnecdoteExt, Anecdote,\n",
    "    SightingAnecdote, SightingAlert, SightingContext, SightingExclusion,\n",
    "    SightingEnrichment, SightingHunt, SightingFramework, SightingExternal\n",
    ")\n",
    "from stixorm.module.authorise import import_type_factory\n",
    "from stixorm.module.typedb_lib.instructions import ResultStatus, Result\n",
    "from stixorm.module.parsing import parse_objects\n",
    "import_type = import_type_factory.get_all_imports()\n",
    "import logging\n",
    "logger = logging.getLogger(__name__)\n",
    "logger.setLevel(logging.INFO)"
   ],
   "metadata": {
    "collapsed": false,
    "ExecuteTime": {
     "end_time": "2024-09-01T02:16:39.524418800Z",
     "start_time": "2024-09-01T02:16:35.665071600Z"
    }
   }
  },
  {
   "cell_type": "markdown",
   "source": [
    "### A.2 Relative Path Imports\n",
    "https://stackoverflow.com/questions/76162459/jupyter-notebook-importerror-attempted-relative-import-with-no-known-parent-pac/77528726#77528726"
   ],
   "metadata": {
    "collapsed": false
   }
  },
  {
   "cell_type": "code",
   "execution_count": 2,
   "outputs": [],
   "source": [
    "import sys\n",
    "sys.path.append('../')\n",
    "import os"
   ],
   "metadata": {
    "collapsed": false,
    "ExecuteTime": {
     "end_time": "2024-09-01T02:16:39.539014400Z",
     "start_time": "2024-09-01T02:16:39.526419600Z"
    }
   }
  },
  {
   "cell_type": "markdown",
   "source": [
    "### A.3 Relative Import of Blocks"
   ],
   "metadata": {
    "collapsed": false
   }
  },
  {
   "cell_type": "code",
   "execution_count": 3,
   "outputs": [],
   "source": [
    "import json\n",
    "from Block_Families.StixORM.SCO.Email_Message.make_email_msg import main as make_email_msg\n",
    "from Block_Families.StixORM.SRO.Relationship.make_sro import main as make_sro\n",
    "from Utilities.local_make_sro import invoke_sro_block, invoke_sighting_block\n",
    "from Utilities.local_make_sdo import (\n",
    "    invoke_make_observed_data_block, invoke_make_indicator_block, invoke_make_event_block, invoke_make_sequence_block,\n",
    "    invoke_make_task_block, invoke_make_incident_block\n",
    ")\n",
    "from Utilities.local_make_sco import (\n",
    "    invoke_make_email_addr_block, invoke_make_url_block, invoke_make_e_msg_block,\n",
    ")\n",
    "from Utilities.local_make_general import invoke_create_incident_context, invoke_save_incident_context_block, invoke_get_from_company_block, invoke_get_from_user_block, invoke_move_unattached_to_other_block\n",
    "from conv import conv\n",
    "\n",
    "context_base = \"../Orchestration/Context_Mem/\"\n",
    "path_base = \"../Block_Families/Objects/\"\n",
    "results_base = \"../Orchestration/Results/\"\n",
    "sro_data = \"SRO/Relationship/sro_derived.json\"\n",
    "alert_data = {\n",
    "    \"from\": \"evil@northkorea.nk\",\n",
    "    \"to\": \"naive@example.com\",\n",
    "    \"reporter\": \"Naive Smith\",\n",
    "    \"url\": \"https://www.northkorea.nk/we/are/mad/\"\n",
    "}\n",
    "alert_details = {\n",
    "    \"alert_name\": \"Suspcious Email\",\n",
    "    \"alert_source\": \"user-report\",\n",
    "    \"alert_log\": \"I have found a suspicious email\"\n",
    "}\n",
    "\n",
    "TR_Context_Memory_Path = \"./Context_Mem/Type_Refinery_Context.json\""
   ],
   "metadata": {
    "collapsed": false,
    "ExecuteTime": {
     "end_time": "2024-09-01T02:16:51.598135600Z",
     "start_time": "2024-09-01T02:16:51.448402400Z"
    }
   }
  },
  {
   "cell_type": "markdown",
   "source": [
    "## C. Collect the Elements of the Observation into an Observed-Data Object\n",
    "\n",
    "Tbis then represents the potential phishing email as a group of elements"
   ],
   "metadata": {
    "collapsed": false
   }
  },
  {
   "cell_type": "code",
   "execution_count": 4,
   "outputs": [
    {
     "name": "stdout",
     "output_type": "stream",
     "text": [
      "{\n",
      "    \"type\": \"observed-data\",\n",
      "    \"spec_version\": \"2.1\",\n",
      "    \"id\": \"observed-data--de3ad24a-d979-42b1-8a4f-77f9d4efb393\",\n",
      "    \"created\": \"2024-09-01T02:17:05.410Z\",\n",
      "    \"modified\": \"2024-09-01T02:17:05.410Z\",\n",
      "    \"first_observed\": \"2020-10-19T01:01:01Z\",\n",
      "    \"last_observed\": \"2020-10-19T01:01:01Z\",\n",
      "    \"number_observed\": 1,\n",
      "    \"object_refs\": [\n",
      "        \"email-addr--eb38d07e-6ba8-56c1-b107-d4db4aacf212\",\n",
      "        \"user-account--597ad4d4-35ba-585d-8f6d-134a75032f9b\",\n",
      "        \"email-addr--4722424c-7012-56b0-84d5-01d076fc547b\",\n",
      "        \"url--3279c7de-8f91-5c1a-99d9-d6546c6c41f7\",\n",
      "        \"email-message--6090e3d4-1fa8-5b36-9d2d-4a66d824995d\",\n",
      "        \"relationship--a0fea125-c676-460d-bf7a-4099fdf6a976\"\n",
      "    ]\n",
      "}\n"
     ]
    }
   ],
   "source": [
    "\n",
    "obs_path =\"SDO/Observed_Data/observation-try.json\"\n",
    "results_path =\"step1/observation-alert.json\"\n",
    "# 3. Invoke the Make Observed Data Block\n",
    "obs_1 = invoke_make_observed_data_block(obs_path, results_path, [])\n",
    "# 4. Add the record to the in-session bundles and lists\n",
    "context_type = {\n",
    "    \"context_type\": \"unattached\"\n",
    "}\n",
    "obs_results_context_path = results_base + \"step1/observation-try_context.json\"\n",
    "# result = invoke_save_incident_context_block(results_base + results_path, obs_results_context_path, context_type)\n",
    "# print(f\" result->{result}\")"
   ],
   "metadata": {
    "collapsed": false,
    "ExecuteTime": {
     "end_time": "2024-09-01T02:17:05.114697400Z",
     "start_time": "2024-09-01T02:17:05.037683300Z"
    }
   }
  },
  {
   "cell_type": "markdown",
   "source": [
    "## D. Create the Alert Sighting\n",
    "\n",
    "Tbis then represents the sighting of potential phishing email as a group of elements\n",
    "\n",
    "### D.1 Create a Indicator with a Pattern for the Phishing Email\n",
    "but set its status to `unkown` to start with"
   ],
   "metadata": {
    "collapsed": false
   }
  },
  {
   "cell_type": "code",
   "execution_count": 11,
   "outputs": [
    {
     "name": "stdout",
     "output_type": "stream",
     "text": [
      "inputfile->../Block_Families/StixORM/SDO/Indicator/indicator_alert.json\n",
      "path exists\n",
      "input->{'indicator_form': {'base_required': {'type': 'identity', 'spec_version': '2.1', 'id': '', 'created': '', 'modified': ''}, 'base_optional': {'created_by_ref': '', 'revoked': None, 'labels': [], 'lang': '', 'external_references': [], 'object_marking_refs': [], 'granular_markings': []}, 'object': {'name': 'Potential Phishing Email', 'description': 'Suspicious email reported by user', 'pattern_type': 'stix', 'pattern': '', 'indicator_types': ['unknown']}, 'extensions': {}, 'sub': {}}, 'pattern': \"[email-addr:value = 'evil@northkorea.nk' AND email:subject = 'we are coming for you']\"}\n",
      "pattern [email-addr:value = 'evil@northkorea.nk' AND email:subject = 'we are coming for you']\n",
      "{\n",
      "    \"type\": \"indicator\",\n",
      "    \"spec_version\": \"2.1\",\n",
      "    \"id\": \"indicator--2d6468ca-e179-4b3b-9a00-3a40f3fa8d91\",\n",
      "    \"created\": \"2024-08-22T07:37:59.470Z\",\n",
      "    \"modified\": \"2024-08-22T07:37:59.470Z\",\n",
      "    \"name\": \"Potential Phishing Email\",\n",
      "    \"description\": \"Suspicious email reported by user\",\n",
      "    \"indicator_types\": [\n",
      "        \"unknown\"\n",
      "    ],\n",
      "    \"pattern\": \"[email-addr:value = 'evil@northkorea.nk' AND email:subject = 'we are coming for you']\",\n",
      "    \"pattern_type\": \"stix\",\n",
      "    \"pattern_version\": \"2.1\",\n",
      "    \"valid_from\": \"2024-08-22T07:37:59.47Z\"\n",
      "}\n",
      " result->{'context_result': ' incident context saved -> unattached\\nstix_id -> indicator--2d6468ca-e179-4b3b-9a00-3a40f3fa8d91'}\n"
     ]
    }
   ],
   "source": [
    "# 1. Setup pattern for indicator\n",
    "pat1 = \"[email-addr:value = '\" + threat_email_addr[\"value\"] + \"' AND email:subject = '\" + sus_msg[\"subject\"] + \"']\"\n",
    "# 2. Setup path to form and results\n",
    "ind_path =\"SDO/Indicator/indicator_alert.json\"\n",
    "results_path =\"step1/indicator_alert.json\"\n",
    "# 3. Invoke the Make Observed Data Block\n",
    "ind_1 = invoke_make_indicator_block(ind_path, results_path, pattern=pat1)\n",
    "# 4. Add the record to the in-session bundles and lists\n",
    "context_type = {\n",
    "    \"context_type\": \"unattached\"\n",
    "}\n",
    "indicator_results_context_path = results_base + \"step1/indicator_context.json\"\n",
    "result = invoke_save_incident_context_block(results_base + results_path, indicator_results_context_path, context_type)\n",
    "print(f\" result->{result}\")"
   ],
   "metadata": {
    "collapsed": false,
    "ExecuteTime": {
     "end_time": "2024-08-22T07:37:59.634204300Z",
     "start_time": "2024-08-22T07:37:59.468886500Z"
    }
   }
  },
  {
   "cell_type": "markdown",
   "source": [
    "### D.2 Create the Sighting\n",
    "Connecting the:\n",
    "- observed-data object\n",
    "- indicator object\n",
    "- the reporter identity as the location"
   ],
   "metadata": {
    "collapsed": false
   }
  },
  {
   "cell_type": "code",
   "execution_count": 5,
   "outputs": [
    {
     "ename": "ExtraPropertiesError",
     "evalue": "Unexpected properties for Sighting: (observed_data_refs ).",
     "output_type": "error",
     "traceback": [
      "\u001B[1;31m---------------------------------------------------------------------------\u001B[0m",
      "\u001B[1;31mExtraPropertiesError\u001B[0m                      Traceback (most recent call last)",
      "Cell \u001B[1;32mIn[5], line 10\u001B[0m\n\u001B[0;32m      8\u001B[0m where_list \u001B[38;5;241m=\u001B[39m []\n\u001B[0;32m      9\u001B[0m \u001B[38;5;66;03m# 2. Invoke the Make Observed Data Block\u001B[39;00m\n\u001B[1;32m---> 10\u001B[0m sight1 \u001B[38;5;241m=\u001B[39m \u001B[43minvoke_sighting_block\u001B[49m\u001B[43m(\u001B[49m\u001B[43msighting_data_path\u001B[49m\u001B[43m,\u001B[49m\u001B[43m \u001B[49m\u001B[43mresults_path\u001B[49m\u001B[43m,\u001B[49m\u001B[43m \u001B[49m\u001B[43mobserved\u001B[49m\u001B[38;5;241;43m=\u001B[39;49m\u001B[43mobservation_list\u001B[49m\u001B[43m,\u001B[49m\u001B[43m \u001B[49m\u001B[43msighted\u001B[49m\u001B[38;5;241;43m=\u001B[39;49m\u001B[43msighted\u001B[49m\u001B[43m,\u001B[49m\u001B[43m \u001B[49m\u001B[43mwhere\u001B[49m\u001B[38;5;241;43m=\u001B[39;49m\u001B[43mwhere_list\u001B[49m\u001B[43m)\u001B[49m\n\u001B[0;32m     11\u001B[0m \u001B[38;5;66;03m# 3. Add the record to the in-session bundles and lists\u001B[39;00m\n\u001B[0;32m     12\u001B[0m context_type \u001B[38;5;241m=\u001B[39m {\n\u001B[0;32m     13\u001B[0m     \u001B[38;5;124m\"\u001B[39m\u001B[38;5;124mcontext_type\u001B[39m\u001B[38;5;124m\"\u001B[39m: \u001B[38;5;124m\"\u001B[39m\u001B[38;5;124munattached\u001B[39m\u001B[38;5;124m\"\u001B[39m\n\u001B[0;32m     14\u001B[0m }\n",
      "File \u001B[1;32m~\\PycharmProjects\\brett_blocks\\Orchestration\\Utilities\\local_make_sro.py:81\u001B[0m, in \u001B[0;36minvoke_sighting_block\u001B[1;34m(sighting_data_path, results_path, observed, sighted, where)\u001B[0m\n\u001B[0;32m     79\u001B[0m         f\u001B[38;5;241m.\u001B[39mwrite(json\u001B[38;5;241m.\u001B[39mdumps(results_data))\n\u001B[0;32m     80\u001B[0m \u001B[38;5;66;03m# Make the Identity object\u001B[39;00m\n\u001B[1;32m---> 81\u001B[0m \u001B[43mmake_sighting\u001B[49m\u001B[43m(\u001B[49m\u001B[43msighting_data_rel_path\u001B[49m\u001B[43m,\u001B[49m\u001B[43m \u001B[49m\u001B[43msighting_results_rel_path\u001B[49m\u001B[43m)\u001B[49m\n\u001B[0;32m     82\u001B[0m \u001B[38;5;66;03m#\u001B[39;00m\n\u001B[0;32m     83\u001B[0m \u001B[38;5;66;03m# Remove Port Emulation if used - Fix the data file so it only has form data\u001B[39;00m\n\u001B[0;32m     84\u001B[0m \u001B[38;5;66;03m#\u001B[39;00m\n\u001B[0;32m     85\u001B[0m unwind_ports(sighting_data_rel_path)\n",
      "File \u001B[1;32m~\\PycharmProjects\\brett_blocks\\Block_Families\\StixORM\\SRO\\Sighting\\make_sighting.py:210\u001B[0m, in \u001B[0;36mmain\u001B[1;34m(inputfile, outputfile)\u001B[0m\n\u001B[0;32m    207\u001B[0m     sighting_of_ref \u001B[38;5;241m=\u001B[39m input_data[\u001B[38;5;124m\"\u001B[39m\u001B[38;5;124msighting_of_ref\u001B[39m\u001B[38;5;124m\"\u001B[39m]\n\u001B[0;32m    209\u001B[0m \u001B[38;5;66;03m# setup logger for execution\u001B[39;00m\n\u001B[1;32m--> 210\u001B[0m stix_dict \u001B[38;5;241m=\u001B[39m \u001B[43mmake_sighting\u001B[49m\u001B[43m(\u001B[49m\u001B[43msro_form\u001B[49m\u001B[43m,\u001B[49m\u001B[43m \u001B[49m\u001B[43mobserved_data_refs\u001B[49m\u001B[38;5;241;43m=\u001B[39;49m\u001B[43mobserved_data_refs\u001B[49m\u001B[43m,\u001B[49m\u001B[43m \u001B[49m\u001B[43mwhere_sighted_refs\u001B[49m\u001B[38;5;241;43m=\u001B[39;49m\u001B[43mwhere_sighted_refs\u001B[49m\u001B[43m,\u001B[49m\u001B[43m \u001B[49m\u001B[43msighting_of_ref\u001B[49m\u001B[38;5;241;43m=\u001B[39;49m\u001B[43msighting_of_ref\u001B[49m\u001B[43m)\u001B[49m\n\u001B[0;32m    211\u001B[0m results \u001B[38;5;241m=\u001B[39m {}\n\u001B[0;32m    212\u001B[0m results[\u001B[38;5;124m\"\u001B[39m\u001B[38;5;124msighting\u001B[39m\u001B[38;5;124m\"\u001B[39m] \u001B[38;5;241m=\u001B[39m []\n",
      "File \u001B[1;32m~\\PycharmProjects\\brett_blocks\\Block_Families\\StixORM\\SRO\\Sighting\\make_sighting.py:176\u001B[0m, in \u001B[0;36mmake_sighting\u001B[1;34m(sighting_form, observed_data_refs, sighting_of_ref, where_sighted_refs)\u001B[0m\n\u001B[0;32m    172\u001B[0m         empties_removed[k] \u001B[38;5;241m=\u001B[39m v\n\u001B[0;32m    174\u001B[0m \u001B[38;5;28;01mif\u001B[39;00m \u001B[38;5;124m\"\u001B[39m\u001B[38;5;124mmodified\u001B[39m\u001B[38;5;124m\"\u001B[39m \u001B[38;5;129;01min\u001B[39;00m required \u001B[38;5;129;01mand\u001B[39;00m required[\u001B[38;5;124m\"\u001B[39m\u001B[38;5;124mmodified\u001B[39m\u001B[38;5;124m\"\u001B[39m] \u001B[38;5;241m==\u001B[39m \u001B[38;5;124m\"\u001B[39m\u001B[38;5;124m\"\u001B[39m:\n\u001B[0;32m    175\u001B[0m     \u001B[38;5;66;03m# object needs to be created\u001B[39;00m\n\u001B[1;32m--> 176\u001B[0m     stix_obj \u001B[38;5;241m=\u001B[39m Sighting(\u001B[38;5;241m*\u001B[39m\u001B[38;5;241m*\u001B[39mempties_removed)\n\u001B[0;32m    178\u001B[0m \u001B[38;5;28;01melse\u001B[39;00m:\n\u001B[0;32m    179\u001B[0m     \u001B[38;5;66;03m# object needs to be updated, but we can't\u001B[39;00m\n\u001B[0;32m    180\u001B[0m     \u001B[38;5;66;03m#  update properly yet, so recreate instead\u001B[39;00m\n\u001B[0;32m    181\u001B[0m     stix_obj \u001B[38;5;241m=\u001B[39m Sighting(\u001B[38;5;241m*\u001B[39m\u001B[38;5;241m*\u001B[39mempties_removed)\n",
      "File \u001B[1;32m~\\anaconda3\\envs\\brett-blocks\\lib\\site-packages\\stixorm\\module\\definitions\\stix21\\classes.py:272\u001B[0m, in \u001B[0;36mSighting.__init__\u001B[1;34m(self, sighting_of_ref, **kwargs)\u001B[0m\n\u001B[0;32m    269\u001B[0m \u001B[38;5;28;01mif\u001B[39;00m sighting_of_ref \u001B[38;5;129;01mand\u001B[39;00m \u001B[38;5;129;01mnot\u001B[39;00m kwargs\u001B[38;5;241m.\u001B[39mget(\u001B[38;5;124m'\u001B[39m\u001B[38;5;124msighting_of_ref\u001B[39m\u001B[38;5;124m'\u001B[39m):\n\u001B[0;32m    270\u001B[0m     kwargs[\u001B[38;5;124m'\u001B[39m\u001B[38;5;124msighting_of_ref\u001B[39m\u001B[38;5;124m'\u001B[39m] \u001B[38;5;241m=\u001B[39m sighting_of_ref\n\u001B[1;32m--> 272\u001B[0m \u001B[38;5;28msuper\u001B[39m(Sighting, \u001B[38;5;28mself\u001B[39m)\u001B[38;5;241m.\u001B[39m\u001B[38;5;21m__init__\u001B[39m(\u001B[38;5;241m*\u001B[39m\u001B[38;5;241m*\u001B[39mkwargs)\n",
      "File \u001B[1;32m~\\anaconda3\\envs\\brett-blocks\\lib\\site-packages\\stix2\\base.py:157\u001B[0m, in \u001B[0;36m_STIXBase.__init__\u001B[1;34m(self, allow_custom, **kwargs)\u001B[0m\n\u001B[0;32m    153\u001B[0m     custom_kwargs \u001B[38;5;241m=\u001B[39m kwargs\u001B[38;5;241m.\u001B[39mkeys() \u001B[38;5;241m-\u001B[39m \u001B[38;5;28mself\u001B[39m\u001B[38;5;241m.\u001B[39m_properties\u001B[38;5;241m.\u001B[39mkeys() \\\n\u001B[0;32m    154\u001B[0m         \u001B[38;5;241m-\u001B[39m registered_toplevel_extension_props\u001B[38;5;241m.\u001B[39mkeys()\n\u001B[0;32m    156\u001B[0m \u001B[38;5;28;01mif\u001B[39;00m custom_kwargs \u001B[38;5;129;01mand\u001B[39;00m \u001B[38;5;129;01mnot\u001B[39;00m allow_custom:\n\u001B[1;32m--> 157\u001B[0m     \u001B[38;5;28;01mraise\u001B[39;00m ExtraPropertiesError(\u001B[38;5;28mcls\u001B[39m, custom_kwargs)\n\u001B[0;32m    159\u001B[0m \u001B[38;5;28;01mif\u001B[39;00m custom_props:\n\u001B[0;32m    160\u001B[0m     \u001B[38;5;66;03m# loophole for custom_properties...\u001B[39;00m\n\u001B[0;32m    161\u001B[0m     allow_custom \u001B[38;5;241m=\u001B[39m \u001B[38;5;28;01mTrue\u001B[39;00m\n",
      "\u001B[1;31mExtraPropertiesError\u001B[0m: Unexpected properties for Sighting: (observed_data_refs )."
     ]
    }
   ],
   "source": [
    "# 1. Setup path to form and results\n",
    "sighting_data_path =\"SRO/Sighting/sighting_alert.json\"\n",
    "results_path =\"step1/sighting_alert.json\"\n",
    "# 2. Setup the SDO sighted, the Observed-Data that was observed with generated objects,\n",
    "#                        then the identity object from the context storage (note the slight difference in indexing\n",
    "sighted = \"\"\n",
    "observation_list = []\n",
    "where_list = []\n",
    "# 2. Invoke the Make Observed Data Block\n",
    "sight1 = invoke_sighting_block(sighting_data_path, results_path, observed=observation_list, sighted=sighted, where=where_list)\n",
    "# 3. Add the record to the in-session bundles and lists\n",
    "context_type = {\n",
    "    \"context_type\": \"unattached\"\n",
    "}\n",
    "sighting_results_context_path = results_base + \"step1/sighting_context.json\"\n",
    "# result = invoke_save_incident_context_block(results_base + results_path, sighting_results_context_path, context_type)\n",
    "# print(f\" result->{result}\")"
   ],
   "metadata": {
    "collapsed": false,
    "ExecuteTime": {
     "end_time": "2024-09-01T04:07:19.972740300Z",
     "start_time": "2024-09-01T04:07:18.939283200Z"
    }
   }
  },
  {
   "cell_type": "markdown",
   "source": [
    "### D.3 Promote Everything from Unattached to Other\n",
    "\n",
    "Everything that uis connected in the Sighting should now be promoted, so move Unattached to the Other list"
   ],
   "metadata": {
    "collapsed": false
   }
  },
  {
   "cell_type": "code",
   "execution_count": 13,
   "outputs": [
    {
     "name": "stdout",
     "output_type": "stream",
     "text": [
      "delete element 0, node id email-addr--eb38d07e-6ba8-56c1-b107-d4db4aacf212\n",
      "delete element 1, node id user-account--597ad4d4-35ba-585d-8f6d-134a75032f9b\n",
      "delete element 0, node id email-addr--4722424c-7012-56b0-84d5-01d076fc547b\n",
      "delete element 2, node id url--3279c7de-8f91-5c1a-99d9-d6546c6c41f7\n",
      "delete element 2, node id email-message--6090e3d4-1fa8-5b36-9d2d-4a66d824995d\n",
      "delete element 2, node id observed-data--3a124ba7-bba0-4c62-938b-03f3acb71097\n",
      "delete element 2, node id indicator--2d6468ca-e179-4b3b-9a00-3a40f3fa8d91\n",
      "delete element 0, node id identity--c8a60730-4fa0-4da0-90b2-5d1b548a35aa\n"
     ]
    }
   ],
   "source": [
    "total_list = observed_list\n",
    "total_list.append(obs_1)\n",
    "total_list.append(ind_1)\n",
    "total_list.append(sight1)\n",
    "total_list.append(reporter_identity)\n",
    "\n",
    "obs_context_move_path = results_base + \"step1/context/context_move.json\"\n",
    "obs_context_move_results = results_base + \"step1/context/context_move_results.json\"\n",
    "result = invoke_move_unattached_to_other_block(obs_context_move_path, obs_context_move_results, total_list)"
   ],
   "metadata": {
    "collapsed": false,
    "ExecuteTime": {
     "end_time": "2024-08-22T07:37:59.859444200Z",
     "start_time": "2024-08-22T07:37:59.594157300Z"
    }
   }
  },
  {
   "cell_type": "markdown",
   "source": [
    "## E. Create the Event Objects\n",
    "Tbis Event represents the receiving of the phishing email"
   ],
   "metadata": {
    "collapsed": false
   }
  },
  {
   "cell_type": "code",
   "execution_count": 14,
   "outputs": [
    {
     "name": "stdout",
     "output_type": "stream",
     "text": [
      "{\n",
      "    \"type\": \"event\",\n",
      "    \"spec_version\": \"2.1\",\n",
      "    \"id\": \"event--fc4cab35-4fbb-494b-b78e-e72cb04badf0\",\n",
      "    \"created\": \"2024-08-22T07:37:59.866Z\",\n",
      "    \"modified\": \"2024-08-22T07:37:59.866Z\",\n",
      "    \"description\": \"Suspicious email reported by user\",\n",
      "    \"end_time\": \"2024-08-22T07:37:59.866Z\",\n",
      "    \"event_types\": [\n",
      "        \"dissemination-phishing-emails\"\n",
      "    ],\n",
      "    \"name\": \"Potential Phishing Email\",\n",
      "    \"start_time\": \"2024-08-22T07:37:59.866Z\",\n",
      "    \"extensions\": {\n",
      "        \"extension-definition--4ca6de00-5b0d-45ef-a1dc-ea7279ea910e\": {\n",
      "            \"extension_type\": \"new-sdo\"\n",
      "        }\n",
      "    }\n",
      "}\n",
      " result->{'context_result': ' incident context saved -> event\\nstix_id -> event--fc4cab35-4fbb-494b-b78e-e72cb04badf0'}\n"
     ]
    }
   ],
   "source": [
    "# 1. Setup path to form and results\n",
    "event_data_path =\"SDO/Event/event_alert.json\"\n",
    "results_path =\"step1/event_alert.json\"\n",
    "# 2. Setup the SDO sighted, the Observed-Data that was observed with generated objects,\n",
    "#                        then the identity object from the context storage (note the slight difference in indexing\n",
    "sighting = sight1[\"id\"]\n",
    "# 2. Invoke the Make Observed Data Block\n",
    "event_1 = invoke_make_event_block(event_data_path, results_path, changed_objects=None,sighting_refs=sighting)\n",
    "# 3. Add the record to the in-session bundles and lists\n",
    "context_type = {\n",
    "    \"context_type\": \"event\"\n",
    "}\n",
    "event_results_context_path = results_base + \"step1/context/event_context.json\"\n",
    "result = invoke_save_incident_context_block(results_base + results_path, event_results_context_path, context_type)\n",
    "print(f\" result->{result}\")"
   ],
   "metadata": {
    "collapsed": false,
    "ExecuteTime": {
     "end_time": "2024-08-22T07:37:59.920179800Z",
     "start_time": "2024-08-22T07:37:59.863766900Z"
    }
   }
  },
  {
   "cell_type": "markdown",
   "source": [
    "\n",
    "### E.2 Then Create the Sequence Object for the Event\n",
    "\n",
    "The Sequence object is created to place the event in a sequence, in this case a single-step"
   ],
   "metadata": {
    "collapsed": false
   }
  },
  {
   "cell_type": "code",
   "execution_count": 15,
   "outputs": [
    {
     "name": "stdout",
     "output_type": "stream",
     "text": [
      "{\n",
      "    \"type\": \"sequence\",\n",
      "    \"spec_version\": \"2.1\",\n",
      "    \"id\": \"sequence--2ebbaf5b-196b-4739-ab53-8546853c875c\",\n",
      "    \"created\": \"2024-08-22T07:37:59.921Z\",\n",
      "    \"modified\": \"2024-08-22T07:37:59.921Z\",\n",
      "    \"sequenced_object\": \"event--fc4cab35-4fbb-494b-b78e-e72cb04badf0\",\n",
      "    \"sequence_type\": \"event\",\n",
      "    \"step_type\": \"single_step\",\n",
      "    \"extensions\": {\n",
      "        \"extension-definition--be0c7c79-1961-43db-afde-637066a87a64\": {\n",
      "            \"extension_type\": \"new-sdo\"\n",
      "        }\n",
      "    }\n",
      "}\n",
      " result->{'context_result': ' incident context saved -> sequence\\nstix_id -> sequence--2ebbaf5b-196b-4739-ab53-8546853c875c'}\n"
     ]
    }
   ],
   "source": [
    "# 1. Setup path to form and results\n",
    "sequence_data_path =\"SDO/Sequence/sequence_alert.json\"\n",
    "results_path =\"step1/sequence_event_single.json\"\n",
    "# 2. Setup the Sequence Object for the Event\n",
    "#\n",
    "step_type = \"single_step\"\n",
    "sequence_type = \"event\"\n",
    "sequenced_object = event_1[\"id\"]\n",
    "# 2. Invoke the Make Observed Data Block\n",
    "seq_E_1 = invoke_make_sequence_block(sequence_data_path, results_path, step_type=step_type, sequence_type=sequence_type, sequenced_object=sequenced_object, on_completion=None, on_success=None, on_failure=None, next_steps=None)\n",
    "# 3. Add the record to the in-session bundles and lists\n",
    "context_type = {\n",
    "    \"context_type\": \"sequence\"\n",
    "}\n",
    "sequence_results_context_path = results_base + \"step1/event_sequence_context.json\"\n",
    "result = invoke_save_incident_context_block(results_base + results_path, sighting_results_context_path, context_type)\n",
    "print(f\" result->{result}\")"
   ],
   "metadata": {
    "collapsed": false,
    "ExecuteTime": {
     "end_time": "2024-08-22T07:38:00.009489800Z",
     "start_time": "2024-08-22T07:37:59.921187100Z"
    }
   }
  },
  {
   "cell_type": "markdown",
   "source": [
    "\n",
    "### E.3 Since it is the First Sequence, Create the Start Sequence Object and Connect it\n",
    "\n",
    "The Sequence object is created to place the event in a sequence, in this case a start-step"
   ],
   "metadata": {
    "collapsed": false
   }
  },
  {
   "cell_type": "code",
   "execution_count": 16,
   "outputs": [
    {
     "name": "stdout",
     "output_type": "stream",
     "text": [
      "{\n",
      "    \"type\": \"sequence\",\n",
      "    \"spec_version\": \"2.1\",\n",
      "    \"id\": \"sequence--07bbdf40-f794-48f2-ae04-22b226c4fc9a\",\n",
      "    \"created\": \"2024-08-22T07:37:59.985Z\",\n",
      "    \"modified\": \"2024-08-22T07:37:59.985Z\",\n",
      "    \"sequence_type\": \"event\",\n",
      "    \"step_type\": \"start_step\",\n",
      "    \"on_completion\": \"sequence--2ebbaf5b-196b-4739-ab53-8546853c875c\",\n",
      "    \"extensions\": {\n",
      "        \"extension-definition--be0c7c79-1961-43db-afde-637066a87a64\": {\n",
      "            \"extension_type\": \"new-sdo\"\n",
      "        }\n",
      "    }\n",
      "}\n",
      " result->{'context_result': ' incident context saved -> start\\nstix_id -> sequence--07bbdf40-f794-48f2-ae04-22b226c4fc9a'}\n"
     ]
    }
   ],
   "source": [
    "# 1. Setup path to form and results\n",
    "sequence_data_path =\"SDO/Sequence/sequence_start.json\"\n",
    "results_path =\"step1/sequence_event_start.json\"\n",
    "# 2. Setup the Sequence Object for the Event\n",
    "#\n",
    "step_type = \"start_step\"\n",
    "sequence_type = \"event\"\n",
    "on_completion = seq_E_1[\"id\"]\n",
    "# 2. Invoke the Make Observed Data Block\n",
    "seq_E_0 = invoke_make_sequence_block(sequence_data_path, results_path, step_type=step_type, sequence_type=sequence_type, sequenced_object=None, on_completion=on_completion, on_success=None, on_failure=None, next_steps=None)\n",
    "# 3. Add the record to the in-session bundles and lists\n",
    "context_type = {\n",
    "    \"context_type\": \"start\"\n",
    "}\n",
    "event_results_context_path = results_base + \"step1/event_seq_start_context.json\"\n",
    "result = invoke_save_incident_context_block(results_base + results_path, sighting_results_context_path, context_type)\n",
    "print(f\" result->{result}\")"
   ],
   "metadata": {
    "collapsed": false,
    "ExecuteTime": {
     "end_time": "2024-08-22T07:38:00.116886400Z",
     "start_time": "2024-08-22T07:37:59.992021100Z"
    }
   }
  },
  {
   "cell_type": "markdown",
   "source": [
    "## F. Create the Task Objects\n",
    "\n",
    "Tbis Task represents the first Task to clarify the situation first,no real Impactyet"
   ],
   "metadata": {
    "collapsed": false
   }
  },
  {
   "cell_type": "code",
   "execution_count": 17,
   "outputs": [
    {
     "name": "stdout",
     "output_type": "stream",
     "text": [
      "{\n",
      "    \"type\": \"task\",\n",
      "    \"spec_version\": \"2.1\",\n",
      "    \"id\": \"task--0addefdc-2a6d-4f4e-a47f-859cda51ef3e\",\n",
      "    \"created\": \"2024-08-22T07:38:00.780Z\",\n",
      "    \"modified\": \"2024-08-22T07:38:00.780Z\",\n",
      "    \"description\": \"Suspicious email reported by user\",\n",
      "    \"end_time\": \"2024-08-22T07:38:00.780Z\",\n",
      "    \"name\": \"Potential Phishing Email\",\n",
      "    \"start_time\": \"2024-08-22T07:38:00.780Z\",\n",
      "    \"extensions\": {\n",
      "        \"extension-definition--2074a052-8be4-4932-849e-f5e7798e0030\": {\n",
      "            \"extension_type\": \"new-sdo\"\n",
      "        }\n",
      "    }\n",
      "}\n",
      " result->{'context_result': ' incident context saved -> task\\nstix_id -> task--0addefdc-2a6d-4f4e-a47f-859cda51ef3e'}\n"
     ]
    }
   ],
   "source": [
    "# 1. Setup path to form and results\n",
    "task_data_path =\"SDO/Task/task_alert.json\"\n",
    "results_path =\"step1/task_alert.json\"\n",
    "# 2. Invoke the Make Observed Data Block\n",
    "task_1 = invoke_make_task_block(task_data_path, results_path, changed_objects=None)\n",
    "# 3. Add the record to the in-session bundles and lists\n",
    "context_type = {\n",
    "    \"context_type\": \"task\"\n",
    "}\n",
    "task_results_context_path = results_base + \"step1/task_context.json\"\n",
    "result = invoke_save_incident_context_block(results_base + results_path, task_results_context_path, context_type)\n",
    "print(f\" result->{result}\")"
   ],
   "metadata": {
    "collapsed": false,
    "ExecuteTime": {
     "end_time": "2024-08-22T07:38:00.209480200Z",
     "start_time": "2024-08-22T07:38:00.084992600Z"
    }
   }
  },
  {
   "cell_type": "markdown",
   "source": [
    "### F.2 Then Create the Sequence Object for the Task\n",
    "\n",
    "The Sequence object is created to place the Task in a sequence, in this case a single-step"
   ],
   "metadata": {
    "collapsed": false
   }
  },
  {
   "cell_type": "code",
   "execution_count": 18,
   "outputs": [
    {
     "name": "stdout",
     "output_type": "stream",
     "text": [
      "{\n",
      "    \"type\": \"sequence\",\n",
      "    \"spec_version\": \"2.1\",\n",
      "    \"id\": \"sequence--743c4de2-4342-489c-bd7f-260a3b83b4e8\",\n",
      "    \"created\": \"2024-08-22T07:38:00.139Z\",\n",
      "    \"modified\": \"2024-08-22T07:38:00.139Z\",\n",
      "    \"sequenced_object\": \"task--0addefdc-2a6d-4f4e-a47f-859cda51ef3e\",\n",
      "    \"sequence_type\": \"task\",\n",
      "    \"step_type\": \"single_step\",\n",
      "    \"extensions\": {\n",
      "        \"extension-definition--be0c7c79-1961-43db-afde-637066a87a64\": {\n",
      "            \"extension_type\": \"new-sdo\"\n",
      "        }\n",
      "    }\n",
      "}\n",
      " result->{'context_result': ' incident context saved -> sequence\\nstix_id -> sequence--743c4de2-4342-489c-bd7f-260a3b83b4e8'}\n"
     ]
    }
   ],
   "source": [
    "# 1. Setup path to form and results\n",
    "sequence_data_path =\"SDO/Sequence/sequence_alert.json\"\n",
    "results_path =\"step1/sequence_task_single.json\"\n",
    "# 2. Setup the Sequence Object for the Event\n",
    "#\n",
    "step_type = \"single_step\"\n",
    "sequence_type = \"task\"\n",
    "sequenced_object = task_1[\"id\"]\n",
    "# 2. Invoke the Make Observed Data Block\n",
    "seq_T_1 = invoke_make_sequence_block(sequence_data_path, results_path, step_type=step_type, sequence_type=sequence_type, sequenced_object=sequenced_object, on_completion=None, on_success=None, on_failure=None, next_steps=None)\n",
    "# 3. Add the record to the in-session bundles and lists\n",
    "context_type = {\n",
    "    \"context_type\": \"sequence\"\n",
    "}\n",
    "event_sequence_results_context_path = results_base + \"step1/task_sequence_context.json\"\n",
    "result = invoke_save_incident_context_block(results_base + results_path, event_sequence_results_context_path, context_type)\n",
    "print(f\" result->{result}\")"
   ],
   "metadata": {
    "collapsed": false,
    "ExecuteTime": {
     "end_time": "2024-08-22T07:38:00.213774700Z",
     "start_time": "2024-08-22T07:38:00.139274600Z"
    }
   }
  },
  {
   "cell_type": "markdown",
   "source": [
    "\n",
    "### F.3 Then Create the Sequence Start Object for the Tasks\n",
    "\n",
    "The Sequence object is created to place the Task in a sequence, in this case a start-step"
   ],
   "metadata": {
    "collapsed": false
   }
  },
  {
   "cell_type": "code",
   "execution_count": 19,
   "outputs": [
    {
     "name": "stdout",
     "output_type": "stream",
     "text": [
      "{\n",
      "    \"type\": \"sequence\",\n",
      "    \"spec_version\": \"2.1\",\n",
      "    \"id\": \"sequence--71207b40-61fd-4d35-a106-7ea07c62f595\",\n",
      "    \"created\": \"2024-08-22T07:38:00.202Z\",\n",
      "    \"modified\": \"2024-08-22T07:38:00.202Z\",\n",
      "    \"sequence_type\": \"task\",\n",
      "    \"step_type\": \"start_step\",\n",
      "    \"on_completion\": \"sequence--743c4de2-4342-489c-bd7f-260a3b83b4e8\",\n",
      "    \"extensions\": {\n",
      "        \"extension-definition--be0c7c79-1961-43db-afde-637066a87a64\": {\n",
      "            \"extension_type\": \"new-sdo\"\n",
      "        }\n",
      "    }\n",
      "}\n",
      " result->{'context_result': ' incident context saved -> start\\nstix_id -> sequence--71207b40-61fd-4d35-a106-7ea07c62f595'}\n"
     ]
    }
   ],
   "source": [
    "# 1. Setup path to form and results\n",
    "sequence_data_path =\"SDO/Sequence/sequence_start.json\"\n",
    "results_path =\"step1/sequence_task_start.json\"\n",
    "# 2. Setup the Sequence Object for the Event\n",
    "#\n",
    "step_type = \"start_step\"\n",
    "sequence_type = \"task\"\n",
    "on_completion = seq_T_1[\"id\"]\n",
    "# 2. Invoke the Make Observed Data Block\n",
    "seq_T_0 = invoke_make_sequence_block(sequence_data_path, results_path, step_type=step_type, sequence_type=sequence_type, sequenced_object=None, on_completion=on_completion, on_success=None, on_failure=None, next_steps=None)\n",
    "# 3. Add the record to the in-session bundles and lists\n",
    "context_type = {\n",
    "    \"context_type\": \"start\"\n",
    "}\n",
    "task_seq_results_context_path = results_base + \"step1/task_seq_start_context.json\"\n",
    "result = invoke_save_incident_context_block(results_base + results_path, task_seq_results_context_path, context_type)\n",
    "print(f\" result->{result}\")"
   ],
   "metadata": {
    "collapsed": false,
    "ExecuteTime": {
     "end_time": "2024-08-22T07:38:00.279257900Z",
     "start_time": "2024-08-22T07:38:00.209480200Z"
    }
   }
  },
  {
   "cell_type": "markdown",
   "source": [
    "## H. Write out the Contex Memory for the Incident\n",
    "\n",
    "Export out the Context Memory for the Incident"
   ],
   "metadata": {
    "collapsed": false
   }
  },
  {
   "cell_type": "code",
   "execution_count": 20,
   "outputs": [],
   "source": [
    "# Save the Tpe Refinery Context Memory File"
   ],
   "metadata": {
    "collapsed": false,
    "ExecuteTime": {
     "end_time": "2024-08-22T07:38:00.280610400Z",
     "start_time": "2024-08-22T07:38:00.272257600Z"
    }
   }
  }
 ],
 "metadata": {
  "kernelspec": {
   "display_name": "Python 3",
   "language": "python",
   "name": "python3"
  },
  "language_info": {
   "codemirror_mode": {
    "name": "ipython",
    "version": 2
   },
   "file_extension": ".py",
   "mimetype": "text/x-python",
   "name": "python",
   "nbconvert_exporter": "python",
   "pygments_lexer": "ipython2",
   "version": "2.7.6"
  }
 },
 "nbformat": 4,
 "nbformat_minor": 0
}
