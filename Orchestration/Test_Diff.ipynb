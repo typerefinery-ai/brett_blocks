{
 "cells": [
  {
   "cell_type": "markdown",
   "source": [
    "# Test Diff"
   ],
   "metadata": {
    "collapsed": false
   }
  },
  {
   "cell_type": "code",
   "execution_count": 1,
   "outputs": [
    {
     "name": "stdout",
     "output_type": "stream",
     "text": [
      "Requirement already satisfied: stixorm in c:\\users\\brett\\anaconda3\\envs\\brett-blocks\\lib\\site-packages (0.3.9)\n",
      "Requirement already satisfied: loguru<0.8.0,>=0.7.0 in c:\\users\\brett\\anaconda3\\envs\\brett-blocks\\lib\\site-packages (from stixorm) (0.7.0)\n",
      "Requirement already satisfied: networkx<4.0,>=3.1 in c:\\users\\brett\\anaconda3\\envs\\brett-blocks\\lib\\site-packages (from stixorm) (3.1)\n",
      "Requirement already satisfied: pydantic<3.0.0,>=2.1.1 in c:\\users\\brett\\anaconda3\\envs\\brett-blocks\\lib\\site-packages (from stixorm) (2.1.1)\n",
      "Requirement already satisfied: stix2==3.0.1 in c:\\users\\brett\\anaconda3\\envs\\brett-blocks\\lib\\site-packages (from stixorm) (3.0.1)\n",
      "Requirement already satisfied: typedb-driver<3.0.0,>=2.25.6 in c:\\users\\brett\\anaconda3\\envs\\brett-blocks\\lib\\site-packages (from stixorm) (2.25.8)\n",
      "Requirement already satisfied: validators<0.21.0,>=0.20.0 in c:\\users\\brett\\anaconda3\\envs\\brett-blocks\\lib\\site-packages (from stixorm) (0.20.0)\n",
      "Requirement already satisfied: pytz in c:\\users\\brett\\anaconda3\\envs\\brett-blocks\\lib\\site-packages (from stix2==3.0.1->stixorm) (2023.3)\n",
      "Requirement already satisfied: requests in c:\\users\\brett\\anaconda3\\envs\\brett-blocks\\lib\\site-packages (from stix2==3.0.1->stixorm) (2.31.0)\n",
      "Requirement already satisfied: simplejson in c:\\users\\brett\\anaconda3\\envs\\brett-blocks\\lib\\site-packages (from stix2==3.0.1->stixorm) (3.19.1)\n",
      "Requirement already satisfied: stix2-patterns>=1.2.0 in c:\\users\\brett\\anaconda3\\envs\\brett-blocks\\lib\\site-packages (from stix2==3.0.1->stixorm) (2.0.0)\n",
      "Requirement already satisfied: colorama>=0.3.4 in c:\\users\\brett\\anaconda3\\envs\\brett-blocks\\lib\\site-packages (from loguru<0.8.0,>=0.7.0->stixorm) (0.4.6)\n",
      "Requirement already satisfied: win32-setctime>=1.0.0 in c:\\users\\brett\\anaconda3\\envs\\brett-blocks\\lib\\site-packages (from loguru<0.8.0,>=0.7.0->stixorm) (1.1.0)\n",
      "Requirement already satisfied: annotated-types>=0.4.0 in c:\\users\\brett\\anaconda3\\envs\\brett-blocks\\lib\\site-packages (from pydantic<3.0.0,>=2.1.1->stixorm) (0.5.0)\n",
      "Requirement already satisfied: pydantic-core==2.4.0 in c:\\users\\brett\\anaconda3\\envs\\brett-blocks\\lib\\site-packages (from pydantic<3.0.0,>=2.1.1->stixorm) (2.4.0)\n",
      "Requirement already satisfied: typing-extensions>=4.6.1 in c:\\users\\brett\\anaconda3\\envs\\brett-blocks\\lib\\site-packages (from pydantic<3.0.0,>=2.1.1->stixorm) (4.7.1)\n",
      "Requirement already satisfied: parse==1.18.0 in c:\\users\\brett\\anaconda3\\envs\\brett-blocks\\lib\\site-packages (from typedb-driver<3.0.0,>=2.25.6->stixorm) (1.18.0)\n",
      "Requirement already satisfied: decorator>=3.4.0 in c:\\users\\brett\\anaconda3\\envs\\brett-blocks\\lib\\site-packages (from validators<0.21.0,>=0.20.0->stixorm) (5.1.1)\n",
      "Requirement already satisfied: antlr4-python3-runtime~=4.9.0 in c:\\users\\brett\\anaconda3\\envs\\brett-blocks\\lib\\site-packages (from stix2-patterns>=1.2.0->stix2==3.0.1->stixorm) (4.9.3)\n",
      "Requirement already satisfied: six in c:\\users\\brett\\anaconda3\\envs\\brett-blocks\\lib\\site-packages (from stix2-patterns>=1.2.0->stix2==3.0.1->stixorm) (1.16.0)\n",
      "Requirement already satisfied: charset-normalizer<4,>=2 in c:\\users\\brett\\anaconda3\\envs\\brett-blocks\\lib\\site-packages (from requests->stix2==3.0.1->stixorm) (3.2.0)\n",
      "Requirement already satisfied: idna<4,>=2.5 in c:\\users\\brett\\anaconda3\\envs\\brett-blocks\\lib\\site-packages (from requests->stix2==3.0.1->stixorm) (3.4)\n",
      "Requirement already satisfied: urllib3<3,>=1.21.1 in c:\\users\\brett\\anaconda3\\envs\\brett-blocks\\lib\\site-packages (from requests->stix2==3.0.1->stixorm) (1.26.16)\n",
      "Requirement already satisfied: certifi>=2017.4.17 in c:\\users\\brett\\anaconda3\\envs\\brett-blocks\\lib\\site-packages (from requests->stix2==3.0.1->stixorm) (2023.7.22)\n"
     ]
    }
   ],
   "source": [
    "import sys\n",
    "!{sys.executable} -m pip install stixorm\n",
    "from stixorm.module.typedb import TypeDBSink, TypeDBSource\n",
    "from stixorm.module.authorise import import_type_factory\n",
    "from stixorm.module.definitions.stix21 import (\n",
    "    Identity, EmailAddress, UserAccount, Relationship, Bundle, Incident, URL, EmailMessage, ObservedData\n",
    ")\n",
    "from stixorm.module.definitions.os_threat import (\n",
    "    EventCoreExt, Event, SocialMediaContact, ContactNumber, IncidentCoreExt, TaskCoreExt,\n",
    "    Task, SightingEvidence, Sequence, SequenceExt, AnecdoteExt, Anecdote,\n",
    "    SightingAnecdote, SightingAlert, SightingContext, SightingExclusion,\n",
    "    SightingEnrichment, SightingHunt, SightingFramework, SightingExternal\n",
    ")\n",
    "from stixorm.module.authorise import import_type_factory\n",
    "from stixorm.module.typedb_lib.instructions import ResultStatus, Result\n",
    "from stixorm.module.parsing import parse_objects\n",
    "from deepdiff import DeepDiff, parse_path\n",
    "from pprint import pprint\n",
    "import_type = import_type_factory.get_all_imports()\n",
    "import logging\n",
    "logger = logging.getLogger(__name__)\n",
    "logger.setLevel(logging.INFO)\n",
    "import json"
   ],
   "metadata": {
    "collapsed": false,
    "ExecuteTime": {
     "end_time": "2024-10-14T00:33:09.818222200Z",
     "start_time": "2024-10-14T00:33:03.870919100Z"
    }
   }
  },
  {
   "cell_type": "markdown",
   "source": [
    "# Setup Context Memory Variables"
   ],
   "metadata": {
    "collapsed": false
   }
  },
  {
   "cell_type": "code",
   "execution_count": 2,
   "outputs": [],
   "source": [
    "\n",
    "# from Utilities.local_make_general import invoke_context_get_block, invoke_context_save_block\n",
    "\n",
    "# Common File Stuff\n",
    "TR_Common_Files = \"./generated/os-triage/common_files\"\n",
    "common = [\n",
    "    {\"module\": \"convert_n_and_e\", \"file\": \"convert_n_and_e.py\", \"url\" : \"https://raw.githubusercontent.com/typerefinery-ai/brett_blocks/main/Block_Families/General/_library/convert_n_and_e.py\"}\n",
    "]\n",
    "\n",
    "# OS_Triage Memory Stuff\n",
    "TR_Context_Memory_Dir = \"./generated/os-triage/context_mem\"\n",
    "TR_User_Dir = \"/usr\"\n",
    "context_map = \"context_map.json\"\n",
    "user_data = {\n",
    "    \"global\": \"/global_variables_dict.json\",\n",
    "    \"me\": \"/cache_me.json\",\n",
    "    \"team\": \"/cache_team.json\",\n",
    "    \"relations\" : \"/relations.json\",\n",
    "    \"edges\" : \"/edges.json\",\n",
    "    \"relation_edges\" : \"/relation_edges.json\",\n",
    "    \"relation_replacement_edges\" : \"/relation_replacement_edges.json\"\n",
    "}\n",
    "comp_data = {\n",
    "    \"users\": \"/users.json\",\n",
    "    \"company\" : \"/company.json\",\n",
    "    \"assets\" : \"/assets.json\",\n",
    "    \"systems\" : \"/systems.json\",\n",
    "    \"relations\" : \"/relations.json\",\n",
    "    \"edges\" : \"/edges.json\",\n",
    "    \"relation_edges\" : \"/relation_edges.json\",\n",
    "    \"relation_replacement_edges\" : \"/relation_replacement_edges.json\"\n",
    "}\n",
    "incident_data = {\n",
    "    \"incident\" : \"/incident.json\",\n",
    "    \"start\" : \"/sequence_start_refs.json\",\n",
    "    \"sequence\" : \"/sequence_refs.json\",\n",
    "    \"impact\" : \"/impact_refs.json\",\n",
    "    \"event\" : \"/event_refs.json\",\n",
    "    \"task\" : \"/task_refs.json\",\n",
    "    \"other\" : \"/other_object_refs.json\",\n",
    "    \"unattached\" : \"/unattached_objs.json\",\n",
    "    \"unattached_relations\" : \"/unattached_relation.json\",\n",
    "    \"relations\" : \"/incident_relations.json\",\n",
    "    \"edges\" : \"/incident_edges.json\",\n",
    "    \"relation_edges\" : \"/relation_edges.json\",\n",
    "    \"relation_replacement_edges\" : \"/relation_replacement_edges.json\"\n",
    "}\n",
    "field_names = {\n",
    "    \"start\" : \"sequence_start_refs\",\n",
    "    \"sequence\" : \"sequence_refs\",\n",
    "    \"impact\" : \"impact_refs\",\n",
    "    \"event\" : \"event_refs\",\n",
    "    \"task\" : \"task_refs\",\n",
    "    \"other\" : \"other_object_refs\"\n",
    "}\n"
   ],
   "metadata": {
    "collapsed": false,
    "ExecuteTime": {
     "end_time": "2024-10-14T00:33:09.869606400Z",
     "start_time": "2024-10-14T00:33:09.831137900Z"
    }
   }
  },
  {
   "cell_type": "markdown",
   "source": [
    "# Lets run some tests"
   ],
   "metadata": {
    "collapsed": false
   }
  },
  {
   "cell_type": "code",
   "execution_count": 3,
   "outputs": [
    {
     "name": "stdout",
     "output_type": "stream",
     "text": [
      "Delete -> Things in old, not in new ->{0, 8, 6}\n",
      "Add -> Things in new, not in old ->{1, 3, 5}\n",
      "Intersections -> Things which may have changed ->{2, 4}\n"
     ]
    }
   ],
   "source": [
    "A = {0, 2, 4, 6, 8}\n",
    "B = {1, 2, 3, 4, 5}\n",
    "C = A - B\n",
    "print(f\"Delete -> Things in old, not in new ->{C}\")\n",
    "D = B - A\n",
    "print(f\"Add -> Things in new, not in old ->{D}\")\n",
    "E = A & B\n",
    "print(f\"Intersections -> Things which may have changed ->{E}\")\n"
   ],
   "metadata": {
    "collapsed": false,
    "ExecuteTime": {
     "end_time": "2024-10-14T00:33:09.870608400Z",
     "start_time": "2024-10-14T00:33:09.856598500Z"
    }
   }
  },
  {
   "cell_type": "code",
   "execution_count": 4,
   "outputs": [
    {
     "name": "stdout",
     "output_type": "stream",
     "text": [
      "<class 'datetime.datetime'>\n",
      "2024-01-24 12:38:07.927748\n",
      "2024-01-24T12:38:07.927\n",
      "927748\n",
      "<class 'int'>\n",
      "927\n",
      "['2024-01-24T12:38:07', '927748Z']\n",
      "2024-01-24T12:38:07.927Z\n"
     ]
    }
   ],
   "source": [
    "from datetime import datetime\n",
    "created =\"2024-01-24T12:38:07.927748Z\"\n",
    "returned = \"2024-01-24T12:38:07.927Z\"\n",
    "cr_date = datetime.strptime(created, \"%Y-%m-%dT%H:%M:%S.%fZ\")\n",
    "ret_date = datetime.strptime(returned, \"%Y-%m-%dT%H:%M:%S.%fZ\")\n",
    "print(type(cr_date))\n",
    "print(cr_date)\n",
    "cr_date_String = str(cr_date.strftime(\"%Y-%m-%dT%H:%M:%S.%f\")[:-3])\n",
    "print(cr_date_String)\n",
    "print(cr_date.microsecond)\n",
    "microsecs = ret_date.microsecond\n",
    "print(type(microsecs))\n",
    "milisecs = (round(microsecs/1000))\n",
    "print(milisecs)\n",
    "dt = created.split('.')\n",
    "print(dt)\n",
    "actual = dt[0] + \".\" + str(milisecs) + \"Z\"\n",
    "print(actual)\n",
    "\n",
    "\n"
   ],
   "metadata": {
    "collapsed": false,
    "ExecuteTime": {
     "end_time": "2024-10-14T00:33:09.893167400Z",
     "start_time": "2024-10-14T00:33:09.870608400Z"
    }
   }
  },
  {
   "cell_type": "markdown",
   "source": [
    "## setup details in typedb\n",
    "\n",
    "First load details into TypeDB, and then get them back"
   ],
   "metadata": {
    "collapsed": false
   }
  },
  {
   "cell_type": "code",
   "execution_count": 5,
   "outputs": [
    {
     "name": "stdout",
     "output_type": "stream",
     "text": [
      "type identity->{'identity_form': {'base_required': {'type': 'identity', 'spec_version': '2.1', 'id': '', 'created': '', 'modified': ''}, 'base_optional': {'created_by_ref': '', 'revoked': None, 'labels': [], 'lang': '', 'external_references': [], 'object_marking_refs': [], 'granular_markings': [], 'defanged': None}, 'object': {'name': 'Example Company', 'description': 'An Example Organisation', 'identity_class': 'organization', 'sectors': 'technology'}, 'extensions': {}, 'sub': {}}}\n",
      "type identity-><class 'dict'>, type email-><class 'NoneType'>, type user acct-><class 'NoneType'>\n",
      "Step 1 >>\n",
      "Step 2 >>\n",
      "Step 3 >>\n",
      "{\n",
      "    \"type\": \"identity\",\n",
      "    \"spec_version\": \"2.1\",\n",
      "    \"id\": \"identity--c6cc716f-9712-4c9f-a71b-c4aa249f14a6\",\n",
      "    \"created\": \"2024-10-14T00:33:09.985Z\",\n",
      "    \"modified\": \"2024-10-14T00:33:09.985Z\",\n",
      "    \"name\": \"Example Company\",\n",
      "    \"description\": \"An Example Organisation\",\n",
      "    \"identity_class\": \"organization\",\n",
      "    \"sectors\": [\n",
      "        \"technology\"\n",
      "    ]\n",
      "}\n"
     ]
    },
    {
     "ename": "NameError",
     "evalue": "name 'local_context' is not defined",
     "output_type": "error",
     "traceback": [
      "\u001B[1;31m---------------------------------------------------------------------------\u001B[0m",
      "\u001B[1;31mNameError\u001B[0m                                 Traceback (most recent call last)",
      "Cell \u001B[1;32mIn[5], line 21\u001B[0m\n\u001B[0;32m     19\u001B[0m comp_ident_list \u001B[38;5;241m=\u001B[39m invoke_make_identity_block(company_ident_path, company_results_path)\n\u001B[0;32m     20\u001B[0m \u001B[38;5;66;03m# 2. add the record to the in-session bundles and context lists\u001B[39;00m\n\u001B[1;32m---> 21\u001B[0m local_context[\u001B[38;5;124m\"\u001B[39m\u001B[38;5;124mcompany\u001B[39m\u001B[38;5;124m\"\u001B[39m] \u001B[38;5;241m=\u001B[39m \u001B[43mlocal_context\u001B[49m[\u001B[38;5;124m\"\u001B[39m\u001B[38;5;124mcompany\u001B[39m\u001B[38;5;124m\"\u001B[39m] \u001B[38;5;241m+\u001B[39m comp_ident_list\n\u001B[0;32m     22\u001B[0m \u001B[38;5;66;03m# recover the threat email object in dict form as a global variable for later\u001B[39;00m\n\u001B[0;32m     23\u001B[0m comp_ident \u001B[38;5;241m=\u001B[39m conv(comp_ident_list[\u001B[38;5;241m0\u001B[39m])\n",
      "\u001B[1;31mNameError\u001B[0m: name 'local_context' is not defined"
     ]
    }
   ],
   "source": [
    "from stixorm.module.typedb import TypeDBSink, TypeDBSource\n",
    "from stixorm.module.authorise import import_type_factory\n",
    "from Utilities.local_make_sdo import invoke_make_identity_block\n",
    "from Utilities.util import emulate_ports, unwind_ports, conv\n",
    "connection = {\n",
    "    \"uri\": \"localhost\",\n",
    "    \"port\": \"1729\",\n",
    "    \"database\": \"stix\",\n",
    "    \"user\": None,\n",
    "    \"password\": None\n",
    "}\n",
    "\n",
    "object_base = \"../Block_Families/OS_Triage/\"\n",
    "import_type = import_type_factory.get_all_imports()\n",
    "typedb_in_path = \"Update_Context/data_in_typedb.json\"\n",
    "updated_list_path = \"Update_Context/data_new_in_os_triage.json\"\n",
    "updated_list_path2 = \"Update_Context/data_new_in_os_triage_v2.json\"\n",
    "\n",
    "#\n",
    "# Open the data for typedb\n",
    "#\n",
    "\n",
    "\n",
    "\n",
    "typedb_sink = TypeDBSink(connection=connection, clear=True, import_type=import_type)\n",
    "typedb_source = TypeDBSource(connection=connection,)\n",
    "results_raw = typedb_sink.add(comp_ident)\n",
    "ret_ident = typedb_source.get(comp_ident[\"id\"])\n",
    "print(ret_ident)"
   ],
   "metadata": {
    "collapsed": false,
    "ExecuteTime": {
     "end_time": "2024-10-14T00:33:10.746139200Z",
     "start_time": "2024-10-14T00:33:09.906169700Z"
    }
   }
  },
  {
   "cell_type": "code",
   "execution_count": null,
   "outputs": [],
   "source": [
    "test = \"20.20-10-19T01:01:.01Z\"\n",
    "ret = test.find(\".\")\n",
    "print(ret)"
   ],
   "metadata": {
    "collapsed": false
   }
  },
  {
   "cell_type": "code",
   "execution_count": null,
   "outputs": [],
   "source": [],
   "metadata": {
    "collapsed": false
   }
  }
 ],
 "metadata": {
  "kernelspec": {
   "display_name": "Python 3",
   "language": "python",
   "name": "python3"
  },
  "language_info": {
   "codemirror_mode": {
    "name": "ipython",
    "version": 2
   },
   "file_extension": ".py",
   "mimetype": "text/x-python",
   "name": "python",
   "nbconvert_exporter": "python",
   "pygments_lexer": "ipython2",
   "version": "2.7.6"
  }
 },
 "nbformat": 4,
 "nbformat_minor": 0
}
