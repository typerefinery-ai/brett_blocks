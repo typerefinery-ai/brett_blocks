{
 "cells": [
  {
   "cell_type": "markdown",
   "source": [
    "# Test Diff"
   ],
   "metadata": {
    "collapsed": false
   }
  },
  {
   "cell_type": "code",
   "execution_count": 1,
   "outputs": [
    {
     "name": "stdout",
     "output_type": "stream",
     "text": [
      "Requirement already satisfied: stixorm in c:\\users\\brett\\anaconda3\\envs\\brett-blocks\\lib\\site-packages (0.3.2)\n",
      "Requirement already satisfied: loguru<0.8.0,>=0.7.0 in c:\\users\\brett\\anaconda3\\envs\\brett-blocks\\lib\\site-packages (from stixorm) (0.7.0)\n",
      "Requirement already satisfied: networkx<4.0,>=3.1 in c:\\users\\brett\\anaconda3\\envs\\brett-blocks\\lib\\site-packages (from stixorm) (3.1)\n",
      "Requirement already satisfied: pydantic<3.0.0,>=2.1.1 in c:\\users\\brett\\anaconda3\\envs\\brett-blocks\\lib\\site-packages (from stixorm) (2.1.1)\n",
      "Requirement already satisfied: stix2==3.0.1 in c:\\users\\brett\\anaconda3\\envs\\brett-blocks\\lib\\site-packages (from stixorm) (3.0.1)\n",
      "Requirement already satisfied: typedb-driver<3.0.0,>=2.25.6 in c:\\users\\brett\\anaconda3\\envs\\brett-blocks\\lib\\site-packages (from stixorm) (2.25.8)\n",
      "Requirement already satisfied: validators<0.21.0,>=0.20.0 in c:\\users\\brett\\anaconda3\\envs\\brett-blocks\\lib\\site-packages (from stixorm) (0.20.0)\n",
      "Requirement already satisfied: pytz in c:\\users\\brett\\anaconda3\\envs\\brett-blocks\\lib\\site-packages (from stix2==3.0.1->stixorm) (2023.3)\n",
      "Requirement already satisfied: requests in c:\\users\\brett\\anaconda3\\envs\\brett-blocks\\lib\\site-packages (from stix2==3.0.1->stixorm) (2.31.0)\n",
      "Requirement already satisfied: simplejson in c:\\users\\brett\\anaconda3\\envs\\brett-blocks\\lib\\site-packages (from stix2==3.0.1->stixorm) (3.19.1)\n",
      "Requirement already satisfied: stix2-patterns>=1.2.0 in c:\\users\\brett\\anaconda3\\envs\\brett-blocks\\lib\\site-packages (from stix2==3.0.1->stixorm) (2.0.0)\n",
      "Requirement already satisfied: colorama>=0.3.4 in c:\\users\\brett\\anaconda3\\envs\\brett-blocks\\lib\\site-packages (from loguru<0.8.0,>=0.7.0->stixorm) (0.4.6)\n",
      "Requirement already satisfied: win32-setctime>=1.0.0 in c:\\users\\brett\\anaconda3\\envs\\brett-blocks\\lib\\site-packages (from loguru<0.8.0,>=0.7.0->stixorm) (1.1.0)\n",
      "Requirement already satisfied: annotated-types>=0.4.0 in c:\\users\\brett\\anaconda3\\envs\\brett-blocks\\lib\\site-packages (from pydantic<3.0.0,>=2.1.1->stixorm) (0.5.0)\n",
      "Requirement already satisfied: pydantic-core==2.4.0 in c:\\users\\brett\\anaconda3\\envs\\brett-blocks\\lib\\site-packages (from pydantic<3.0.0,>=2.1.1->stixorm) (2.4.0)\n",
      "Requirement already satisfied: typing-extensions>=4.6.1 in c:\\users\\brett\\anaconda3\\envs\\brett-blocks\\lib\\site-packages (from pydantic<3.0.0,>=2.1.1->stixorm) (4.7.1)\n",
      "Requirement already satisfied: parse==1.18.0 in c:\\users\\brett\\anaconda3\\envs\\brett-blocks\\lib\\site-packages (from typedb-driver<3.0.0,>=2.25.6->stixorm) (1.18.0)\n",
      "Requirement already satisfied: decorator>=3.4.0 in c:\\users\\brett\\anaconda3\\envs\\brett-blocks\\lib\\site-packages (from validators<0.21.0,>=0.20.0->stixorm) (5.1.1)\n",
      "Requirement already satisfied: antlr4-python3-runtime~=4.9.0 in c:\\users\\brett\\anaconda3\\envs\\brett-blocks\\lib\\site-packages (from stix2-patterns>=1.2.0->stix2==3.0.1->stixorm) (4.9.3)\n",
      "Requirement already satisfied: six in c:\\users\\brett\\anaconda3\\envs\\brett-blocks\\lib\\site-packages (from stix2-patterns>=1.2.0->stix2==3.0.1->stixorm) (1.16.0)\n",
      "Requirement already satisfied: charset-normalizer<4,>=2 in c:\\users\\brett\\anaconda3\\envs\\brett-blocks\\lib\\site-packages (from requests->stix2==3.0.1->stixorm) (3.2.0)\n",
      "Requirement already satisfied: idna<4,>=2.5 in c:\\users\\brett\\anaconda3\\envs\\brett-blocks\\lib\\site-packages (from requests->stix2==3.0.1->stixorm) (3.4)\n",
      "Requirement already satisfied: urllib3<3,>=1.21.1 in c:\\users\\brett\\anaconda3\\envs\\brett-blocks\\lib\\site-packages (from requests->stix2==3.0.1->stixorm) (1.26.16)\n",
      "Requirement already satisfied: certifi>=2017.4.17 in c:\\users\\brett\\anaconda3\\envs\\brett-blocks\\lib\\site-packages (from requests->stix2==3.0.1->stixorm) (2023.7.22)\n"
     ]
    }
   ],
   "source": [
    "import sys\n",
    "!{sys.executable} -m pip install stixorm\n",
    "from stixorm.module.typedb import TypeDBSink, TypeDBSource\n",
    "from stixorm.module.authorise import import_type_factory\n",
    "from stixorm.module.definitions.stix21 import (\n",
    "    Identity, EmailAddress, UserAccount, Relationship, Bundle, Incident, URL, EmailMessage, ObservedData\n",
    ")\n",
    "from stixorm.module.definitions.os_threat import (\n",
    "    EventCoreExt, Event, SocialMediaContact, ContactNumber, IncidentCoreExt, TaskCoreExt,\n",
    "    Task, SightingEvidence, Sequence, SequenceExt, AnecdoteExt, Anecdote,\n",
    "    SightingAnecdote, SightingAlert, SightingContext, SightingExclusion,\n",
    "    SightingEnrichment, SightingHunt, SightingFramework, SightingExternal\n",
    ")\n",
    "from stixorm.module.authorise import import_type_factory\n",
    "from stixorm.module.typedb_lib.instructions import ResultStatus, Result\n",
    "from stixorm.module.parsing import parse_objects\n",
    "from deepdiff import DeepDiff, parse_path\n",
    "from pprint import pprint\n",
    "import_type = import_type_factory.get_all_imports()\n",
    "import logging\n",
    "logger = logging.getLogger(__name__)\n",
    "logger.setLevel(logging.INFO)\n",
    "import json"
   ],
   "metadata": {
    "collapsed": false
   }
  },
  {
   "cell_type": "markdown",
   "source": [
    "# Load Context Memory"
   ],
   "metadata": {
    "collapsed": false
   }
  },
  {
   "cell_type": "code",
   "execution_count": 2,
   "outputs": [],
   "source": [
    "\n",
    "from Utilities.local_make_general import invoke_context_get_block, invoke_context_save_block\n",
    "# 1. Load the Context\n",
    "Type_Refinery_Context = invoke_context_get_block()\n",
    "#\n",
    "# 2. Setup the  TR User Context\n",
    "#\n",
    "local = Type_Refinery_Context[\"local\"]\n",
    "me = local[\"me\"]\n",
    "team = local[\"team\"]\n",
    "company = local[\"company\"]\n",
    "systems = local[\"systems\"]\n",
    "assets = local[\"assets\"]\n",
    "#\n",
    "# 3. Setup the Incident Context\n",
    "#\n",
    "incident = Type_Refinery_Context[\"incident\"]\n",
    "bundle_list = incident[\"bundle_list\"]\n",
    "sequence_start_objs = incident[\"sequence_start_objs\"]\n",
    "sequence_objs = incident[\"sequence_objs\"]\n",
    "task_objs = incident[\"task_objs\"]\n",
    "event_objs = incident[\"event_objs\"]\n",
    "impact_objs = incident[\"impact_objs\"]\n",
    "other_object_objs = incident[\"other_object_objs\"]\n",
    "incident_obj = incident[\"incident_obj\"]\n",
    "#\n",
    "# 4. Load the TypeDB Context\n",
    "#\n",
    "typedb = Type_Refinery_Context[\"typedb\"]\n",
    "t_bundle_list = typedb[\"bundle_list\"]\n",
    "t_sequence_start_objs = typedb[\"sequence_start_objs\"]\n",
    "t_sequence_objs = typedb[\"sequence_objs\"]\n",
    "t_task_objs = typedb[\"task_objs\"]\n",
    "t_event_objs = typedb[\"event_objs\"]\n",
    "t_impact_objs = typedb[\"impact_objs\"]\n",
    "t_other_object_objs = typedb[\"other_object_objs\"]\n",
    "t_incident_obj = typedb[\"incident_obj\"]"
   ],
   "metadata": {
    "collapsed": false
   }
  },
  {
   "cell_type": "markdown",
   "source": [
    "# Lets run some tests"
   ],
   "metadata": {
    "collapsed": false
   }
  },
  {
   "cell_type": "code",
   "execution_count": 3,
   "outputs": [
    {
     "name": "stdout",
     "output_type": "stream",
     "text": [
      "{'type': 'incident', 'spec_version': '2.1', 'id': 'incident--415c986d-f2b3-4c88-abb4-58531b3c3a93', 'created': '2023-12-31T08:03:04.46545Z', 'modified': '2023-12-31T08:03:04.46545Z', 'name': 'potential phishing', 'extensions': {'extension-definition--ef765651-680c-498d-9894-99799f2fa126': {'extension_type': 'property-extension', 'investigation_status': 'new', 'incident_types': ['dissemination-phishing-emails'], 'sequence_start_refs': ['sequence--fc108d99-8262-4082-81dd-02411203d291', 'sequence--ac6f3beb-e28a-49ef-b0e4-2ddcd54fa2a2'], 'sequence_refs': ['sequence--b75a90bb-5a55-48c3-bdae-23c9e693a362', 'sequence--b75a90bb-5a55-48c3-bdae-23c9e693a362', 'sequence--27d43ed5-0a50-47da-9ca5-2df81f9873be'], 'task_refs': ['task--8a676b0b-a835-4e13-8912-b912c3d9be72', 'task--3d8b10a7-0217-4784-a17d-26f55a68da0a'], 'event_refs': ['event--59026c8c-b8f7-4cbf-9740-a3b2b22bad7f'], 'other_object_refs': ['email-addr--eb38d07e-6ba8-56c1-b107-d4db4aacf212', 'user-account--597ad4d4-35ba-585d-8f6d-134a75032f9b', 'email-addr--4722424c-7012-56b0-84d5-01d076fc547b', 'identity--e5a6e5c3-7138-4288-8146-87d972eb2098', 'identity--2e02a834-c89b-483b-869d-fcb713721246', 'url--3279c7de-8f91-5c1a-99d9-d6546c6c41f7', 'email-message--6090e3d4-1fa8-5b36-9d2d-4a66d824995d', 'relationship--2a4ac790-b905-43c7-aada-87ddafd849fd', 'observed-data--edfce46d-423e-45cc-9c9b-f6b39af482b9', 'indicator--c39ce0f6-4d12-4151-9256-596166aa3a5f', 'sighting--3f365a55-bd23-4e09-9a69-8a5a46caf328', 'anecdote--e1298bc0-818e-5cdb-9154-eac37c8e260f', 'observed-data--2a710640-d225-452f-a454-f110fa5c4c9e', 'sighting--fd535c1c-a12b-4e12-8d62-e99c752b8cdf', 'identity--75d7bcb7-8639-45f4-952e-96845b95e109'], 'impact_refs': ['impact--dfb745f7-a931-4f3a-a6ef-6e9f8ae4a018']}}}\n",
      "\n",
      "{'type': 'incident', 'spec_version': '2.1', 'id': 'incident--415c986d-f2b3-4c88-abb4-58531b3c3a93', 'created': '2023-12-31T08:03:04.46545Z', 'modified': '2023-12-31T08:03:04.46545Z', 'name': 'potential phishing', 'extensions': {'extension-definition--ef765651-680c-498d-9894-99799f2fa126': {'extension_type': 'property-extension', 'investigation_status': 'new', 'incident_types': ['dissemination-phishing-emails'], 'sequence_start_refs': ['sequence--fc108d99-8262-4082-81dd-02411203d291', 'sequence--ac6f3beb-e28a-49ef-b0e4-2ddcd54fa2a2'], 'sequence_refs': ['sequence--b75a90bb-5a55-48c3-bdae-23c9e693a362', 'sequence--b75a90bb-5a55-48c3-bdae-23c9e693a362'], 'task_refs': ['task--8a676b0b-a835-4e13-8912-b912c3d9be72'], 'event_refs': ['event--59026c8c-b8f7-4cbf-9740-a3b2b22bad7f'], 'other_object_refs': ['email-addr--eb38d07e-6ba8-56c1-b107-d4db4aacf212', 'user-account--597ad4d4-35ba-585d-8f6d-134a75032f9b', 'email-addr--4722424c-7012-56b0-84d5-01d076fc547b', 'identity--e5a6e5c3-7138-4288-8146-87d972eb2098', 'identity--2e02a834-c89b-483b-869d-fcb713721246', 'url--3279c7de-8f91-5c1a-99d9-d6546c6c41f7', 'email-message--6090e3d4-1fa8-5b36-9d2d-4a66d824995d', 'relationship--2a4ac790-b905-43c7-aada-87ddafd849fd', 'observed-data--edfce46d-423e-45cc-9c9b-f6b39af482b9', 'indicator--c39ce0f6-4d12-4151-9256-596166aa3a5f', 'sighting--3f365a55-bd23-4e09-9a69-8a5a46caf328']}}}\n"
     ]
    }
   ],
   "source": [
    "print((incident_obj))\n",
    "print(\"\")\n",
    "print(t_incident_obj)"
   ],
   "metadata": {
    "collapsed": false
   }
  },
  {
   "cell_type": "code",
   "execution_count": 4,
   "outputs": [
    {
     "name": "stdout",
     "output_type": "stream",
     "text": [
      "{'dictionary_item_added': [root['extensions']['extension-definition--ef765651-680c-498d-9894-99799f2fa126']['impact_refs']], 'iterable_item_added': {\"root['extensions']['extension-definition--ef765651-680c-498d-9894-99799f2fa126']['sequence_refs'][2]\": 'sequence--27d43ed5-0a50-47da-9ca5-2df81f9873be', \"root['extensions']['extension-definition--ef765651-680c-498d-9894-99799f2fa126']['task_refs'][1]\": 'task--3d8b10a7-0217-4784-a17d-26f55a68da0a', \"root['extensions']['extension-definition--ef765651-680c-498d-9894-99799f2fa126']['other_object_refs'][11]\": 'anecdote--e1298bc0-818e-5cdb-9154-eac37c8e260f', \"root['extensions']['extension-definition--ef765651-680c-498d-9894-99799f2fa126']['other_object_refs'][12]\": 'observed-data--2a710640-d225-452f-a454-f110fa5c4c9e', \"root['extensions']['extension-definition--ef765651-680c-498d-9894-99799f2fa126']['other_object_refs'][13]\": 'sighting--fd535c1c-a12b-4e12-8d62-e99c752b8cdf', \"root['extensions']['extension-definition--ef765651-680c-498d-9894-99799f2fa126']['other_object_refs'][14]\": 'identity--75d7bcb7-8639-45f4-952e-96845b95e109'}}\n"
     ]
    }
   ],
   "source": [
    "diff = DeepDiff(t_incident_obj, incident_obj)\n",
    "print(diff)"
   ],
   "metadata": {
    "collapsed": false
   }
  },
  {
   "cell_type": "code",
   "execution_count": 5,
   "outputs": [
    {
     "name": "stdout",
     "output_type": "stream",
     "text": [
      "{ 'dictionary_item_added': { \"root['extensions']['extension-definition--ef765651-680c-498d-9894-99799f2fa126']['impact_refs']\": [ 'impact--dfb745f7-a931-4f3a-a6ef-6e9f8ae4a018']},\n",
      "  'dictionary_item_removed': { \"root['extensions']['extension-definition--ef765651-680c-498d-9894-99799f2fa126']['investigation_status']\": 'new'},\n",
      "  'iterable_item_added': { \"root['extensions']['extension-definition--ef765651-680c-498d-9894-99799f2fa126']['other_object_refs'][11]\": 'anecdote--e1298bc0-818e-5cdb-9154-eac37c8e260f',\n",
      "                           \"root['extensions']['extension-definition--ef765651-680c-498d-9894-99799f2fa126']['other_object_refs'][12]\": 'observed-data--2a710640-d225-452f-a454-f110fa5c4c9e',\n",
      "                           \"root['extensions']['extension-definition--ef765651-680c-498d-9894-99799f2fa126']['other_object_refs'][13]\": 'sighting--fd535c1c-a12b-4e12-8d62-e99c752b8cdf',\n",
      "                           \"root['extensions']['extension-definition--ef765651-680c-498d-9894-99799f2fa126']['other_object_refs'][14]\": 'identity--75d7bcb7-8639-45f4-952e-96845b95e109',\n",
      "                           \"root['extensions']['extension-definition--ef765651-680c-498d-9894-99799f2fa126']['sequence_refs'][2]\": 'sequence--27d43ed5-0a50-47da-9ca5-2df81f9873be',\n",
      "                           \"root['extensions']['extension-definition--ef765651-680c-498d-9894-99799f2fa126']['task_refs'][1]\": 'task--3d8b10a7-0217-4784-a17d-26f55a68da0a'},\n",
      "  'values_changed': { \"root['name']\": { 'new_value': 'Potential phishing',\n",
      "                                        'old_value': 'potential phishing'}}}\n"
     ]
    }
   ],
   "source": [
    "incident_obj[\"name\"]= \"Potential phishing\"\n",
    "del incident_obj[\"extensions\"][\"extension-definition--ef765651-680c-498d-9894-99799f2fa126\"][\"investigation_status\"]\n",
    "diff = DeepDiff(t_incident_obj, incident_obj, verbose_level=2)\n",
    "pprint(diff, depth=4, indent=2)"
   ],
   "metadata": {
    "collapsed": false
   }
  },
  {
   "cell_type": "code",
   "execution_count": 7,
   "outputs": [
    {
     "name": "stdout",
     "output_type": "stream",
     "text": [
      "------  dictionary_item_added\n",
      "..... ITs an add statement\n",
      "======= ['extensions', 'extension-definition--ef765651-680c-498d-9894-99799f2fa126', 'impact_refs']\n",
      "['impact--dfb745f7-a931-4f3a-a6ef-6e9f8ae4a018']\n",
      "------  dictionary_item_removed\n",
      "..... ITs a remove statement\n",
      "======= ['extensions', 'extension-definition--ef765651-680c-498d-9894-99799f2fa126', 'investigation_status']\n",
      "new\n",
      "------  values_changed\n",
      "..... ITs an value changed statement\n",
      "======= ['name']\n",
      "{'new_value': 'Potential phishing', 'old_value': 'potential phishing'}\n",
      "------  iterable_item_added\n",
      "..... ITs an iterable item added statement\n",
      "======= ['extensions', 'extension-definition--ef765651-680c-498d-9894-99799f2fa126', 'sequence_refs', 2]\n",
      "sequence--27d43ed5-0a50-47da-9ca5-2df81f9873be\n",
      "======= ['extensions', 'extension-definition--ef765651-680c-498d-9894-99799f2fa126', 'task_refs', 1]\n",
      "task--3d8b10a7-0217-4784-a17d-26f55a68da0a\n",
      "======= ['extensions', 'extension-definition--ef765651-680c-498d-9894-99799f2fa126', 'other_object_refs', 11]\n",
      "anecdote--e1298bc0-818e-5cdb-9154-eac37c8e260f\n",
      "======= ['extensions', 'extension-definition--ef765651-680c-498d-9894-99799f2fa126', 'other_object_refs', 12]\n",
      "observed-data--2a710640-d225-452f-a454-f110fa5c4c9e\n",
      "======= ['extensions', 'extension-definition--ef765651-680c-498d-9894-99799f2fa126', 'other_object_refs', 13]\n",
      "sighting--fd535c1c-a12b-4e12-8d62-e99c752b8cdf\n",
      "======= ['extensions', 'extension-definition--ef765651-680c-498d-9894-99799f2fa126', 'other_object_refs', 14]\n",
      "identity--75d7bcb7-8639-45f4-952e-96845b95e109\n"
     ]
    }
   ],
   "source": [
    "for d, i in diff.items():\n",
    "    print(f\"------  {d}\")\n",
    "    if d == \"dictionary_item_added\":\n",
    "        print(\"..... ITs an add statement\")\n",
    "        for k, v in i.items():\n",
    "            test1 = parse_path(k, include_actions=True)\n",
    "            test2 = parse_path(k)\n",
    "            print(f\"======= {test2}\")\n",
    "            #print(f\",,, {test1}\")\n",
    "            print(v)\n",
    "    if d == \"dictionary_item_removed\":\n",
    "        print(\"..... ITs a remove statement\")\n",
    "        for k, v in i.items():\n",
    "            test1 = parse_path(k, include_actions=True)\n",
    "            test2 = parse_path(k)\n",
    "            print(f\"======= {test2}\")\n",
    "            #print(f\",,, {test1}\")\n",
    "            print(v)\n",
    "    if d == \"values_changed\":\n",
    "        print(\"..... ITs an value changed statement\")\n",
    "        for k, v in i.items():\n",
    "            test1 = parse_path(k, include_actions=True)\n",
    "            test2 = parse_path(k)\n",
    "            print(f\"======= {test2}\")\n",
    "            #print(f\",,, {test1}\")\n",
    "            print(v)\n",
    "    if d == \"iterable_item_added\":\n",
    "        print(\"..... ITs an iterable item added statement\")\n",
    "        for k, v in i.items():\n",
    "            test1 = parse_path(k, include_actions=True)\n",
    "            test2 = parse_path(k)\n",
    "            print(f\"======= {test2}\")\n",
    "            #print(f\",,, {test1}\")\n",
    "            print(v)"
   ],
   "metadata": {
    "collapsed": false,
    "ExecuteTime": {
     "end_time": "2024-01-01T23:57:05.041588700Z",
     "start_time": "2024-01-01T23:57:05.034587700Z"
    }
   }
  },
  {
   "cell_type": "code",
   "execution_count": 8,
   "outputs": [
    {
     "name": "stdout",
     "output_type": "stream",
     "text": [
      "{}\n"
     ]
    }
   ],
   "source": [
    "sequence_start = DeepDiff(t_sequence_start_objs, sequence_start_objs, verbose_level=2)\n",
    "print(sequence_start)"
   ],
   "metadata": {
    "collapsed": false,
    "ExecuteTime": {
     "end_time": "2024-01-02T00:26:33.644984300Z",
     "start_time": "2024-01-02T00:26:33.627876Z"
    }
   }
  },
  {
   "cell_type": "code",
   "execution_count": 9,
   "outputs": [
    {
     "name": "stdout",
     "output_type": "stream",
     "text": [
      "{'iterable_item_added': {'root[2]': {'type': 'sequence', 'spec_version': '2.1', 'id': 'sequence--27d43ed5-0a50-47da-9ca5-2df81f9873be', 'created': '2023-12-31T08:03:29.010237Z', 'modified': '2023-12-31T08:03:29.010237Z', 'sequenced_object': 'task--3d8b10a7-0217-4784-a17d-26f55a68da0a', 'sequence_type': 'task', 'step_type': 'single_step', 'extensions': {'extension-definition--4ca6de00-5b0d-45ef-a1dc-ea7279ea910e': {'extension_type': 'new-sdo'}}, 'on_completion': 'sequence--27d43ed5-0a50-47da-9ca5-2df81f9873be'}}}\n"
     ]
    }
   ],
   "source": [
    "sequences = DeepDiff(t_sequence_objs, sequence_objs, verbose_level=2)\n",
    "print(sequences)"
   ],
   "metadata": {
    "collapsed": false,
    "ExecuteTime": {
     "end_time": "2024-01-02T00:27:54.793202600Z",
     "start_time": "2024-01-02T00:27:54.721890300Z"
    }
   }
  },
  {
   "cell_type": "code",
   "execution_count": 13,
   "outputs": [
    {
     "name": "stdout",
     "output_type": "stream",
     "text": [
      "Delete -> Things in old, not in new ->{0, 8, 6}\n",
      "Add -> Things in new, not in old ->{1, 3, 5}\n",
      "Intersections -> Things which may have changed ->{2, 4}\n"
     ]
    }
   ],
   "source": [
    "A = {0, 2, 4, 6, 8}\n",
    "B = {1, 2, 3, 4, 5}\n",
    "C = A - B\n",
    "print(f\"Delete -> Things in old, not in new ->{C}\")\n",
    "D = B - A\n",
    "print(f\"Add -> Things in new, not in old ->{D}\")\n",
    "E = A & B\n",
    "print(f\"Intersections -> Things which may have changed ->{E}\")\n"
   ],
   "metadata": {
    "collapsed": false,
    "ExecuteTime": {
     "end_time": "2024-01-03T04:25:37.575076800Z",
     "start_time": "2024-01-03T04:25:37.553869500Z"
    }
   }
  },
  {
   "cell_type": "code",
   "execution_count": null,
   "outputs": [],
   "source": [],
   "metadata": {
    "collapsed": false
   }
  }
 ],
 "metadata": {
  "kernelspec": {
   "display_name": "Python 3",
   "language": "python",
   "name": "python3"
  },
  "language_info": {
   "codemirror_mode": {
    "name": "ipython",
    "version": 2
   },
   "file_extension": ".py",
   "mimetype": "text/x-python",
   "name": "python",
   "nbconvert_exporter": "python",
   "pygments_lexer": "ipython2",
   "version": "2.7.6"
  }
 },
 "nbformat": 4,
 "nbformat_minor": 0
}
