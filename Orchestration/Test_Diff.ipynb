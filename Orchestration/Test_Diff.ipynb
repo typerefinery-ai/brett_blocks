{
 "cells": [
  {
   "cell_type": "markdown",
   "source": [
    "# Test Diff"
   ],
   "metadata": {
    "collapsed": false
   }
  },
  {
   "cell_type": "code",
   "execution_count": 20,
   "outputs": [
    {
     "name": "stdout",
     "output_type": "stream",
     "text": [
      "Requirement already satisfied: stixorm in c:\\users\\brett\\anaconda3\\envs\\brett-blocks\\lib\\site-packages (0.3.4)\n",
      "Requirement already satisfied: loguru<0.8.0,>=0.7.0 in c:\\users\\brett\\anaconda3\\envs\\brett-blocks\\lib\\site-packages (from stixorm) (0.7.0)\n",
      "Requirement already satisfied: networkx<4.0,>=3.1 in c:\\users\\brett\\anaconda3\\envs\\brett-blocks\\lib\\site-packages (from stixorm) (3.1)\n",
      "Requirement already satisfied: pydantic<3.0.0,>=2.1.1 in c:\\users\\brett\\anaconda3\\envs\\brett-blocks\\lib\\site-packages (from stixorm) (2.1.1)\n",
      "Requirement already satisfied: stix2==3.0.1 in c:\\users\\brett\\anaconda3\\envs\\brett-blocks\\lib\\site-packages (from stixorm) (3.0.1)\n",
      "Requirement already satisfied: typedb-driver<3.0.0,>=2.25.6 in c:\\users\\brett\\anaconda3\\envs\\brett-blocks\\lib\\site-packages (from stixorm) (2.25.8)\n",
      "Requirement already satisfied: validators<0.21.0,>=0.20.0 in c:\\users\\brett\\anaconda3\\envs\\brett-blocks\\lib\\site-packages (from stixorm) (0.20.0)\n",
      "Requirement already satisfied: pytz in c:\\users\\brett\\anaconda3\\envs\\brett-blocks\\lib\\site-packages (from stix2==3.0.1->stixorm) (2023.3)\n",
      "Requirement already satisfied: requests in c:\\users\\brett\\anaconda3\\envs\\brett-blocks\\lib\\site-packages (from stix2==3.0.1->stixorm) (2.31.0)\n",
      "Requirement already satisfied: simplejson in c:\\users\\brett\\anaconda3\\envs\\brett-blocks\\lib\\site-packages (from stix2==3.0.1->stixorm) (3.19.1)\n",
      "Requirement already satisfied: stix2-patterns>=1.2.0 in c:\\users\\brett\\anaconda3\\envs\\brett-blocks\\lib\\site-packages (from stix2==3.0.1->stixorm) (2.0.0)\n",
      "Requirement already satisfied: colorama>=0.3.4 in c:\\users\\brett\\anaconda3\\envs\\brett-blocks\\lib\\site-packages (from loguru<0.8.0,>=0.7.0->stixorm) (0.4.6)\n",
      "Requirement already satisfied: win32-setctime>=1.0.0 in c:\\users\\brett\\anaconda3\\envs\\brett-blocks\\lib\\site-packages (from loguru<0.8.0,>=0.7.0->stixorm) (1.1.0)\n",
      "Requirement already satisfied: annotated-types>=0.4.0 in c:\\users\\brett\\anaconda3\\envs\\brett-blocks\\lib\\site-packages (from pydantic<3.0.0,>=2.1.1->stixorm) (0.5.0)\n",
      "Requirement already satisfied: pydantic-core==2.4.0 in c:\\users\\brett\\anaconda3\\envs\\brett-blocks\\lib\\site-packages (from pydantic<3.0.0,>=2.1.1->stixorm) (2.4.0)\n",
      "Requirement already satisfied: typing-extensions>=4.6.1 in c:\\users\\brett\\anaconda3\\envs\\brett-blocks\\lib\\site-packages (from pydantic<3.0.0,>=2.1.1->stixorm) (4.7.1)\n",
      "Requirement already satisfied: parse==1.18.0 in c:\\users\\brett\\anaconda3\\envs\\brett-blocks\\lib\\site-packages (from typedb-driver<3.0.0,>=2.25.6->stixorm) (1.18.0)\n",
      "Requirement already satisfied: decorator>=3.4.0 in c:\\users\\brett\\anaconda3\\envs\\brett-blocks\\lib\\site-packages (from validators<0.21.0,>=0.20.0->stixorm) (5.1.1)\n",
      "Requirement already satisfied: antlr4-python3-runtime~=4.9.0 in c:\\users\\brett\\anaconda3\\envs\\brett-blocks\\lib\\site-packages (from stix2-patterns>=1.2.0->stix2==3.0.1->stixorm) (4.9.3)\n",
      "Requirement already satisfied: six in c:\\users\\brett\\anaconda3\\envs\\brett-blocks\\lib\\site-packages (from stix2-patterns>=1.2.0->stix2==3.0.1->stixorm) (1.16.0)\n",
      "Requirement already satisfied: charset-normalizer<4,>=2 in c:\\users\\brett\\anaconda3\\envs\\brett-blocks\\lib\\site-packages (from requests->stix2==3.0.1->stixorm) (3.2.0)\n",
      "Requirement already satisfied: idna<4,>=2.5 in c:\\users\\brett\\anaconda3\\envs\\brett-blocks\\lib\\site-packages (from requests->stix2==3.0.1->stixorm) (3.4)\n",
      "Requirement already satisfied: urllib3<3,>=1.21.1 in c:\\users\\brett\\anaconda3\\envs\\brett-blocks\\lib\\site-packages (from requests->stix2==3.0.1->stixorm) (1.26.16)\n",
      "Requirement already satisfied: certifi>=2017.4.17 in c:\\users\\brett\\anaconda3\\envs\\brett-blocks\\lib\\site-packages (from requests->stix2==3.0.1->stixorm) (2023.7.22)\n"
     ]
    }
   ],
   "source": [
    "import sys\n",
    "!{sys.executable} -m pip install stixorm\n",
    "from stixorm.module.typedb import TypeDBSink, TypeDBSource\n",
    "from stixorm.module.authorise import import_type_factory\n",
    "from stixorm.module.definitions.stix21 import (\n",
    "    Identity, EmailAddress, UserAccount, Relationship, Bundle, Incident, URL, EmailMessage, ObservedData\n",
    ")\n",
    "from stixorm.module.definitions.os_threat import (\n",
    "    EventCoreExt, Event, SocialMediaContact, ContactNumber, IncidentCoreExt, TaskCoreExt,\n",
    "    Task, SightingEvidence, Sequence, SequenceExt, AnecdoteExt, Anecdote,\n",
    "    SightingAnecdote, SightingAlert, SightingContext, SightingExclusion,\n",
    "    SightingEnrichment, SightingHunt, SightingFramework, SightingExternal\n",
    ")\n",
    "from stixorm.module.authorise import import_type_factory\n",
    "from stixorm.module.typedb_lib.instructions import ResultStatus, Result\n",
    "from stixorm.module.parsing import parse_objects\n",
    "from deepdiff import DeepDiff, parse_path\n",
    "from pprint import pprint\n",
    "import_type = import_type_factory.get_all_imports()\n",
    "import logging\n",
    "logger = logging.getLogger(__name__)\n",
    "logger.setLevel(logging.INFO)\n",
    "import json"
   ],
   "metadata": {
    "collapsed": false,
    "ExecuteTime": {
     "end_time": "2024-01-27T02:13:33.883286800Z",
     "start_time": "2024-01-27T02:13:31.843721700Z"
    }
   }
  },
  {
   "cell_type": "markdown",
   "source": [
    "# Load Context Memory"
   ],
   "metadata": {
    "collapsed": false
   }
  },
  {
   "cell_type": "code",
   "execution_count": 21,
   "outputs": [],
   "source": [
    "\n",
    "from Utilities.local_make_general import invoke_context_get_block, invoke_context_save_block\n",
    "# 1. Load the Context\n",
    "Type_Refinery_Context = invoke_context_get_block()#\n",
    "# 2. Setup the  TR User Context\n",
    "#\n",
    "local = Type_Refinery_Context[\"local\"]\n",
    "local_context = local[\"context\"]\n",
    "me = local_context[\"me\"]\n",
    "team = local_context[\"team\"]\n",
    "company = local_context[\"company\"]\n",
    "systems = local_context[\"systems\"]\n",
    "assets = local_context[\"assets\"]\n",
    "#\n",
    "# 3. Setup the Incident Context\n",
    "#\n",
    "local_incident = local[\"incident\"]\n",
    "sequence_start_objs = local_incident[\"sequence_start_objs\"]\n",
    "sequence_objs = local_incident[\"sequence_objs\"]\n",
    "task_objs = local_incident[\"task_objs\"]\n",
    "event_objs = local_incident[\"event_objs\"]\n",
    "impact_objs = local_incident[\"impact_objs\"]\n",
    "other_object_objs = local_incident[\"other_object_objs\"]\n",
    "incident_obj = local_incident[\"incident_obj\"]"
   ],
   "metadata": {
    "collapsed": false,
    "ExecuteTime": {
     "end_time": "2024-01-27T02:13:33.925293300Z",
     "start_time": "2024-01-27T02:13:33.892161500Z"
    }
   }
  },
  {
   "cell_type": "markdown",
   "source": [
    "# Lets run some tests"
   ],
   "metadata": {
    "collapsed": false
   }
  },
  {
   "cell_type": "code",
   "execution_count": 22,
   "outputs": [
    {
     "name": "stdout",
     "output_type": "stream",
     "text": [
      "Delete -> Things in old, not in new ->{0, 8, 6}\n",
      "Add -> Things in new, not in old ->{1, 3, 5}\n",
      "Intersections -> Things which may have changed ->{2, 4}\n"
     ]
    }
   ],
   "source": [
    "A = {0, 2, 4, 6, 8}\n",
    "B = {1, 2, 3, 4, 5}\n",
    "C = A - B\n",
    "print(f\"Delete -> Things in old, not in new ->{C}\")\n",
    "D = B - A\n",
    "print(f\"Add -> Things in new, not in old ->{D}\")\n",
    "E = A & B\n",
    "print(f\"Intersections -> Things which may have changed ->{E}\")\n"
   ],
   "metadata": {
    "collapsed": false,
    "ExecuteTime": {
     "end_time": "2024-01-27T02:13:33.934299400Z",
     "start_time": "2024-01-27T02:13:33.925293300Z"
    }
   }
  },
  {
   "cell_type": "code",
   "execution_count": 23,
   "outputs": [
    {
     "name": "stdout",
     "output_type": "stream",
     "text": [
      "<class 'datetime.datetime'>\n",
      "2024-01-24 12:38:07.927748\n",
      "2024-01-24T12:38:07.927\n",
      "927748\n",
      "<class 'int'>\n",
      "927\n",
      "['2024-01-24T12:38:07', '927748Z']\n",
      "2024-01-24T12:38:07.927Z\n"
     ]
    }
   ],
   "source": [
    "from datetime import datetime\n",
    "created =\"2024-01-24T12:38:07.927748Z\"\n",
    "returned = \"2024-01-24T12:38:07.927Z\"\n",
    "cr_date = datetime.strptime(created, \"%Y-%m-%dT%H:%M:%S.%fZ\")\n",
    "ret_date = datetime.strptime(returned, \"%Y-%m-%dT%H:%M:%S.%fZ\")\n",
    "print(type(cr_date))\n",
    "print(cr_date)\n",
    "cr_date_String = str(cr_date.strftime(\"%Y-%m-%dT%H:%M:%S.%f\")[:-3])\n",
    "print(cr_date_String)\n",
    "print(cr_date.microsecond)\n",
    "microsecs = ret_date.microsecond\n",
    "print(type(microsecs))\n",
    "milisecs = (round(microsecs/1000))\n",
    "print(milisecs)\n",
    "dt = created.split('.')\n",
    "print(dt)\n",
    "actual = dt[0] + \".\" + str(milisecs) + \"Z\"\n",
    "print(actual)\n",
    "\n",
    "\n"
   ],
   "metadata": {
    "collapsed": false,
    "ExecuteTime": {
     "end_time": "2024-01-27T02:13:33.943299800Z",
     "start_time": "2024-01-27T02:13:33.934299400Z"
    }
   }
  },
  {
   "cell_type": "code",
   "execution_count": 28,
   "outputs": [
    {
     "name": "stdout",
     "output_type": "stream",
     "text": [
      "{\n",
      "    \"type\": \"identity\",\n",
      "    \"spec_version\": \"2.1\",\n",
      "    \"id\": \"identity--c90a815e-46ee-4e05-9a6e-20daf7b5348d\",\n",
      "    \"created\": \"2024-01-27T02:28:18.780Z\",\n",
      "    \"modified\": \"2024-01-27T02:28:18.780Z\",\n",
      "    \"name\": \"Example Company\",\n",
      "    \"description\": \"An Example Organisation\",\n",
      "    \"identity_class\": \"organization\",\n",
      "    \"sectors\": [\n",
      "        \"technology\"\n",
      "    ]\n",
      "}\n",
      "{\"type\": \"identity\", \"spec_version\": \"2.1\", \"id\": \"identity--c90a815e-46ee-4e05-9a6e-20daf7b5348d\", \"created\": \"2024-01-26T15:28:18.780Z\", \"modified\": \"2024-01-26T15:28:18.780Z\", \"name\": \"Example Company\", \"description\": \"An Example Organisation\", \"identity_class\": \"organization\", \"sectors\": [\"technology\"]}\n"
     ]
    }
   ],
   "source": [
    "from stixorm.module.typedb import TypeDBSink, TypeDBSource\n",
    "from stixorm.module.authorise import import_type_factory\n",
    "from Utilities.local_make_sdo import invoke_make_identity_block\n",
    "from Utilities.util import emulate_ports, unwind_ports, conv\n",
    "connection = {\n",
    "    \"uri\": \"localhost\",\n",
    "    \"port\": \"1729\",\n",
    "    \"database\": \"stix_test\",\n",
    "    \"user\": None,\n",
    "    \"password\": None\n",
    "}\n",
    "\n",
    "import_type = import_type_factory.get_all_imports()\n",
    "company_ident_path = \"SDO/Identity/identity_TR_user_company.json\"\n",
    "company_results_path = \"step0/employer\"\n",
    "#\n",
    "# MAke the Company object nd add it to the bundle_list\n",
    "#\n",
    "comp_ident_list = invoke_make_identity_block(company_ident_path, company_results_path)\n",
    "# 2. add the record to the in-session bundles and context lists\n",
    "local_context[\"company\"] = local_context[\"company\"] + comp_ident_list\n",
    "# recover the threat email object in dict form as a global variable for later\n",
    "comp_ident = conv(comp_ident_list[0])\n",
    "\n",
    "typedb_sink = TypeDBSink(connection=connection, clear=True, import_type=import_type)\n",
    "typedb_source = TypeDBSource(connection=connection,)\n",
    "results_raw = typedb_sink.add(comp_ident)\n",
    "ret_ident = typedb_source.get(comp_ident[\"id\"])\n",
    "print(ret_ident)"
   ],
   "metadata": {
    "collapsed": false,
    "ExecuteTime": {
     "end_time": "2024-01-27T02:28:24.882489400Z",
     "start_time": "2024-01-27T02:28:18.078898Z"
    }
   }
  },
  {
   "cell_type": "code",
   "execution_count": 3,
   "outputs": [
    {
     "name": "stdout",
     "output_type": "stream",
     "text": [
      "2\n"
     ]
    }
   ],
   "source": [
    "test = \"20.20-10-19T01:01:.01Z\"\n",
    "ret = test.find(\".\")\n",
    "print(ret)"
   ],
   "metadata": {
    "collapsed": false,
    "ExecuteTime": {
     "end_time": "2024-01-28T15:20:51.552873300Z",
     "start_time": "2024-01-28T15:20:51.531252300Z"
    }
   }
  },
  {
   "cell_type": "code",
   "execution_count": null,
   "outputs": [],
   "source": [],
   "metadata": {
    "collapsed": false
   }
  }
 ],
 "metadata": {
  "kernelspec": {
   "display_name": "Python 3",
   "language": "python",
   "name": "python3"
  },
  "language_info": {
   "codemirror_mode": {
    "name": "ipython",
    "version": 2
   },
   "file_extension": ".py",
   "mimetype": "text/x-python",
   "name": "python",
   "nbconvert_exporter": "python",
   "pygments_lexer": "ipython2",
   "version": "2.7.6"
  }
 },
 "nbformat": 4,
 "nbformat_minor": 0
}
