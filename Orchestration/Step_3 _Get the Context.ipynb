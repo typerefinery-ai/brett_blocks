{
 "cells": [
  {
   "cell_type": "markdown",
   "source": [
    "# 3. Get the Context to See Who Else Got the Email\n",
    "\n",
    "Notebook to build all of the different stix objects associated with finding who else got the suspicious email\n",
    "\n",
    "We take v3.0 of the [Incident Core Extension](https://github.com/os-threat/cti-stix-common-objects/blob/main/extension-definition-specifications/incident-core/Incident%20Extension%20Suite.adoc) specification, with particular focus on the Sighting Extensions for Evidence, and combine it with the standard Stix approach. There are nine stages:\n",
    "\n",
    "1. First setup the global parameters and retrieve the context memory\n",
    "2. Retrieve the user-account, email address and identity for each of the users who recieved the email\n",
    "2. Add the SCO objects to the `ObservedData` object\n",
    "4. Create the `Sighting` object with the `SightingContext` extension, using their identity's as the location\n",
    "5. Add the Sighting to the original Event\n",
    "5. Create the next Task and its Sequence objects\n",
    "6. Connect the Sequence object to the previous sequence object\n",
    "6. Create the Incident, with the [Incident Core Extension](https://github.com/os-threat/cti-stix-common-objects/blob/main/extension-definition-specifications/incident-core/Incident%20Extension%20Suite.adoc), and add all of the objects to it\n",
    "7. Save the context memory\n",
    "\n",
    "\n",
    "Each time a block makes an object, and saves it as a json, this notebook will parse the object into an actual Stix object, so it can be bundled and printy printed (This step also verifies the objects are created correctly, and is cool).\n",
    "\n",
    "\n",
    "\n",
    "## A. Load Imports\n",
    "\n",
    "### A.1 StixORM Imports\n"
   ],
   "metadata": {
    "collapsed": false
   }
  },
  {
   "cell_type": "code",
   "execution_count": 1,
   "outputs": [
    {
     "name": "stdout",
     "output_type": "stream",
     "text": [
      "Requirement already satisfied: stixorm in c:\\users\\brett\\anaconda3\\envs\\brett-blocks\\lib\\site-packages (0.3.9)\n",
      "Requirement already satisfied: loguru<0.8.0,>=0.7.0 in c:\\users\\brett\\anaconda3\\envs\\brett-blocks\\lib\\site-packages (from stixorm) (0.7.0)\n",
      "Requirement already satisfied: networkx<4.0,>=3.1 in c:\\users\\brett\\anaconda3\\envs\\brett-blocks\\lib\\site-packages (from stixorm) (3.1)\n",
      "Requirement already satisfied: pydantic<3.0.0,>=2.1.1 in c:\\users\\brett\\anaconda3\\envs\\brett-blocks\\lib\\site-packages (from stixorm) (2.1.1)\n",
      "Requirement already satisfied: stix2==3.0.1 in c:\\users\\brett\\anaconda3\\envs\\brett-blocks\\lib\\site-packages (from stixorm) (3.0.1)\n",
      "Requirement already satisfied: typedb-driver<3.0.0,>=2.25.6 in c:\\users\\brett\\anaconda3\\envs\\brett-blocks\\lib\\site-packages (from stixorm) (2.25.8)\n",
      "Requirement already satisfied: validators<0.21.0,>=0.20.0 in c:\\users\\brett\\anaconda3\\envs\\brett-blocks\\lib\\site-packages (from stixorm) (0.20.0)\n",
      "Requirement already satisfied: pytz in c:\\users\\brett\\anaconda3\\envs\\brett-blocks\\lib\\site-packages (from stix2==3.0.1->stixorm) (2023.3)\n",
      "Requirement already satisfied: requests in c:\\users\\brett\\anaconda3\\envs\\brett-blocks\\lib\\site-packages (from stix2==3.0.1->stixorm) (2.31.0)\n",
      "Requirement already satisfied: simplejson in c:\\users\\brett\\anaconda3\\envs\\brett-blocks\\lib\\site-packages (from stix2==3.0.1->stixorm) (3.19.1)\n",
      "Requirement already satisfied: stix2-patterns>=1.2.0 in c:\\users\\brett\\anaconda3\\envs\\brett-blocks\\lib\\site-packages (from stix2==3.0.1->stixorm) (2.0.0)\n",
      "Requirement already satisfied: colorama>=0.3.4 in c:\\users\\brett\\anaconda3\\envs\\brett-blocks\\lib\\site-packages (from loguru<0.8.0,>=0.7.0->stixorm) (0.4.6)\n",
      "Requirement already satisfied: win32-setctime>=1.0.0 in c:\\users\\brett\\anaconda3\\envs\\brett-blocks\\lib\\site-packages (from loguru<0.8.0,>=0.7.0->stixorm) (1.1.0)\n",
      "Requirement already satisfied: annotated-types>=0.4.0 in c:\\users\\brett\\anaconda3\\envs\\brett-blocks\\lib\\site-packages (from pydantic<3.0.0,>=2.1.1->stixorm) (0.5.0)\n",
      "Requirement already satisfied: pydantic-core==2.4.0 in c:\\users\\brett\\anaconda3\\envs\\brett-blocks\\lib\\site-packages (from pydantic<3.0.0,>=2.1.1->stixorm) (2.4.0)\n",
      "Requirement already satisfied: typing-extensions>=4.6.1 in c:\\users\\brett\\anaconda3\\envs\\brett-blocks\\lib\\site-packages (from pydantic<3.0.0,>=2.1.1->stixorm) (4.7.1)\n",
      "Requirement already satisfied: parse==1.18.0 in c:\\users\\brett\\anaconda3\\envs\\brett-blocks\\lib\\site-packages (from typedb-driver<3.0.0,>=2.25.6->stixorm) (1.18.0)\n",
      "Requirement already satisfied: decorator>=3.4.0 in c:\\users\\brett\\anaconda3\\envs\\brett-blocks\\lib\\site-packages (from validators<0.21.0,>=0.20.0->stixorm) (5.1.1)\n",
      "Requirement already satisfied: antlr4-python3-runtime~=4.9.0 in c:\\users\\brett\\anaconda3\\envs\\brett-blocks\\lib\\site-packages (from stix2-patterns>=1.2.0->stix2==3.0.1->stixorm) (4.9.3)\n",
      "Requirement already satisfied: six in c:\\users\\brett\\anaconda3\\envs\\brett-blocks\\lib\\site-packages (from stix2-patterns>=1.2.0->stix2==3.0.1->stixorm) (1.16.0)\n",
      "Requirement already satisfied: charset-normalizer<4,>=2 in c:\\users\\brett\\anaconda3\\envs\\brett-blocks\\lib\\site-packages (from requests->stix2==3.0.1->stixorm) (3.2.0)\n",
      "Requirement already satisfied: idna<4,>=2.5 in c:\\users\\brett\\anaconda3\\envs\\brett-blocks\\lib\\site-packages (from requests->stix2==3.0.1->stixorm) (3.4)\n",
      "Requirement already satisfied: urllib3<3,>=1.21.1 in c:\\users\\brett\\anaconda3\\envs\\brett-blocks\\lib\\site-packages (from requests->stix2==3.0.1->stixorm) (1.26.16)\n",
      "Requirement already satisfied: certifi>=2017.4.17 in c:\\users\\brett\\anaconda3\\envs\\brett-blocks\\lib\\site-packages (from requests->stix2==3.0.1->stixorm) (2023.7.22)\n"
     ]
    }
   ],
   "source": [
    "import sys\n",
    "!{sys.executable} -m pip install stixorm\n",
    "from stixorm.module.typedb import TypeDBSink, TypeDBSource\n",
    "from stixorm.module.authorise import import_type_factory\n",
    "from stixorm.module.definitions.stix21 import (\n",
    "    Identity, EmailAddress, UserAccount, Relationship, Bundle, Incident, URL, EmailMessage, ObservedData\n",
    ")\n",
    "from stixorm.module.definitions.os_threat import (\n",
    "    EventCoreExt, Event, SocialMediaContact, ContactNumber, IncidentCoreExt, TaskCoreExt,\n",
    "    Task, SightingEvidence, Sequence, SequenceExt, AnecdoteExt, Anecdote,\n",
    "    SightingAnecdote, SightingAlert, SightingContext, SightingExclusion,\n",
    "    SightingEnrichment, SightingHunt, SightingFramework, SightingExternal\n",
    ")\n",
    "from stixorm.module.authorise import import_type_factory\n",
    "from stixorm.module.typedb_lib.instructions import ResultStatus, Result\n",
    "from stixorm.module.parsing import parse_objects\n",
    "import_type = import_type_factory.get_all_imports()\n",
    "import logging\n",
    "logger = logging.getLogger(__name__)\n",
    "logger.setLevel(logging.INFO)"
   ],
   "metadata": {
    "collapsed": false
   }
  },
  {
   "cell_type": "markdown",
   "source": [
    "### A.2 Relative Path Imports\n",
    "https://stackoverflow.com/questions/76162459/jupyter-notebook-importerror-attempted-relative-import-with-no-known-parent-pac/77528726#77528726"
   ],
   "metadata": {
    "collapsed": false
   }
  },
  {
   "cell_type": "code",
   "execution_count": 2,
   "outputs": [],
   "source": [
    "import sys\n",
    "sys.path.append('../')\n",
    "import os"
   ],
   "metadata": {
    "collapsed": false
   }
  },
  {
   "cell_type": "markdown",
   "source": [
    "### A.3 Relative Import of Blocks"
   ],
   "metadata": {
    "collapsed": false
   }
  },
  {
   "cell_type": "code",
   "execution_count": 1,
   "outputs": [],
   "source": [
    "import json\n",
    "from Block_Families.Objects.SCO.Email_Message.make_email_msg import main as make_email_msg\n",
    "from Block_Families.Objects.SRO.Relationship.make_sro import main as make_sro\n",
    "from Utilities.local_make_general import invoke_save_options_context_block, invoke_save_incident_context_block, invoke_get_from_options_block, invoke_get_from_incident_block, invoke_move_unattached_to_other_block\n",
    "from Utilities.local_make_sro import invoke_sro_block, invoke_sighting_block\n",
    "from Utilities.local_make_sdo import (\n",
    "    invoke_make_observed_data_block, invoke_make_indicator_block, invoke_make_event_block, invoke_make_sequence_block,\n",
    "    invoke_make_task_block, invoke_make_incident_block, invoke_make_impact_block\n",
    ")\n",
    "from Utilities.local_make_sco import (\n",
    "    invoke_make_email_addr_block, invoke_make_url_block, invoke_make_e_msg_block, invoke_make_anecdote_block\n",
    ")\n",
    "from conv import conv\n",
    "\n",
    "context_base = \"../Orchestration/Context_Mem/\"\n",
    "path_base = \"../Block_Families/Objects/\"\n",
    "results_base = \"../Orchestration/Results/\"\n",
    "sro_data = \"SRO/Relationship/sro_derived.json\"\n",
    "context_data = {\n",
    "    \"usr2\": \"sbilly@example.com\",\n",
    "    \"usr3\": \"wwhilly@example.com\",\n",
    "    \"usr4\": \"strange@mycompany.com\",\n",
    "    \"usr5\": \"dumbo@mycompany.com\",\n",
    "}\n",
    "\n",
    "TR_Context_Memory_Path = \"./Context_Mem/Type_Refinery_Context.json\""
   ],
   "metadata": {
    "collapsed": false,
    "ExecuteTime": {
     "end_time": "2024-06-10T05:09:02.357865300Z",
     "start_time": "2024-06-10T05:09:00.883647800Z"
    }
   }
  },
  {
   "cell_type": "markdown",
   "source": [
    "## B. Collect the SCO's Based on Searching the Exchange Server\n",
    "\n",
    "### B.1 Load the Email Addresses"
   ],
   "metadata": {
    "collapsed": false
   }
  },
  {
   "cell_type": "code",
   "execution_count": null,
   "outputs": [],
   "source": [
    "# Create the Queries to get the User Details\n",
    "\n",
    "context_type = {\n",
    "    \"context_type\": \"users\"\n",
    "}\n",
    "usr1_email_query = {\n",
    "    \"type\" : \"email-addr\",\n",
    "    \"property\": {\n",
    "        \"path\": [\"value\"],\n",
    "        \"source_value\": \"naive@example.com\",\n",
    "        \"comparator\": \"EQ\"\n",
    "    }\n",
    "}\n",
    "usr1_email = invoke_get_from_options_block(usr1_email_query, context_type, source_value=None, source_id=None)\n",
    "usr2_email_query = {\n",
    "    \"type\" : \"email-addr\",\n",
    "    \"property\": {\n",
    "        \"path\": [\"value\"],\n",
    "        \"source_value\": context_data[\"usr2\"],\n",
    "        \"comparator\": \"EQ\"\n",
    "    }\n",
    "}\n",
    "usr2_email = invoke_get_from_options_block(usr2_email_query, context_type, source_value=None, source_id=None)\n",
    "usr3_email_query = {\n",
    "    \"type\" : \"email-addr\",\n",
    "    \"property\": {\n",
    "        \"path\": [\"value\"],\n",
    "        \"source_value\": context_data[\"usr3\"],\n",
    "        \"comparator\": \"EQ\"\n",
    "    }\n",
    "}\n",
    "\n",
    "usr3_email = invoke_get_from_options_block(usr3_email_query, context_type, source_value=None, source_id=None)\n",
    "usr4_email_query = {\n",
    "    \"type\" : \"email-addr\",\n",
    "    \"property\": {\n",
    "        \"path\": [\"value\"],\n",
    "        \"source_value\": context_data[\"usr4\"],\n",
    "        \"comparator\": \"EQ\"\n",
    "    }\n",
    "}\n",
    "usr4_email = invoke_get_from_options_block(usr4_email_query, context_type, source_value=None, source_id=None)\n",
    "usr5_email_query = {\n",
    "    \"type\" : \"email-addr\",\n",
    "    \"property\": {\n",
    "        \"path\": [\"value\"],\n",
    "        \"source_value\": context_data[\"usr5\"],\n",
    "        \"comparator\": \"EQ\"\n",
    "    }\n",
    "}\n",
    "usr5_email = invoke_get_from_options_block(usr5_email_query, context_type, source_value=None, source_id=None)\n",
    "\n",
    "#\n",
    "# Save everything but the existing indicator down itno unattached\n",
    "context_type = {\n",
    "    \"context_type\": \"unattached\"\n",
    "}\n",
    "sro2_results_path = results_base + \"step3/observation-context_context.json\"\n",
    "sro2_context_results_path = results_base + \"step3/observation-context_context.json\"\n",
    "result = invoke_save_incident_context_block(sro2_results_path, sro2_context_results_path, context_type)\n",
    "print(f\"SRO2 result->{result}\")"
   ],
   "metadata": {
    "collapsed": false
   }
  },
  {
   "cell_type": "markdown",
   "source": [
    "\n",
    "\n",
    "### B.2 Retrieve the User Account and Identity for each email address\n",
    "\n",
    "for each user who got the phishing email"
   ],
   "metadata": {
    "collapsed": false
   }
  },
  {
   "cell_type": "code",
   "execution_count": null,
   "outputs": [],
   "source": [
    "# 1. For user 2, get the user account and identity\n",
    "\n",
    "usr2_usr_acct_query = {\n",
    "    \"type\" : \"user-account\",\n",
    "    \"property\": {\n",
    "        \"path\": [\"belongs_to_ref \"],\n",
    "        \"source_value\": usr2_email[\"id\"],\n",
    "        \"comparator\": \"EQ\"\n",
    "    }\n",
    "}\n",
    "usr2_acct = invoke_get_from_options_block(usr2_usr_acct_query, context_type, source_value=None, source_id=None)\n",
    "usr3_usr_acct_query = {\n",
    "    \"type\" : \"user-account\",\n",
    "    \"property\": {\n",
    "        \"path\": [\"belongs_to_ref\"],\n",
    "        \"source_value\": usr3_email[\"id\"],\n",
    "        \"comparator\": \"EQ\"\n",
    "    }\n",
    "}\n",
    "usr3_acct = invoke_get_from_options_block(usr3_usr_acct_query, context_type, source_value=None, source_id=None)\n",
    "usr4_usr_acct_query = {\n",
    "    \"type\" : \"user-account\",\n",
    "    \"property\": {\n",
    "        \"path\": [\"belongs_to_ref\"],\n",
    "        \"source_value\": usr4_email[\"id\"],\n",
    "        \"comparator\": \"EQ\"\n",
    "    }\n",
    "}\n",
    "usr4_acct = invoke_get_from_options_block(usr4_usr_acct_query, context_type, source_value=None, source_id=None)\n",
    "usr5_usr_acct_query = {\n",
    "    \"type\" : \"user-account\",\n",
    "    \"property\": {\n",
    "        \"path\": [\"belongs_to_ref\"],\n",
    "        \"source_value\": usr5_email[\"id\"],\n",
    "        \"comparator\": \"EQ\"\n",
    "    }\n",
    "}\n",
    "usr5_acct = invoke_get_from_options_block(usr3_usr_acct_query, context_type, source_value=None, source_id=None)\n",
    "usr2_identity_query = {\n",
    "    \"type\" : \"identity\",\n",
    "    \"property\": {\n",
    "        \"path\": [\"extensions\", \"extension-definition--66e2492a-bbd3-4be6-88f5-cc91a017a498\", \"email_addresses\", \"email_address_ref\"],\n",
    "        \"source_value\": usr2_email[\"id\"],\n",
    "        \"comparator\": \"EQ\"\n",
    "    }\n",
    "}\n",
    "usr2_identity = invoke_get_from_options_block(usr2_identity_query, context_type, source_value=None, source_id=None)\n",
    "usr3_identity_query = {\n",
    "    \"type\" : \"identity\",\n",
    "    \"property\": {\n",
    "        \"path\": [\"extensions\", \"extension-definition--66e2492a-bbd3-4be6-88f5-cc91a017a498\", \"email_addresses\", \"email_address_ref\"],\n",
    "        \"source_value\": usr3_email[\"id\"],\n",
    "        \"comparator\": \"EQ\"\n",
    "    }\n",
    "}\n",
    "usr3_identity = invoke_get_from_options_block(usr3_identity_query, context_type, source_value=None, source_id=None)\n",
    "usr4_identity_query = {\n",
    "    \"type\" : \"identity\",\n",
    "    \"property\": {\n",
    "        \"path\": [\"extensions\", \"extension-definition--66e2492a-bbd3-4be6-88f5-cc91a017a498\", \"email_addresses\", \"email_address_ref\"],\n",
    "        \"source_value\": usr4_email[\"id\"],\n",
    "        \"comparator\": \"EQ\"\n",
    "    }\n",
    "}\n",
    "usr4_identity = invoke_get_from_options_block(usr4_identity_query, context_type, source_value=None, source_id=None)\n",
    "usr5_identity_query = {\n",
    "    \"type\" : \"identity\",\n",
    "    \"property\": {\n",
    "        \"path\": [\"extensions\", \"extension-definition--66e2492a-bbd3-4be6-88f5-cc91a017a498\", \"email_addresses\", \"email_address_ref\"],\n",
    "        \"source_value\": usr5_email[\"id\"],\n",
    "        \"comparator\": \"EQ\"\n",
    "    }\n",
    "}\n",
    "usr5_identity = invoke_get_from_options_block(usr5_identity_query, context_type, source_value=None, source_id=None)\n",
    "context_type = {\n",
    "    \"context_type\": \"systems\"\n",
    "}\n",
    "exchange_identity_query = {\n",
    "    \"type\" : \"identity\",\n",
    "    \"property\": {\n",
    "        \"path\": [\"name\"],\n",
    "        \"source_value\": \"Microsoft Exchange\",\n",
    "        \"comparator\": \"EQ\"\n",
    "    }\n",
    "}\n",
    "exchange_identity = invoke_get_from_options_block(exchange_identity_query, context_type, source_value=None, source_id=None)\n",
    "context_type = {\n",
    "    \"context_type\": \"systems\"\n",
    "}\n",
    "exchange_identity_query = {\n",
    "    \"type\" : \"identity\",\n",
    "    \"property\": {\n",
    "        \"path\": [\"name\"],\n",
    "        \"source_value\": \"Microsoft Exchange\",\n",
    "        \"comparator\": \"EQ\"\n",
    "    }\n",
    "}\n",
    "exchange_identity = invoke_get_from_options_block(exchange_identity_query, context_type, source_value=None, source_id=None)\n",
    "context_type = {\n",
    "    \"context_type\": \"other\"\n",
    "}\n",
    "indicator_query = {\n",
    "    \"type\" : \"indicator\",\n",
    "    \"property\": {\n",
    "        \"path\": [\"name\"],\n",
    "        \"source_value\": \"Potential Phishing Email\",\n",
    "        \"comparator\": \"EQ\"\n",
    "    }\n",
    "}\n",
    "indicator = invoke_get_from_incident_block(indicator_query, context_type, source_value=None, source_id=None)\n",
    "#\n",
    "# Save everything but the existing indicator down itno unattached\n",
    "context_type = {\n",
    "    \"context_type\": \"unattached\"\n",
    "}\n",
    "context_records = [\n",
    "    \"Usr1__email\",\n",
    "    \"Usr1__ident\",\n",
    "    \"Usr1__usr_acct\",\n",
    "    \"Usr2__email\",\n",
    "    \"Usr2__ident\",\n",
    "    \"Usr2__usr_acct\",\n",
    "    \"Usr3__email\",\n",
    "    \"Usr3__ident\",\n",
    "    \"Usr3__usr_acct\",\n",
    "    \"Usr4__email\",\n",
    "    \"Usr4__ident\",\n",
    "    \"Usr4__usr_acct\",\n",
    "    \"Usr5__email\",\n",
    "    \"Usr5__ident\",\n",
    "    \"Usr5__usr_acct\",\n",
    "    \"Systems_Laptop1__ident\",\n",
    "    \"Systems_Laptop2__ident\",\n",
    "    \"Systems_Laptop3__ident\",\n",
    "    \"Systems_Laptop4__ident\",\n",
    "    \"Systems_Laptop5__ident\",\n",
    "    \"Systems_Exchange__ident\"\n",
    "]\n",
    "for rec in context_records:\n",
    "    results_path = results_base + \"step0/\" + rec + \".json\"\n",
    "    save_path = results_base + \"step3/\" + rec + \"_context.json\"\n",
    "    result = invoke_save_incident_context_block(results_path, save_path, context_type)\n",
    "    print(f\"{rec} result->{result}\")\n",
    "\n",
    "results_path = results_base + \"step1/indicator_context\" + \".json\"\n",
    "save_path = results_base + \"step3/indicator_context\" + \"_context.json\"\n",
    "result = invoke_save_incident_context_block(results_path, save_path, context_type)\n",
    "print(f\"{rec} result->{result}\")"
   ],
   "metadata": {
    "collapsed": false
   }
  },
  {
   "cell_type": "markdown",
   "source": [
    "## B Make the SRO's to Connect all Who Receieved the Email"
   ],
   "metadata": {
    "collapsed": false
   }
  },
  {
   "cell_type": "code",
   "execution_count": null,
   "outputs": [],
   "source": [
    "\n",
    "# B.1 Setup SRO objectsrelationship_type = \"derived-from\"\n",
    "relationship_type = \"duplicate-of\"\n",
    "sro_data_path = \"SRO/Relationship/sro_derived.json\"\n",
    "sro2_results_path = \"step3/SRO2_derived.json\"\n",
    "sro2_context_results_path = \"step3/SRO2_derived_context.json\"\n",
    "sro2 = invoke_sro_block(sro_data_path, sro2_results_path, usr1_email, usr2_email, relationship_type)\n",
    "result = invoke_save_incident_context_block(sro2_results_path, sro2_context_results_path, context_type)\n",
    "print(f\"SRO2 result->{result}\")\n",
    "sro3_results_path = \"step3/SRO3_derived.json\"\n",
    "sro3_context_results_path = \"step3/SRO3_derived_context.json\"\n",
    "sro3 = invoke_sro_block(sro_data_path, sro3_results_path, usr1_email, usr3_email, relationship_type)\n",
    "result = invoke_save_incident_context_block(sro3_results_path, sro3_context_results_path, context_type)\n",
    "print(f\"SRO3 result->{result}\")\n",
    "sro4_results_path = \"step3/SRO4_derived,json\"\n",
    "sro4_context_results_path = \"step3/SRO4_derived_context.json\"\n",
    "sro4 = invoke_sro_block(sro_data_path, sro4_results_path, usr1_email, usr4_email, relationship_type)\n",
    "result = invoke_save_incident_context_block(sro4_results_path, sro4_context_results_path, context_type)\n",
    "print(f\"SRO4 result->{result}\")\n",
    "sro5_results_path = \"step3/SRO5_derived.json\"\n",
    "sro5_context_results_path = \"step3/SRO5_derived_context.json\"\n",
    "sro5 = invoke_sro_block(sro_data_path, sro5_results_path, usr1_email, usr5_email, relationship_type)\n",
    "result = invoke_save_incident_context_block(sro5_results_path, sro5_context_results_path, context_type)\n",
    "print(f\"SRO5 result->{result}\")"
   ],
   "metadata": {
    "collapsed": false
   }
  },
  {
   "cell_type": "markdown",
   "source": [
    "## C. Collect the Elements of the Observation into an Observed-Data Object\n",
    "\n",
    "Tbis then represents the potential phishing email as a group of elements"
   ],
   "metadata": {
    "collapsed": false
   }
  },
  {
   "cell_type": "code",
   "execution_count": null,
   "outputs": [],
   "source": [
    "# 1. Setup observed-data\n",
    "obs_refs3 = [usr2_acct.id, usr2_email.id, usr2_identity.id, usr3_email.id, usr3_acct.id, usr3_identity.id,              usr4_email.id, usr4_acct.id, usr4_identity.id,usr5_email.id, usr5_acct.id, usr5_identity.id,\n",
    "            sro2.id, sro3.id, sro4.id, sro5.id]\n",
    "# 2. Setup path to form and results\n",
    "obs_path =\"SDO/Observed_Data/observation-context.json\"\n",
    "results_path =\"step3/observation-context.json\"\n",
    "# 3. Invoke the Make Observed Data Block\n",
    "obs_3 = invoke_make_observed_data_block(obs_path, results_path, observation=obs_refs3)\n",
    "# 4. Add the record to the in-session bundles and lists\n",
    "context_type = {\n",
    "    \"context_type\": \"unattached\"\n",
    "}\n",
    "obs_results_context_path = results_base + \"step3/observation-context_context.json\"\n",
    "result = invoke_save_incident_context_block(results_base + results_path, obs_results_context_path, context_type)\n",
    "print(f\" result->{result}\")"
   ],
   "metadata": {
    "collapsed": false
   }
  },
  {
   "cell_type": "markdown",
   "source": [
    "## D. Create the Contextual Sighting\n",
    "\n",
    "Tbis then represents the Anecdote on Impact from the reporting user\n",
    "\n",
    "### D.1 Create the Sighting\n",
    "Connecting the:\n",
    "- observed-data object, containing the extra identitiies, email addresses and user accounts that got the email\n",
    "- the exchange server as the location\n",
    "- the original indicator and pattern"
   ],
   "metadata": {
    "collapsed": false
   }
  },
  {
   "cell_type": "code",
   "execution_count": null,
   "outputs": [],
   "source": [
    "\n",
    "#\n",
    "# D. Setup the Sighting Object\n",
    "sighting_data_path =\"SRO/Sighting/sighting_context.json\"\n",
    "results_path =\"step3/sighting_context.json\"\n",
    "# 2. Setup the SDO sighted, the Observed-Data that was observed with generated objects,\n",
    "#                        then the identity object from the context storage (note the slight difference in indexing\n",
    "sighted = indicator\n",
    "observation_list = [obs_3]\n",
    "where_list = [exchange_identity]\n",
    "# 2. Invoke the Make Observed Data Block\n",
    "sight3 = invoke_sighting_block(sighting_data_path, results_path, observed=observation_list, sighted=sighted, where=where_list)\n",
    "# 3. Add the record to the in-session bundles and lists\n",
    "context_type = {\n",
    "    \"context_type\": \"unattached\"\n",
    "}\n",
    "sighting_results_context_path = results_base + \"step1/sighting_context_context.json\"\n",
    "result = invoke_save_incident_context_block(results_base + results_path, sighting_results_context_path, context_type)\n",
    "print(f\" result->{result}\")"
   ],
   "metadata": {
    "collapsed": false
   }
  },
  {
   "cell_type": "markdown",
   "source": [
    "### D.2 Promote The Sighting and its Components from Unattached to Other\n",
    "\n",
    "Everything that uis connected in the Sighting should now be promoted, so move Unattached to the Other list"
   ],
   "metadata": {
    "collapsed": false
   }
  },
  {
   "cell_type": "code",
   "execution_count": null,
   "outputs": [],
   "source": [
    "total_list = [usr2_acct, usr2_email, usr2_identity, usr3_email, usr3_acct, usr3_identity,              usr4_email, usr4_acct, usr4_identity,usr5_email, usr5_acct, usr5_identity,\n",
    "            sro2, sro3, sro4, sro5]\n",
    "total_list.append(obs_3)\n",
    "total_list.append(indicator)\n",
    "total_list.append(sight3)\n",
    "total_list.append(exchange_identity)\n",
    "\n",
    "obs_context_move_path = results_base + \"step3/context/context_move.json\"\n",
    "obs_context_move_results = results_base + \"step3/context/context_move_results.json\"\n",
    "result = invoke_move_unattached_to_other_block(obs_context_move_path, obs_context_move_results, total_list)"
   ],
   "metadata": {
    "collapsed": false
   }
  },
  {
   "cell_type": "markdown",
   "source": [
    "## E. Create the Impact Objects\n",
    "\n",
    "Tbis Impact represents the effect reported by the user in the Anecdote"
   ],
   "metadata": {
    "collapsed": false
   }
  },
  {
   "cell_type": "code",
   "execution_count": null,
   "outputs": [],
   "source": [
    "# 1. Setup path to form and results\n",
    "impact_path =\"SDO/Impact/context_impact.json\"\n",
    "results_path =\"step3/impact_context.json\"\n",
    "# 2. Setup the number of assets impacted\n",
    "numbers = {\"computers-mobile\": 5}\n",
    "impacted_refs =\n",
    "# 2. Invoke the Make Observed Data Block\n",
    "impact_1 = invoke_make_impact_block(impact_path, results_path, impacted_entity_counts=numbers, impacted_refs=impacted_refs, superseded_by_ref=None)\n",
    "# 3. Add the record to the in-session bundles and lists\n",
    "context_type = {\n",
    "    \"context_type\": \"impact\"\n",
    "}\n",
    "impact_results_obj_path = results_base + results_path\n",
    "impact_results_context_path = results_base + \"/step2/impact_anecdote_context.json\"\n",
    "result = invoke_save_incident_context_block(impact_results_obj_path, impact_results_context_path, context_type)\n",
    "print(f\" result->{result}\")"
   ],
   "metadata": {
    "collapsed": false
   }
  },
  {
   "cell_type": "markdown",
   "source": [
    "## F. Create the Next Task Object\n",
    "\n",
    "Next step is to investigate the Exchange server to see who else got the email\n",
    "\n",
    "### F.1 Create the Task Object"
   ],
   "metadata": {
    "collapsed": false
   }
  },
  {
   "cell_type": "code",
   "execution_count": null,
   "outputs": [],
   "source": [
    "# 1. Setup path to form and results\n",
    "task_data_path =\"SDO/Task/task_anecdote.json\"\n",
    "results_path =\"step2/task_anecdote.json\"\n",
    "# 2. Invoke the Make Observed Data Block\n",
    "task_2 = invoke_make_task_block(task_data_path, results_path, changed_objects=None)\n",
    "# 3. Add the record to the in-session bundles and lists\n",
    "bundle_list = bundle_list + task_2\n",
    "task_objs.append(task_2[0])\n",
    "#\n",
    "# Step 3.A.2 New Task to check te Exclusion Lists in Step 4\n",
    "#\n",
    "task3 = Task(\n",
    "    task_types=[\"investigation\"], outcome=\"pending\", name=\"Check Exclusion Lists\",\n",
    "    description=\"Check OS-Threat Exclusion List to see if email address is a known phisher\",\n",
    "    owner=me.id, extensions={task_ext_id:task_ext}\n",
    ")\n",
    "tseq1_3 = Sequence(\n",
    "    step_type=\"single_step\", sequenced_object=task3.id,\n",
    "    sequence_type=\"task\", extensions=seq_ext_dict\n",
    ")"
   ],
   "metadata": {
    "collapsed": false
   }
  },
  {
   "cell_type": "markdown",
   "source": [
    "### F.2 Create the Sequence Object"
   ],
   "metadata": {
    "collapsed": false
   }
  },
  {
   "cell_type": "code",
   "execution_count": null,
   "outputs": [],
   "source": [
    "# 1. Setup path to form and results\n",
    "sequence_data_path =\"SDO/Sequence/sequence_alert.json\"\n",
    "results_path =\"step1/sequence_task_single.json\"\n",
    "# 2. Setup the Sequence Object for the Event\n",
    "#\n",
    "step_type = \"single_step\"\n",
    "sequence_type = \"task\"\n",
    "sequenced_object = task_2[0][\"id\"]\n",
    "# 2. Invoke the Make Observed Data Block\n",
    "seq_T_2 = invoke_make_sequence_block(sequence_data_path, results_path, step_type=step_type, sequence_type=sequence_type, sequenced_object=sequenced_object, on_completion=None, on_success=None, on_failure=None, next_steps=None)\n",
    "# 3. Add the record to the in-session bundles and lists\n",
    "bundle_list = bundle_list + seq_T_2\n",
    "sequence_objs.append(seq_T_2[0])"
   ],
   "metadata": {
    "collapsed": false
   }
  },
  {
   "cell_type": "markdown",
   "source": [
    "### F.3 Connect the Sequence to the Previous one"
   ],
   "metadata": {
    "collapsed": false
   }
  },
  {
   "cell_type": "code",
   "execution_count": null,
   "outputs": [],
   "source": [
    "# Find the Previous Sequence and link it to the above Sequence\n",
    "last_task = task_objs[-1]\n",
    "for rec in sequence_objs:\n",
    "    if rec[\"sequence_type\"] == \"task\" and rec[\"sequenced_object\"] == last_task[\"id\"]:\n",
    "        rec[\"on_completion\"] = seq_T_2[0][\"id\"]"
   ],
   "metadata": {
    "collapsed": false
   }
  },
  {
   "cell_type": "markdown",
   "source": [
    "## G. Finally, Append all of the objects to the Incident Object\n",
    "\n",
    "Assign all of the objets to the Incident Object"
   ],
   "metadata": {
    "collapsed": false
   }
  },
  {
   "cell_type": "code",
   "execution_count": null,
   "outputs": [],
   "source": [
    "# 1. Setup path to form and results\n",
    "inc_path =\"SDO/Incident/phishing_incident.json\"\n",
    "results_path =\"step1/incident_alert.json\"\n",
    "# 2. Setup the Sequence Object for the Event\n",
    "#\n",
    "sequence_start_refs = [x[\"id\"] for x in sequence_start_objs]\n",
    "sequence_refs = [x[\"id\"] for x in sequence_objs]\n",
    "task_refs = [x[\"id\"] for x in task_objs]\n",
    "event_refs = [x[\"id\"] for x in event_objs]\n",
    "impact_refs = [x[\"id\"] for x in impact_objs]\n",
    "other_object_refs = [x[\"id\"] for x in other_object_objs]\n",
    "# 3. Update the actual Incident Object\n",
    "incident_obj[\"sequence_start_refs\"] = sequence_start_refs\n",
    "incident_obj[\"sequence_refs\"] = sequence_refs\n",
    "incident_obj[\"task_refs\"] = task_refs\n",
    "incident_obj[\"event_refs\"] = event_refs\n",
    "incident_obj[\"impact_refs\"] = impact_refs\n",
    "incident_obj[\"other_object_refs\"] = other_object_refs"
   ],
   "metadata": {
    "collapsed": false
   }
  },
  {
   "cell_type": "markdown",
   "source": [
    "## H. Write out the Contex Memory for the Incident\n",
    "\n",
    "Export out the Context Memory for the Incident"
   ],
   "metadata": {
    "collapsed": false
   }
  },
  {
   "cell_type": "code",
   "execution_count": null,
   "outputs": [],
   "source": [
    "# Save the Tpe Refinery Context Memory File\n",
    "invoke_context_save_block(Type_Refinery_Context)"
   ],
   "metadata": {
    "collapsed": false
   }
  }
 ],
 "metadata": {
  "kernelspec": {
   "display_name": "Python 3",
   "language": "python",
   "name": "python3"
  },
  "language_info": {
   "codemirror_mode": {
    "name": "ipython",
    "version": 2
   },
   "file_extension": ".py",
   "mimetype": "text/x-python",
   "name": "python",
   "nbconvert_exporter": "python",
   "pygments_lexer": "ipython2",
   "version": "2.7.6"
  }
 },
 "nbformat": 4,
 "nbformat_minor": 0
}
