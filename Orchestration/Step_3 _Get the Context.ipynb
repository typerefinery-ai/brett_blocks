{
 "cells": [
  {
   "cell_type": "markdown",
   "source": [
    "# 3. Get the Context to See Who Else Got the Email\n",
    "\n",
    "Notebook to build all of the different stix objects associated with finding who else got the suspicious email\n",
    "\n",
    "We take v3.0 of the [Incident Core Extension](https://github.com/os-threat/cti-stix-common-objects/blob/main/extension-definition-specifications/incident-core/Incident%20Extension%20Suite.adoc) specification, with particular focus on the Sighting Extensions for Evidence, and combine it with the standard Stix approach. There are nine stages:\n",
    "\n",
    "1. First setup the global parameters and retrieve the context memory\n",
    "2. Retrieve the user-account, email address and identity for each of the users who recieved the email\n",
    "2. Add the SCO objects to the `ObservedData` object\n",
    "4. Create the `Sighting` object with the `SightingContext` extension, using their identity's as the location\n",
    "5. Add the Sighting to the original Event\n",
    "5. Create the next Task and its Sequence objects\n",
    "6. Connect the Sequence object to the previous sequence object\n",
    "6. Create the Incident, with the [Incident Core Extension](https://github.com/os-threat/cti-stix-common-objects/blob/main/extension-definition-specifications/incident-core/Incident%20Extension%20Suite.adoc), and add all of the objects to it\n",
    "7. Save the context memory\n",
    "\n",
    "\n",
    "Each time a block makes an object, and saves it as a json, this notebook will parse the object into an actual Stix object, so it can be bundled and printy printed (This step also verifies the objects are created correctly, and is cool).\n",
    "\n",
    "\n",
    "\n",
    "## A. Load Imports\n",
    "\n",
    "### A.1 StixORM Imports\n"
   ],
   "metadata": {
    "collapsed": false
   }
  },
  {
   "cell_type": "code",
   "execution_count": 1,
   "outputs": [
    {
     "name": "stdout",
     "output_type": "stream",
     "text": [
      "Requirement already satisfied: stixorm in c:\\users\\brett\\anaconda3\\envs\\brett-blocks\\lib\\site-packages (0.3.9)\n",
      "Requirement already satisfied: loguru<0.8.0,>=0.7.0 in c:\\users\\brett\\anaconda3\\envs\\brett-blocks\\lib\\site-packages (from stixorm) (0.7.0)\n",
      "Requirement already satisfied: networkx<4.0,>=3.1 in c:\\users\\brett\\anaconda3\\envs\\brett-blocks\\lib\\site-packages (from stixorm) (3.1)\n",
      "Requirement already satisfied: pydantic<3.0.0,>=2.1.1 in c:\\users\\brett\\anaconda3\\envs\\brett-blocks\\lib\\site-packages (from stixorm) (2.1.1)\n",
      "Requirement already satisfied: stix2==3.0.1 in c:\\users\\brett\\anaconda3\\envs\\brett-blocks\\lib\\site-packages (from stixorm) (3.0.1)\n",
      "Requirement already satisfied: typedb-driver<3.0.0,>=2.25.6 in c:\\users\\brett\\anaconda3\\envs\\brett-blocks\\lib\\site-packages (from stixorm) (2.25.8)\n",
      "Requirement already satisfied: validators<0.21.0,>=0.20.0 in c:\\users\\brett\\anaconda3\\envs\\brett-blocks\\lib\\site-packages (from stixorm) (0.20.0)\n",
      "Requirement already satisfied: pytz in c:\\users\\brett\\anaconda3\\envs\\brett-blocks\\lib\\site-packages (from stix2==3.0.1->stixorm) (2023.3)\n",
      "Requirement already satisfied: requests in c:\\users\\brett\\anaconda3\\envs\\brett-blocks\\lib\\site-packages (from stix2==3.0.1->stixorm) (2.31.0)\n",
      "Requirement already satisfied: simplejson in c:\\users\\brett\\anaconda3\\envs\\brett-blocks\\lib\\site-packages (from stix2==3.0.1->stixorm) (3.19.1)\n",
      "Requirement already satisfied: stix2-patterns>=1.2.0 in c:\\users\\brett\\anaconda3\\envs\\brett-blocks\\lib\\site-packages (from stix2==3.0.1->stixorm) (2.0.0)\n",
      "Requirement already satisfied: colorama>=0.3.4 in c:\\users\\brett\\anaconda3\\envs\\brett-blocks\\lib\\site-packages (from loguru<0.8.0,>=0.7.0->stixorm) (0.4.6)\n",
      "Requirement already satisfied: win32-setctime>=1.0.0 in c:\\users\\brett\\anaconda3\\envs\\brett-blocks\\lib\\site-packages (from loguru<0.8.0,>=0.7.0->stixorm) (1.1.0)\n",
      "Requirement already satisfied: annotated-types>=0.4.0 in c:\\users\\brett\\anaconda3\\envs\\brett-blocks\\lib\\site-packages (from pydantic<3.0.0,>=2.1.1->stixorm) (0.5.0)\n",
      "Requirement already satisfied: pydantic-core==2.4.0 in c:\\users\\brett\\anaconda3\\envs\\brett-blocks\\lib\\site-packages (from pydantic<3.0.0,>=2.1.1->stixorm) (2.4.0)\n",
      "Requirement already satisfied: typing-extensions>=4.6.1 in c:\\users\\brett\\anaconda3\\envs\\brett-blocks\\lib\\site-packages (from pydantic<3.0.0,>=2.1.1->stixorm) (4.7.1)\n",
      "Requirement already satisfied: parse==1.18.0 in c:\\users\\brett\\anaconda3\\envs\\brett-blocks\\lib\\site-packages (from typedb-driver<3.0.0,>=2.25.6->stixorm) (1.18.0)\n",
      "Requirement already satisfied: decorator>=3.4.0 in c:\\users\\brett\\anaconda3\\envs\\brett-blocks\\lib\\site-packages (from validators<0.21.0,>=0.20.0->stixorm) (5.1.1)\n",
      "Requirement already satisfied: antlr4-python3-runtime~=4.9.0 in c:\\users\\brett\\anaconda3\\envs\\brett-blocks\\lib\\site-packages (from stix2-patterns>=1.2.0->stix2==3.0.1->stixorm) (4.9.3)\n",
      "Requirement already satisfied: six in c:\\users\\brett\\anaconda3\\envs\\brett-blocks\\lib\\site-packages (from stix2-patterns>=1.2.0->stix2==3.0.1->stixorm) (1.16.0)\n",
      "Requirement already satisfied: charset-normalizer<4,>=2 in c:\\users\\brett\\anaconda3\\envs\\brett-blocks\\lib\\site-packages (from requests->stix2==3.0.1->stixorm) (3.2.0)\n",
      "Requirement already satisfied: idna<4,>=2.5 in c:\\users\\brett\\anaconda3\\envs\\brett-blocks\\lib\\site-packages (from requests->stix2==3.0.1->stixorm) (3.4)\n",
      "Requirement already satisfied: urllib3<3,>=1.21.1 in c:\\users\\brett\\anaconda3\\envs\\brett-blocks\\lib\\site-packages (from requests->stix2==3.0.1->stixorm) (1.26.16)\n",
      "Requirement already satisfied: certifi>=2017.4.17 in c:\\users\\brett\\anaconda3\\envs\\brett-blocks\\lib\\site-packages (from requests->stix2==3.0.1->stixorm) (2023.7.22)\n"
     ]
    }
   ],
   "source": [
    "import sys\n",
    "!{sys.executable} -m pip install stixorm\n",
    "from stixorm.module.typedb import TypeDBSink, TypeDBSource\n",
    "from stixorm.module.authorise import import_type_factory\n",
    "from stixorm.module.definitions.stix21 import (\n",
    "    Identity, EmailAddress, UserAccount, Relationship, Bundle, Incident, URL, EmailMessage, ObservedData\n",
    ")\n",
    "from stixorm.module.definitions.os_threat import (\n",
    "    EventCoreExt, Event, SocialMediaContact, ContactNumber, IncidentCoreExt, TaskCoreExt,\n",
    "    Task, SightingEvidence, Sequence, SequenceExt, AnecdoteExt, Anecdote,\n",
    "    SightingAnecdote, SightingAlert, SightingContext, SightingExclusion,\n",
    "    SightingEnrichment, SightingHunt, SightingFramework, SightingExternal\n",
    ")\n",
    "from stixorm.module.authorise import import_type_factory\n",
    "from stixorm.module.typedb_lib.instructions import ResultStatus, Result\n",
    "from stixorm.module.parsing import parse_objects\n",
    "import_type = import_type_factory.get_all_imports()\n",
    "import logging\n",
    "logger = logging.getLogger(__name__)\n",
    "logger.setLevel(logging.INFO)"
   ],
   "metadata": {
    "collapsed": false
   }
  },
  {
   "cell_type": "markdown",
   "source": [
    "### A.2 Relative Path Imports\n",
    "https://stackoverflow.com/questions/76162459/jupyter-notebook-importerror-attempted-relative-import-with-no-known-parent-pac/77528726#77528726"
   ],
   "metadata": {
    "collapsed": false
   }
  },
  {
   "cell_type": "code",
   "execution_count": 2,
   "outputs": [],
   "source": [
    "import sys\n",
    "sys.path.append('../')\n",
    "import os"
   ],
   "metadata": {
    "collapsed": false
   }
  },
  {
   "cell_type": "markdown",
   "source": [
    "### A.3 Relative Import of Blocks"
   ],
   "metadata": {
    "collapsed": false
   }
  },
  {
   "cell_type": "code",
   "execution_count": 3,
   "outputs": [
    {
     "ename": "ImportError",
     "evalue": "cannot import name 'invoke_context_get_block' from 'Utilities.local_make_general' (C:\\Users\\brett\\PycharmProjects\\brett_blocks\\Orchestration\\Utilities\\local_make_general.py)",
     "output_type": "error",
     "traceback": [
      "\u001B[1;31m---------------------------------------------------------------------------\u001B[0m",
      "\u001B[1;31mImportError\u001B[0m                               Traceback (most recent call last)",
      "Cell \u001B[1;32mIn[3], line 4\u001B[0m\n\u001B[0;32m      2\u001B[0m \u001B[38;5;28;01mfrom\u001B[39;00m \u001B[38;5;21;01mBlock_Families\u001B[39;00m\u001B[38;5;21;01m.\u001B[39;00m\u001B[38;5;21;01mObjects\u001B[39;00m\u001B[38;5;21;01m.\u001B[39;00m\u001B[38;5;21;01mSCO\u001B[39;00m\u001B[38;5;21;01m.\u001B[39;00m\u001B[38;5;21;01mEmail_Message\u001B[39;00m\u001B[38;5;21;01m.\u001B[39;00m\u001B[38;5;21;01mmake_email_msg\u001B[39;00m \u001B[38;5;28;01mimport\u001B[39;00m main \u001B[38;5;28;01mas\u001B[39;00m make_email_msg\n\u001B[0;32m      3\u001B[0m \u001B[38;5;28;01mfrom\u001B[39;00m \u001B[38;5;21;01mBlock_Families\u001B[39;00m\u001B[38;5;21;01m.\u001B[39;00m\u001B[38;5;21;01mObjects\u001B[39;00m\u001B[38;5;21;01m.\u001B[39;00m\u001B[38;5;21;01mSRO\u001B[39;00m\u001B[38;5;21;01m.\u001B[39;00m\u001B[38;5;21;01mRelationship\u001B[39;00m\u001B[38;5;21;01m.\u001B[39;00m\u001B[38;5;21;01mmake_sro\u001B[39;00m \u001B[38;5;28;01mimport\u001B[39;00m main \u001B[38;5;28;01mas\u001B[39;00m make_sro\n\u001B[1;32m----> 4\u001B[0m \u001B[38;5;28;01mfrom\u001B[39;00m \u001B[38;5;21;01mUtilities\u001B[39;00m\u001B[38;5;21;01m.\u001B[39;00m\u001B[38;5;21;01mlocal_make_general\u001B[39;00m \u001B[38;5;28;01mimport\u001B[39;00m invoke_context_get_block, invoke_context_save_block\n\u001B[0;32m      5\u001B[0m \u001B[38;5;28;01mfrom\u001B[39;00m \u001B[38;5;21;01mUtilities\u001B[39;00m\u001B[38;5;21;01m.\u001B[39;00m\u001B[38;5;21;01mlocal_make_sro\u001B[39;00m \u001B[38;5;28;01mimport\u001B[39;00m invoke_sro_block, invoke_sighting_block\n\u001B[0;32m      6\u001B[0m \u001B[38;5;28;01mfrom\u001B[39;00m \u001B[38;5;21;01mUtilities\u001B[39;00m\u001B[38;5;21;01m.\u001B[39;00m\u001B[38;5;21;01mlocal_make_sdo\u001B[39;00m \u001B[38;5;28;01mimport\u001B[39;00m (\n\u001B[0;32m      7\u001B[0m     invoke_make_observed_data_block, invoke_make_indicator_block, invoke_make_event_block, invoke_make_sequence_block,\n\u001B[0;32m      8\u001B[0m     invoke_make_task_block, invoke_make_incident_block, invoke_make_impact_block\n\u001B[0;32m      9\u001B[0m )\n",
      "\u001B[1;31mImportError\u001B[0m: cannot import name 'invoke_context_get_block' from 'Utilities.local_make_general' (C:\\Users\\brett\\PycharmProjects\\brett_blocks\\Orchestration\\Utilities\\local_make_general.py)"
     ]
    }
   ],
   "source": [
    "import json\n",
    "from Block_Families.Objects.SCO.Email_Message.make_email_msg import main as make_email_msg\n",
    "from Block_Families.Objects.SRO.Relationship.make_sro import main as make_sro\n",
    "from Utilities.local_make_general import invoke_context_get_block, invoke_context_save_block\n",
    "from Utilities.local_make_sro import invoke_sro_block, invoke_sighting_block\n",
    "from Utilities.local_make_sdo import (\n",
    "    invoke_make_observed_data_block, invoke_make_indicator_block, invoke_make_event_block, invoke_make_sequence_block,\n",
    "    invoke_make_task_block, invoke_make_incident_block, invoke_make_impact_block\n",
    ")\n",
    "from Utilities.local_make_sco import (\n",
    "    invoke_make_email_addr_block, invoke_make_url_block, invoke_make_e_msg_block, invoke_make_anecdote_block\n",
    ")\n",
    "from conv import conv\n",
    "\n",
    "context_base = \"../Orchestration/Context_Mem/\"\n",
    "path_base = \"../Block_Families/Objects/\"\n",
    "results_base = \"../Orchestration/Results/\"\n",
    "sro_data = \"SRO/Relationship/sro_derived.json\"\n",
    "context_data = {\n",
    "    \"usr2\": \"sbilly@example.com\",\n",
    "    \"usr3\": \"wwhilly@example.com\"\n",
    "}\n",
    "\n",
    "TR_Context_Memory_Path = \"./Context_Mem/Type_Refinery_Context.json\""
   ],
   "metadata": {
    "collapsed": false
   }
  },
  {
   "cell_type": "markdown",
   "source": [
    "### A.4 Load the Context Memory"
   ],
   "metadata": {
    "collapsed": false
   }
  },
  {
   "cell_type": "code",
   "execution_count": null,
   "outputs": [],
   "source": [
    "# 1. Load the Context\n",
    "Type_Refinery_Context = invoke_context_get_block()\n",
    "#\n",
    "# 2. Setup the  TR User Context\n",
    "#\n",
    "local = Type_Refinery_Context[\"local\"]\n",
    "local_context = local[\"context\"]\n",
    "me = local_context[\"me\"]\n",
    "team = local_context[\"team\"]\n",
    "company = local_context[\"company\"]\n",
    "systems = local_context[\"systems\"]\n",
    "assets = local_context[\"assets\"]\n",
    "#\n",
    "# 3. Setup the Incident Context\n",
    "#\n",
    "local_incident = local[\"incident\"]\n",
    "sequence_start_objs = local_incident[\"sequence_start_objs\"]\n",
    "sequence_objs = local_incident[\"sequence_objs\"]\n",
    "task_objs = local_incident[\"task_objs\"]\n",
    "event_objs = local_incident[\"event_objs\"]\n",
    "impact_objs = local_incident[\"impact_objs\"]\n",
    "other_object_objs = local_incident[\"other_object_objs\"]\n",
    "incident_obj = local_incident[\"incident_obj\"]"
   ],
   "metadata": {
    "collapsed": false
   }
  },
  {
   "cell_type": "markdown",
   "source": [
    "## B. Collect the SCO's Based on Searching the Exchange Server\n",
    "\n",
    "### B.1 Retrieve the User Account, the Email Address, and the Identity from the Context Memory\n",
    "\n",
    "for each user who got the phishing email"
   ],
   "metadata": {
    "collapsed": false
   }
  },
  {
   "cell_type": "code",
   "execution_count": null,
   "outputs": [],
   "source": [
    "# 1. For Naive Smith, find the user account and the email. Plus get my own identity\n",
    "usr2_email = context_data[\"usr2\"]\n",
    "usr3_email = context_data[\"usr3\"]\n",
    "# 2. Setup variables to hold the dicts\n",
    "usr2_email_addr = {}\n",
    "usr2_user_account = {}\n",
    "usr2_identity = {}\n",
    "usr3_email_addr = {}\n",
    "usr3_user_account = {}\n",
    "usr3_identity = {}\n",
    "#\n",
    "# 3. Retrieve the email addresses for the employees involved\n",
    "#\n",
    "for rec in company:\n",
    "    if rec[\"type\"] == \"email-addr\":\n",
    "        if rec[\"value\"] == usr2_email:\n",
    "            usr2_email_addr = rec\n",
    "        if rec[\"value\"] == usr3_email:\n",
    "            usr3_email_addr = rec\n",
    "#\n",
    "# 4. Retrieve the user accounts for the employees involved\n",
    "#\n",
    "for rec in company:\n",
    "    if rec[\"type\"] == \"user-account\":\n",
    "        if rec[\"id\"] == usr2_email[\"belongs_to_ref\"]:\n",
    "            usr2_email_addr = rec\n",
    "        if rec[\"id\"] == usr3_email[\"belongs_to_ref\"]:\n",
    "            usr3_email_addr = rec\n",
    "#\n",
    "# 5. Retrieve the identity's for the employees involved\n",
    "#\n",
    "for rec in company:\n",
    "    if rec[\"type\"] == \"identity\" and rec[\"identity_class\"] == \"individual\":\n",
    "        for email_address in rec[\"extensions\"][\"extension-definition--66e2492a-bbd3-4be6-88f5-cc91a017a498\"][\"email_addresses\"]:\n",
    "            if email_address[\"email_address_ref\"] == usr2_email[\"id\"]:\n",
    "                usr2_identity = rec\n",
    "            if email_address[\"email_address_ref\"] == usr3_email[\"id\"]:\n",
    "                usr3_identity = rec"
   ],
   "metadata": {
    "collapsed": false
   }
  },
  {
   "cell_type": "markdown",
   "source": [
    "## B Make the Anecdote"
   ],
   "metadata": {
    "collapsed": false
   }
  },
  {
   "cell_type": "code",
   "execution_count": null,
   "outputs": [],
   "source": [
    "# 1. Setup the form paths and the results path\n",
    "anecdote_form = \"SCO/Anecdote/anecdote_on_impact.json\"\n",
    "results_path = \"step2/anecdote.json\"\n",
    "# 2. Invoke the Make Anecdote block\n",
    "anecdote_list = invoke_make_anecdote_block(anecdote_form, results_path, anecdote_reporter=reporter_identity)\n",
    "# 3. Add the record to the in-session bundles and lists\n",
    "bundle_list = bundle_list + anecdote_list\n",
    "other_object_objs.append(anecdote_list[0])\n",
    "# recover the Anecdote object\n",
    "anecdote = conv(anecdote_list[0])"
   ],
   "metadata": {
    "collapsed": false
   }
  },
  {
   "cell_type": "markdown",
   "source": [
    "## C. Collect the Elements of the Observation into an Observed-Data Object\n",
    "\n",
    "Tbis then represents the potential phishing email as a group of elements"
   ],
   "metadata": {
    "collapsed": false
   }
  },
  {
   "cell_type": "code",
   "execution_count": null,
   "outputs": [],
   "source": [
    "# 1. Setup0 list of obsrvations\n",
    "observed_ids = []\n",
    "observed_ids.append(anecdote[\"id\"])\n",
    "# 2. Setup path to form and results\n",
    "obs_path =\"SDO/Observed_Data/observation-alert.json\"\n",
    "results_path =\"step1/observation-anecdote.json\"\n",
    "# 3. Invoke the Make Observed Data Block\n",
    "obs_2 = invoke_make_observed_data_block(obs_path, results_path, observation=observed_ids)\n",
    "# 4. Add the record to the in-session bundles and lists\n",
    "bundle_list = bundle_list + obs_2\n",
    "other_object_objs.append(obs_2[0])\n",
    "# recover the observation object\n",
    "observe_2 = conv(obs_2[0])"
   ],
   "metadata": {
    "collapsed": false
   }
  },
  {
   "cell_type": "markdown",
   "source": [
    "## D. Create the Anecdote Sighting\n",
    "\n",
    "Tbis then represents the Anecdote on Impact from the reporting user\n",
    "\n",
    "### D.1 Create the Sighting\n",
    "Connecting the:\n",
    "- observed-data object\n",
    "- the reporter identity as the sighted object\n",
    "- the laptop identity as the location"
   ],
   "metadata": {
    "collapsed": false
   }
  },
  {
   "cell_type": "code",
   "execution_count": null,
   "outputs": [],
   "source": [
    "# 1. Setup path to form and results\n",
    "sighting_data_path =\"SRO/Sighting/sighting_anecdotet.json\"\n",
    "results_path =\"step2/sighting_anecdote.json\"\n",
    "# 2. Setup the SDO sighted, the Observed-Data that was observed with generated objects,\n",
    "#                        then the identity object from the context storage (note the slight difference in indexing #\n",
    "observed_list = [observe_2[\"id\"]]\n",
    "sighted = reporter_identity[\"id\"]\n",
    "TR_where_list = [TR_identity[\"id\"]]\n",
    "# 2. Invoke the Make Observed Data Block\n",
    "sight2 = invoke_sighting_block(sighting_data_path, results_path, observed=observed_list, sighted=sighted, where=TR_where_list)\n",
    "# 3. Add the record to the in-session bundles and lists\n",
    "bundle_list = bundle_list + sight2\n",
    "other_object_objs.append(sight2[0])"
   ],
   "metadata": {
    "collapsed": false
   }
  },
  {
   "cell_type": "markdown",
   "source": [
    "## E. Create the Impact Objects\n",
    "\n",
    "Tbis Impact represents the effect reported by the user in the Anecdote"
   ],
   "metadata": {
    "collapsed": false
   }
  },
  {
   "cell_type": "code",
   "execution_count": null,
   "outputs": [],
   "source": [
    "# 1. Setup path to form and results\n",
    "impact_path =\"SDO/Impact/anecdote_impact.json\"\n",
    "results_path =\"step2/impact_anecdote.json\"\n",
    "# 2. Setup the number of assets impacted\n",
    "numbers = {\"computers-mobile\": 1}\n",
    "impacted = reporter_laptop[\"id\"]\n",
    "# 2. Invoke the Make Observed Data Block\n",
    "impact_1 = invoke_make_impact_block(impact_path, results_path, impacted_entity_counts=numbers, impacted_refs=impacted, superseded_by_ref=None)\n",
    "# 3. Add the record to the in-session bundles and lists\n",
    "bundle_list = bundle_list + impact_1\n",
    "impact_objs.append(impact_1[0])\n",
    "other_object_objs.append(reporter_laptop)"
   ],
   "metadata": {
    "collapsed": false
   }
  },
  {
   "cell_type": "markdown",
   "source": [
    "## F. Create the Next Task Object\n",
    "\n",
    "Next step is to investigate the Exchange server to see who else got the email\n",
    "\n",
    "### F.1 Create the Task Object"
   ],
   "metadata": {
    "collapsed": false
   }
  },
  {
   "cell_type": "code",
   "execution_count": null,
   "outputs": [],
   "source": [
    "# 1. Setup path to form and results\n",
    "task_data_path =\"SDO/Task/task_anecdote.json\"\n",
    "results_path =\"step2/task_anecdote.json\"\n",
    "# 2. Invoke the Make Observed Data Block\n",
    "task_2 = invoke_make_task_block(task_data_path, results_path, changed_objects=None)\n",
    "# 3. Add the record to the in-session bundles and lists\n",
    "bundle_list = bundle_list + task_2\n",
    "task_objs.append(task_2[0])"
   ],
   "metadata": {
    "collapsed": false
   }
  },
  {
   "cell_type": "markdown",
   "source": [
    "### F.2 Create the Sequence Object"
   ],
   "metadata": {
    "collapsed": false
   }
  },
  {
   "cell_type": "code",
   "execution_count": null,
   "outputs": [],
   "source": [
    "# 1. Setup path to form and results\n",
    "sequence_data_path =\"SDO/Sequence/sequence_alert.json\"\n",
    "results_path =\"step1/sequence_task_single.json\"\n",
    "# 2. Setup the Sequence Object for the Event\n",
    "#\n",
    "step_type = \"single_step\"\n",
    "sequence_type = \"task\"\n",
    "sequenced_object = task_2[0][\"id\"]\n",
    "# 2. Invoke the Make Observed Data Block\n",
    "seq_T_2 = invoke_make_sequence_block(sequence_data_path, results_path, step_type=step_type, sequence_type=sequence_type, sequenced_object=sequenced_object, on_completion=None, on_success=None, on_failure=None, next_steps=None)\n",
    "# 3. Add the record to the in-session bundles and lists\n",
    "bundle_list = bundle_list + seq_T_2\n",
    "sequence_objs.append(seq_T_2[0])"
   ],
   "metadata": {
    "collapsed": false
   }
  },
  {
   "cell_type": "markdown",
   "source": [
    "### F.3 Connect the Sequence to the Previous one"
   ],
   "metadata": {
    "collapsed": false
   }
  },
  {
   "cell_type": "code",
   "execution_count": null,
   "outputs": [],
   "source": [
    "# Find the Previous Sequence and link it to the above Sequence\n",
    "last_task = task_objs[-1]\n",
    "for rec in sequence_objs:\n",
    "    if rec[\"sequence_type\"] == \"task\" and rec[\"sequenced_object\"] == last_task[\"id\"]:\n",
    "        rec[\"on_completion\"] = seq_T_2[0][\"id\"]"
   ],
   "metadata": {
    "collapsed": false
   }
  },
  {
   "cell_type": "markdown",
   "source": [
    "## G. Finally, Append all of the objects to the Incident Object\n",
    "\n",
    "Assign all of the objets to the Incident Object"
   ],
   "metadata": {
    "collapsed": false
   }
  },
  {
   "cell_type": "code",
   "execution_count": null,
   "outputs": [],
   "source": [
    "# 1. Setup path to form and results\n",
    "inc_path =\"SDO/Incident/phishing_incident.json\"\n",
    "results_path =\"step1/incident_alert.json\"\n",
    "# 2. Setup the Sequence Object for the Event\n",
    "#\n",
    "sequence_start_refs = [x[\"id\"] for x in sequence_start_objs]\n",
    "sequence_refs = [x[\"id\"] for x in sequence_objs]\n",
    "task_refs = [x[\"id\"] for x in task_objs]\n",
    "event_refs = [x[\"id\"] for x in event_objs]\n",
    "impact_refs = [x[\"id\"] for x in impact_objs]\n",
    "other_object_refs = [x[\"id\"] for x in other_object_objs]\n",
    "# 3. Update the actual Incident Object\n",
    "incident_obj[\"sequence_start_refs\"] = sequence_start_refs\n",
    "incident_obj[\"sequence_refs\"] = sequence_refs\n",
    "incident_obj[\"task_refs\"] = task_refs\n",
    "incident_obj[\"event_refs\"] = event_refs\n",
    "incident_obj[\"impact_refs\"] = impact_refs\n",
    "incident_obj[\"other_object_refs\"] = other_object_refs"
   ],
   "metadata": {
    "collapsed": false
   }
  },
  {
   "cell_type": "markdown",
   "source": [
    "## H. Write out the Contex Memory for the Incident\n",
    "\n",
    "Export out the Context Memory for the Incident"
   ],
   "metadata": {
    "collapsed": false
   }
  },
  {
   "cell_type": "code",
   "execution_count": null,
   "outputs": [],
   "source": [
    "# Save the Tpe Refinery Context Memory File\n",
    "invoke_context_save_block(Type_Refinery_Context)"
   ],
   "metadata": {
    "collapsed": false
   }
  }
 ],
 "metadata": {
  "kernelspec": {
   "display_name": "Python 3",
   "language": "python",
   "name": "python3"
  },
  "language_info": {
   "codemirror_mode": {
    "name": "ipython",
    "version": 2
   },
   "file_extension": ".py",
   "mimetype": "text/x-python",
   "name": "python",
   "nbconvert_exporter": "python",
   "pygments_lexer": "ipython2",
   "version": "2.7.6"
  }
 },
 "nbformat": 4,
 "nbformat_minor": 0
}
