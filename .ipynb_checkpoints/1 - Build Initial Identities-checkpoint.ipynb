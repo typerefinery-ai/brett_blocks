{
 "cells": [
  {
   "cell_type": "markdown",
   "id": "f7946020-8acc-4cbd-9aee-67b9e7478b25",
   "metadata": {},
   "source": [
    "# 1. Build Team Identities and User Identities\n",
    "\n",
    "Notebook to build all of the different identities assumed available when I have initiailised Type Refinery\n",
    "\n",
    "## A. Load Imports\n",
    "\n",
    "### A.1 StixORM Imports\n"
   ]
  },
  {
   "cell_type": "code",
   "execution_count": 1,
   "id": "b6294775-e3a8-40c6-8d53-11b595d5aeb3",
   "metadata": {},
   "outputs": [
    {
     "name": "stdout",
     "output_type": "stream",
     "text": [
      "Requirement already satisfied: stixorm in c:\\users\\brett\\anaconda3\\envs\\brett-blocks\\lib\\site-packages (0.3.2)\n",
      "Requirement already satisfied: loguru<0.8.0,>=0.7.0 in c:\\users\\brett\\anaconda3\\envs\\brett-blocks\\lib\\site-packages (from stixorm) (0.7.0)\n",
      "Requirement already satisfied: networkx<4.0,>=3.1 in c:\\users\\brett\\anaconda3\\envs\\brett-blocks\\lib\\site-packages (from stixorm) (3.1)\n",
      "Requirement already satisfied: pydantic<3.0.0,>=2.1.1 in c:\\users\\brett\\anaconda3\\envs\\brett-blocks\\lib\\site-packages (from stixorm) (2.1.1)\n",
      "Requirement already satisfied: stix2==3.0.1 in c:\\users\\brett\\anaconda3\\envs\\brett-blocks\\lib\\site-packages (from stixorm) (3.0.1)\n",
      "Requirement already satisfied: typedb-driver<3.0.0,>=2.25.6 in c:\\users\\brett\\anaconda3\\envs\\brett-blocks\\lib\\site-packages (from stixorm) (2.25.8)\n",
      "Requirement already satisfied: validators<0.21.0,>=0.20.0 in c:\\users\\brett\\anaconda3\\envs\\brett-blocks\\lib\\site-packages (from stixorm) (0.20.0)\n",
      "Requirement already satisfied: pytz in c:\\users\\brett\\anaconda3\\envs\\brett-blocks\\lib\\site-packages (from stix2==3.0.1->stixorm) (2023.3)\n",
      "Requirement already satisfied: requests in c:\\users\\brett\\anaconda3\\envs\\brett-blocks\\lib\\site-packages (from stix2==3.0.1->stixorm) (2.31.0)\n",
      "Requirement already satisfied: simplejson in c:\\users\\brett\\anaconda3\\envs\\brett-blocks\\lib\\site-packages (from stix2==3.0.1->stixorm) (3.19.1)\n",
      "Requirement already satisfied: stix2-patterns>=1.2.0 in c:\\users\\brett\\anaconda3\\envs\\brett-blocks\\lib\\site-packages (from stix2==3.0.1->stixorm) (2.0.0)\n",
      "Requirement already satisfied: colorama>=0.3.4 in c:\\users\\brett\\anaconda3\\envs\\brett-blocks\\lib\\site-packages (from loguru<0.8.0,>=0.7.0->stixorm) (0.4.6)\n",
      "Requirement already satisfied: win32-setctime>=1.0.0 in c:\\users\\brett\\anaconda3\\envs\\brett-blocks\\lib\\site-packages (from loguru<0.8.0,>=0.7.0->stixorm) (1.1.0)\n",
      "Requirement already satisfied: annotated-types>=0.4.0 in c:\\users\\brett\\anaconda3\\envs\\brett-blocks\\lib\\site-packages (from pydantic<3.0.0,>=2.1.1->stixorm) (0.5.0)\n",
      "Requirement already satisfied: pydantic-core==2.4.0 in c:\\users\\brett\\anaconda3\\envs\\brett-blocks\\lib\\site-packages (from pydantic<3.0.0,>=2.1.1->stixorm) (2.4.0)\n",
      "Requirement already satisfied: typing-extensions>=4.6.1 in c:\\users\\brett\\anaconda3\\envs\\brett-blocks\\lib\\site-packages (from pydantic<3.0.0,>=2.1.1->stixorm) (4.7.1)\n",
      "Requirement already satisfied: parse==1.18.0 in c:\\users\\brett\\anaconda3\\envs\\brett-blocks\\lib\\site-packages (from typedb-driver<3.0.0,>=2.25.6->stixorm) (1.18.0)\n",
      "Requirement already satisfied: decorator>=3.4.0 in c:\\users\\brett\\anaconda3\\envs\\brett-blocks\\lib\\site-packages (from validators<0.21.0,>=0.20.0->stixorm) (5.1.1)\n",
      "Requirement already satisfied: antlr4-python3-runtime~=4.9.0 in c:\\users\\brett\\anaconda3\\envs\\brett-blocks\\lib\\site-packages (from stix2-patterns>=1.2.0->stix2==3.0.1->stixorm) (4.9.3)\n",
      "Requirement already satisfied: six in c:\\users\\brett\\anaconda3\\envs\\brett-blocks\\lib\\site-packages (from stix2-patterns>=1.2.0->stix2==3.0.1->stixorm) (1.16.0)\n",
      "Requirement already satisfied: charset-normalizer<4,>=2 in c:\\users\\brett\\anaconda3\\envs\\brett-blocks\\lib\\site-packages (from requests->stix2==3.0.1->stixorm) (3.2.0)\n",
      "Requirement already satisfied: idna<4,>=2.5 in c:\\users\\brett\\anaconda3\\envs\\brett-blocks\\lib\\site-packages (from requests->stix2==3.0.1->stixorm) (3.4)\n",
      "Requirement already satisfied: urllib3<3,>=1.21.1 in c:\\users\\brett\\anaconda3\\envs\\brett-blocks\\lib\\site-packages (from requests->stix2==3.0.1->stixorm) (1.26.16)\n",
      "Requirement already satisfied: certifi>=2017.4.17 in c:\\users\\brett\\anaconda3\\envs\\brett-blocks\\lib\\site-packages (from requests->stix2==3.0.1->stixorm) (2023.7.22)\n"
     ]
    }
   ],
   "source": [
    "import sys\n",
    "!{sys.executable} -m pip install stixorm\n",
    "from stixorm.module.typedb import TypeDBSink, TypeDBSource\n",
    "from stixorm.module.authorise import import_type_factory\n",
    "from stixorm.module.definitions.stix21 import (\n",
    "    Identity, EmailAddress, UserAccount\n",
    ")\n",
    "from stixorm.module.definitions.os_threat import (\n",
    "    IdentityContact, EmailContact, SocialMediaContact, ContactNumber\n",
    ")\n",
    "from stixorm.module.authorise import import_type_factory\n",
    "from stixorm.module.typedb_lib.instructions import ResultStatus, Result\n",
    "import_type = import_type_factory.get_all_imports()\n",
    "import logging\n",
    "logger = logging.getLogger(__name__)\n",
    "logger.setLevel(logging.INFO)"
   ]
  },
  {
   "cell_type": "markdown",
   "id": "487d2dd8-67ad-48a9-b20b-be7aa5d529b5",
   "metadata": {},
   "source": [
    "\n",
    "### A.2 Brett Blocks Imports"
   ]
  },
  {
   "cell_type": "code",
   "execution_count": 2,
   "id": "1c37be77-8244-4ea2-b2e2-80f27afb189b",
   "metadata": {},
   "outputs": [
    {
     "name": "stdout",
     "output_type": "stream",
     "text": [
      "C:\\Users\\brett\\PycharmProjects\\brett_blocks\n"
     ]
    },
    {
     "ename": "ImportError",
     "evalue": "attempted relative import with no known parent package",
     "output_type": "error",
     "traceback": [
      "\u001b[1;31m---------------------------------------------------------------------------\u001b[0m",
      "\u001b[1;31mImportError\u001b[0m                               Traceback (most recent call last)",
      "Cell \u001b[1;32mIn[2], line 5\u001b[0m\n\u001b[0;32m      2\u001b[0m cwd \u001b[38;5;241m=\u001b[39m os\u001b[38;5;241m.\u001b[39mgetcwd()\n\u001b[0;32m      3\u001b[0m \u001b[38;5;28mprint\u001b[39m(cwd)\n\u001b[1;32m----> 5\u001b[0m \u001b[38;5;28;01mfrom\u001b[39;00m \u001b[38;5;21;01m.\u001b[39;00m\u001b[38;5;21;01mBlock_Families\u001b[39;00m\u001b[38;5;21;01m.\u001b[39;00m\u001b[38;5;21;01mObjects\u001b[39;00m\u001b[38;5;21;01m.\u001b[39;00m\u001b[38;5;21;01mSCO\u001b[39;00m\u001b[38;5;21;01m.\u001b[39;00m\u001b[38;5;21;01mUser_Account\u001b[39;00m\u001b[38;5;21;01m.\u001b[39;00m\u001b[38;5;21;01mmake_user_account\u001b[39;00m \u001b[38;5;28;01mimport\u001b[39;00m main \u001b[38;5;28;01mas\u001b[39;00m make_user_account\n\u001b[0;32m      6\u001b[0m \u001b[38;5;28;01mfrom\u001b[39;00m \u001b[38;5;21;01m.\u001b[39;00m\u001b[38;5;21;01mBlock_Families\u001b[39;00m\u001b[38;5;21;01m.\u001b[39;00m\u001b[38;5;21;01mObjects\u001b[39;00m\u001b[38;5;21;01m.\u001b[39;00m\u001b[38;5;21;01mSCO\u001b[39;00m\u001b[38;5;21;01m.\u001b[39;00m\u001b[38;5;21;01mEmail_Addr\u001b[39;00m\u001b[38;5;21;01m.\u001b[39;00m\u001b[38;5;21;01mmake_email_addr\u001b[39;00m \u001b[38;5;28;01mimport\u001b[39;00m main \u001b[38;5;28;01mas\u001b[39;00m make_email_addr\n\u001b[0;32m      7\u001b[0m \u001b[38;5;28;01mfrom\u001b[39;00m \u001b[38;5;21;01m.\u001b[39;00m\u001b[38;5;21;01mBlock_Families\u001b[39;00m\u001b[38;5;21;01m.\u001b[39;00m\u001b[38;5;21;01mObjects\u001b[39;00m\u001b[38;5;21;01m.\u001b[39;00m\u001b[38;5;21;01mSDO\u001b[39;00m\u001b[38;5;21;01m.\u001b[39;00m\u001b[38;5;21;01mIdentity\u001b[39;00m\u001b[38;5;21;01m.\u001b[39;00m\u001b[38;5;21;01mmake_identity\u001b[39;00m \u001b[38;5;28;01mimport\u001b[39;00m main \u001b[38;5;28;01mas\u001b[39;00m make_identity\n",
      "\u001b[1;31mImportError\u001b[0m: attempted relative import with no known parent package"
     ]
    }
   ],
   "source": [
    "import os\n",
    "cwd = os.getcwd()\n",
    "print(cwd)\n",
    "\n",
    "from .Block_Families.Objects.SCO.User_Account.make_user_account import main as make_user_account\n",
    "from .Block_Families.Objects.SCO.Email_Addr.make_email_addr import main as make_email_addr\n",
    "from .Block_Families.Objects.SDO.Identity.make_identity import main as make_identity\n",
    "\n",
    "path_base = \"./Block_Families/Objects/\"\n",
    "identities_data = [\n",
    "    {\n",
    "        \"who\": \"me\", \"email\": \"SCO/Email_Addr/email_addr_TR_user.json\", \n",
    "        \"acct\": \"SCO/User_Account/usr_account_TR_user.json\",\n",
    "        \"ident\": \"SDO/Identity/identity_TR_user.json\"\n",
    "    }, \n",
    "    {\n",
    "        \"who\": \"usr1\", \"email\": \"SCO/Email_Addr/email_addr_IT_user1.json\", \n",
    "        \"acct\": \"SCO/User_Account/usr_account_IT_user1.json\",\n",
    "        \"ident\": \"SDO/Identity/identity_IT_user1.json\"\n",
    "    }, \n",
    "    {\n",
    "        \"who\": \"usr2\", \"email\": \"SCO/Email_Addr/email_addr_IT_user2.json\", \n",
    "        \"acct\": \"SCO/User_Account/usr_account_IT_user2.json\",\n",
    "        \"ident\": \"SDO/Identity/identity_IT_user2.json\"\n",
    "    }, \n",
    "    {\n",
    "        \"who\": \"usr3\", \"email\": \"SCO/Email_Addr/email_addr_IT_user3.json\", \n",
    "        \"acct\": \"SCO/User_Account/usr_account_IT_user3.json\",\n",
    "        \"ident\": \"SDO/Identity/identity_IT_user3.json\"\n",
    "    }, \n",
    "]\n",
    "company_base = {\n",
    "    \"ident\": \"SDO/Identity/identity_TR_user_company.json\"\n",
    "}"
   ]
  },
  {
   "cell_type": "code",
   "execution_count": null,
   "id": "b2b15bbb-ca36-4556-83a5-ab6e0b5306aa",
   "metadata": {},
   "outputs": [],
   "source": []
  }
 ],
 "metadata": {
  "kernelspec": {
   "display_name": "Python 3 (ipykernel)",
   "language": "python",
   "name": "python3"
  },
  "language_info": {
   "codemirror_mode": {
    "name": "ipython",
    "version": 3
   },
   "file_extension": ".py",
   "mimetype": "text/x-python",
   "name": "python",
   "nbconvert_exporter": "python",
   "pygments_lexer": "ipython3",
   "version": "3.9.17"
  }
 },
 "nbformat": 4,
 "nbformat_minor": 5
}
